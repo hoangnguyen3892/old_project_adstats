{
 "cells": [
  {
   "cell_type": "markdown",
   "metadata": {
    "deletable": true,
    "editable": true
   },
   "source": [
    "This kernel adopted the idea of [Miguel Angel](https://www.kaggle.com/miguelangelnieto/house-prices-advanced-regression-techniques/pca-and-regression) and further develop based on the data exploration."
   ]
  },
  {
   "cell_type": "markdown",
   "metadata": {
    "deletable": true,
    "editable": true
   },
   "source": [
    "The steps are:\n",
    "1. Feature reduction with PCA\n",
    "2. Data transformation (log, hot encoding, nan)\n",
    "3. Test different regression models"
   ]
  },
  {
   "cell_type": "code",
   "execution_count": 2,
   "metadata": {
    "collapsed": false,
    "deletable": true,
    "editable": true
   },
   "outputs": [
    {
     "name": "stderr",
     "output_type": "stream",
     "text": [
      "/Users/hoangnguyen/miniconda3/envs/pydata/lib/python3.5/site-packages/sklearn/cross_validation.py:44: DeprecationWarning: This module was deprecated in version 0.18 in favor of the model_selection module into which all the refactored classes and functions are moved. Also note that the interface of the new CV iterators are different from that of this module. This module will be removed in 0.20.\n",
      "  \"This module will be removed in 0.20.\", DeprecationWarning)\n"
     ]
    }
   ],
   "source": [
    "import pandas as pd\n",
    "import numpy as np\n",
    "import seaborn as sns\n",
    "import matplotlib.pyplot as plt\n",
    "import os\n",
    "\n",
    "from sklearn.preprocessing import Imputer\n",
    "from sklearn.decomposition import PCA\n",
    "\n",
    "from sklearn.cross_validation import cross_val_score\n",
    "from sklearn.metrics import make_scorer\n",
    "from sklearn.metrics import r2_score\n",
    "from sklearn.model_selection import KFold, GridSearchCV\n",
    "\n",
    "from sklearn import linear_model\n",
    "from sklearn.ensemble import BaggingRegressor\n",
    "from sklearn.ensemble import RandomForestRegressor\n",
    "from sklearn import svm\n",
    "from sklearn.ensemble import AdaBoostRegressor\n",
    "from sklearn.tree import DecisionTreeRegressor\n",
    "from xgboost import XGBRegressor\n",
    "\n",
    "\n",
    "%matplotlib inline\n",
    "import warnings\n",
    "warnings.filterwarnings('ignore')"
   ]
  },
  {
   "cell_type": "markdown",
   "metadata": {
    "deletable": true,
    "editable": true
   },
   "source": [
    "# Load data"
   ]
  },
  {
   "cell_type": "code",
   "execution_count": 3,
   "metadata": {
    "collapsed": false,
    "deletable": true,
    "editable": true
   },
   "outputs": [],
   "source": [
    "train = pd.read_csv('input/train.csv')\n",
    "test = pd.read_csv('input/test.csv')\n",
    "\n",
    "data = pd.concat([train, test], ignore_index=True)\n",
    "data = data.drop('SalePrice', 1)\n",
    "\n",
    "labels = train['SalePrice']\n",
    "ids = test['Id']"
   ]
  },
  {
   "cell_type": "code",
   "execution_count": 3,
   "metadata": {
    "collapsed": false,
    "deletable": true,
    "editable": true
   },
   "outputs": [
    {
     "name": "stdout",
     "output_type": "stream",
     "text": [
      "SalePrice\n"
     ]
    }
   ],
   "source": [
    "for i in list(train):\n",
    "    if i not in list(data):\n",
    "        print(i)"
   ]
  },
  {
   "cell_type": "code",
   "execution_count": 4,
   "metadata": {
    "collapsed": false,
    "deletable": true,
    "editable": true
   },
   "outputs": [
    {
     "data": {
      "text/plain": [
       "Alley           2721\n",
       "BsmtCond          82\n",
       "BsmtExposure      82\n",
       "BsmtFinSF1         1\n",
       "BsmtFinSF2         1\n",
       "BsmtFinType1      79\n",
       "BsmtFinType2      80\n",
       "BsmtFullBath       2\n",
       "BsmtHalfBath       2\n",
       "BsmtQual          81\n",
       "BsmtUnfSF          1\n",
       "Electrical         1\n",
       "Exterior1st        1\n",
       "Exterior2nd        1\n",
       "Fence           2348\n",
       "FireplaceQu     1420\n",
       "Functional         2\n",
       "GarageArea         1\n",
       "GarageCars         1\n",
       "GarageCond       159\n",
       "GarageFinish     159\n",
       "GarageQual       159\n",
       "GarageType       157\n",
       "GarageYrBlt      159\n",
       "KitchenQual        1\n",
       "LotFrontage      486\n",
       "MSZoning           4\n",
       "MasVnrArea        23\n",
       "MasVnrType        24\n",
       "MiscFeature     2814\n",
       "PoolQC          2909\n",
       "SaleType           1\n",
       "TotalBsmtSF        1\n",
       "Utilities          2\n",
       "dtype: int64"
      ]
     },
     "execution_count": 4,
     "metadata": {},
     "output_type": "execute_result"
    }
   ],
   "source": [
    "# Count the number of NaNs each column has.\n",
    "nans=pd.isnull(data).sum()\n",
    "nans[nans>0]"
   ]
  },
  {
   "cell_type": "markdown",
   "metadata": {
    "deletable": true,
    "editable": true
   },
   "source": [
    "# Data preprocessing"
   ]
  },
  {
   "cell_type": "markdown",
   "metadata": {
    "deletable": true,
    "editable": true
   },
   "source": [
    "## Remove columns with missing value"
   ]
  },
  {
   "cell_type": "code",
   "execution_count": 5,
   "metadata": {
    "collapsed": true,
    "deletable": true,
    "editable": true
   },
   "outputs": [],
   "source": [
    "remove_columns = ['Id', 'PoolQC', 'MiscFeature', 'Alley', 'Fence', 'FireplaceQu', 'LotFrontage']\n",
    "Garage_variables = ['GarageCond', 'GarageFinish', 'GarageQual', 'GarageType', 'GarageYrBlt']\n",
    "Msmt_variables = ['BsmtCond', 'BsmtExposure', 'BsmtFinType1', 'BsmtFinType2', 'BsmtQual']"
   ]
  },
  {
   "cell_type": "code",
   "execution_count": 6,
   "metadata": {
    "collapsed": true,
    "deletable": true,
    "editable": true
   },
   "outputs": [],
   "source": [
    "data = data.drop(remove_columns, 1)"
   ]
  },
  {
   "cell_type": "code",
   "execution_count": 7,
   "metadata": {
    "collapsed": false,
    "deletable": true,
    "editable": true
   },
   "outputs": [
    {
     "data": {
      "text/plain": [
       "Index(['1stFlrSF', '2ndFlrSF', '3SsnPorch', 'BedroomAbvGr', 'BldgType',\n",
       "       'BsmtCond', 'BsmtExposure', 'BsmtFinSF1', 'BsmtFinSF2', 'BsmtFinType1',\n",
       "       'BsmtFinType2', 'BsmtFullBath', 'BsmtHalfBath', 'BsmtQual', 'BsmtUnfSF',\n",
       "       'CentralAir', 'Condition1', 'Condition2', 'Electrical', 'EnclosedPorch',\n",
       "       'ExterCond', 'ExterQual', 'Exterior1st', 'Exterior2nd', 'Fireplaces',\n",
       "       'Foundation', 'FullBath', 'Functional', 'GarageArea', 'GarageCars',\n",
       "       'GarageCond', 'GarageFinish', 'GarageQual', 'GarageType', 'GarageYrBlt',\n",
       "       'GrLivArea', 'HalfBath', 'Heating', 'HeatingQC', 'HouseStyle',\n",
       "       'KitchenAbvGr', 'KitchenQual', 'LandContour', 'LandSlope', 'LotArea',\n",
       "       'LotConfig', 'LotShape', 'LowQualFinSF', 'MSSubClass', 'MSZoning',\n",
       "       'MasVnrArea', 'MasVnrType', 'MiscVal', 'MoSold', 'Neighborhood',\n",
       "       'OpenPorchSF', 'OverallCond', 'OverallQual', 'PavedDrive', 'PoolArea',\n",
       "       'RoofMatl', 'RoofStyle', 'SaleCondition', 'SaleType', 'ScreenPorch',\n",
       "       'Street', 'TotRmsAbvGrd', 'TotalBsmtSF', 'Utilities', 'WoodDeckSF',\n",
       "       'YearBuilt', 'YearRemodAdd', 'YrSold'],\n",
       "      dtype='object')"
      ]
     },
     "execution_count": 7,
     "metadata": {},
     "output_type": "execute_result"
    }
   ],
   "source": [
    "data.columns"
   ]
  },
  {
   "cell_type": "markdown",
   "metadata": {
    "deletable": true,
    "editable": true
   },
   "source": [
    "## One hot encode"
   ]
  },
  {
   "cell_type": "code",
   "execution_count": 8,
   "metadata": {
    "collapsed": false,
    "deletable": true,
    "editable": true
   },
   "outputs": [],
   "source": [
    "all_columns = data.columns.values"
   ]
  },
  {
   "cell_type": "code",
   "execution_count": 9,
   "metadata": {
    "collapsed": true,
    "deletable": true,
    "editable": true
   },
   "outputs": [],
   "source": [
    "non_categorical = [\"LotFrontage\", \"LotArea\", \"MasVnrArea\", \"BsmtFinSF1\", \n",
    "                   \"BsmtFinSF2\", \"BsmtUnfSF\", \"TotalBsmtSF\", \"1stFlrSF\", \n",
    "                   \"2ndFlrSF\", \"LowQualFinSF\", \"GrLivArea\", \"GarageArea\", \n",
    "                   \"WoodDeckSF\", \"OpenPorchSF\", \"EnclosedPorch\", \"3SsnPorch\", \n",
    "                   \"ScreenPorch\",\"PoolArea\", \"MiscVal\"]\n",
    "\n",
    "categorical = [value for value in all_columns if value not in non_categorical]"
   ]
  },
  {
   "cell_type": "code",
   "execution_count": 10,
   "metadata": {
    "collapsed": false,
    "deletable": true,
    "editable": true
   },
   "outputs": [],
   "source": [
    "# One Hot Encoding and nan transformation\n",
    "data = pd.get_dummies(data)"
   ]
  },
  {
   "cell_type": "code",
   "execution_count": 11,
   "metadata": {
    "collapsed": false,
    "deletable": true,
    "editable": true
   },
   "outputs": [
    {
     "data": {
      "text/plain": [
       "array([ 60,  20,  70,  50, 190,  45,  90, 120,  30,  85,  80, 160,  75,\n",
       "       180,  40, 150])"
      ]
     },
     "execution_count": 11,
     "metadata": {},
     "output_type": "execute_result"
    }
   ],
   "source": [
    "data['MSSubClass'].unique()"
   ]
  },
  {
   "cell_type": "markdown",
   "metadata": {
    "deletable": true,
    "editable": true
   },
   "source": [
    "## Impute missing data"
   ]
  },
  {
   "cell_type": "code",
   "execution_count": 12,
   "metadata": {
    "collapsed": false,
    "deletable": true,
    "editable": true
   },
   "outputs": [],
   "source": [
    "imp = Imputer(missing_values='NaN', strategy='mean', axis=0)\n",
    "data = imp.fit_transform(data)"
   ]
  },
  {
   "cell_type": "code",
   "execution_count": 13,
   "metadata": {
    "collapsed": false,
    "deletable": true,
    "editable": true
   },
   "outputs": [
    {
     "data": {
      "text/plain": [
       "array([[  8.56000000e+02,   8.54000000e+02,   0.00000000e+00, ...,\n",
       "          1.00000000e+00,   1.00000000e+00,   0.00000000e+00],\n",
       "       [  1.26200000e+03,   0.00000000e+00,   0.00000000e+00, ...,\n",
       "          1.00000000e+00,   1.00000000e+00,   0.00000000e+00],\n",
       "       [  9.20000000e+02,   8.66000000e+02,   0.00000000e+00, ...,\n",
       "          1.00000000e+00,   1.00000000e+00,   0.00000000e+00],\n",
       "       ..., \n",
       "       [  1.22400000e+03,   0.00000000e+00,   0.00000000e+00, ...,\n",
       "          1.00000000e+00,   1.00000000e+00,   0.00000000e+00],\n",
       "       [  9.70000000e+02,   0.00000000e+00,   0.00000000e+00, ...,\n",
       "          1.00000000e+00,   1.00000000e+00,   0.00000000e+00],\n",
       "       [  9.96000000e+02,   1.00400000e+03,   0.00000000e+00, ...,\n",
       "          1.00000000e+00,   1.00000000e+00,   0.00000000e+00]])"
      ]
     },
     "execution_count": 13,
     "metadata": {},
     "output_type": "execute_result"
    }
   ],
   "source": [
    "data"
   ]
  },
  {
   "cell_type": "markdown",
   "metadata": {
    "collapsed": false,
    "deletable": true,
    "editable": true
   },
   "source": [
    "## Log transformation"
   ]
  },
  {
   "cell_type": "code",
   "execution_count": 14,
   "metadata": {
    "collapsed": true,
    "deletable": true,
    "editable": true
   },
   "outputs": [],
   "source": [
    "# Log transformation\n",
    "data = np.log(data)\n",
    "labels = np.log(labels)\n",
    "\n",
    "# Change -inf to 0 again\n",
    "data[data==-np.inf]=0"
   ]
  },
  {
   "cell_type": "markdown",
   "metadata": {
    "deletable": true,
    "editable": true
   },
   "source": [
    "## Feature selection"
   ]
  },
  {
   "cell_type": "code",
   "execution_count": 15,
   "metadata": {
    "collapsed": false,
    "deletable": true,
    "editable": true
   },
   "outputs": [
    {
     "data": {
      "text/plain": [
       "array([ 0.22510507,  0.40354233,  0.52569112,  0.62615666,  0.69727311,\n",
       "        0.76093533,  0.8131376 ,  0.85802706,  0.89342756,  0.92423378,\n",
       "        0.95052401,  0.9597892 ,  0.96728592,  0.97458524,  0.98050966,\n",
       "        0.98581876,  0.98993944,  0.99274785,  0.99456931,  0.99591184,\n",
       "        0.99679368,  0.99759217,  0.99831226,  0.99883728,  0.99923615,\n",
       "        0.99950169,  0.99968656,  0.99981229,  0.99989253,  0.99995069,\n",
       "        0.99999662,  0.99999873,  0.99999945,  0.99999999,  1.        ,\n",
       "        1.        ,  1.        ,  1.        ,  1.        ,  1.        ,\n",
       "        1.        ,  1.        ,  1.        ,  1.        ,  1.        ,\n",
       "        1.        ,  1.        ,  1.        ,  1.        ,  1.        ,\n",
       "        1.        ,  1.        ,  1.        ,  1.        ,  1.        ,\n",
       "        1.        ,  1.        ,  1.        ,  1.        ,  1.        ,\n",
       "        1.        ,  1.        ,  1.        ,  1.        ,  1.        ,\n",
       "        1.        ,  1.        ,  1.        ,  1.        ,  1.        ,\n",
       "        1.        ,  1.        ,  1.        ,  1.        ,  1.        ,\n",
       "        1.        ,  1.        ,  1.        ,  1.        ,  1.        ,\n",
       "        1.        ,  1.        ,  1.        ,  1.        ,  1.        ,\n",
       "        1.        ,  1.        ,  1.        ,  1.        ,  1.        ,\n",
       "        1.        ,  1.        ,  1.        ,  1.        ,  1.        ,\n",
       "        1.        ,  1.        ,  1.        ,  1.        ,  1.        ,\n",
       "        1.        ,  1.        ,  1.        ,  1.        ,  1.        ,\n",
       "        1.        ,  1.        ,  1.        ,  1.        ,  1.        ,\n",
       "        1.        ,  1.        ,  1.        ,  1.        ,  1.        ,\n",
       "        1.        ,  1.        ,  1.        ,  1.        ,  1.        ,\n",
       "        1.        ,  1.        ,  1.        ,  1.        ,  1.        ,\n",
       "        1.        ,  1.        ,  1.        ,  1.        ,  1.        ,\n",
       "        1.        ,  1.        ,  1.        ,  1.        ,  1.        ,\n",
       "        1.        ,  1.        ,  1.        ,  1.        ,  1.        ,\n",
       "        1.        ,  1.        ,  1.        ,  1.        ,  1.        ,\n",
       "        1.        ,  1.        ,  1.        ,  1.        ,  1.        ,\n",
       "        1.        ,  1.        ,  1.        ,  1.        ,  1.        ,\n",
       "        1.        ,  1.        ,  1.        ,  1.        ,  1.        ,\n",
       "        1.        ,  1.        ,  1.        ,  1.        ,  1.        ,\n",
       "        1.        ,  1.        ,  1.        ,  1.        ,  1.        ,\n",
       "        1.        ,  1.        ,  1.        ,  1.        ,  1.        ,\n",
       "        1.        ,  1.        ,  1.        ,  1.        ,  1.        ,\n",
       "        1.        ,  1.        ,  1.        ,  1.        ,  1.        ,\n",
       "        1.        ,  1.        ,  1.        ,  1.        ,  1.        ,\n",
       "        1.        ,  1.        ,  1.        ,  1.        ,  1.        ,\n",
       "        1.        ,  1.        ,  1.        ,  1.        ,  1.        ,\n",
       "        1.        ,  1.        ,  1.        ,  1.        ,  1.        ,\n",
       "        1.        ,  1.        ,  1.        ,  1.        ,  1.        ,\n",
       "        1.        ,  1.        ,  1.        ,  1.        ,  1.        ,\n",
       "        1.        ,  1.        ,  1.        ,  1.        ,  1.        ,\n",
       "        1.        ,  1.        ,  1.        ,  1.        ,  1.        ,\n",
       "        1.        ,  1.        ,  1.        ,  1.        ,  1.        ,\n",
       "        1.        ,  1.        ,  1.        ,  1.        ,  1.        ,\n",
       "        1.        ,  1.        ,  1.        ,  1.        ,  1.        ,\n",
       "        1.        ,  1.        ,  1.        ,  1.        ,  1.        ,\n",
       "        1.        ,  1.        ,  1.        ,  1.        ,  1.        ,\n",
       "        1.        ,  1.        ,  1.        ,  1.        ,  1.        ,\n",
       "        1.        ,  1.        ,  1.        ,  1.        ,  1.        ,\n",
       "        1.        ,  1.        ,  1.        ,  1.        ,  1.        ,\n",
       "        1.        ,  1.        ,  1.        ,  1.        ])"
      ]
     },
     "execution_count": 15,
     "metadata": {},
     "output_type": "execute_result"
    }
   ],
   "source": [
    "pca = PCA(whiten=True)\n",
    "pca.fit(data)\n",
    "variance = pd.DataFrame(pca.explained_variance_ratio_)\n",
    "np.cumsum(pca.explained_variance_ratio_)"
   ]
  },
  {
   "cell_type": "code",
   "execution_count": 16,
   "metadata": {
    "collapsed": true,
    "deletable": true,
    "editable": true
   },
   "outputs": [],
   "source": [
    "pca = PCA(n_components=36,whiten=True)\n",
    "pca = pca.fit(data)\n",
    "dataPCA = pca.transform(data)"
   ]
  },
  {
   "cell_type": "markdown",
   "metadata": {
    "deletable": true,
    "editable": true
   },
   "source": [
    "# Model selection"
   ]
  },
  {
   "cell_type": "markdown",
   "metadata": {
    "deletable": true,
    "editable": true
   },
   "source": [
    "Here, it'd better to test the goodness of models by using cross validation"
   ]
  },
  {
   "cell_type": "code",
   "execution_count": 17,
   "metadata": {
    "collapsed": true,
    "deletable": true,
    "editable": true
   },
   "outputs": [],
   "source": [
    "def modelTest(clf, train, labels):\n",
    "    cv = KFold(n_splits=5,shuffle=True,random_state=45).split(train)\n",
    "    r2 = make_scorer(r2_score)\n",
    "    r2_val_score = cross_val_score(clf, train, labels, cv=cv, scoring=r2)\n",
    "    scores=[r2_val_score.mean()]\n",
    "    return scores"
   ]
  },
  {
   "cell_type": "code",
   "execution_count": 18,
   "metadata": {
    "collapsed": true,
    "deletable": true,
    "editable": true
   },
   "outputs": [],
   "source": [
    "def modelPlot(result_dict):\n",
    "    result = pd.DataFrame.from_dict(result_dict, orient='index')\n",
    "    result.columns = [\"R Square Score\"] \n",
    "    result = result.sort(columns=[\"R Square Score\"],ascending=False)\n",
    "    #print(result)\n",
    "    result.plot(kind=\"bar\",title=\"Model Scores\")\n",
    "    axes = plt.gca()\n",
    "    axes.set_ylim([0.5,1])\n",
    "    return result"
   ]
  },
  {
   "cell_type": "code",
   "execution_count": 19,
   "metadata": {
    "collapsed": true,
    "deletable": true,
    "editable": true
   },
   "outputs": [],
   "source": [
    "def modelFit(train, labels):\n",
    "    result_dict = {}\n",
    "    \n",
    "    clf = linear_model.LinearRegression()\n",
    "    result_dict[\"Linear\"] = modelTest(clf, train, labels)\n",
    "    \n",
    "    clf = linear_model.Lasso(alpha=1e-4)\n",
    "    result_dict[\"Lasso\"] = modelTest(clf, train, labels)\n",
    "    \n",
    "    clf = linear_model.Ridge()\n",
    "    result_dict[\"Ridge\"] = modelTest(clf, train, labels)\n",
    "    \n",
    "    clf = linear_model.BayesianRidge()\n",
    "    result_dict[\"Bayesian Ridge\"] = modelTest(clf, train, labels)\n",
    "    \n",
    "    clf = linear_model.HuberRegressor()\n",
    "    result_dict[\"Huber\"] = modelTest(clf, train, labels)\n",
    "    \n",
    "    clf = svm.SVR()\n",
    "    result_dict[\"SVM RBF\"] = modelTest(clf, train, labels)\n",
    "    \n",
    "    clf = svm.SVR(kernel=\"linear\")\n",
    "    result_dict[\"SVM Linear\"] = modelTest(clf, train, labels)\n",
    "    \n",
    "    clf = BaggingRegressor()\n",
    "    result_dict[\"Bagging\"] = modelTest(clf, train, labels)\n",
    "    \n",
    "    clf = RandomForestRegressor()\n",
    "    result_dict[\"RandomForest\"] = modelTest(clf, train, labels)\n",
    "    \n",
    "    clf = AdaBoostRegressor()\n",
    "    result_dict[\"AdaBoost\"] = modelTest(clf, train, labels)\n",
    "    \n",
    "    clf = XGBRegressor()\n",
    "    result_dict[\"XGBoost\"] = modelTest(clf, train, labels)\n",
    "    \n",
    "    model_summary = modelPlot(result_dict)\n",
    "    return model_summary"
   ]
  },
  {
   "cell_type": "markdown",
   "metadata": {
    "deletable": true,
    "editable": true
   },
   "source": [
    "## Before PCA"
   ]
  },
  {
   "cell_type": "code",
   "execution_count": 20,
   "metadata": {
    "collapsed": true,
    "deletable": true,
    "editable": true
   },
   "outputs": [],
   "source": [
    "# Split traing and test\n",
    "train = data[:1460]\n",
    "test = data[1460:]"
   ]
  },
  {
   "cell_type": "code",
   "execution_count": 21,
   "metadata": {
    "collapsed": false,
    "deletable": true,
    "editable": true
   },
   "outputs": [
    {
     "data": {
      "text/html": [
       "<div>\n",
       "<table border=\"1\" class=\"dataframe\">\n",
       "  <thead>\n",
       "    <tr style=\"text-align: right;\">\n",
       "      <th></th>\n",
       "      <th>R Square Score</th>\n",
       "    </tr>\n",
       "  </thead>\n",
       "  <tbody>\n",
       "    <tr>\n",
       "      <th>XGBoost</th>\n",
       "      <td>0.877809</td>\n",
       "    </tr>\n",
       "    <tr>\n",
       "      <th>Lasso</th>\n",
       "      <td>0.854601</td>\n",
       "    </tr>\n",
       "    <tr>\n",
       "      <th>Linear</th>\n",
       "      <td>0.854575</td>\n",
       "    </tr>\n",
       "    <tr>\n",
       "      <th>Bayesian Ridge</th>\n",
       "      <td>0.853279</td>\n",
       "    </tr>\n",
       "    <tr>\n",
       "      <th>SVM Linear</th>\n",
       "      <td>0.849482</td>\n",
       "    </tr>\n",
       "    <tr>\n",
       "      <th>Bagging</th>\n",
       "      <td>0.845765</td>\n",
       "    </tr>\n",
       "    <tr>\n",
       "      <th>RandomForest</th>\n",
       "      <td>0.841620</td>\n",
       "    </tr>\n",
       "    <tr>\n",
       "      <th>Ridge</th>\n",
       "      <td>0.839074</td>\n",
       "    </tr>\n",
       "    <tr>\n",
       "      <th>Huber</th>\n",
       "      <td>0.835650</td>\n",
       "    </tr>\n",
       "    <tr>\n",
       "      <th>SVM RBF</th>\n",
       "      <td>0.813648</td>\n",
       "    </tr>\n",
       "    <tr>\n",
       "      <th>AdaBoost</th>\n",
       "      <td>0.800536</td>\n",
       "    </tr>\n",
       "  </tbody>\n",
       "</table>\n",
       "</div>"
      ],
      "text/plain": [
       "                R Square Score\n",
       "XGBoost               0.877809\n",
       "Lasso                 0.854601\n",
       "Linear                0.854575\n",
       "Bayesian Ridge        0.853279\n",
       "SVM Linear            0.849482\n",
       "Bagging               0.845765\n",
       "RandomForest          0.841620\n",
       "Ridge                 0.839074\n",
       "Huber                 0.835650\n",
       "SVM RBF               0.813648\n",
       "AdaBoost              0.800536"
      ]
     },
     "execution_count": 21,
     "metadata": {},
     "output_type": "execute_result"
    },
    {
     "data": {
      "image/png": "[encoded data removed]",
      "text/plain": [
       "<matplotlib.figure.Figure at 0x10bb8c780>"
      ]
     },
     "metadata": {},
     "output_type": "display_data"
    }
   ],
   "source": [
    "modelFit(train,labels)"
   ]
  },
  {
   "cell_type": "markdown",
   "metadata": {
    "deletable": true,
    "editable": true
   },
   "source": [
    "## After PCA"
   ]
  },
  {
   "cell_type": "code",
   "execution_count": 22,
   "metadata": {
    "collapsed": false,
    "deletable": true,
    "editable": true
   },
   "outputs": [],
   "source": [
    "train_pca = dataPCA[:1460]\n",
    "test_pca = dataPCA[1460:]"
   ]
  },
  {
   "cell_type": "code",
   "execution_count": 23,
   "metadata": {
    "collapsed": false,
    "deletable": true,
    "editable": true
   },
   "outputs": [
    {
     "data": {
      "text/html": [
       "<div>\n",
       "<table border=\"1\" class=\"dataframe\">\n",
       "  <thead>\n",
       "    <tr style=\"text-align: right;\">\n",
       "      <th></th>\n",
       "      <th>R Square Score</th>\n",
       "    </tr>\n",
       "  </thead>\n",
       "  <tbody>\n",
       "    <tr>\n",
       "      <th>Huber</th>\n",
       "      <td>0.859954</td>\n",
       "    </tr>\n",
       "    <tr>\n",
       "      <th>SVM Linear</th>\n",
       "      <td>0.858995</td>\n",
       "    </tr>\n",
       "    <tr>\n",
       "      <th>Bayesian Ridge</th>\n",
       "      <td>0.854698</td>\n",
       "    </tr>\n",
       "    <tr>\n",
       "      <th>Lasso</th>\n",
       "      <td>0.854663</td>\n",
       "    </tr>\n",
       "    <tr>\n",
       "      <th>Ridge</th>\n",
       "      <td>0.854611</td>\n",
       "    </tr>\n",
       "    <tr>\n",
       "      <th>Linear</th>\n",
       "      <td>0.854575</td>\n",
       "    </tr>\n",
       "    <tr>\n",
       "      <th>XGBoost</th>\n",
       "      <td>0.801433</td>\n",
       "    </tr>\n",
       "    <tr>\n",
       "      <th>SVM RBF</th>\n",
       "      <td>0.797962</td>\n",
       "    </tr>\n",
       "    <tr>\n",
       "      <th>RandomForest</th>\n",
       "      <td>0.722898</td>\n",
       "    </tr>\n",
       "    <tr>\n",
       "      <th>Bagging</th>\n",
       "      <td>0.714236</td>\n",
       "    </tr>\n",
       "    <tr>\n",
       "      <th>AdaBoost</th>\n",
       "      <td>0.661803</td>\n",
       "    </tr>\n",
       "  </tbody>\n",
       "</table>\n",
       "</div>"
      ],
      "text/plain": [
       "                R Square Score\n",
       "Huber                 0.859954\n",
       "SVM Linear            0.858995\n",
       "Bayesian Ridge        0.854698\n",
       "Lasso                 0.854663\n",
       "Ridge                 0.854611\n",
       "Linear                0.854575\n",
       "XGBoost               0.801433\n",
       "SVM RBF               0.797962\n",
       "RandomForest          0.722898\n",
       "Bagging               0.714236\n",
       "AdaBoost              0.661803"
      ]
     },
     "execution_count": 23,
     "metadata": {},
     "output_type": "execute_result"
    },
    {
     "data": {
      "image/png": "[encoded data removed]",
      "text/plain": [
       "<matplotlib.figure.Figure at 0x10a4652e8>"
      ]
     },
     "metadata": {},
     "output_type": "display_data"
    }
   ],
   "source": [
    "modelFit(train_pca, labels)"
   ]
  },
  {
   "cell_type": "markdown",
   "metadata": {
    "deletable": true,
    "editable": true
   },
   "source": [
    "# Run model"
   ]
  },
  {
   "cell_type": "markdown",
   "metadata": {
    "deletable": true,
    "editable": true
   },
   "source": [
    "R-squared is the “percent of variance explained” by the mode. Therefore, the bigger r2, the better the model. \n",
    "\n",
    "Let's try to run Huber and XGBoost, which may be potential candidates!!!\n",
    "\n",
    "**Steps:**\n",
    "- Hyperparameters tuning\n",
    "- Model fitting"
   ]
  },
  {
   "cell_type": "code",
   "execution_count": 24,
   "metadata": {
    "collapsed": true,
    "deletable": true,
    "editable": true
   },
   "outputs": [],
   "source": [
    "def hyperparaTuning(clf, train, labels, param_grid):\n",
    "    cv = KFold(n_splits=5,shuffle=True,random_state=45)\n",
    "    score = make_scorer(r2_score)\n",
    "    grid_search = GridSearchCV(clf, param_grid, cv=cv, scoring=score)\n",
    "    grid_search.fit(train, labels)\n",
    "    return grid_search.grid_scores_, grid_search.best_params_, grid_search.best_score_, grid_search.best_estimator_"
   ]
  },
  {
   "cell_type": "markdown",
   "metadata": {
    "deletable": true,
    "editable": true
   },
   "source": [
    "## Huber Regressor"
   ]
  },
  {
   "cell_type": "code",
   "execution_count": 25,
   "metadata": {
    "collapsed": false,
    "deletable": true,
    "editable": true
   },
   "outputs": [
    {
     "data": {
      "text/plain": [
       "([mean: 0.74017, std: 0.05391, params: {'tol': 1e-10, 'alpha': 1000, 'epsilon': 1.2},\n",
       "  mean: 0.74017, std: 0.05391, params: {'tol': 1e-09, 'alpha': 1000, 'epsilon': 1.2},\n",
       "  mean: 0.75015, std: 0.04004, params: {'tol': 1e-10, 'alpha': 1000, 'epsilon': 1.25},\n",
       "  mean: 0.75015, std: 0.04004, params: {'tol': 1e-09, 'alpha': 1000, 'epsilon': 1.25},\n",
       "  mean: 0.76011, std: 0.05533, params: {'tol': 1e-10, 'alpha': 1000, 'epsilon': 1.5},\n",
       "  mean: 0.76011, std: 0.05533, params: {'tol': 1e-09, 'alpha': 1000, 'epsilon': 1.5},\n",
       "  mean: 0.83009, std: 0.04603, params: {'tol': 1e-10, 'alpha': 100, 'epsilon': 1.2},\n",
       "  mean: 0.83009, std: 0.04603, params: {'tol': 1e-09, 'alpha': 100, 'epsilon': 1.2},\n",
       "  mean: 0.83158, std: 0.04605, params: {'tol': 1e-10, 'alpha': 100, 'epsilon': 1.25},\n",
       "  mean: 0.83158, std: 0.04605, params: {'tol': 1e-09, 'alpha': 100, 'epsilon': 1.25},\n",
       "  mean: 0.83304, std: 0.04512, params: {'tol': 1e-10, 'alpha': 100, 'epsilon': 1.5},\n",
       "  mean: 0.83304, std: 0.04512, params: {'tol': 1e-09, 'alpha': 100, 'epsilon': 1.5},\n",
       "  mean: 0.83598, std: 0.04839, params: {'tol': 1e-10, 'alpha': 10, 'epsilon': 1.2},\n",
       "  mean: 0.83598, std: 0.04839, params: {'tol': 1e-09, 'alpha': 10, 'epsilon': 1.2},\n",
       "  mean: 0.83474, std: 0.04712, params: {'tol': 1e-10, 'alpha': 10, 'epsilon': 1.25},\n",
       "  mean: 0.83474, std: 0.04712, params: {'tol': 1e-09, 'alpha': 10, 'epsilon': 1.25},\n",
       "  mean: 0.83657, std: 0.04692, params: {'tol': 1e-10, 'alpha': 10, 'epsilon': 1.5},\n",
       "  mean: 0.83657, std: 0.04692, params: {'tol': 1e-09, 'alpha': 10, 'epsilon': 1.5},\n",
       "  mean: 0.83614, std: 0.04725, params: {'tol': 1e-10, 'alpha': 1, 'epsilon': 1.2},\n",
       "  mean: 0.83614, std: 0.04725, params: {'tol': 1e-09, 'alpha': 1, 'epsilon': 1.2},\n",
       "  mean: 0.83637, std: 0.04531, params: {'tol': 1e-10, 'alpha': 1, 'epsilon': 1.25},\n",
       "  mean: 0.83637, std: 0.04531, params: {'tol': 1e-09, 'alpha': 1, 'epsilon': 1.25},\n",
       "  mean: 0.83868, std: 0.04540, params: {'tol': 1e-10, 'alpha': 1, 'epsilon': 1.5},\n",
       "  mean: 0.83868, std: 0.04540, params: {'tol': 1e-09, 'alpha': 1, 'epsilon': 1.5}],\n",
       " {'alpha': 1, 'epsilon': 1.5, 'tol': 1e-10},\n",
       " 0.83867659590353882,\n",
       " HuberRegressor(alpha=1, epsilon=1.5, fit_intercept=True, max_iter=100,\n",
       "         tol=1e-10, warm_start=False))"
      ]
     },
     "execution_count": 25,
     "metadata": {},
     "output_type": "execute_result"
    }
   ],
   "source": [
    "param_grid = {'alpha': [1000,100,10, 1],\n",
    "              'epsilon' : [1.2,1.25,1.50],\n",
    "              'tol' : [1e-10, 1e-9]}\n",
    "\n",
    "hr = linear_model.HuberRegressor()\n",
    "hyperparaTuning(hr, train, labels, param_grid)"
   ]
  },
  {
   "cell_type": "markdown",
   "metadata": {
    "deletable": true,
    "editable": true
   },
   "source": [
    "## XGBoost"
   ]
  },
  {
   "cell_type": "code",
   "execution_count": 26,
   "metadata": {
    "collapsed": false,
    "deletable": true,
    "editable": true
   },
   "outputs": [
    {
     "data": {
      "text/plain": [
       "'\\nparam_grid = [{\"max_depth\": [3, 5, 7, 9],\\n               \"min_child_weight\": [1, 3, 5]}]\\n\\nxgb = XGBRegressor(learning_rate=0.1, n_estimators=103, gamma=0, \\n                   subsample=0.8, colsample_bytree=0.8, reg_alpha=0, \\n                   reg_lambda=1, objective=\"reg:linear\")\\nhyperparaTuning(xgb, train, labels, param_grid)\\n'"
      ]
     },
     "execution_count": 26,
     "metadata": {},
     "output_type": "execute_result"
    }
   ],
   "source": [
    "\"\"\"\n",
    "param_grid = [{\"max_depth\": [3, 5, 7, 9],\n",
    "               \"min_child_weight\": [1, 3, 5]}]\n",
    "\n",
    "xgb = XGBRegressor(learning_rate=0.1, n_estimators=103, gamma=0, \n",
    "                   subsample=0.8, colsample_bytree=0.8, reg_alpha=0, \n",
    "                   reg_lambda=1, objective=\"reg:linear\")\n",
    "hyperparaTuning(xgb, train, labels, param_grid)\n",
    "\"\"\""
   ]
  },
  {
   "cell_type": "markdown",
   "metadata": {
    "deletable": true,
    "editable": true
   },
   "source": [
    "## Neural network"
   ]
  },
  {
   "cell_type": "code",
   "execution_count": null,
   "metadata": {
    "collapsed": true,
    "deletable": true,
    "editable": true
   },
   "outputs": [],
   "source": []
  },
  {
   "cell_type": "markdown",
   "metadata": {
    "deletable": true,
    "editable": true
   },
   "source": [
    "# Save prediction"
   ]
  },
  {
   "cell_type": "code",
   "execution_count": 3,
   "metadata": {
    "collapsed": true,
    "deletable": true,
    "editable": true
   },
   "outputs": [],
   "source": [
    "def modelSubmit(model, train_data, train_label, test_data, name):\n",
    "    model.fit(train_data, train_label)\n",
    "    ln_pred = model.predict(test_data)\n",
    "    pred = np.exp(ln_pred)\n",
    "    submission = pd.DataFrame({\"Id\": ids, \"SalePrice\": pred})\n",
    "    filename = os.path.join(name + \".csv\")\n",
    "    submission.to_csv('submit/' + filename, index=False)"
   ]
  },
  {
   "cell_type": "code",
   "execution_count": 42,
   "metadata": {
    "collapsed": false,
    "deletable": true,
    "editable": true
   },
   "outputs": [],
   "source": [
    "hrfinal = linear_model.HuberRegressor(alpha=1, epsilon=1.5, fit_intercept=True, max_iter=100,\n",
    "             tol=1e-10, warm_start=False)"
   ]
  },
  {
   "cell_type": "code",
   "execution_count": 28,
   "metadata": {
    "collapsed": true,
    "deletable": true,
    "editable": true
   },
   "outputs": [],
   "source": [
    "xgbfinal = XGBRegressor(base_score=0.5, colsample_bylevel=1, colsample_bytree=0.8,\n",
    "            gamma=0, learning_rate=0.1, max_delta_step=0, max_depth=3,\n",
    "            min_child_weight=1, missing=None, n_estimators=103, nthread=-1,\n",
    "            objective='reg:linear', reg_alpha=0, reg_lambda=1,\n",
    "            scale_pos_weight=1, seed=0, silent=True, subsample=0.8)"
   ]
  },
  {
   "cell_type": "code",
   "execution_count": 49,
   "metadata": {
    "collapsed": true,
    "deletable": true,
    "editable": true
   },
   "outputs": [],
   "source": [
    "modelSubmit(xgbfinal, train, labels, test)"
   ]
  },
  {
   "cell_type": "code",
   "execution_count": 45,
   "metadata": {
    "collapsed": false,
    "deletable": true,
    "editable": true
   },
   "outputs": [],
   "source": [
    "modelSubmit(hrfinal, train, labels, test)"
   ]
  }
 ],
 "metadata": {
  "kernelspec": {
   "display_name": "Python 3",
   "language": "python",
   "name": "python3"
  },
  "language_info": {
   "codemirror_mode": {
    "name": "ipython",
    "version": 3
   },
   "file_extension": ".py",
   "mimetype": "text/x-python",
   "name": "python",
   "nbconvert_exporter": "python",
   "pygments_lexer": "ipython3",
   "version": "3.5.2"
  },
  "toc": {
   "colors": {
    "hover_highlight": "#DAA520",
    "running_highlight": "#FF0000",
    "selected_highlight": "#FFD700"
   },
   "moveMenuLeft": true,
   "nav_menu": {
    "height": "120px",
    "width": "252px"
   },
   "navigate_menu": true,
   "number_sections": true,
   "sideBar": true,
   "threshold": 4,
   "toc_cell": false,
   "toc_section_display": "block",
   "toc_window_display": false
  }
 },
 "nbformat": 4,
 "nbformat_minor": 2
}
