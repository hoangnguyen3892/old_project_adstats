{
 "cells": [
  {
   "cell_type": "code",
   "execution_count": 40,
   "metadata": {
    "collapsed": true,
    "deletable": true,
    "editable": true
   },
   "outputs": [],
   "source": [
    "import pandas as pd\n",
    "import numpy as np\n",
    "import pickle\n",
    "import os\n",
    "from math import sqrt\n",
    "from scipy.stats import skew\n",
    "\n",
    "%matplotlib inline\n",
    "import warnings\n",
    "warnings.filterwarnings('ignore')"
   ]
  },
  {
   "cell_type": "code",
   "execution_count": 41,
   "metadata": {
    "collapsed": false,
    "deletable": true,
    "editable": true
   },
   "outputs": [],
   "source": [
    "from sklearn.metrics import mean_squared_error\n",
    "from sklearn.model_selection import KFold"
   ]
  },
  {
   "cell_type": "code",
   "execution_count": 42,
   "metadata": {
    "collapsed": false,
    "deletable": true,
    "editable": true
   },
   "outputs": [],
   "source": [
    "from sklearn.linear_model import BayesianRidge, Ridge, RidgeCV, LinearRegression, ElasticNet, LassoCV, Lasso\n",
    "from sklearn.ensemble import ExtraTreesRegressor\n",
    "from sklearn.ensemble import RandomForestRegressor\n",
    "from sklearn.ensemble import BaggingRegressor\n",
    "from sklearn.ensemble import RandomForestRegressor\n",
    "from sklearn import svm\n",
    "from sklearn.ensemble import AdaBoostRegressor\n",
    "from sklearn.tree import DecisionTreeRegressor\n",
    "import xgboost as xgb\n",
    "from xgboost import XGBRegressor"
   ]
  },
  {
   "cell_type": "markdown",
   "metadata": {
    "deletable": true,
    "editable": true
   },
   "source": [
    "# Load data"
   ]
  },
  {
   "cell_type": "code",
   "execution_count": 43,
   "metadata": {
    "collapsed": false,
    "deletable": true,
    "editable": true
   },
   "outputs": [],
   "source": [
    "with open(\"../input/preprocessed_data.pkl\", \"rb\") as f:\n",
    "    train_data = pickle.load(f)\n",
    "    test_data = pickle.load(f)\n",
    "    ids = pickle.load(f)\n",
    "    log_train_lables = pickle.load(f)\n",
    "    test_labels = pickle.load(f)"
   ]
  },
  {
   "cell_type": "code",
   "execution_count": 44,
   "metadata": {
    "collapsed": false,
    "deletable": true,
    "editable": true
   },
   "outputs": [
    {
     "name": "stdout",
     "output_type": "stream",
     "text": [
      "There are 1304 instances in training data\n",
      "There are 146 instances in testing data\n",
      "There are 282 features\n"
     ]
    }
   ],
   "source": [
    "print('There are {0} instances in training data'.format(train_data.shape[0]))\n",
    "print('There are {0} instances in testing data'.format(test_data.shape[0]))\n",
    "print('There are {0} features'.format(test_data.shape[1]))"
   ]
  },
  {
   "cell_type": "markdown",
   "metadata": {
    "deletable": true,
    "editable": true
   },
   "source": [
    "# Build model"
   ]
  },
  {
   "cell_type": "code",
   "execution_count": 45,
   "metadata": {
    "collapsed": false,
    "deletable": true,
    "editable": true
   },
   "outputs": [],
   "source": [
    "# Set-up\n",
    "TARGET = 'SalePrice'\n",
    "NFOLDS = 5\n",
    "SEED = 3\n",
    "NROWS = None\n",
    "ntrain = train_data.shape[0]\n",
    "ntest = test_data.shape[0]"
   ]
  },
  {
   "cell_type": "code",
   "execution_count": 46,
   "metadata": {
    "collapsed": false,
    "deletable": true,
    "editable": true
   },
   "outputs": [],
   "source": [
    "# Convert from df to np array\n",
    "x_train = np.array(train_data)\n",
    "x_test = np.array(test_data)\n",
    "y_train = log_train_lables"
   ]
  },
  {
   "cell_type": "code",
   "execution_count": 56,
   "metadata": {
    "collapsed": false
   },
   "outputs": [
    {
     "data": {
      "text/plain": [
       "0       11.198228\n",
       "1       12.735968\n",
       "2       12.546871\n",
       "3       11.385103\n",
       "4       12.103492\n",
       "5       12.449023\n",
       "6       11.856522\n",
       "7       11.794345\n",
       "8       12.287657\n",
       "9       11.648339\n",
       "10      11.944714\n",
       "11      12.384223\n",
       "12      12.596404\n",
       "13      11.964007\n",
       "14      12.445093\n",
       "15      12.013707\n",
       "16      12.660331\n",
       "17      12.323416\n",
       "18      12.834684\n",
       "19      12.672950\n",
       "20      11.512935\n",
       "21      11.728045\n",
       "22      11.931642\n",
       "23      11.775297\n",
       "24      11.695255\n",
       "25      11.849405\n",
       "26      11.898195\n",
       "27      12.072547\n",
       "28      12.421188\n",
       "29      12.692506\n",
       "          ...    \n",
       "1274    12.727841\n",
       "1275    11.686887\n",
       "1276    12.193499\n",
       "1277    12.206078\n",
       "1278    11.691080\n",
       "1279    11.711785\n",
       "1280    11.927687\n",
       "1281    11.982935\n",
       "1282    11.245059\n",
       "1283    11.845827\n",
       "1284    11.964007\n",
       "1285    11.924379\n",
       "1286    12.278398\n",
       "1287    11.824087\n",
       "1288    12.066816\n",
       "1289    11.740069\n",
       "1290    12.373708\n",
       "1291    12.556733\n",
       "1292    11.976666\n",
       "1293    11.850832\n",
       "1294    11.585255\n",
       "1295    11.824087\n",
       "1296    12.577640\n",
       "1297    12.521981\n",
       "1298    12.081082\n",
       "1299    12.133507\n",
       "1300    11.849405\n",
       "1301    11.619544\n",
       "1302    11.652696\n",
       "1303    12.400821\n",
       "Name: SalePrice, dtype: float64"
      ]
     },
     "execution_count": 56,
     "metadata": {},
     "output_type": "execute_result"
    }
   ],
   "source": [
    "y_train"
   ]
  },
  {
   "cell_type": "raw",
   "metadata": {},
   "source": []
  },
  {
   "cell_type": "code",
   "execution_count": 47,
   "metadata": {
    "collapsed": true,
    "deletable": true,
    "editable": true
   },
   "outputs": [],
   "source": [
    "# Reset index. If not do this one, there is a bug later\n",
    "y_train = y_train.reset_index()\n",
    "del y_train['index']\n",
    "y_train = y_train['SalePrice']"
   ]
  },
  {
   "cell_type": "code",
   "execution_count": 48,
   "metadata": {
    "collapsed": false,
    "deletable": true,
    "editable": true
   },
   "outputs": [],
   "source": [
    "# Create k-fold\n",
    "kf = KFold(n_splits=NFOLDS, shuffle=True, random_state=SEED).split(x_train)"
   ]
  },
  {
   "cell_type": "code",
   "execution_count": 49,
   "metadata": {
    "collapsed": true,
    "deletable": true,
    "editable": true
   },
   "outputs": [],
   "source": [
    "class SklearnWrapper(object):\n",
    "    def __init__(self, clf, params=None):\n",
    "        #params['random_state'] = seed\n",
    "        self.clf = clf(**params)\n",
    "\n",
    "    def train(self, x_train, y_train):\n",
    "        self.clf.fit(x_train, y_train)\n",
    "\n",
    "    def predict(self, x):\n",
    "        return self.clf.predict(x)"
   ]
  },
  {
   "cell_type": "code",
   "execution_count": 50,
   "metadata": {
    "collapsed": false,
    "deletable": true,
    "editable": true
   },
   "outputs": [],
   "source": [
    "class XgbWrapper(object):\n",
    "    def __init__(self, seed=0, params=None):\n",
    "        self.param = params\n",
    "        self.param['seed'] = seed\n",
    "        self.nrounds = params.pop('nrounds', 250)\n",
    "\n",
    "    def train(self, x_train, y_train):\n",
    "        dtrain = xgb.DMatrix(x_train, label=y_train)\n",
    "        self.gbdt = xgb.train(self.param, dtrain, self.nrounds)\n",
    "\n",
    "    def predict(self, x):\n",
    "        return self.gbdt.predict(xgb.DMatrix(x))"
   ]
  },
  {
   "cell_type": "code",
   "execution_count": 51,
   "metadata": {
    "collapsed": true,
    "deletable": true,
    "editable": true
   },
   "outputs": [],
   "source": [
    "#out of folds\n",
    "def get_oof(clf):\n",
    "    oof_train = np.zeros((ntrain,))\n",
    "    oof_test = np.zeros((ntest,))\n",
    "    oof_test_skf = np.empty((NFOLDS, ntest))\n",
    "\n",
    "    for i, (train_index, test_index) in enumerate(kf):\n",
    "        x_tr = x_train[train_index]\n",
    "        y_tr = y_train[train_index]\n",
    "        x_te = x_train[test_index]\n",
    "\n",
    "        clf.train(x_tr, y_tr)\n",
    "\n",
    "        oof_train[test_index] = clf.predict(x_te)\n",
    "        oof_test_skf[i, :] = clf.predict(x_test)\n",
    "\n",
    "    oof_test[:] = oof_test_skf.mean(axis=0)\n",
    "    return oof_train.reshape(-1, 1), oof_test.reshape(-1, 1)"
   ]
  },
  {
   "cell_type": "code",
   "execution_count": 52,
   "metadata": {
    "collapsed": true,
    "deletable": true,
    "editable": true
   },
   "outputs": [],
   "source": [
    "#Bayesian Ridge\n",
    "br_params = {\n",
    "    'alpha_1' : 0.05, \n",
    "    'alpha_2' : 0.05\n",
    "}\n",
    "\n",
    "#Lasso\n",
    "ls_params = {\n",
    "    'alpha': 0.005\n",
    "}\n",
    "\n",
    "\n",
    "#Ridge\n",
    "rd_params = {\n",
    "    'alpha': 10\n",
    "}\n",
    "\n",
    "#Linear\n",
    "ln_params = {\n",
    "   'normalize': False \n",
    "}\n",
    "\n",
    "\"\"\"\n",
    "#RandomForestRegressor\n",
    "rf_params = {\n",
    "    'n_jobs': 16,\n",
    "    'n_estimators': 100,\n",
    "    'max_features': 0.2,\n",
    "    'max_depth': 12,\n",
    "    'min_samples_leaf': 2,\n",
    "}\n",
    "\"\"\"\n",
    "\n",
    "#XGBRegressor\n",
    "xgb_params = {\n",
    "    'seed': 0,\n",
    "    'colsample_bytree': 0.7,\n",
    "    'silent': 1,\n",
    "    'subsample': 0.7,\n",
    "    'learning_rate': 0.075,\n",
    "    'objective': 'reg:linear',\n",
    "    'max_depth': 4,\n",
    "    'num_parallel_tree': 1,\n",
    "    'min_child_weight': 1,\n",
    "    'eval_metric': 'rmse',\n",
    "    'nrounds': 500\n",
    "}"
   ]
  },
  {
   "cell_type": "code",
   "execution_count": 53,
   "metadata": {
    "collapsed": true,
    "deletable": true,
    "editable": true
   },
   "outputs": [],
   "source": [
    "br = SklearnWrapper(clf=BayesianRidge, params=br_params)\n",
    "ls = SklearnWrapper(clf=Lasso, params=ls_params)\n",
    "rd = SklearnWrapper(clf=Ridge, params=rd_params)\n",
    "ln = SklearnWrapper(clf=LinearRegression, params=ln_params)\n",
    "xg = XgbWrapper(seed=SEED, params=xgb_params)"
   ]
  },
  {
   "cell_type": "code",
   "execution_count": 54,
   "metadata": {
    "collapsed": false,
    "deletable": true,
    "editable": true
   },
   "outputs": [],
   "source": [
    "xg_oof_train, xg_oof_test = get_oof(xg)\n",
    "br_oof_train, br_oof_test = get_oof(br)\n",
    "ls_oof_train, ls_oof_test = get_oof(ls)\n",
    "rd_oof_train, rd_oof_test = get_oof(rd)\n",
    "ln_oof_train, ln_oof_test = get_oof(ln)"
   ]
  },
  {
   "cell_type": "code",
   "execution_count": 55,
   "metadata": {
    "collapsed": false
   },
   "outputs": [
    {
     "data": {
      "text/plain": [
       "array([[ 11.33780193],\n",
       "       [ 12.6322794 ],\n",
       "       [ 12.55568504],\n",
       "       ..., \n",
       "       [ 11.67632294],\n",
       "       [ 11.63257027],\n",
       "       [ 12.32003117]])"
      ]
     },
     "execution_count": 55,
     "metadata": {},
     "output_type": "execute_result"
    }
   ],
   "source": [
    "xg_oof_train"
   ]
  },
  {
   "cell_type": "code",
   "execution_count": 16,
   "metadata": {
    "collapsed": false,
    "deletable": true,
    "editable": true
   },
   "outputs": [
    {
     "name": "stdout",
     "output_type": "stream",
     "text": [
      "BR-CV: 12.016625713494248\n",
      "LS-CV: 12.016625713494248\n",
      "RD-CV: 12.016625713494248\n",
      "LN-CV: 12.016625713494248\n",
      "XG-CV: 0.12011081772882488\n"
     ]
    }
   ],
   "source": [
    "print(\"BR-CV: {}\".format(sqrt(mean_squared_error(y_train, br_oof_train))))\n",
    "print(\"LS-CV: {}\".format(sqrt(mean_squared_error(y_train, ls_oof_train))))\n",
    "print(\"RD-CV: {}\".format(sqrt(mean_squared_error(y_train, rd_oof_train))))\n",
    "print(\"LN-CV: {}\".format(sqrt(mean_squared_error(y_train, ln_oof_train))))\n",
    "print(\"XG-CV: {}\".format(sqrt(mean_squared_error(y_train, xg_oof_train))))"
   ]
  },
  {
   "cell_type": "code",
   "execution_count": 17,
   "metadata": {
    "collapsed": true,
    "deletable": true,
    "editable": true
   },
   "outputs": [],
   "source": [
    "x_train = np.concatenate((xg_oof_train, br_oof_train, ls_oof_train, rd_oof_train, ln_oof_train), axis=1)\n",
    "x_test = np.concatenate((xg_oof_test, br_oof_test, ls_oof_test, rd_oof_test, ln_oof_test), axis=1)"
   ]
  },
  {
   "cell_type": "code",
   "execution_count": 18,
   "metadata": {
    "collapsed": false,
    "deletable": true,
    "editable": true
   },
   "outputs": [
    {
     "name": "stdout",
     "output_type": "stream",
     "text": [
      "(1304, 5),(146, 5)\n"
     ]
    }
   ],
   "source": [
    "print(\"{},{}\".format(x_train.shape, x_test.shape))"
   ]
  },
  {
   "cell_type": "code",
   "execution_count": 19,
   "metadata": {
    "collapsed": true,
    "deletable": true,
    "editable": true
   },
   "outputs": [],
   "source": [
    "dtrain = xgb.DMatrix(x_train, label=y_train)\n",
    "dtest = xgb.DMatrix(x_test)"
   ]
  },
  {
   "cell_type": "code",
   "execution_count": 20,
   "metadata": {
    "collapsed": true,
    "deletable": true,
    "editable": true
   },
   "outputs": [],
   "source": [
    "xgb_params = {\n",
    "    'seed': 0,\n",
    "    'colsample_bytree': 0.8,\n",
    "    'silent': 1,\n",
    "    'subsample': 0.6,\n",
    "    'learning_rate': 0.01,\n",
    "    'objective': 'reg:linear',\n",
    "    'max_depth': 1,\n",
    "    'num_parallel_tree': 1,\n",
    "    'min_child_weight': 1,\n",
    "    'eval_metric': 'rmse',\n",
    "}"
   ]
  },
  {
   "cell_type": "code",
   "execution_count": 30,
   "metadata": {
    "collapsed": true,
    "deletable": true,
    "editable": true
   },
   "outputs": [
    {
     "name": "stdout",
     "output_type": "stream",
     "text": [
      "[0]\ttrain-rmse:11.4019+0.0076195\ttest-rmse:11.4019+0.0308878\n",
      "[10]\ttrain-rmse:10.3148+0.00686126\ttest-rmse:10.3147+0.0316798\n",
      "[20]\ttrain-rmse:9.33147+0.00642421\ttest-rmse:9.33142+0.0321502\n",
      "[30]\ttrain-rmse:8.442+0.00578244\ttest-rmse:8.44195+0.0328378\n",
      "[40]\ttrain-rmse:7.63787+0.00524816\ttest-rmse:7.63783+0.0334055\n",
      "[50]\ttrain-rmse:6.9106+0.00467674\ttest-rmse:6.91076+0.0334286\n",
      "[60]\ttrain-rmse:6.25276+0.00424265\ttest-rmse:6.25288+0.0330725\n",
      "[70]\ttrain-rmse:5.65766+0.00378794\ttest-rmse:5.65761+0.0328235\n",
      "[80]\ttrain-rmse:5.1195+0.00349112\ttest-rmse:5.11938+0.0322148\n",
      "[90]\ttrain-rmse:4.63269+0.00319562\ttest-rmse:4.63274+0.0316225\n",
      "[100]\ttrain-rmse:4.19244+0.00284032\ttest-rmse:4.19246+0.0310339\n",
      "[110]\ttrain-rmse:3.7942+0.00267005\ttest-rmse:3.79435+0.0301588\n",
      "[120]\ttrain-rmse:3.43385+0.00260083\ttest-rmse:3.43399+0.0291548\n",
      "[130]\ttrain-rmse:3.10802+0.00240649\ttest-rmse:3.10838+0.0283365\n",
      "[140]\ttrain-rmse:2.81329+0.00214099\ttest-rmse:2.81345+0.0274562\n",
      "[150]\ttrain-rmse:2.54685+0.00202091\ttest-rmse:2.54688+0.0265805\n",
      "[160]\ttrain-rmse:2.30577+0.00193244\ttest-rmse:2.30589+0.0257791\n",
      "[170]\ttrain-rmse:2.0879+0.00195333\ttest-rmse:2.08801+0.0247227\n",
      "[180]\ttrain-rmse:1.8909+0.00185499\ttest-rmse:1.89092+0.0238328\n",
      "[190]\ttrain-rmse:1.71268+0.00166182\ttest-rmse:1.71287+0.0229431\n",
      "[200]\ttrain-rmse:1.55169+0.00171993\ttest-rmse:1.55181+0.0224204\n",
      "[210]\ttrain-rmse:1.40602+0.00176388\ttest-rmse:1.40605+0.0215087\n",
      "[220]\ttrain-rmse:1.27441+0.001786\ttest-rmse:1.27443+0.0206981\n",
      "[230]\ttrain-rmse:1.15565+0.00164878\ttest-rmse:1.15564+0.0199686\n",
      "[240]\ttrain-rmse:1.04828+0.00169167\ttest-rmse:1.04838+0.0192961\n",
      "[250]\ttrain-rmse:0.951321+0.00156063\ttest-rmse:0.951674+0.018576\n",
      "[260]\ttrain-rmse:0.863881+0.00158845\ttest-rmse:0.864364+0.0181753\n",
      "[270]\ttrain-rmse:0.784807+0.00163599\ttest-rmse:0.785382+0.0178967\n",
      "[280]\ttrain-rmse:0.71374+0.0018803\ttest-rmse:0.714336+0.0173443\n",
      "[290]\ttrain-rmse:0.649706+0.00186815\ttest-rmse:0.650439+0.017043\n",
      "[300]\ttrain-rmse:0.592082+0.00202725\ttest-rmse:0.592834+0.0167604\n",
      "[310]\ttrain-rmse:0.540175+0.00210322\ttest-rmse:0.541036+0.0164387\n",
      "[320]\ttrain-rmse:0.49343+0.00223634\ttest-rmse:0.494426+0.0160666\n",
      "[330]\ttrain-rmse:0.451475+0.00242483\ttest-rmse:0.452593+0.0157928\n",
      "[340]\ttrain-rmse:0.413681+0.00253217\ttest-rmse:0.41495+0.0157662\n",
      "[350]\ttrain-rmse:0.379877+0.00274558\ttest-rmse:0.381247+0.015252\n",
      "[360]\ttrain-rmse:0.349845+0.00301434\ttest-rmse:0.351344+0.0153633\n",
      "[370]\ttrain-rmse:0.322697+0.0031362\ttest-rmse:0.324493+0.0154812\n",
      "[380]\ttrain-rmse:0.298692+0.00310324\ttest-rmse:0.300709+0.0158768\n",
      "[390]\ttrain-rmse:0.277214+0.00310919\ttest-rmse:0.279433+0.0161465\n",
      "[400]\ttrain-rmse:0.258151+0.00324819\ttest-rmse:0.260413+0.0162132\n",
      "[410]\ttrain-rmse:0.241309+0.00347444\ttest-rmse:0.243753+0.0165014\n",
      "[420]\ttrain-rmse:0.22646+0.00343168\ttest-rmse:0.229187+0.0169336\n",
      "[430]\ttrain-rmse:0.21333+0.00337915\ttest-rmse:0.216306+0.0175123\n",
      "[440]\ttrain-rmse:0.20195+0.00349717\ttest-rmse:0.205069+0.0178844\n",
      "[450]\ttrain-rmse:0.191872+0.00348642\ttest-rmse:0.195164+0.0184119\n",
      "[460]\ttrain-rmse:0.183119+0.00361214\ttest-rmse:0.186558+0.0188242\n",
      "[470]\ttrain-rmse:0.175348+0.00369786\ttest-rmse:0.178886+0.0191438\n",
      "[480]\ttrain-rmse:0.168619+0.00366263\ttest-rmse:0.172455+0.0195234\n",
      "[490]\ttrain-rmse:0.162764+0.00370504\ttest-rmse:0.166744+0.0198433\n",
      "[500]\ttrain-rmse:0.157618+0.00365519\ttest-rmse:0.161627+0.0202387\n",
      "[510]\ttrain-rmse:0.153232+0.00371286\ttest-rmse:0.157351+0.0204797\n",
      "[520]\ttrain-rmse:0.149569+0.00360864\ttest-rmse:0.153932+0.0208357\n",
      "[530]\ttrain-rmse:0.146188+0.00376346\ttest-rmse:0.15057+0.020961\n",
      "[540]\ttrain-rmse:0.14322+0.0038693\ttest-rmse:0.147655+0.0209726\n",
      "[550]\ttrain-rmse:0.140611+0.00386415\ttest-rmse:0.145195+0.0210702\n",
      "[560]\ttrain-rmse:0.138348+0.00380385\ttest-rmse:0.143119+0.0212256\n",
      "[570]\ttrain-rmse:0.136413+0.00384432\ttest-rmse:0.141273+0.0212234\n",
      "[580]\ttrain-rmse:0.134718+0.00374798\ttest-rmse:0.139717+0.0212554\n",
      "[590]\ttrain-rmse:0.133057+0.00366504\ttest-rmse:0.138231+0.0212282\n",
      "[600]\ttrain-rmse:0.131772+0.00371734\ttest-rmse:0.137008+0.0212151\n",
      "[610]\ttrain-rmse:0.130554+0.0037276\ttest-rmse:0.135894+0.021054\n",
      "[620]\ttrain-rmse:0.129535+0.00372627\ttest-rmse:0.134886+0.0210302\n",
      "[630]\ttrain-rmse:0.128487+0.00365643\ttest-rmse:0.133922+0.0209012\n",
      "[640]\ttrain-rmse:0.127597+0.0036373\ttest-rmse:0.133071+0.0207354\n",
      "[650]\ttrain-rmse:0.126766+0.00353811\ttest-rmse:0.132412+0.0205996\n",
      "[660]\ttrain-rmse:0.125984+0.00346024\ttest-rmse:0.131678+0.0205326\n",
      "[670]\ttrain-rmse:0.125266+0.0034501\ttest-rmse:0.131135+0.0203603\n",
      "[680]\ttrain-rmse:0.124633+0.0034375\ttest-rmse:0.130552+0.0201935\n",
      "[690]\ttrain-rmse:0.124002+0.00346625\ttest-rmse:0.129961+0.0199783\n",
      "[700]\ttrain-rmse:0.123426+0.00348196\ttest-rmse:0.129407+0.0197882\n",
      "[710]\ttrain-rmse:0.122949+0.0034551\ttest-rmse:0.129025+0.0196615\n",
      "[720]\ttrain-rmse:0.122494+0.0034463\ttest-rmse:0.128685+0.0195141\n",
      "[730]\ttrain-rmse:0.122106+0.00344784\ttest-rmse:0.128372+0.0193834\n",
      "[740]\ttrain-rmse:0.121696+0.00343715\ttest-rmse:0.128013+0.0192796\n",
      "[750]\ttrain-rmse:0.121305+0.00340228\ttest-rmse:0.127788+0.019104\n",
      "[760]\ttrain-rmse:0.12097+0.0034074\ttest-rmse:0.127502+0.0189616\n",
      "[770]\ttrain-rmse:0.120642+0.00336684\ttest-rmse:0.127223+0.0187886\n",
      "[780]\ttrain-rmse:0.120316+0.00335218\ttest-rmse:0.126944+0.0186137\n",
      "[790]\ttrain-rmse:0.120008+0.00332736\ttest-rmse:0.126697+0.0184069\n",
      "[800]\ttrain-rmse:0.119738+0.0033217\ttest-rmse:0.126477+0.0182643\n",
      "[810]\ttrain-rmse:0.119473+0.00335536\ttest-rmse:0.126295+0.0181015\n",
      "[820]\ttrain-rmse:0.11923+0.00339429\ttest-rmse:0.12607+0.0179265\n",
      "[830]\ttrain-rmse:0.118961+0.00337092\ttest-rmse:0.125846+0.0178007\n",
      "[840]\ttrain-rmse:0.118749+0.0033594\ttest-rmse:0.125687+0.0176706\n",
      "[850]\ttrain-rmse:0.118528+0.00332478\ttest-rmse:0.125561+0.0175492\n",
      "[860]\ttrain-rmse:0.118326+0.00328715\ttest-rmse:0.125415+0.0174604\n",
      "[870]\ttrain-rmse:0.11813+0.00325625\ttest-rmse:0.125283+0.0173279\n",
      "[880]\ttrain-rmse:0.117928+0.00326107\ttest-rmse:0.125132+0.0171913\n",
      "[890]\ttrain-rmse:0.117736+0.00326948\ttest-rmse:0.125019+0.0170675\n",
      "[900]\ttrain-rmse:0.117564+0.00324036\ttest-rmse:0.124956+0.0169456\n",
      "[910]\ttrain-rmse:0.117417+0.00322252\ttest-rmse:0.124925+0.0168523\n",
      "[920]\ttrain-rmse:0.117255+0.00323425\ttest-rmse:0.124782+0.0167451\n",
      "[930]\ttrain-rmse:0.117121+0.00323209\ttest-rmse:0.124712+0.0166212\n",
      "[940]\ttrain-rmse:0.117002+0.00322551\ttest-rmse:0.1246+0.0165147\n",
      "[950]\ttrain-rmse:0.116881+0.0032347\ttest-rmse:0.12452+0.0163965\n",
      "[960]\ttrain-rmse:0.116758+0.00325222\ttest-rmse:0.124431+0.016289\n",
      "[970]\ttrain-rmse:0.11666+0.00323373\ttest-rmse:0.124407+0.0162289\n",
      "[980]\ttrain-rmse:0.116559+0.0032353\ttest-rmse:0.124378+0.0161934\n",
      "[990]\ttrain-rmse:0.116467+0.00324345\ttest-rmse:0.124348+0.0160894\n",
      "[1000]\ttrain-rmse:0.116365+0.00324329\ttest-rmse:0.124265+0.0159687\n",
      "[1010]\ttrain-rmse:0.116283+0.00325318\ttest-rmse:0.124153+0.0158807\n",
      "[1020]\ttrain-rmse:0.116204+0.00325116\ttest-rmse:0.12409+0.0157985\n",
      "[1030]\ttrain-rmse:0.116126+0.00325217\ttest-rmse:0.124057+0.0157426\n",
      "[1040]\ttrain-rmse:0.116066+0.00324278\ttest-rmse:0.124018+0.0156755\n",
      "[1050]\ttrain-rmse:0.115994+0.0032325\ttest-rmse:0.124004+0.015629\n",
      "[1060]\ttrain-rmse:0.115922+0.0032239\ttest-rmse:0.123979+0.0155952\n",
      "[1070]\ttrain-rmse:0.115855+0.0032212\ttest-rmse:0.124009+0.0155032\n",
      "[1080]\ttrain-rmse:0.115788+0.00323075\ttest-rmse:0.123988+0.0154377\n",
      "[1090]\ttrain-rmse:0.115736+0.00323077\ttest-rmse:0.124018+0.0153862\n",
      "[1100]\ttrain-rmse:0.115686+0.00322952\ttest-rmse:0.124053+0.0154054\n",
      "[1110]\ttrain-rmse:0.115629+0.00323548\ttest-rmse:0.124002+0.015356\n",
      "[1120]\ttrain-rmse:0.115585+0.00324329\ttest-rmse:0.123948+0.0153378\n",
      "[1130]\ttrain-rmse:0.115547+0.00325302\ttest-rmse:0.123946+0.0152816\n",
      "[1140]\ttrain-rmse:0.115506+0.00325478\ttest-rmse:0.123915+0.015266\n",
      "[1150]\ttrain-rmse:0.11546+0.00325512\ttest-rmse:0.123928+0.0152633\n",
      "[1160]\ttrain-rmse:0.115423+0.0032609\ttest-rmse:0.123927+0.0152397\n",
      "[1170]\ttrain-rmse:0.115376+0.00326763\ttest-rmse:0.123927+0.0152014\n",
      "[1180]\ttrain-rmse:0.115336+0.00326475\ttest-rmse:0.123948+0.0152032\n",
      "[1190]\ttrain-rmse:0.115296+0.00327448\ttest-rmse:0.123964+0.0150956\n",
      "[1200]\ttrain-rmse:0.115261+0.00328056\ttest-rmse:0.12394+0.0150377\n",
      "[1210]\ttrain-rmse:0.115223+0.00328394\ttest-rmse:0.123908+0.0149586\n",
      "[1220]\ttrain-rmse:0.115189+0.00328709\ttest-rmse:0.123887+0.0149732\n",
      "[1230]\ttrain-rmse:0.115159+0.00329194\ttest-rmse:0.123856+0.0149973\n",
      "[1240]\ttrain-rmse:0.115121+0.00329418\ttest-rmse:0.123823+0.0149886\n",
      "[1250]\ttrain-rmse:0.115097+0.00330042\ttest-rmse:0.123835+0.0149758\n",
      "[1260]\ttrain-rmse:0.115067+0.00330148\ttest-rmse:0.123842+0.0149455\n",
      "[1270]\ttrain-rmse:0.115042+0.00329751\ttest-rmse:0.123852+0.0149205\n",
      "[1280]\ttrain-rmse:0.115013+0.00330004\ttest-rmse:0.123856+0.014913\n",
      "[1290]\ttrain-rmse:0.11498+0.00330494\ttest-rmse:0.123832+0.0149146\n",
      "[1300]\ttrain-rmse:0.114946+0.00330965\ttest-rmse:0.123831+0.0149183\n",
      "[1310]\ttrain-rmse:0.114916+0.00331925\ttest-rmse:0.123827+0.0149307\n",
      "[1320]\ttrain-rmse:0.114886+0.00332754\ttest-rmse:0.123851+0.0149171\n",
      "[1330]\ttrain-rmse:0.11486+0.00332917\ttest-rmse:0.123851+0.014888\n",
      "[1340]\ttrain-rmse:0.114835+0.00333597\ttest-rmse:0.123815+0.0148745\n",
      "[1350]\ttrain-rmse:0.114804+0.00333557\ttest-rmse:0.123811+0.0148553\n",
      "[1360]\ttrain-rmse:0.114778+0.00333952\ttest-rmse:0.123811+0.0148327\n",
      "[1370]\ttrain-rmse:0.114758+0.00334367\ttest-rmse:0.123793+0.0148308\n",
      "[1380]\ttrain-rmse:0.11473+0.00334701\ttest-rmse:0.123809+0.0148271\n",
      "[1390]\ttrain-rmse:0.114708+0.00334811\ttest-rmse:0.123785+0.0148489\n",
      "[1400]\ttrain-rmse:0.114679+0.00335513\ttest-rmse:0.12382+0.0148504\n",
      "[1410]\ttrain-rmse:0.114654+0.00335693\ttest-rmse:0.123789+0.0148572\n",
      "[1420]\ttrain-rmse:0.11463+0.0033581\ttest-rmse:0.123806+0.0148442\n",
      "[1430]\ttrain-rmse:0.114607+0.00336052\ttest-rmse:0.123774+0.0148274\n",
      "[1440]\ttrain-rmse:0.114584+0.00336041\ttest-rmse:0.123746+0.0148405\n",
      "[1450]\ttrain-rmse:0.114562+0.00336101\ttest-rmse:0.123734+0.0148445\n",
      "[1460]\ttrain-rmse:0.114549+0.00336069\ttest-rmse:0.123756+0.0148298\n",
      "[1470]\ttrain-rmse:0.114536+0.00336463\ttest-rmse:0.123752+0.0148511\n",
      "[1480]\ttrain-rmse:0.11451+0.00336809\ttest-rmse:0.123724+0.0148601\n",
      "[1490]\ttrain-rmse:0.11449+0.003373\ttest-rmse:0.123724+0.014836\n"
     ]
    }
   ],
   "source": [
    "res = xgb.cv(xgb_params, dtrain, num_boost_round=1500, nfold=NFOLDS, seed=SEED, stratified=False,\n",
    "             early_stopping_rounds=100, verbose_eval=10, show_stdv=True)"
   ]
  },
  {
   "cell_type": "code",
   "execution_count": 31,
   "metadata": {
    "collapsed": true,
    "deletable": true,
    "editable": true
   },
   "outputs": [],
   "source": [
    "best_nrounds = res.shape[0] - 1\n",
    "cv_mean = res.iloc[-1, 0]\n",
    "cv_std = res.iloc[-1, 1]"
   ]
  },
  {
   "cell_type": "code",
   "execution_count": 32,
   "metadata": {
    "collapsed": false
   },
   "outputs": [
    {
     "data": {
      "text/plain": [
       "1499"
      ]
     },
     "execution_count": 32,
     "metadata": {},
     "output_type": "execute_result"
    }
   ],
   "source": [
    "best_nrounds"
   ]
  },
  {
   "cell_type": "code",
   "execution_count": 33,
   "metadata": {
    "collapsed": false,
    "deletable": true,
    "editable": true
   },
   "outputs": [
    {
     "name": "stdout",
     "output_type": "stream",
     "text": [
      "Ensemble-CV: 0.12371940000000001 (+/- 0.014839649707456033)\n"
     ]
    }
   ],
   "source": [
    "print('Ensemble-CV: {0} (+/- {1})'.format(cv_mean, cv_std))"
   ]
  },
  {
   "cell_type": "code",
   "execution_count": 34,
   "metadata": {
    "collapsed": true,
    "deletable": true,
    "editable": true
   },
   "outputs": [],
   "source": [
    "gbdt = xgb.train(xgb_params, dtrain, best_nrounds)"
   ]
  },
  {
   "cell_type": "code",
   "execution_count": 35,
   "metadata": {
    "collapsed": true,
    "deletable": true,
    "editable": true
   },
   "outputs": [],
   "source": [
    "def modelSubmit(model, dtest, name):\n",
    "    ln_pred = model.predict(dtest)\n",
    "    pred = np.expm1(ln_pred)\n",
    "    submission = pd.DataFrame({\"Id\": ids, \"SalePrice\": pred})\n",
    "    filename = os.path.join(name + \".csv\")\n",
    "    submission.to_csv('../output/' + filename, index=False)"
   ]
  },
  {
   "cell_type": "code",
   "execution_count": 36,
   "metadata": {
    "collapsed": false,
    "deletable": true,
    "editable": true
   },
   "outputs": [],
   "source": [
    "modelSubmit(gbdt, dtest, 'xgstacker_3')"
   ]
  },
  {
   "cell_type": "code",
   "execution_count": 37,
   "metadata": {
    "collapsed": true,
    "deletable": true,
    "editable": true
   },
   "outputs": [],
   "source": [
    "def scoreCalculate(model):\n",
    "    ln_pred = model.predict(dtest)\n",
    "    pred = np.expm1(ln_pred)\n",
    "    log_pred = np.log(pred)\n",
    "    log_labels = np.log(test_labels)\n",
    "    return sqrt(mean_squared_error(log_labels, log_pred))"
   ]
  },
  {
   "cell_type": "code",
   "execution_count": 38,
   "metadata": {
    "collapsed": false,
    "deletable": true,
    "editable": true
   },
   "outputs": [
    {
     "data": {
      "text/plain": [
       "0.10678209856551041"
      ]
     },
     "execution_count": 38,
     "metadata": {},
     "output_type": "execute_result"
    }
   ],
   "source": [
    "scoreCalculate(gbdt)"
   ]
  },
  {
   "cell_type": "markdown",
   "metadata": {
    "collapsed": true,
    "deletable": true,
    "editable": true
   },
   "source": [
    "# Check accuracy of other models"
   ]
  },
  {
   "cell_type": "code",
   "execution_count": null,
   "metadata": {
    "collapsed": true
   },
   "outputs": [],
   "source": []
  }
 ],
 "metadata": {
  "kernelspec": {
   "display_name": "Python 3",
   "language": "python",
   "name": "python3"
  },
  "language_info": {
   "codemirror_mode": {
    "name": "ipython",
    "version": 3
   },
   "file_extension": ".py",
   "mimetype": "text/x-python",
   "name": "python",
   "nbconvert_exporter": "python",
   "pygments_lexer": "ipython3",
   "version": "3.5.3"
  },
  "toc": {
   "colors": {
    "hover_highlight": "#DAA520",
    "running_highlight": "#FF0000",
    "selected_highlight": "#FFD700"
   },
   "moveMenuLeft": true,
   "nav_menu": {
    "height": "48px",
    "width": "252px"
   },
   "navigate_menu": true,
   "number_sections": true,
   "sideBar": true,
   "threshold": 4,
   "toc_cell": false,
   "toc_section_display": "block",
   "toc_window_display": false
  }
 },
 "nbformat": 4,
 "nbformat_minor": 2
}
