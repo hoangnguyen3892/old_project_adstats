{
 "cells": [
  {
   "cell_type": "markdown",
   "metadata": {
    "deletable": true,
    "editable": true
   },
   "source": [
    "This kernel adopts the idea of [Eliot Barril](https://www.kaggle.com/eliotbarr/house-prices-advanced-regression-techniques/stacking-starter/code). To understand this Ensemble Model, please review this [article](http://mlwave.com/kaggle-ensembling-guide/)."
   ]
  },
  {
   "cell_type": "code",
   "execution_count": 1,
   "metadata": {
    "collapsed": false,
    "deletable": true,
    "editable": true
   },
   "outputs": [
    {
     "name": "stderr",
     "output_type": "stream",
     "text": [
      "/Users/hoangnguyen/miniconda3/envs/pydata/lib/python3.5/site-packages/sklearn/cross_validation.py:44: DeprecationWarning: This module was deprecated in version 0.18 in favor of the model_selection module into which all the refactored classes and functions are moved. Also note that the interface of the new CV iterators are different from that of this module. This module will be removed in 0.20.\n",
      "  \"This module will be removed in 0.20.\", DeprecationWarning)\n"
     ]
    }
   ],
   "source": [
    "import pandas as pd\n",
    "import numpy as np\n",
    "import pickle\n",
    "import os\n",
    "\n",
    "from scipy.stats import skew\n",
    "\n",
    "\n",
    "from sklearn.cross_validation import KFold\n",
    "from sklearn.cross_validation import cross_val_score\n",
    "from sklearn.metrics import make_scorer, mean_squared_error\n",
    "from sklearn.model_selection import KFold, GridSearchCV\n",
    "\n",
    "from sklearn.linear_model import BayesianRidge, ElasticNet, HuberRegressor\n",
    "from sklearn import svm\n",
    "from sklearn.ensemble import RandomForestRegressor, AdaBoostRegressor, BaggingRegressor\n",
    "\n",
    "from sklearn.ensemble import ExtraTreesRegressor\n",
    "from sklearn.tree import DecisionTreeRegressor\n",
    "\n",
    "import xgboost as xgb\n",
    "from xgboost import XGBRegressor\n",
    "\n",
    "\n",
    "from math import sqrt\n",
    "\n",
    "%matplotlib inline\n",
    "import warnings\n",
    "warnings.filterwarnings('ignore')"
   ]
  },
  {
   "cell_type": "markdown",
   "metadata": {
    "deletable": true,
    "editable": true
   },
   "source": [
    "# Load data"
   ]
  },
  {
   "cell_type": "code",
   "execution_count": 2,
   "metadata": {
    "collapsed": false,
    "deletable": true,
    "editable": true
   },
   "outputs": [],
   "source": [
    "with open(\"input/preprocessed_data_3.pkl\", \"rb\") as f:\n",
    "    train_data = pickle.load(f)\n",
    "    test_data = pickle.load(f)\n",
    "    ids = pickle.load(f)\n",
    "    labels = pickle.load(f)"
   ]
  },
  {
   "cell_type": "code",
   "execution_count": 3,
   "metadata": {
    "collapsed": false,
    "deletable": true,
    "editable": true
   },
   "outputs": [
    {
     "data": {
      "text/plain": [
       "pandas.core.frame.DataFrame"
      ]
     },
     "execution_count": 3,
     "metadata": {},
     "output_type": "execute_result"
    }
   ],
   "source": [
    "type(train_data)"
   ]
  },
  {
   "cell_type": "code",
   "execution_count": 4,
   "metadata": {
    "collapsed": false,
    "deletable": true,
    "editable": true
   },
   "outputs": [
    {
     "data": {
      "text/plain": [
       "1458"
      ]
     },
     "execution_count": 4,
     "metadata": {},
     "output_type": "execute_result"
    }
   ],
   "source": [
    "len(labels)"
   ]
  },
  {
   "cell_type": "code",
   "execution_count": 5,
   "metadata": {
    "collapsed": true
   },
   "outputs": [],
   "source": [
    "ntrain = train_data.shape[0]\n",
    "ntest = test_data.shape[0]"
   ]
  },
  {
   "cell_type": "markdown",
   "metadata": {
    "deletable": true,
    "editable": true
   },
   "source": [
    "# Build model"
   ]
  },
  {
   "cell_type": "markdown",
   "metadata": {},
   "source": [
    "## First level model"
   ]
  },
  {
   "cell_type": "markdown",
   "metadata": {},
   "source": [
    "1. BayesianRidge\n",
    "2. ElasticNet\n",
    "3. HuberRegressor\n",
    "4. SVM RBF (SVR)\n",
    "5. SVM Linear (SVR(kernel=\"linear\"))\n",
    "6. RandomForestRegressor\n",
    "7. AdaBoostRegressor\n",
    "8. BaggingRegressor \n",
    "9. XGBRegressor"
   ]
  },
  {
   "cell_type": "markdown",
   "metadata": {},
   "source": [
    "Steps:\n",
    "1. Tuning hyperparameter for each model\n",
    "2. Stacking all model\n",
    "4. Run XGB on top"
   ]
  },
  {
   "cell_type": "markdown",
   "metadata": {},
   "source": [
    "### Tuning parameters"
   ]
  },
  {
   "cell_type": "code",
   "execution_count": 6,
   "metadata": {
    "collapsed": true
   },
   "outputs": [],
   "source": [
    "def hyperparaTuning(clf, train, labels, param_grid):\n",
    "    cv = KFold(n_splits=5, shuffle=True, random_state=45).split(train)\n",
    "    score = make_scorer(mean_squared_error)\n",
    "    grid_search = GridSearchCV(clf, param_grid, cv=cv, scoring=score)\n",
    "    grid_search.fit(train, labels)\n",
    "    return grid_search.grid_scores_, grid_search.best_params_, grid_search.best_score_, grid_search.best_estimator_"
   ]
  },
  {
   "cell_type": "markdown",
   "metadata": {},
   "source": [
    "#### BayesianRidge"
   ]
  },
  {
   "cell_type": "code",
   "execution_count": 7,
   "metadata": {
    "collapsed": true
   },
   "outputs": [],
   "source": [
    "br = BayesianRidge()"
   ]
  },
  {
   "cell_type": "code",
   "execution_count": 8,
   "metadata": {
    "collapsed": true
   },
   "outputs": [],
   "source": [
    "param_grid_br = {'alpha_1': [1e-04, 1e-2, 0, 0.1, 0.2], \n",
    "                 'alpha_2': [1e-04, 1e-2, 0, 0.1, 0.2],\n",
    "                 'lambda_1': [1e-04, 1e-2, 0, 0.1, 0.2], \n",
    "                 'lambda_2': [1e-04, 1e-2, 0, 0.1, 0.2]\n",
    "    \n",
    "}"
   ]
  },
  {
   "cell_type": "code",
   "execution_count": 10,
   "metadata": {
    "collapsed": false
   },
   "outputs": [
    {
     "data": {
      "text/plain": [
       "([mean: 0.01227, std: 0.00145, params: {'alpha_1': 0.0001, 'lambda_1': 0.0001, 'lambda_2': 0.0001, 'alpha_2': 0.0001},\n",
       "  mean: 0.01226, std: 0.00140, params: {'alpha_1': 0.0001, 'lambda_1': 0.0001, 'lambda_2': 0.01, 'alpha_2': 0.0001},\n",
       "  mean: 0.01227, std: 0.00145, params: {'alpha_1': 0.0001, 'lambda_1': 0.0001, 'lambda_2': 0, 'alpha_2': 0.0001},\n",
       "  mean: 0.01238, std: 0.00122, params: {'alpha_1': 0.0001, 'lambda_1': 0.0001, 'lambda_2': 0.1, 'alpha_2': 0.0001},\n",
       "  mean: 0.01254, std: 0.00113, params: {'alpha_1': 0.0001, 'lambda_1': 0.0001, 'lambda_2': 0.2, 'alpha_2': 0.0001},\n",
       "  mean: 0.01227, std: 0.00145, params: {'alpha_1': 0.0001, 'lambda_1': 0.01, 'lambda_2': 0.0001, 'alpha_2': 0.0001},\n",
       "  mean: 0.01226, std: 0.00140, params: {'alpha_1': 0.0001, 'lambda_1': 0.01, 'lambda_2': 0.01, 'alpha_2': 0.0001},\n",
       "  mean: 0.01227, std: 0.00145, params: {'alpha_1': 0.0001, 'lambda_1': 0.01, 'lambda_2': 0, 'alpha_2': 0.0001},\n",
       "  mean: 0.01238, std: 0.00122, params: {'alpha_1': 0.0001, 'lambda_1': 0.01, 'lambda_2': 0.1, 'alpha_2': 0.0001},\n",
       "  mean: 0.01254, std: 0.00113, params: {'alpha_1': 0.0001, 'lambda_1': 0.01, 'lambda_2': 0.2, 'alpha_2': 0.0001},\n",
       "  mean: 0.01227, std: 0.00145, params: {'alpha_1': 0.0001, 'lambda_1': 0, 'lambda_2': 0.0001, 'alpha_2': 0.0001},\n",
       "  mean: 0.01226, std: 0.00140, params: {'alpha_1': 0.0001, 'lambda_1': 0, 'lambda_2': 0.01, 'alpha_2': 0.0001},\n",
       "  mean: 0.01227, std: 0.00145, params: {'alpha_1': 0.0001, 'lambda_1': 0, 'lambda_2': 0, 'alpha_2': 0.0001},\n",
       "  mean: 0.01238, std: 0.00122, params: {'alpha_1': 0.0001, 'lambda_1': 0, 'lambda_2': 0.1, 'alpha_2': 0.0001},\n",
       "  mean: 0.01254, std: 0.00113, params: {'alpha_1': 0.0001, 'lambda_1': 0, 'lambda_2': 0.2, 'alpha_2': 0.0001},\n",
       "  mean: 0.01227, std: 0.00145, params: {'alpha_1': 0.0001, 'lambda_1': 0.1, 'lambda_2': 0.0001, 'alpha_2': 0.0001},\n",
       "  mean: 0.01226, std: 0.00140, params: {'alpha_1': 0.0001, 'lambda_1': 0.1, 'lambda_2': 0.01, 'alpha_2': 0.0001},\n",
       "  mean: 0.01227, std: 0.00145, params: {'alpha_1': 0.0001, 'lambda_1': 0.1, 'lambda_2': 0, 'alpha_2': 0.0001},\n",
       "  mean: 0.01238, std: 0.00122, params: {'alpha_1': 0.0001, 'lambda_1': 0.1, 'lambda_2': 0.1, 'alpha_2': 0.0001},\n",
       "  mean: 0.01254, std: 0.00113, params: {'alpha_1': 0.0001, 'lambda_1': 0.1, 'lambda_2': 0.2, 'alpha_2': 0.0001},\n",
       "  mean: 0.01227, std: 0.00145, params: {'alpha_1': 0.0001, 'lambda_1': 0.2, 'lambda_2': 0.0001, 'alpha_2': 0.0001},\n",
       "  mean: 0.01226, std: 0.00140, params: {'alpha_1': 0.0001, 'lambda_1': 0.2, 'lambda_2': 0.01, 'alpha_2': 0.0001},\n",
       "  mean: 0.01227, std: 0.00145, params: {'alpha_1': 0.0001, 'lambda_1': 0.2, 'lambda_2': 0, 'alpha_2': 0.0001},\n",
       "  mean: 0.01238, std: 0.00122, params: {'alpha_1': 0.0001, 'lambda_1': 0.2, 'lambda_2': 0.1, 'alpha_2': 0.0001},\n",
       "  mean: 0.01253, std: 0.00113, params: {'alpha_1': 0.0001, 'lambda_1': 0.2, 'lambda_2': 0.2, 'alpha_2': 0.0001},\n",
       "  mean: 0.01227, std: 0.00145, params: {'alpha_1': 0.0001, 'lambda_1': 0.0001, 'lambda_2': 0.0001, 'alpha_2': 0.01},\n",
       "  mean: 0.01226, std: 0.00140, params: {'alpha_1': 0.0001, 'lambda_1': 0.0001, 'lambda_2': 0.01, 'alpha_2': 0.01},\n",
       "  mean: 0.01227, std: 0.00145, params: {'alpha_1': 0.0001, 'lambda_1': 0.0001, 'lambda_2': 0, 'alpha_2': 0.01},\n",
       "  mean: 0.01238, std: 0.00122, params: {'alpha_1': 0.0001, 'lambda_1': 0.0001, 'lambda_2': 0.1, 'alpha_2': 0.01},\n",
       "  mean: 0.01253, std: 0.00113, params: {'alpha_1': 0.0001, 'lambda_1': 0.0001, 'lambda_2': 0.2, 'alpha_2': 0.01},\n",
       "  mean: 0.01227, std: 0.00145, params: {'alpha_1': 0.0001, 'lambda_1': 0.01, 'lambda_2': 0.0001, 'alpha_2': 0.01},\n",
       "  mean: 0.01226, std: 0.00140, params: {'alpha_1': 0.0001, 'lambda_1': 0.01, 'lambda_2': 0.01, 'alpha_2': 0.01},\n",
       "  mean: 0.01227, std: 0.00145, params: {'alpha_1': 0.0001, 'lambda_1': 0.01, 'lambda_2': 0, 'alpha_2': 0.01},\n",
       "  mean: 0.01238, std: 0.00122, params: {'alpha_1': 0.0001, 'lambda_1': 0.01, 'lambda_2': 0.1, 'alpha_2': 0.01},\n",
       "  mean: 0.01253, std: 0.00113, params: {'alpha_1': 0.0001, 'lambda_1': 0.01, 'lambda_2': 0.2, 'alpha_2': 0.01},\n",
       "  mean: 0.01227, std: 0.00145, params: {'alpha_1': 0.0001, 'lambda_1': 0, 'lambda_2': 0.0001, 'alpha_2': 0.01},\n",
       "  mean: 0.01226, std: 0.00140, params: {'alpha_1': 0.0001, 'lambda_1': 0, 'lambda_2': 0.01, 'alpha_2': 0.01},\n",
       "  mean: 0.01227, std: 0.00145, params: {'alpha_1': 0.0001, 'lambda_1': 0, 'lambda_2': 0, 'alpha_2': 0.01},\n",
       "  mean: 0.01238, std: 0.00122, params: {'alpha_1': 0.0001, 'lambda_1': 0, 'lambda_2': 0.1, 'alpha_2': 0.01},\n",
       "  mean: 0.01253, std: 0.00113, params: {'alpha_1': 0.0001, 'lambda_1': 0, 'lambda_2': 0.2, 'alpha_2': 0.01},\n",
       "  mean: 0.01227, std: 0.00145, params: {'alpha_1': 0.0001, 'lambda_1': 0.1, 'lambda_2': 0.0001, 'alpha_2': 0.01},\n",
       "  mean: 0.01226, std: 0.00140, params: {'alpha_1': 0.0001, 'lambda_1': 0.1, 'lambda_2': 0.01, 'alpha_2': 0.01},\n",
       "  mean: 0.01227, std: 0.00145, params: {'alpha_1': 0.0001, 'lambda_1': 0.1, 'lambda_2': 0, 'alpha_2': 0.01},\n",
       "  mean: 0.01238, std: 0.00122, params: {'alpha_1': 0.0001, 'lambda_1': 0.1, 'lambda_2': 0.1, 'alpha_2': 0.01},\n",
       "  mean: 0.01253, std: 0.00113, params: {'alpha_1': 0.0001, 'lambda_1': 0.1, 'lambda_2': 0.2, 'alpha_2': 0.01},\n",
       "  mean: 0.01227, std: 0.00145, params: {'alpha_1': 0.0001, 'lambda_1': 0.2, 'lambda_2': 0.0001, 'alpha_2': 0.01},\n",
       "  mean: 0.01226, std: 0.00140, params: {'alpha_1': 0.0001, 'lambda_1': 0.2, 'lambda_2': 0.01, 'alpha_2': 0.01},\n",
       "  mean: 0.01227, std: 0.00145, params: {'alpha_1': 0.0001, 'lambda_1': 0.2, 'lambda_2': 0, 'alpha_2': 0.01},\n",
       "  mean: 0.01238, std: 0.00122, params: {'alpha_1': 0.0001, 'lambda_1': 0.2, 'lambda_2': 0.1, 'alpha_2': 0.01},\n",
       "  mean: 0.01253, std: 0.00113, params: {'alpha_1': 0.0001, 'lambda_1': 0.2, 'lambda_2': 0.2, 'alpha_2': 0.01},\n",
       "  mean: 0.01227, std: 0.00145, params: {'alpha_1': 0.0001, 'lambda_1': 0.0001, 'lambda_2': 0.0001, 'alpha_2': 0},\n",
       "  mean: 0.01226, std: 0.00140, params: {'alpha_1': 0.0001, 'lambda_1': 0.0001, 'lambda_2': 0.01, 'alpha_2': 0},\n",
       "  mean: 0.01227, std: 0.00145, params: {'alpha_1': 0.0001, 'lambda_1': 0.0001, 'lambda_2': 0, 'alpha_2': 0},\n",
       "  mean: 0.01238, std: 0.00122, params: {'alpha_1': 0.0001, 'lambda_1': 0.0001, 'lambda_2': 0.1, 'alpha_2': 0},\n",
       "  mean: 0.01254, std: 0.00113, params: {'alpha_1': 0.0001, 'lambda_1': 0.0001, 'lambda_2': 0.2, 'alpha_2': 0},\n",
       "  mean: 0.01227, std: 0.00145, params: {'alpha_1': 0.0001, 'lambda_1': 0.01, 'lambda_2': 0.0001, 'alpha_2': 0},\n",
       "  mean: 0.01226, std: 0.00140, params: {'alpha_1': 0.0001, 'lambda_1': 0.01, 'lambda_2': 0.01, 'alpha_2': 0},\n",
       "  mean: 0.01227, std: 0.00145, params: {'alpha_1': 0.0001, 'lambda_1': 0.01, 'lambda_2': 0, 'alpha_2': 0},\n",
       "  mean: 0.01238, std: 0.00122, params: {'alpha_1': 0.0001, 'lambda_1': 0.01, 'lambda_2': 0.1, 'alpha_2': 0},\n",
       "  mean: 0.01254, std: 0.00113, params: {'alpha_1': 0.0001, 'lambda_1': 0.01, 'lambda_2': 0.2, 'alpha_2': 0},\n",
       "  mean: 0.01227, std: 0.00145, params: {'alpha_1': 0.0001, 'lambda_1': 0, 'lambda_2': 0.0001, 'alpha_2': 0},\n",
       "  mean: 0.01226, std: 0.00140, params: {'alpha_1': 0.0001, 'lambda_1': 0, 'lambda_2': 0.01, 'alpha_2': 0},\n",
       "  mean: 0.01227, std: 0.00145, params: {'alpha_1': 0.0001, 'lambda_1': 0, 'lambda_2': 0, 'alpha_2': 0},\n",
       "  mean: 0.01238, std: 0.00122, params: {'alpha_1': 0.0001, 'lambda_1': 0, 'lambda_2': 0.1, 'alpha_2': 0},\n",
       "  mean: 0.01254, std: 0.00113, params: {'alpha_1': 0.0001, 'lambda_1': 0, 'lambda_2': 0.2, 'alpha_2': 0},\n",
       "  mean: 0.01227, std: 0.00145, params: {'alpha_1': 0.0001, 'lambda_1': 0.1, 'lambda_2': 0.0001, 'alpha_2': 0},\n",
       "  mean: 0.01226, std: 0.00140, params: {'alpha_1': 0.0001, 'lambda_1': 0.1, 'lambda_2': 0.01, 'alpha_2': 0},\n",
       "  mean: 0.01227, std: 0.00145, params: {'alpha_1': 0.0001, 'lambda_1': 0.1, 'lambda_2': 0, 'alpha_2': 0},\n",
       "  mean: 0.01238, std: 0.00122, params: {'alpha_1': 0.0001, 'lambda_1': 0.1, 'lambda_2': 0.1, 'alpha_2': 0},\n",
       "  mean: 0.01254, std: 0.00113, params: {'alpha_1': 0.0001, 'lambda_1': 0.1, 'lambda_2': 0.2, 'alpha_2': 0},\n",
       "  mean: 0.01227, std: 0.00145, params: {'alpha_1': 0.0001, 'lambda_1': 0.2, 'lambda_2': 0.0001, 'alpha_2': 0},\n",
       "  mean: 0.01226, std: 0.00140, params: {'alpha_1': 0.0001, 'lambda_1': 0.2, 'lambda_2': 0.01, 'alpha_2': 0},\n",
       "  mean: 0.01227, std: 0.00145, params: {'alpha_1': 0.0001, 'lambda_1': 0.2, 'lambda_2': 0, 'alpha_2': 0},\n",
       "  mean: 0.01238, std: 0.00122, params: {'alpha_1': 0.0001, 'lambda_1': 0.2, 'lambda_2': 0.1, 'alpha_2': 0},\n",
       "  mean: 0.01253, std: 0.00113, params: {'alpha_1': 0.0001, 'lambda_1': 0.2, 'lambda_2': 0.2, 'alpha_2': 0},\n",
       "  mean: 0.01228, std: 0.00145, params: {'alpha_1': 0.0001, 'lambda_1': 0.0001, 'lambda_2': 0.0001, 'alpha_2': 0.1},\n",
       "  mean: 0.01226, std: 0.00141, params: {'alpha_1': 0.0001, 'lambda_1': 0.0001, 'lambda_2': 0.01, 'alpha_2': 0.1},\n",
       "  mean: 0.01228, std: 0.00145, params: {'alpha_1': 0.0001, 'lambda_1': 0.0001, 'lambda_2': 0, 'alpha_2': 0.1},\n",
       "  mean: 0.01238, std: 0.00123, params: {'alpha_1': 0.0001, 'lambda_1': 0.0001, 'lambda_2': 0.1, 'alpha_2': 0.1},\n",
       "  mean: 0.01252, std: 0.00113, params: {'alpha_1': 0.0001, 'lambda_1': 0.0001, 'lambda_2': 0.2, 'alpha_2': 0.1},\n",
       "  mean: 0.01228, std: 0.00145, params: {'alpha_1': 0.0001, 'lambda_1': 0.01, 'lambda_2': 0.0001, 'alpha_2': 0.1},\n",
       "  mean: 0.01226, std: 0.00141, params: {'alpha_1': 0.0001, 'lambda_1': 0.01, 'lambda_2': 0.01, 'alpha_2': 0.1},\n",
       "  mean: 0.01228, std: 0.00145, params: {'alpha_1': 0.0001, 'lambda_1': 0.01, 'lambda_2': 0, 'alpha_2': 0.1},\n",
       "  mean: 0.01238, std: 0.00123, params: {'alpha_1': 0.0001, 'lambda_1': 0.01, 'lambda_2': 0.1, 'alpha_2': 0.1},\n",
       "  mean: 0.01252, std: 0.00113, params: {'alpha_1': 0.0001, 'lambda_1': 0.01, 'lambda_2': 0.2, 'alpha_2': 0.1},\n",
       "  mean: 0.01228, std: 0.00145, params: {'alpha_1': 0.0001, 'lambda_1': 0, 'lambda_2': 0.0001, 'alpha_2': 0.1},\n",
       "  mean: 0.01226, std: 0.00141, params: {'alpha_1': 0.0001, 'lambda_1': 0, 'lambda_2': 0.01, 'alpha_2': 0.1},\n",
       "  mean: 0.01228, std: 0.00145, params: {'alpha_1': 0.0001, 'lambda_1': 0, 'lambda_2': 0, 'alpha_2': 0.1},\n",
       "  mean: 0.01238, std: 0.00123, params: {'alpha_1': 0.0001, 'lambda_1': 0, 'lambda_2': 0.1, 'alpha_2': 0.1},\n",
       "  mean: 0.01252, std: 0.00113, params: {'alpha_1': 0.0001, 'lambda_1': 0, 'lambda_2': 0.2, 'alpha_2': 0.1},\n",
       "  mean: 0.01228, std: 0.00145, params: {'alpha_1': 0.0001, 'lambda_1': 0.1, 'lambda_2': 0.0001, 'alpha_2': 0.1},\n",
       "  mean: 0.01226, std: 0.00141, params: {'alpha_1': 0.0001, 'lambda_1': 0.1, 'lambda_2': 0.01, 'alpha_2': 0.1},\n",
       "  mean: 0.01228, std: 0.00145, params: {'alpha_1': 0.0001, 'lambda_1': 0.1, 'lambda_2': 0, 'alpha_2': 0.1},\n",
       "  mean: 0.01238, std: 0.00123, params: {'alpha_1': 0.0001, 'lambda_1': 0.1, 'lambda_2': 0.1, 'alpha_2': 0.1},\n",
       "  mean: 0.01252, std: 0.00113, params: {'alpha_1': 0.0001, 'lambda_1': 0.1, 'lambda_2': 0.2, 'alpha_2': 0.1},\n",
       "  mean: 0.01228, std: 0.00145, params: {'alpha_1': 0.0001, 'lambda_1': 0.2, 'lambda_2': 0.0001, 'alpha_2': 0.1},\n",
       "  mean: 0.01226, std: 0.00141, params: {'alpha_1': 0.0001, 'lambda_1': 0.2, 'lambda_2': 0.01, 'alpha_2': 0.1},\n",
       "  mean: 0.01228, std: 0.00145, params: {'alpha_1': 0.0001, 'lambda_1': 0.2, 'lambda_2': 0, 'alpha_2': 0.1},\n",
       "  mean: 0.01238, std: 0.00123, params: {'alpha_1': 0.0001, 'lambda_1': 0.2, 'lambda_2': 0.1, 'alpha_2': 0.1},\n",
       "  mean: 0.01252, std: 0.00113, params: {'alpha_1': 0.0001, 'lambda_1': 0.2, 'lambda_2': 0.2, 'alpha_2': 0.1},\n",
       "  mean: 0.01228, std: 0.00146, params: {'alpha_1': 0.0001, 'lambda_1': 0.0001, 'lambda_2': 0.0001, 'alpha_2': 0.2},\n",
       "  mean: 0.01226, std: 0.00142, params: {'alpha_1': 0.0001, 'lambda_1': 0.0001, 'lambda_2': 0.01, 'alpha_2': 0.2},\n",
       "  mean: 0.01228, std: 0.00146, params: {'alpha_1': 0.0001, 'lambda_1': 0.0001, 'lambda_2': 0, 'alpha_2': 0.2},\n",
       "  mean: 0.01237, std: 0.00123, params: {'alpha_1': 0.0001, 'lambda_1': 0.0001, 'lambda_2': 0.1, 'alpha_2': 0.2},\n",
       "  mean: 0.01251, std: 0.00114, params: {'alpha_1': 0.0001, 'lambda_1': 0.0001, 'lambda_2': 0.2, 'alpha_2': 0.2},\n",
       "  mean: 0.01228, std: 0.00146, params: {'alpha_1': 0.0001, 'lambda_1': 0.01, 'lambda_2': 0.0001, 'alpha_2': 0.2},\n",
       "  mean: 0.01226, std: 0.00142, params: {'alpha_1': 0.0001, 'lambda_1': 0.01, 'lambda_2': 0.01, 'alpha_2': 0.2},\n",
       "  mean: 0.01228, std: 0.00146, params: {'alpha_1': 0.0001, 'lambda_1': 0.01, 'lambda_2': 0, 'alpha_2': 0.2},\n",
       "  mean: 0.01237, std: 0.00123, params: {'alpha_1': 0.0001, 'lambda_1': 0.01, 'lambda_2': 0.1, 'alpha_2': 0.2},\n",
       "  mean: 0.01251, std: 0.00114, params: {'alpha_1': 0.0001, 'lambda_1': 0.01, 'lambda_2': 0.2, 'alpha_2': 0.2},\n",
       "  mean: 0.01228, std: 0.00146, params: {'alpha_1': 0.0001, 'lambda_1': 0, 'lambda_2': 0.0001, 'alpha_2': 0.2},\n",
       "  mean: 0.01226, std: 0.00142, params: {'alpha_1': 0.0001, 'lambda_1': 0, 'lambda_2': 0.01, 'alpha_2': 0.2},\n",
       "  mean: 0.01228, std: 0.00146, params: {'alpha_1': 0.0001, 'lambda_1': 0, 'lambda_2': 0, 'alpha_2': 0.2},\n",
       "  mean: 0.01237, std: 0.00123, params: {'alpha_1': 0.0001, 'lambda_1': 0, 'lambda_2': 0.1, 'alpha_2': 0.2},\n",
       "  mean: 0.01251, std: 0.00114, params: {'alpha_1': 0.0001, 'lambda_1': 0, 'lambda_2': 0.2, 'alpha_2': 0.2},\n",
       "  mean: 0.01228, std: 0.00146, params: {'alpha_1': 0.0001, 'lambda_1': 0.1, 'lambda_2': 0.0001, 'alpha_2': 0.2},\n",
       "  mean: 0.01226, std: 0.00142, params: {'alpha_1': 0.0001, 'lambda_1': 0.1, 'lambda_2': 0.01, 'alpha_2': 0.2},\n",
       "  mean: 0.01228, std: 0.00146, params: {'alpha_1': 0.0001, 'lambda_1': 0.1, 'lambda_2': 0, 'alpha_2': 0.2},\n",
       "  mean: 0.01237, std: 0.00123, params: {'alpha_1': 0.0001, 'lambda_1': 0.1, 'lambda_2': 0.1, 'alpha_2': 0.2},\n",
       "  mean: 0.01251, std: 0.00114, params: {'alpha_1': 0.0001, 'lambda_1': 0.1, 'lambda_2': 0.2, 'alpha_2': 0.2},\n",
       "  mean: 0.01228, std: 0.00146, params: {'alpha_1': 0.0001, 'lambda_1': 0.2, 'lambda_2': 0.0001, 'alpha_2': 0.2},\n",
       "  mean: 0.01226, std: 0.00142, params: {'alpha_1': 0.0001, 'lambda_1': 0.2, 'lambda_2': 0.01, 'alpha_2': 0.2},\n",
       "  mean: 0.01228, std: 0.00146, params: {'alpha_1': 0.0001, 'lambda_1': 0.2, 'lambda_2': 0, 'alpha_2': 0.2},\n",
       "  mean: 0.01237, std: 0.00123, params: {'alpha_1': 0.0001, 'lambda_1': 0.2, 'lambda_2': 0.1, 'alpha_2': 0.2},\n",
       "  mean: 0.01251, std: 0.00114, params: {'alpha_1': 0.0001, 'lambda_1': 0.2, 'lambda_2': 0.2, 'alpha_2': 0.2},\n",
       "  mean: 0.01227, std: 0.00145, params: {'alpha_1': 0.01, 'lambda_1': 0.0001, 'lambda_2': 0.0001, 'alpha_2': 0.0001},\n",
       "  mean: 0.01226, std: 0.00140, params: {'alpha_1': 0.01, 'lambda_1': 0.0001, 'lambda_2': 0.01, 'alpha_2': 0.0001},\n",
       "  mean: 0.01227, std: 0.00145, params: {'alpha_1': 0.01, 'lambda_1': 0.0001, 'lambda_2': 0, 'alpha_2': 0.0001},\n",
       "  mean: 0.01238, std: 0.00122, params: {'alpha_1': 0.01, 'lambda_1': 0.0001, 'lambda_2': 0.1, 'alpha_2': 0.0001},\n",
       "  mean: 0.01254, std: 0.00113, params: {'alpha_1': 0.01, 'lambda_1': 0.0001, 'lambda_2': 0.2, 'alpha_2': 0.0001},\n",
       "  mean: 0.01227, std: 0.00145, params: {'alpha_1': 0.01, 'lambda_1': 0.01, 'lambda_2': 0.0001, 'alpha_2': 0.0001},\n",
       "  mean: 0.01226, std: 0.00140, params: {'alpha_1': 0.01, 'lambda_1': 0.01, 'lambda_2': 0.01, 'alpha_2': 0.0001},\n",
       "  mean: 0.01227, std: 0.00145, params: {'alpha_1': 0.01, 'lambda_1': 0.01, 'lambda_2': 0, 'alpha_2': 0.0001},\n",
       "  mean: 0.01238, std: 0.00122, params: {'alpha_1': 0.01, 'lambda_1': 0.01, 'lambda_2': 0.1, 'alpha_2': 0.0001},\n",
       "  mean: 0.01254, std: 0.00113, params: {'alpha_1': 0.01, 'lambda_1': 0.01, 'lambda_2': 0.2, 'alpha_2': 0.0001},\n",
       "  mean: 0.01227, std: 0.00145, params: {'alpha_1': 0.01, 'lambda_1': 0, 'lambda_2': 0.0001, 'alpha_2': 0.0001},\n",
       "  mean: 0.01226, std: 0.00140, params: {'alpha_1': 0.01, 'lambda_1': 0, 'lambda_2': 0.01, 'alpha_2': 0.0001},\n",
       "  mean: 0.01227, std: 0.00145, params: {'alpha_1': 0.01, 'lambda_1': 0, 'lambda_2': 0, 'alpha_2': 0.0001},\n",
       "  mean: 0.01238, std: 0.00122, params: {'alpha_1': 0.01, 'lambda_1': 0, 'lambda_2': 0.1, 'alpha_2': 0.0001},\n",
       "  mean: 0.01254, std: 0.00113, params: {'alpha_1': 0.01, 'lambda_1': 0, 'lambda_2': 0.2, 'alpha_2': 0.0001},\n",
       "  mean: 0.01227, std: 0.00145, params: {'alpha_1': 0.01, 'lambda_1': 0.1, 'lambda_2': 0.0001, 'alpha_2': 0.0001},\n",
       "  mean: 0.01226, std: 0.00140, params: {'alpha_1': 0.01, 'lambda_1': 0.1, 'lambda_2': 0.01, 'alpha_2': 0.0001},\n",
       "  mean: 0.01227, std: 0.00145, params: {'alpha_1': 0.01, 'lambda_1': 0.1, 'lambda_2': 0, 'alpha_2': 0.0001},\n",
       "  mean: 0.01238, std: 0.00122, params: {'alpha_1': 0.01, 'lambda_1': 0.1, 'lambda_2': 0.1, 'alpha_2': 0.0001},\n",
       "  mean: 0.01254, std: 0.00113, params: {'alpha_1': 0.01, 'lambda_1': 0.1, 'lambda_2': 0.2, 'alpha_2': 0.0001},\n",
       "  mean: 0.01227, std: 0.00145, params: {'alpha_1': 0.01, 'lambda_1': 0.2, 'lambda_2': 0.0001, 'alpha_2': 0.0001},\n",
       "  mean: 0.01226, std: 0.00140, params: {'alpha_1': 0.01, 'lambda_1': 0.2, 'lambda_2': 0.01, 'alpha_2': 0.0001},\n",
       "  mean: 0.01227, std: 0.00145, params: {'alpha_1': 0.01, 'lambda_1': 0.2, 'lambda_2': 0, 'alpha_2': 0.0001},\n",
       "  mean: 0.01238, std: 0.00122, params: {'alpha_1': 0.01, 'lambda_1': 0.2, 'lambda_2': 0.1, 'alpha_2': 0.0001},\n",
       "  mean: 0.01253, std: 0.00113, params: {'alpha_1': 0.01, 'lambda_1': 0.2, 'lambda_2': 0.2, 'alpha_2': 0.0001},\n",
       "  mean: 0.01227, std: 0.00145, params: {'alpha_1': 0.01, 'lambda_1': 0.0001, 'lambda_2': 0.0001, 'alpha_2': 0.01},\n",
       "  mean: 0.01226, std: 0.00140, params: {'alpha_1': 0.01, 'lambda_1': 0.0001, 'lambda_2': 0.01, 'alpha_2': 0.01},\n",
       "  mean: 0.01227, std: 0.00145, params: {'alpha_1': 0.01, 'lambda_1': 0.0001, 'lambda_2': 0, 'alpha_2': 0.01},\n",
       "  mean: 0.01238, std: 0.00122, params: {'alpha_1': 0.01, 'lambda_1': 0.0001, 'lambda_2': 0.1, 'alpha_2': 0.01},\n",
       "  mean: 0.01253, std: 0.00113, params: {'alpha_1': 0.01, 'lambda_1': 0.0001, 'lambda_2': 0.2, 'alpha_2': 0.01},\n",
       "  mean: 0.01227, std: 0.00145, params: {'alpha_1': 0.01, 'lambda_1': 0.01, 'lambda_2': 0.0001, 'alpha_2': 0.01},\n",
       "  mean: 0.01226, std: 0.00140, params: {'alpha_1': 0.01, 'lambda_1': 0.01, 'lambda_2': 0.01, 'alpha_2': 0.01},\n",
       "  mean: 0.01227, std: 0.00145, params: {'alpha_1': 0.01, 'lambda_1': 0.01, 'lambda_2': 0, 'alpha_2': 0.01},\n",
       "  mean: 0.01238, std: 0.00122, params: {'alpha_1': 0.01, 'lambda_1': 0.01, 'lambda_2': 0.1, 'alpha_2': 0.01},\n",
       "  mean: 0.01253, std: 0.00113, params: {'alpha_1': 0.01, 'lambda_1': 0.01, 'lambda_2': 0.2, 'alpha_2': 0.01},\n",
       "  mean: 0.01227, std: 0.00145, params: {'alpha_1': 0.01, 'lambda_1': 0, 'lambda_2': 0.0001, 'alpha_2': 0.01},\n",
       "  mean: 0.01226, std: 0.00140, params: {'alpha_1': 0.01, 'lambda_1': 0, 'lambda_2': 0.01, 'alpha_2': 0.01},\n",
       "  mean: 0.01227, std: 0.00145, params: {'alpha_1': 0.01, 'lambda_1': 0, 'lambda_2': 0, 'alpha_2': 0.01},\n",
       "  mean: 0.01238, std: 0.00122, params: {'alpha_1': 0.01, 'lambda_1': 0, 'lambda_2': 0.1, 'alpha_2': 0.01},\n",
       "  mean: 0.01253, std: 0.00113, params: {'alpha_1': 0.01, 'lambda_1': 0, 'lambda_2': 0.2, 'alpha_2': 0.01},\n",
       "  mean: 0.01227, std: 0.00145, params: {'alpha_1': 0.01, 'lambda_1': 0.1, 'lambda_2': 0.0001, 'alpha_2': 0.01},\n",
       "  mean: 0.01226, std: 0.00140, params: {'alpha_1': 0.01, 'lambda_1': 0.1, 'lambda_2': 0.01, 'alpha_2': 0.01},\n",
       "  mean: 0.01227, std: 0.00145, params: {'alpha_1': 0.01, 'lambda_1': 0.1, 'lambda_2': 0, 'alpha_2': 0.01},\n",
       "  mean: 0.01238, std: 0.00122, params: {'alpha_1': 0.01, 'lambda_1': 0.1, 'lambda_2': 0.1, 'alpha_2': 0.01},\n",
       "  mean: 0.01253, std: 0.00113, params: {'alpha_1': 0.01, 'lambda_1': 0.1, 'lambda_2': 0.2, 'alpha_2': 0.01},\n",
       "  mean: 0.01227, std: 0.00145, params: {'alpha_1': 0.01, 'lambda_1': 0.2, 'lambda_2': 0.0001, 'alpha_2': 0.01},\n",
       "  mean: 0.01226, std: 0.00140, params: {'alpha_1': 0.01, 'lambda_1': 0.2, 'lambda_2': 0.01, 'alpha_2': 0.01},\n",
       "  mean: 0.01227, std: 0.00145, params: {'alpha_1': 0.01, 'lambda_1': 0.2, 'lambda_2': 0, 'alpha_2': 0.01},\n",
       "  mean: 0.01238, std: 0.00122, params: {'alpha_1': 0.01, 'lambda_1': 0.2, 'lambda_2': 0.1, 'alpha_2': 0.01},\n",
       "  mean: 0.01253, std: 0.00113, params: {'alpha_1': 0.01, 'lambda_1': 0.2, 'lambda_2': 0.2, 'alpha_2': 0.01},\n",
       "  mean: 0.01227, std: 0.00145, params: {'alpha_1': 0.01, 'lambda_1': 0.0001, 'lambda_2': 0.0001, 'alpha_2': 0},\n",
       "  mean: 0.01226, std: 0.00140, params: {'alpha_1': 0.01, 'lambda_1': 0.0001, 'lambda_2': 0.01, 'alpha_2': 0},\n",
       "  mean: 0.01227, std: 0.00145, params: {'alpha_1': 0.01, 'lambda_1': 0.0001, 'lambda_2': 0, 'alpha_2': 0},\n",
       "  mean: 0.01238, std: 0.00122, params: {'alpha_1': 0.01, 'lambda_1': 0.0001, 'lambda_2': 0.1, 'alpha_2': 0},\n",
       "  mean: 0.01254, std: 0.00113, params: {'alpha_1': 0.01, 'lambda_1': 0.0001, 'lambda_2': 0.2, 'alpha_2': 0},\n",
       "  mean: 0.01227, std: 0.00145, params: {'alpha_1': 0.01, 'lambda_1': 0.01, 'lambda_2': 0.0001, 'alpha_2': 0},\n",
       "  mean: 0.01226, std: 0.00140, params: {'alpha_1': 0.01, 'lambda_1': 0.01, 'lambda_2': 0.01, 'alpha_2': 0},\n",
       "  mean: 0.01227, std: 0.00145, params: {'alpha_1': 0.01, 'lambda_1': 0.01, 'lambda_2': 0, 'alpha_2': 0},\n",
       "  mean: 0.01238, std: 0.00122, params: {'alpha_1': 0.01, 'lambda_1': 0.01, 'lambda_2': 0.1, 'alpha_2': 0},\n",
       "  mean: 0.01254, std: 0.00113, params: {'alpha_1': 0.01, 'lambda_1': 0.01, 'lambda_2': 0.2, 'alpha_2': 0},\n",
       "  mean: 0.01227, std: 0.00145, params: {'alpha_1': 0.01, 'lambda_1': 0, 'lambda_2': 0.0001, 'alpha_2': 0},\n",
       "  mean: 0.01226, std: 0.00140, params: {'alpha_1': 0.01, 'lambda_1': 0, 'lambda_2': 0.01, 'alpha_2': 0},\n",
       "  mean: 0.01227, std: 0.00145, params: {'alpha_1': 0.01, 'lambda_1': 0, 'lambda_2': 0, 'alpha_2': 0},\n",
       "  mean: 0.01238, std: 0.00122, params: {'alpha_1': 0.01, 'lambda_1': 0, 'lambda_2': 0.1, 'alpha_2': 0},\n",
       "  mean: 0.01254, std: 0.00113, params: {'alpha_1': 0.01, 'lambda_1': 0, 'lambda_2': 0.2, 'alpha_2': 0},\n",
       "  mean: 0.01227, std: 0.00145, params: {'alpha_1': 0.01, 'lambda_1': 0.1, 'lambda_2': 0.0001, 'alpha_2': 0},\n",
       "  mean: 0.01226, std: 0.00140, params: {'alpha_1': 0.01, 'lambda_1': 0.1, 'lambda_2': 0.01, 'alpha_2': 0},\n",
       "  mean: 0.01227, std: 0.00145, params: {'alpha_1': 0.01, 'lambda_1': 0.1, 'lambda_2': 0, 'alpha_2': 0},\n",
       "  mean: 0.01238, std: 0.00122, params: {'alpha_1': 0.01, 'lambda_1': 0.1, 'lambda_2': 0.1, 'alpha_2': 0},\n",
       "  mean: 0.01254, std: 0.00113, params: {'alpha_1': 0.01, 'lambda_1': 0.1, 'lambda_2': 0.2, 'alpha_2': 0},\n",
       "  mean: 0.01227, std: 0.00145, params: {'alpha_1': 0.01, 'lambda_1': 0.2, 'lambda_2': 0.0001, 'alpha_2': 0},\n",
       "  mean: 0.01226, std: 0.00140, params: {'alpha_1': 0.01, 'lambda_1': 0.2, 'lambda_2': 0.01, 'alpha_2': 0},\n",
       "  mean: 0.01227, std: 0.00145, params: {'alpha_1': 0.01, 'lambda_1': 0.2, 'lambda_2': 0, 'alpha_2': 0},\n",
       "  mean: 0.01238, std: 0.00122, params: {'alpha_1': 0.01, 'lambda_1': 0.2, 'lambda_2': 0.1, 'alpha_2': 0},\n",
       "  mean: 0.01253, std: 0.00113, params: {'alpha_1': 0.01, 'lambda_1': 0.2, 'lambda_2': 0.2, 'alpha_2': 0},\n",
       "  mean: 0.01228, std: 0.00145, params: {'alpha_1': 0.01, 'lambda_1': 0.0001, 'lambda_2': 0.0001, 'alpha_2': 0.1},\n",
       "  mean: 0.01226, std: 0.00141, params: {'alpha_1': 0.01, 'lambda_1': 0.0001, 'lambda_2': 0.01, 'alpha_2': 0.1},\n",
       "  mean: 0.01228, std: 0.00145, params: {'alpha_1': 0.01, 'lambda_1': 0.0001, 'lambda_2': 0, 'alpha_2': 0.1},\n",
       "  mean: 0.01238, std: 0.00123, params: {'alpha_1': 0.01, 'lambda_1': 0.0001, 'lambda_2': 0.1, 'alpha_2': 0.1},\n",
       "  mean: 0.01252, std: 0.00113, params: {'alpha_1': 0.01, 'lambda_1': 0.0001, 'lambda_2': 0.2, 'alpha_2': 0.1},\n",
       "  mean: 0.01228, std: 0.00145, params: {'alpha_1': 0.01, 'lambda_1': 0.01, 'lambda_2': 0.0001, 'alpha_2': 0.1},\n",
       "  mean: 0.01226, std: 0.00141, params: {'alpha_1': 0.01, 'lambda_1': 0.01, 'lambda_2': 0.01, 'alpha_2': 0.1},\n",
       "  mean: 0.01228, std: 0.00145, params: {'alpha_1': 0.01, 'lambda_1': 0.01, 'lambda_2': 0, 'alpha_2': 0.1},\n",
       "  mean: 0.01238, std: 0.00123, params: {'alpha_1': 0.01, 'lambda_1': 0.01, 'lambda_2': 0.1, 'alpha_2': 0.1},\n",
       "  mean: 0.01252, std: 0.00113, params: {'alpha_1': 0.01, 'lambda_1': 0.01, 'lambda_2': 0.2, 'alpha_2': 0.1},\n",
       "  mean: 0.01228, std: 0.00145, params: {'alpha_1': 0.01, 'lambda_1': 0, 'lambda_2': 0.0001, 'alpha_2': 0.1},\n",
       "  mean: 0.01226, std: 0.00141, params: {'alpha_1': 0.01, 'lambda_1': 0, 'lambda_2': 0.01, 'alpha_2': 0.1},\n",
       "  mean: 0.01228, std: 0.00145, params: {'alpha_1': 0.01, 'lambda_1': 0, 'lambda_2': 0, 'alpha_2': 0.1},\n",
       "  mean: 0.01238, std: 0.00123, params: {'alpha_1': 0.01, 'lambda_1': 0, 'lambda_2': 0.1, 'alpha_2': 0.1},\n",
       "  mean: 0.01252, std: 0.00113, params: {'alpha_1': 0.01, 'lambda_1': 0, 'lambda_2': 0.2, 'alpha_2': 0.1},\n",
       "  mean: 0.01228, std: 0.00145, params: {'alpha_1': 0.01, 'lambda_1': 0.1, 'lambda_2': 0.0001, 'alpha_2': 0.1},\n",
       "  mean: 0.01226, std: 0.00141, params: {'alpha_1': 0.01, 'lambda_1': 0.1, 'lambda_2': 0.01, 'alpha_2': 0.1},\n",
       "  mean: 0.01228, std: 0.00145, params: {'alpha_1': 0.01, 'lambda_1': 0.1, 'lambda_2': 0, 'alpha_2': 0.1},\n",
       "  mean: 0.01238, std: 0.00123, params: {'alpha_1': 0.01, 'lambda_1': 0.1, 'lambda_2': 0.1, 'alpha_2': 0.1},\n",
       "  mean: 0.01252, std: 0.00113, params: {'alpha_1': 0.01, 'lambda_1': 0.1, 'lambda_2': 0.2, 'alpha_2': 0.1},\n",
       "  mean: 0.01228, std: 0.00145, params: {'alpha_1': 0.01, 'lambda_1': 0.2, 'lambda_2': 0.0001, 'alpha_2': 0.1},\n",
       "  mean: 0.01226, std: 0.00141, params: {'alpha_1': 0.01, 'lambda_1': 0.2, 'lambda_2': 0.01, 'alpha_2': 0.1},\n",
       "  mean: 0.01228, std: 0.00145, params: {'alpha_1': 0.01, 'lambda_1': 0.2, 'lambda_2': 0, 'alpha_2': 0.1},\n",
       "  mean: 0.01238, std: 0.00123, params: {'alpha_1': 0.01, 'lambda_1': 0.2, 'lambda_2': 0.1, 'alpha_2': 0.1},\n",
       "  mean: 0.01252, std: 0.00113, params: {'alpha_1': 0.01, 'lambda_1': 0.2, 'lambda_2': 0.2, 'alpha_2': 0.1},\n",
       "  mean: 0.01228, std: 0.00146, params: {'alpha_1': 0.01, 'lambda_1': 0.0001, 'lambda_2': 0.0001, 'alpha_2': 0.2},\n",
       "  mean: 0.01226, std: 0.00142, params: {'alpha_1': 0.01, 'lambda_1': 0.0001, 'lambda_2': 0.01, 'alpha_2': 0.2},\n",
       "  mean: 0.01228, std: 0.00146, params: {'alpha_1': 0.01, 'lambda_1': 0.0001, 'lambda_2': 0, 'alpha_2': 0.2},\n",
       "  mean: 0.01237, std: 0.00123, params: {'alpha_1': 0.01, 'lambda_1': 0.0001, 'lambda_2': 0.1, 'alpha_2': 0.2},\n",
       "  mean: 0.01251, std: 0.00114, params: {'alpha_1': 0.01, 'lambda_1': 0.0001, 'lambda_2': 0.2, 'alpha_2': 0.2},\n",
       "  mean: 0.01228, std: 0.00146, params: {'alpha_1': 0.01, 'lambda_1': 0.01, 'lambda_2': 0.0001, 'alpha_2': 0.2},\n",
       "  mean: 0.01226, std: 0.00142, params: {'alpha_1': 0.01, 'lambda_1': 0.01, 'lambda_2': 0.01, 'alpha_2': 0.2},\n",
       "  mean: 0.01228, std: 0.00146, params: {'alpha_1': 0.01, 'lambda_1': 0.01, 'lambda_2': 0, 'alpha_2': 0.2},\n",
       "  mean: 0.01237, std: 0.00123, params: {'alpha_1': 0.01, 'lambda_1': 0.01, 'lambda_2': 0.1, 'alpha_2': 0.2},\n",
       "  mean: 0.01251, std: 0.00114, params: {'alpha_1': 0.01, 'lambda_1': 0.01, 'lambda_2': 0.2, 'alpha_2': 0.2},\n",
       "  mean: 0.01228, std: 0.00146, params: {'alpha_1': 0.01, 'lambda_1': 0, 'lambda_2': 0.0001, 'alpha_2': 0.2},\n",
       "  mean: 0.01226, std: 0.00142, params: {'alpha_1': 0.01, 'lambda_1': 0, 'lambda_2': 0.01, 'alpha_2': 0.2},\n",
       "  mean: 0.01228, std: 0.00146, params: {'alpha_1': 0.01, 'lambda_1': 0, 'lambda_2': 0, 'alpha_2': 0.2},\n",
       "  mean: 0.01237, std: 0.00123, params: {'alpha_1': 0.01, 'lambda_1': 0, 'lambda_2': 0.1, 'alpha_2': 0.2},\n",
       "  mean: 0.01251, std: 0.00114, params: {'alpha_1': 0.01, 'lambda_1': 0, 'lambda_2': 0.2, 'alpha_2': 0.2},\n",
       "  mean: 0.01228, std: 0.00146, params: {'alpha_1': 0.01, 'lambda_1': 0.1, 'lambda_2': 0.0001, 'alpha_2': 0.2},\n",
       "  mean: 0.01226, std: 0.00142, params: {'alpha_1': 0.01, 'lambda_1': 0.1, 'lambda_2': 0.01, 'alpha_2': 0.2},\n",
       "  mean: 0.01228, std: 0.00146, params: {'alpha_1': 0.01, 'lambda_1': 0.1, 'lambda_2': 0, 'alpha_2': 0.2},\n",
       "  mean: 0.01237, std: 0.00123, params: {'alpha_1': 0.01, 'lambda_1': 0.1, 'lambda_2': 0.1, 'alpha_2': 0.2},\n",
       "  mean: 0.01251, std: 0.00114, params: {'alpha_1': 0.01, 'lambda_1': 0.1, 'lambda_2': 0.2, 'alpha_2': 0.2},\n",
       "  mean: 0.01228, std: 0.00146, params: {'alpha_1': 0.01, 'lambda_1': 0.2, 'lambda_2': 0.0001, 'alpha_2': 0.2},\n",
       "  mean: 0.01226, std: 0.00142, params: {'alpha_1': 0.01, 'lambda_1': 0.2, 'lambda_2': 0.01, 'alpha_2': 0.2},\n",
       "  mean: 0.01228, std: 0.00146, params: {'alpha_1': 0.01, 'lambda_1': 0.2, 'lambda_2': 0, 'alpha_2': 0.2},\n",
       "  mean: 0.01237, std: 0.00123, params: {'alpha_1': 0.01, 'lambda_1': 0.2, 'lambda_2': 0.1, 'alpha_2': 0.2},\n",
       "  mean: 0.01251, std: 0.00114, params: {'alpha_1': 0.01, 'lambda_1': 0.2, 'lambda_2': 0.2, 'alpha_2': 0.2},\n",
       "  mean: 0.01227, std: 0.00145, params: {'alpha_1': 0, 'lambda_1': 0.0001, 'lambda_2': 0.0001, 'alpha_2': 0.0001},\n",
       "  mean: 0.01226, std: 0.00140, params: {'alpha_1': 0, 'lambda_1': 0.0001, 'lambda_2': 0.01, 'alpha_2': 0.0001},\n",
       "  mean: 0.01227, std: 0.00145, params: {'alpha_1': 0, 'lambda_1': 0.0001, 'lambda_2': 0, 'alpha_2': 0.0001},\n",
       "  mean: 0.01238, std: 0.00122, params: {'alpha_1': 0, 'lambda_1': 0.0001, 'lambda_2': 0.1, 'alpha_2': 0.0001},\n",
       "  mean: 0.01254, std: 0.00113, params: {'alpha_1': 0, 'lambda_1': 0.0001, 'lambda_2': 0.2, 'alpha_2': 0.0001},\n",
       "  mean: 0.01227, std: 0.00145, params: {'alpha_1': 0, 'lambda_1': 0.01, 'lambda_2': 0.0001, 'alpha_2': 0.0001},\n",
       "  mean: 0.01226, std: 0.00140, params: {'alpha_1': 0, 'lambda_1': 0.01, 'lambda_2': 0.01, 'alpha_2': 0.0001},\n",
       "  mean: 0.01227, std: 0.00145, params: {'alpha_1': 0, 'lambda_1': 0.01, 'lambda_2': 0, 'alpha_2': 0.0001},\n",
       "  mean: 0.01238, std: 0.00122, params: {'alpha_1': 0, 'lambda_1': 0.01, 'lambda_2': 0.1, 'alpha_2': 0.0001},\n",
       "  mean: 0.01254, std: 0.00113, params: {'alpha_1': 0, 'lambda_1': 0.01, 'lambda_2': 0.2, 'alpha_2': 0.0001},\n",
       "  mean: 0.01227, std: 0.00145, params: {'alpha_1': 0, 'lambda_1': 0, 'lambda_2': 0.0001, 'alpha_2': 0.0001},\n",
       "  mean: 0.01226, std: 0.00140, params: {'alpha_1': 0, 'lambda_1': 0, 'lambda_2': 0.01, 'alpha_2': 0.0001},\n",
       "  mean: 0.01227, std: 0.00145, params: {'alpha_1': 0, 'lambda_1': 0, 'lambda_2': 0, 'alpha_2': 0.0001},\n",
       "  mean: 0.01238, std: 0.00122, params: {'alpha_1': 0, 'lambda_1': 0, 'lambda_2': 0.1, 'alpha_2': 0.0001},\n",
       "  mean: 0.01254, std: 0.00113, params: {'alpha_1': 0, 'lambda_1': 0, 'lambda_2': 0.2, 'alpha_2': 0.0001},\n",
       "  mean: 0.01227, std: 0.00145, params: {'alpha_1': 0, 'lambda_1': 0.1, 'lambda_2': 0.0001, 'alpha_2': 0.0001},\n",
       "  mean: 0.01226, std: 0.00140, params: {'alpha_1': 0, 'lambda_1': 0.1, 'lambda_2': 0.01, 'alpha_2': 0.0001},\n",
       "  mean: 0.01227, std: 0.00145, params: {'alpha_1': 0, 'lambda_1': 0.1, 'lambda_2': 0, 'alpha_2': 0.0001},\n",
       "  mean: 0.01238, std: 0.00122, params: {'alpha_1': 0, 'lambda_1': 0.1, 'lambda_2': 0.1, 'alpha_2': 0.0001},\n",
       "  mean: 0.01254, std: 0.00113, params: {'alpha_1': 0, 'lambda_1': 0.1, 'lambda_2': 0.2, 'alpha_2': 0.0001},\n",
       "  mean: 0.01227, std: 0.00145, params: {'alpha_1': 0, 'lambda_1': 0.2, 'lambda_2': 0.0001, 'alpha_2': 0.0001},\n",
       "  mean: 0.01226, std: 0.00140, params: {'alpha_1': 0, 'lambda_1': 0.2, 'lambda_2': 0.01, 'alpha_2': 0.0001},\n",
       "  mean: 0.01227, std: 0.00145, params: {'alpha_1': 0, 'lambda_1': 0.2, 'lambda_2': 0, 'alpha_2': 0.0001},\n",
       "  mean: 0.01238, std: 0.00122, params: {'alpha_1': 0, 'lambda_1': 0.2, 'lambda_2': 0.1, 'alpha_2': 0.0001},\n",
       "  mean: 0.01253, std: 0.00113, params: {'alpha_1': 0, 'lambda_1': 0.2, 'lambda_2': 0.2, 'alpha_2': 0.0001},\n",
       "  mean: 0.01227, std: 0.00145, params: {'alpha_1': 0, 'lambda_1': 0.0001, 'lambda_2': 0.0001, 'alpha_2': 0.01},\n",
       "  mean: 0.01226, std: 0.00140, params: {'alpha_1': 0, 'lambda_1': 0.0001, 'lambda_2': 0.01, 'alpha_2': 0.01},\n",
       "  mean: 0.01227, std: 0.00145, params: {'alpha_1': 0, 'lambda_1': 0.0001, 'lambda_2': 0, 'alpha_2': 0.01},\n",
       "  mean: 0.01238, std: 0.00122, params: {'alpha_1': 0, 'lambda_1': 0.0001, 'lambda_2': 0.1, 'alpha_2': 0.01},\n",
       "  mean: 0.01253, std: 0.00113, params: {'alpha_1': 0, 'lambda_1': 0.0001, 'lambda_2': 0.2, 'alpha_2': 0.01},\n",
       "  mean: 0.01227, std: 0.00145, params: {'alpha_1': 0, 'lambda_1': 0.01, 'lambda_2': 0.0001, 'alpha_2': 0.01},\n",
       "  mean: 0.01226, std: 0.00140, params: {'alpha_1': 0, 'lambda_1': 0.01, 'lambda_2': 0.01, 'alpha_2': 0.01},\n",
       "  mean: 0.01227, std: 0.00145, params: {'alpha_1': 0, 'lambda_1': 0.01, 'lambda_2': 0, 'alpha_2': 0.01},\n",
       "  mean: 0.01238, std: 0.00122, params: {'alpha_1': 0, 'lambda_1': 0.01, 'lambda_2': 0.1, 'alpha_2': 0.01},\n",
       "  mean: 0.01253, std: 0.00113, params: {'alpha_1': 0, 'lambda_1': 0.01, 'lambda_2': 0.2, 'alpha_2': 0.01},\n",
       "  mean: 0.01227, std: 0.00145, params: {'alpha_1': 0, 'lambda_1': 0, 'lambda_2': 0.0001, 'alpha_2': 0.01},\n",
       "  mean: 0.01226, std: 0.00140, params: {'alpha_1': 0, 'lambda_1': 0, 'lambda_2': 0.01, 'alpha_2': 0.01},\n",
       "  mean: 0.01227, std: 0.00145, params: {'alpha_1': 0, 'lambda_1': 0, 'lambda_2': 0, 'alpha_2': 0.01},\n",
       "  mean: 0.01238, std: 0.00122, params: {'alpha_1': 0, 'lambda_1': 0, 'lambda_2': 0.1, 'alpha_2': 0.01},\n",
       "  mean: 0.01253, std: 0.00113, params: {'alpha_1': 0, 'lambda_1': 0, 'lambda_2': 0.2, 'alpha_2': 0.01},\n",
       "  mean: 0.01227, std: 0.00145, params: {'alpha_1': 0, 'lambda_1': 0.1, 'lambda_2': 0.0001, 'alpha_2': 0.01},\n",
       "  mean: 0.01226, std: 0.00140, params: {'alpha_1': 0, 'lambda_1': 0.1, 'lambda_2': 0.01, 'alpha_2': 0.01},\n",
       "  mean: 0.01227, std: 0.00145, params: {'alpha_1': 0, 'lambda_1': 0.1, 'lambda_2': 0, 'alpha_2': 0.01},\n",
       "  mean: 0.01238, std: 0.00122, params: {'alpha_1': 0, 'lambda_1': 0.1, 'lambda_2': 0.1, 'alpha_2': 0.01},\n",
       "  mean: 0.01253, std: 0.00113, params: {'alpha_1': 0, 'lambda_1': 0.1, 'lambda_2': 0.2, 'alpha_2': 0.01},\n",
       "  mean: 0.01227, std: 0.00145, params: {'alpha_1': 0, 'lambda_1': 0.2, 'lambda_2': 0.0001, 'alpha_2': 0.01},\n",
       "  mean: 0.01226, std: 0.00140, params: {'alpha_1': 0, 'lambda_1': 0.2, 'lambda_2': 0.01, 'alpha_2': 0.01},\n",
       "  mean: 0.01227, std: 0.00145, params: {'alpha_1': 0, 'lambda_1': 0.2, 'lambda_2': 0, 'alpha_2': 0.01},\n",
       "  mean: 0.01238, std: 0.00122, params: {'alpha_1': 0, 'lambda_1': 0.2, 'lambda_2': 0.1, 'alpha_2': 0.01},\n",
       "  mean: 0.01253, std: 0.00113, params: {'alpha_1': 0, 'lambda_1': 0.2, 'lambda_2': 0.2, 'alpha_2': 0.01},\n",
       "  mean: 0.01227, std: 0.00145, params: {'alpha_1': 0, 'lambda_1': 0.0001, 'lambda_2': 0.0001, 'alpha_2': 0},\n",
       "  mean: 0.01226, std: 0.00140, params: {'alpha_1': 0, 'lambda_1': 0.0001, 'lambda_2': 0.01, 'alpha_2': 0},\n",
       "  mean: 0.01227, std: 0.00145, params: {'alpha_1': 0, 'lambda_1': 0.0001, 'lambda_2': 0, 'alpha_2': 0},\n",
       "  mean: 0.01238, std: 0.00122, params: {'alpha_1': 0, 'lambda_1': 0.0001, 'lambda_2': 0.1, 'alpha_2': 0},\n",
       "  mean: 0.01254, std: 0.00113, params: {'alpha_1': 0, 'lambda_1': 0.0001, 'lambda_2': 0.2, 'alpha_2': 0},\n",
       "  mean: 0.01227, std: 0.00145, params: {'alpha_1': 0, 'lambda_1': 0.01, 'lambda_2': 0.0001, 'alpha_2': 0},\n",
       "  mean: 0.01226, std: 0.00140, params: {'alpha_1': 0, 'lambda_1': 0.01, 'lambda_2': 0.01, 'alpha_2': 0},\n",
       "  mean: 0.01227, std: 0.00145, params: {'alpha_1': 0, 'lambda_1': 0.01, 'lambda_2': 0, 'alpha_2': 0},\n",
       "  mean: 0.01238, std: 0.00122, params: {'alpha_1': 0, 'lambda_1': 0.01, 'lambda_2': 0.1, 'alpha_2': 0},\n",
       "  mean: 0.01254, std: 0.00113, params: {'alpha_1': 0, 'lambda_1': 0.01, 'lambda_2': 0.2, 'alpha_2': 0},\n",
       "  mean: 0.01227, std: 0.00145, params: {'alpha_1': 0, 'lambda_1': 0, 'lambda_2': 0.0001, 'alpha_2': 0},\n",
       "  mean: 0.01226, std: 0.00140, params: {'alpha_1': 0, 'lambda_1': 0, 'lambda_2': 0.01, 'alpha_2': 0},\n",
       "  mean: 0.01227, std: 0.00145, params: {'alpha_1': 0, 'lambda_1': 0, 'lambda_2': 0, 'alpha_2': 0},\n",
       "  mean: 0.01238, std: 0.00122, params: {'alpha_1': 0, 'lambda_1': 0, 'lambda_2': 0.1, 'alpha_2': 0},\n",
       "  mean: 0.01254, std: 0.00113, params: {'alpha_1': 0, 'lambda_1': 0, 'lambda_2': 0.2, 'alpha_2': 0},\n",
       "  mean: 0.01227, std: 0.00145, params: {'alpha_1': 0, 'lambda_1': 0.1, 'lambda_2': 0.0001, 'alpha_2': 0},\n",
       "  mean: 0.01226, std: 0.00140, params: {'alpha_1': 0, 'lambda_1': 0.1, 'lambda_2': 0.01, 'alpha_2': 0},\n",
       "  mean: 0.01227, std: 0.00145, params: {'alpha_1': 0, 'lambda_1': 0.1, 'lambda_2': 0, 'alpha_2': 0},\n",
       "  mean: 0.01238, std: 0.00122, params: {'alpha_1': 0, 'lambda_1': 0.1, 'lambda_2': 0.1, 'alpha_2': 0},\n",
       "  mean: 0.01254, std: 0.00113, params: {'alpha_1': 0, 'lambda_1': 0.1, 'lambda_2': 0.2, 'alpha_2': 0},\n",
       "  mean: 0.01227, std: 0.00145, params: {'alpha_1': 0, 'lambda_1': 0.2, 'lambda_2': 0.0001, 'alpha_2': 0},\n",
       "  mean: 0.01226, std: 0.00140, params: {'alpha_1': 0, 'lambda_1': 0.2, 'lambda_2': 0.01, 'alpha_2': 0},\n",
       "  mean: 0.01227, std: 0.00145, params: {'alpha_1': 0, 'lambda_1': 0.2, 'lambda_2': 0, 'alpha_2': 0},\n",
       "  mean: 0.01238, std: 0.00122, params: {'alpha_1': 0, 'lambda_1': 0.2, 'lambda_2': 0.1, 'alpha_2': 0},\n",
       "  mean: 0.01253, std: 0.00113, params: {'alpha_1': 0, 'lambda_1': 0.2, 'lambda_2': 0.2, 'alpha_2': 0},\n",
       "  mean: 0.01228, std: 0.00145, params: {'alpha_1': 0, 'lambda_1': 0.0001, 'lambda_2': 0.0001, 'alpha_2': 0.1},\n",
       "  mean: 0.01226, std: 0.00141, params: {'alpha_1': 0, 'lambda_1': 0.0001, 'lambda_2': 0.01, 'alpha_2': 0.1},\n",
       "  mean: 0.01228, std: 0.00145, params: {'alpha_1': 0, 'lambda_1': 0.0001, 'lambda_2': 0, 'alpha_2': 0.1},\n",
       "  mean: 0.01238, std: 0.00123, params: {'alpha_1': 0, 'lambda_1': 0.0001, 'lambda_2': 0.1, 'alpha_2': 0.1},\n",
       "  mean: 0.01252, std: 0.00113, params: {'alpha_1': 0, 'lambda_1': 0.0001, 'lambda_2': 0.2, 'alpha_2': 0.1},\n",
       "  mean: 0.01228, std: 0.00145, params: {'alpha_1': 0, 'lambda_1': 0.01, 'lambda_2': 0.0001, 'alpha_2': 0.1},\n",
       "  mean: 0.01226, std: 0.00141, params: {'alpha_1': 0, 'lambda_1': 0.01, 'lambda_2': 0.01, 'alpha_2': 0.1},\n",
       "  mean: 0.01228, std: 0.00145, params: {'alpha_1': 0, 'lambda_1': 0.01, 'lambda_2': 0, 'alpha_2': 0.1},\n",
       "  mean: 0.01238, std: 0.00123, params: {'alpha_1': 0, 'lambda_1': 0.01, 'lambda_2': 0.1, 'alpha_2': 0.1},\n",
       "  mean: 0.01252, std: 0.00113, params: {'alpha_1': 0, 'lambda_1': 0.01, 'lambda_2': 0.2, 'alpha_2': 0.1},\n",
       "  mean: 0.01228, std: 0.00145, params: {'alpha_1': 0, 'lambda_1': 0, 'lambda_2': 0.0001, 'alpha_2': 0.1},\n",
       "  mean: 0.01226, std: 0.00141, params: {'alpha_1': 0, 'lambda_1': 0, 'lambda_2': 0.01, 'alpha_2': 0.1},\n",
       "  mean: 0.01228, std: 0.00145, params: {'alpha_1': 0, 'lambda_1': 0, 'lambda_2': 0, 'alpha_2': 0.1},\n",
       "  mean: 0.01238, std: 0.00123, params: {'alpha_1': 0, 'lambda_1': 0, 'lambda_2': 0.1, 'alpha_2': 0.1},\n",
       "  mean: 0.01252, std: 0.00113, params: {'alpha_1': 0, 'lambda_1': 0, 'lambda_2': 0.2, 'alpha_2': 0.1},\n",
       "  mean: 0.01228, std: 0.00145, params: {'alpha_1': 0, 'lambda_1': 0.1, 'lambda_2': 0.0001, 'alpha_2': 0.1},\n",
       "  mean: 0.01226, std: 0.00141, params: {'alpha_1': 0, 'lambda_1': 0.1, 'lambda_2': 0.01, 'alpha_2': 0.1},\n",
       "  mean: 0.01228, std: 0.00145, params: {'alpha_1': 0, 'lambda_1': 0.1, 'lambda_2': 0, 'alpha_2': 0.1},\n",
       "  mean: 0.01238, std: 0.00123, params: {'alpha_1': 0, 'lambda_1': 0.1, 'lambda_2': 0.1, 'alpha_2': 0.1},\n",
       "  mean: 0.01252, std: 0.00113, params: {'alpha_1': 0, 'lambda_1': 0.1, 'lambda_2': 0.2, 'alpha_2': 0.1},\n",
       "  mean: 0.01228, std: 0.00145, params: {'alpha_1': 0, 'lambda_1': 0.2, 'lambda_2': 0.0001, 'alpha_2': 0.1},\n",
       "  mean: 0.01226, std: 0.00141, params: {'alpha_1': 0, 'lambda_1': 0.2, 'lambda_2': 0.01, 'alpha_2': 0.1},\n",
       "  mean: 0.01228, std: 0.00145, params: {'alpha_1': 0, 'lambda_1': 0.2, 'lambda_2': 0, 'alpha_2': 0.1},\n",
       "  mean: 0.01238, std: 0.00123, params: {'alpha_1': 0, 'lambda_1': 0.2, 'lambda_2': 0.1, 'alpha_2': 0.1},\n",
       "  mean: 0.01252, std: 0.00113, params: {'alpha_1': 0, 'lambda_1': 0.2, 'lambda_2': 0.2, 'alpha_2': 0.1},\n",
       "  mean: 0.01228, std: 0.00146, params: {'alpha_1': 0, 'lambda_1': 0.0001, 'lambda_2': 0.0001, 'alpha_2': 0.2},\n",
       "  mean: 0.01226, std: 0.00142, params: {'alpha_1': 0, 'lambda_1': 0.0001, 'lambda_2': 0.01, 'alpha_2': 0.2},\n",
       "  mean: 0.01228, std: 0.00146, params: {'alpha_1': 0, 'lambda_1': 0.0001, 'lambda_2': 0, 'alpha_2': 0.2},\n",
       "  mean: 0.01237, std: 0.00123, params: {'alpha_1': 0, 'lambda_1': 0.0001, 'lambda_2': 0.1, 'alpha_2': 0.2},\n",
       "  mean: 0.01251, std: 0.00114, params: {'alpha_1': 0, 'lambda_1': 0.0001, 'lambda_2': 0.2, 'alpha_2': 0.2},\n",
       "  mean: 0.01228, std: 0.00146, params: {'alpha_1': 0, 'lambda_1': 0.01, 'lambda_2': 0.0001, 'alpha_2': 0.2},\n",
       "  mean: 0.01226, std: 0.00142, params: {'alpha_1': 0, 'lambda_1': 0.01, 'lambda_2': 0.01, 'alpha_2': 0.2},\n",
       "  mean: 0.01228, std: 0.00146, params: {'alpha_1': 0, 'lambda_1': 0.01, 'lambda_2': 0, 'alpha_2': 0.2},\n",
       "  mean: 0.01237, std: 0.00123, params: {'alpha_1': 0, 'lambda_1': 0.01, 'lambda_2': 0.1, 'alpha_2': 0.2},\n",
       "  mean: 0.01251, std: 0.00114, params: {'alpha_1': 0, 'lambda_1': 0.01, 'lambda_2': 0.2, 'alpha_2': 0.2},\n",
       "  mean: 0.01228, std: 0.00146, params: {'alpha_1': 0, 'lambda_1': 0, 'lambda_2': 0.0001, 'alpha_2': 0.2},\n",
       "  mean: 0.01226, std: 0.00142, params: {'alpha_1': 0, 'lambda_1': 0, 'lambda_2': 0.01, 'alpha_2': 0.2},\n",
       "  mean: 0.01228, std: 0.00146, params: {'alpha_1': 0, 'lambda_1': 0, 'lambda_2': 0, 'alpha_2': 0.2},\n",
       "  mean: 0.01237, std: 0.00123, params: {'alpha_1': 0, 'lambda_1': 0, 'lambda_2': 0.1, 'alpha_2': 0.2},\n",
       "  mean: 0.01251, std: 0.00114, params: {'alpha_1': 0, 'lambda_1': 0, 'lambda_2': 0.2, 'alpha_2': 0.2},\n",
       "  mean: 0.01228, std: 0.00146, params: {'alpha_1': 0, 'lambda_1': 0.1, 'lambda_2': 0.0001, 'alpha_2': 0.2},\n",
       "  mean: 0.01226, std: 0.00142, params: {'alpha_1': 0, 'lambda_1': 0.1, 'lambda_2': 0.01, 'alpha_2': 0.2},\n",
       "  mean: 0.01228, std: 0.00146, params: {'alpha_1': 0, 'lambda_1': 0.1, 'lambda_2': 0, 'alpha_2': 0.2},\n",
       "  mean: 0.01237, std: 0.00123, params: {'alpha_1': 0, 'lambda_1': 0.1, 'lambda_2': 0.1, 'alpha_2': 0.2},\n",
       "  mean: 0.01251, std: 0.00114, params: {'alpha_1': 0, 'lambda_1': 0.1, 'lambda_2': 0.2, 'alpha_2': 0.2},\n",
       "  mean: 0.01228, std: 0.00146, params: {'alpha_1': 0, 'lambda_1': 0.2, 'lambda_2': 0.0001, 'alpha_2': 0.2},\n",
       "  mean: 0.01226, std: 0.00142, params: {'alpha_1': 0, 'lambda_1': 0.2, 'lambda_2': 0.01, 'alpha_2': 0.2},\n",
       "  mean: 0.01228, std: 0.00146, params: {'alpha_1': 0, 'lambda_1': 0.2, 'lambda_2': 0, 'alpha_2': 0.2},\n",
       "  mean: 0.01237, std: 0.00123, params: {'alpha_1': 0, 'lambda_1': 0.2, 'lambda_2': 0.1, 'alpha_2': 0.2},\n",
       "  mean: 0.01251, std: 0.00114, params: {'alpha_1': 0, 'lambda_1': 0.2, 'lambda_2': 0.2, 'alpha_2': 0.2},\n",
       "  mean: 0.01227, std: 0.00145, params: {'alpha_1': 0.1, 'lambda_1': 0.0001, 'lambda_2': 0.0001, 'alpha_2': 0.0001},\n",
       "  mean: 0.01226, std: 0.00140, params: {'alpha_1': 0.1, 'lambda_1': 0.0001, 'lambda_2': 0.01, 'alpha_2': 0.0001},\n",
       "  mean: 0.01227, std: 0.00145, params: {'alpha_1': 0.1, 'lambda_1': 0.0001, 'lambda_2': 0, 'alpha_2': 0.0001},\n",
       "  mean: 0.01238, std: 0.00122, params: {'alpha_1': 0.1, 'lambda_1': 0.0001, 'lambda_2': 0.1, 'alpha_2': 0.0001},\n",
       "  mean: 0.01254, std: 0.00113, params: {'alpha_1': 0.1, 'lambda_1': 0.0001, 'lambda_2': 0.2, 'alpha_2': 0.0001},\n",
       "  mean: 0.01227, std: 0.00145, params: {'alpha_1': 0.1, 'lambda_1': 0.01, 'lambda_2': 0.0001, 'alpha_2': 0.0001},\n",
       "  mean: 0.01226, std: 0.00140, params: {'alpha_1': 0.1, 'lambda_1': 0.01, 'lambda_2': 0.01, 'alpha_2': 0.0001},\n",
       "  mean: 0.01227, std: 0.00145, params: {'alpha_1': 0.1, 'lambda_1': 0.01, 'lambda_2': 0, 'alpha_2': 0.0001},\n",
       "  mean: 0.01238, std: 0.00122, params: {'alpha_1': 0.1, 'lambda_1': 0.01, 'lambda_2': 0.1, 'alpha_2': 0.0001},\n",
       "  mean: 0.01254, std: 0.00113, params: {'alpha_1': 0.1, 'lambda_1': 0.01, 'lambda_2': 0.2, 'alpha_2': 0.0001},\n",
       "  mean: 0.01227, std: 0.00145, params: {'alpha_1': 0.1, 'lambda_1': 0, 'lambda_2': 0.0001, 'alpha_2': 0.0001},\n",
       "  mean: 0.01226, std: 0.00140, params: {'alpha_1': 0.1, 'lambda_1': 0, 'lambda_2': 0.01, 'alpha_2': 0.0001},\n",
       "  mean: 0.01227, std: 0.00145, params: {'alpha_1': 0.1, 'lambda_1': 0, 'lambda_2': 0, 'alpha_2': 0.0001},\n",
       "  mean: 0.01238, std: 0.00122, params: {'alpha_1': 0.1, 'lambda_1': 0, 'lambda_2': 0.1, 'alpha_2': 0.0001},\n",
       "  mean: 0.01254, std: 0.00113, params: {'alpha_1': 0.1, 'lambda_1': 0, 'lambda_2': 0.2, 'alpha_2': 0.0001},\n",
       "  mean: 0.01227, std: 0.00145, params: {'alpha_1': 0.1, 'lambda_1': 0.1, 'lambda_2': 0.0001, 'alpha_2': 0.0001},\n",
       "  mean: 0.01226, std: 0.00140, params: {'alpha_1': 0.1, 'lambda_1': 0.1, 'lambda_2': 0.01, 'alpha_2': 0.0001},\n",
       "  mean: 0.01227, std: 0.00145, params: {'alpha_1': 0.1, 'lambda_1': 0.1, 'lambda_2': 0, 'alpha_2': 0.0001},\n",
       "  mean: 0.01238, std: 0.00122, params: {'alpha_1': 0.1, 'lambda_1': 0.1, 'lambda_2': 0.1, 'alpha_2': 0.0001},\n",
       "  mean: 0.01254, std: 0.00113, params: {'alpha_1': 0.1, 'lambda_1': 0.1, 'lambda_2': 0.2, 'alpha_2': 0.0001},\n",
       "  mean: 0.01227, std: 0.00145, params: {'alpha_1': 0.1, 'lambda_1': 0.2, 'lambda_2': 0.0001, 'alpha_2': 0.0001},\n",
       "  mean: 0.01226, std: 0.00140, params: {'alpha_1': 0.1, 'lambda_1': 0.2, 'lambda_2': 0.01, 'alpha_2': 0.0001},\n",
       "  mean: 0.01227, std: 0.00145, params: {'alpha_1': 0.1, 'lambda_1': 0.2, 'lambda_2': 0, 'alpha_2': 0.0001},\n",
       "  mean: 0.01238, std: 0.00122, params: {'alpha_1': 0.1, 'lambda_1': 0.2, 'lambda_2': 0.1, 'alpha_2': 0.0001},\n",
       "  mean: 0.01253, std: 0.00113, params: {'alpha_1': 0.1, 'lambda_1': 0.2, 'lambda_2': 0.2, 'alpha_2': 0.0001},\n",
       "  mean: 0.01227, std: 0.00145, params: {'alpha_1': 0.1, 'lambda_1': 0.0001, 'lambda_2': 0.0001, 'alpha_2': 0.01},\n",
       "  mean: 0.01226, std: 0.00140, params: {'alpha_1': 0.1, 'lambda_1': 0.0001, 'lambda_2': 0.01, 'alpha_2': 0.01},\n",
       "  mean: 0.01227, std: 0.00145, params: {'alpha_1': 0.1, 'lambda_1': 0.0001, 'lambda_2': 0, 'alpha_2': 0.01},\n",
       "  mean: 0.01238, std: 0.00122, params: {'alpha_1': 0.1, 'lambda_1': 0.0001, 'lambda_2': 0.1, 'alpha_2': 0.01},\n",
       "  mean: 0.01253, std: 0.00113, params: {'alpha_1': 0.1, 'lambda_1': 0.0001, 'lambda_2': 0.2, 'alpha_2': 0.01},\n",
       "  mean: 0.01227, std: 0.00145, params: {'alpha_1': 0.1, 'lambda_1': 0.01, 'lambda_2': 0.0001, 'alpha_2': 0.01},\n",
       "  mean: 0.01226, std: 0.00140, params: {'alpha_1': 0.1, 'lambda_1': 0.01, 'lambda_2': 0.01, 'alpha_2': 0.01},\n",
       "  mean: 0.01227, std: 0.00145, params: {'alpha_1': 0.1, 'lambda_1': 0.01, 'lambda_2': 0, 'alpha_2': 0.01},\n",
       "  mean: 0.01238, std: 0.00122, params: {'alpha_1': 0.1, 'lambda_1': 0.01, 'lambda_2': 0.1, 'alpha_2': 0.01},\n",
       "  mean: 0.01253, std: 0.00113, params: {'alpha_1': 0.1, 'lambda_1': 0.01, 'lambda_2': 0.2, 'alpha_2': 0.01},\n",
       "  mean: 0.01227, std: 0.00145, params: {'alpha_1': 0.1, 'lambda_1': 0, 'lambda_2': 0.0001, 'alpha_2': 0.01},\n",
       "  mean: 0.01226, std: 0.00140, params: {'alpha_1': 0.1, 'lambda_1': 0, 'lambda_2': 0.01, 'alpha_2': 0.01},\n",
       "  mean: 0.01227, std: 0.00145, params: {'alpha_1': 0.1, 'lambda_1': 0, 'lambda_2': 0, 'alpha_2': 0.01},\n",
       "  mean: 0.01238, std: 0.00122, params: {'alpha_1': 0.1, 'lambda_1': 0, 'lambda_2': 0.1, 'alpha_2': 0.01},\n",
       "  mean: 0.01253, std: 0.00113, params: {'alpha_1': 0.1, 'lambda_1': 0, 'lambda_2': 0.2, 'alpha_2': 0.01},\n",
       "  mean: 0.01227, std: 0.00145, params: {'alpha_1': 0.1, 'lambda_1': 0.1, 'lambda_2': 0.0001, 'alpha_2': 0.01},\n",
       "  mean: 0.01226, std: 0.00140, params: {'alpha_1': 0.1, 'lambda_1': 0.1, 'lambda_2': 0.01, 'alpha_2': 0.01},\n",
       "  mean: 0.01227, std: 0.00145, params: {'alpha_1': 0.1, 'lambda_1': 0.1, 'lambda_2': 0, 'alpha_2': 0.01},\n",
       "  mean: 0.01238, std: 0.00122, params: {'alpha_1': 0.1, 'lambda_1': 0.1, 'lambda_2': 0.1, 'alpha_2': 0.01},\n",
       "  mean: 0.01253, std: 0.00113, params: {'alpha_1': 0.1, 'lambda_1': 0.1, 'lambda_2': 0.2, 'alpha_2': 0.01},\n",
       "  mean: 0.01227, std: 0.00145, params: {'alpha_1': 0.1, 'lambda_1': 0.2, 'lambda_2': 0.0001, 'alpha_2': 0.01},\n",
       "  mean: 0.01226, std: 0.00140, params: {'alpha_1': 0.1, 'lambda_1': 0.2, 'lambda_2': 0.01, 'alpha_2': 0.01},\n",
       "  mean: 0.01227, std: 0.00145, params: {'alpha_1': 0.1, 'lambda_1': 0.2, 'lambda_2': 0, 'alpha_2': 0.01},\n",
       "  mean: 0.01238, std: 0.00122, params: {'alpha_1': 0.1, 'lambda_1': 0.2, 'lambda_2': 0.1, 'alpha_2': 0.01},\n",
       "  mean: 0.01253, std: 0.00113, params: {'alpha_1': 0.1, 'lambda_1': 0.2, 'lambda_2': 0.2, 'alpha_2': 0.01},\n",
       "  mean: 0.01227, std: 0.00145, params: {'alpha_1': 0.1, 'lambda_1': 0.0001, 'lambda_2': 0.0001, 'alpha_2': 0},\n",
       "  mean: 0.01226, std: 0.00140, params: {'alpha_1': 0.1, 'lambda_1': 0.0001, 'lambda_2': 0.01, 'alpha_2': 0},\n",
       "  mean: 0.01227, std: 0.00145, params: {'alpha_1': 0.1, 'lambda_1': 0.0001, 'lambda_2': 0, 'alpha_2': 0},\n",
       "  mean: 0.01238, std: 0.00122, params: {'alpha_1': 0.1, 'lambda_1': 0.0001, 'lambda_2': 0.1, 'alpha_2': 0},\n",
       "  mean: 0.01254, std: 0.00113, params: {'alpha_1': 0.1, 'lambda_1': 0.0001, 'lambda_2': 0.2, 'alpha_2': 0},\n",
       "  mean: 0.01227, std: 0.00145, params: {'alpha_1': 0.1, 'lambda_1': 0.01, 'lambda_2': 0.0001, 'alpha_2': 0},\n",
       "  mean: 0.01226, std: 0.00140, params: {'alpha_1': 0.1, 'lambda_1': 0.01, 'lambda_2': 0.01, 'alpha_2': 0},\n",
       "  mean: 0.01227, std: 0.00145, params: {'alpha_1': 0.1, 'lambda_1': 0.01, 'lambda_2': 0, 'alpha_2': 0},\n",
       "  mean: 0.01238, std: 0.00122, params: {'alpha_1': 0.1, 'lambda_1': 0.01, 'lambda_2': 0.1, 'alpha_2': 0},\n",
       "  mean: 0.01254, std: 0.00113, params: {'alpha_1': 0.1, 'lambda_1': 0.01, 'lambda_2': 0.2, 'alpha_2': 0},\n",
       "  mean: 0.01227, std: 0.00145, params: {'alpha_1': 0.1, 'lambda_1': 0, 'lambda_2': 0.0001, 'alpha_2': 0},\n",
       "  mean: 0.01226, std: 0.00140, params: {'alpha_1': 0.1, 'lambda_1': 0, 'lambda_2': 0.01, 'alpha_2': 0},\n",
       "  mean: 0.01227, std: 0.00145, params: {'alpha_1': 0.1, 'lambda_1': 0, 'lambda_2': 0, 'alpha_2': 0},\n",
       "  mean: 0.01238, std: 0.00122, params: {'alpha_1': 0.1, 'lambda_1': 0, 'lambda_2': 0.1, 'alpha_2': 0},\n",
       "  mean: 0.01254, std: 0.00113, params: {'alpha_1': 0.1, 'lambda_1': 0, 'lambda_2': 0.2, 'alpha_2': 0},\n",
       "  mean: 0.01227, std: 0.00145, params: {'alpha_1': 0.1, 'lambda_1': 0.1, 'lambda_2': 0.0001, 'alpha_2': 0},\n",
       "  mean: 0.01226, std: 0.00140, params: {'alpha_1': 0.1, 'lambda_1': 0.1, 'lambda_2': 0.01, 'alpha_2': 0},\n",
       "  mean: 0.01227, std: 0.00145, params: {'alpha_1': 0.1, 'lambda_1': 0.1, 'lambda_2': 0, 'alpha_2': 0},\n",
       "  mean: 0.01238, std: 0.00122, params: {'alpha_1': 0.1, 'lambda_1': 0.1, 'lambda_2': 0.1, 'alpha_2': 0},\n",
       "  mean: 0.01254, std: 0.00113, params: {'alpha_1': 0.1, 'lambda_1': 0.1, 'lambda_2': 0.2, 'alpha_2': 0},\n",
       "  mean: 0.01227, std: 0.00145, params: {'alpha_1': 0.1, 'lambda_1': 0.2, 'lambda_2': 0.0001, 'alpha_2': 0},\n",
       "  mean: 0.01226, std: 0.00140, params: {'alpha_1': 0.1, 'lambda_1': 0.2, 'lambda_2': 0.01, 'alpha_2': 0},\n",
       "  mean: 0.01227, std: 0.00145, params: {'alpha_1': 0.1, 'lambda_1': 0.2, 'lambda_2': 0, 'alpha_2': 0},\n",
       "  mean: 0.01238, std: 0.00122, params: {'alpha_1': 0.1, 'lambda_1': 0.2, 'lambda_2': 0.1, 'alpha_2': 0},\n",
       "  mean: 0.01253, std: 0.00113, params: {'alpha_1': 0.1, 'lambda_1': 0.2, 'lambda_2': 0.2, 'alpha_2': 0},\n",
       "  mean: 0.01228, std: 0.00145, params: {'alpha_1': 0.1, 'lambda_1': 0.0001, 'lambda_2': 0.0001, 'alpha_2': 0.1},\n",
       "  mean: 0.01226, std: 0.00141, params: {'alpha_1': 0.1, 'lambda_1': 0.0001, 'lambda_2': 0.01, 'alpha_2': 0.1},\n",
       "  mean: 0.01228, std: 0.00145, params: {'alpha_1': 0.1, 'lambda_1': 0.0001, 'lambda_2': 0, 'alpha_2': 0.1},\n",
       "  mean: 0.01238, std: 0.00123, params: {'alpha_1': 0.1, 'lambda_1': 0.0001, 'lambda_2': 0.1, 'alpha_2': 0.1},\n",
       "  mean: 0.01253, std: 0.00113, params: {'alpha_1': 0.1, 'lambda_1': 0.0001, 'lambda_2': 0.2, 'alpha_2': 0.1},\n",
       "  mean: 0.01228, std: 0.00145, params: {'alpha_1': 0.1, 'lambda_1': 0.01, 'lambda_2': 0.0001, 'alpha_2': 0.1},\n",
       "  mean: 0.01226, std: 0.00141, params: {'alpha_1': 0.1, 'lambda_1': 0.01, 'lambda_2': 0.01, 'alpha_2': 0.1},\n",
       "  mean: 0.01228, std: 0.00145, params: {'alpha_1': 0.1, 'lambda_1': 0.01, 'lambda_2': 0, 'alpha_2': 0.1},\n",
       "  mean: 0.01238, std: 0.00123, params: {'alpha_1': 0.1, 'lambda_1': 0.01, 'lambda_2': 0.1, 'alpha_2': 0.1},\n",
       "  mean: 0.01252, std: 0.00113, params: {'alpha_1': 0.1, 'lambda_1': 0.01, 'lambda_2': 0.2, 'alpha_2': 0.1},\n",
       "  mean: 0.01228, std: 0.00145, params: {'alpha_1': 0.1, 'lambda_1': 0, 'lambda_2': 0.0001, 'alpha_2': 0.1},\n",
       "  mean: 0.01226, std: 0.00141, params: {'alpha_1': 0.1, 'lambda_1': 0, 'lambda_2': 0.01, 'alpha_2': 0.1},\n",
       "  mean: 0.01228, std: 0.00145, params: {'alpha_1': 0.1, 'lambda_1': 0, 'lambda_2': 0, 'alpha_2': 0.1},\n",
       "  mean: 0.01238, std: 0.00123, params: {'alpha_1': 0.1, 'lambda_1': 0, 'lambda_2': 0.1, 'alpha_2': 0.1},\n",
       "  mean: 0.01253, std: 0.00113, params: {'alpha_1': 0.1, 'lambda_1': 0, 'lambda_2': 0.2, 'alpha_2': 0.1},\n",
       "  mean: 0.01228, std: 0.00145, params: {'alpha_1': 0.1, 'lambda_1': 0.1, 'lambda_2': 0.0001, 'alpha_2': 0.1},\n",
       "  mean: 0.01226, std: 0.00141, params: {'alpha_1': 0.1, 'lambda_1': 0.1, 'lambda_2': 0.01, 'alpha_2': 0.1},\n",
       "  mean: 0.01228, std: 0.00145, params: {'alpha_1': 0.1, 'lambda_1': 0.1, 'lambda_2': 0, 'alpha_2': 0.1},\n",
       "  mean: 0.01238, std: 0.00123, params: {'alpha_1': 0.1, 'lambda_1': 0.1, 'lambda_2': 0.1, 'alpha_2': 0.1},\n",
       "  mean: 0.01252, std: 0.00113, params: {'alpha_1': 0.1, 'lambda_1': 0.1, 'lambda_2': 0.2, 'alpha_2': 0.1},\n",
       "  mean: 0.01228, std: 0.00145, params: {'alpha_1': 0.1, 'lambda_1': 0.2, 'lambda_2': 0.0001, 'alpha_2': 0.1},\n",
       "  mean: 0.01226, std: 0.00141, params: {'alpha_1': 0.1, 'lambda_1': 0.2, 'lambda_2': 0.01, 'alpha_2': 0.1},\n",
       "  mean: 0.01228, std: 0.00145, params: {'alpha_1': 0.1, 'lambda_1': 0.2, 'lambda_2': 0, 'alpha_2': 0.1},\n",
       "  mean: 0.01238, std: 0.00123, params: {'alpha_1': 0.1, 'lambda_1': 0.2, 'lambda_2': 0.1, 'alpha_2': 0.1},\n",
       "  mean: 0.01252, std: 0.00113, params: {'alpha_1': 0.1, 'lambda_1': 0.2, 'lambda_2': 0.2, 'alpha_2': 0.1},\n",
       "  mean: 0.01228, std: 0.00146, params: {'alpha_1': 0.1, 'lambda_1': 0.0001, 'lambda_2': 0.0001, 'alpha_2': 0.2},\n",
       "  mean: 0.01226, std: 0.00142, params: {'alpha_1': 0.1, 'lambda_1': 0.0001, 'lambda_2': 0.01, 'alpha_2': 0.2},\n",
       "  mean: 0.01228, std: 0.00146, params: {'alpha_1': 0.1, 'lambda_1': 0.0001, 'lambda_2': 0, 'alpha_2': 0.2},\n",
       "  mean: 0.01237, std: 0.00123, params: {'alpha_1': 0.1, 'lambda_1': 0.0001, 'lambda_2': 0.1, 'alpha_2': 0.2},\n",
       "  mean: 0.01251, std: 0.00114, params: {'alpha_1': 0.1, 'lambda_1': 0.0001, 'lambda_2': 0.2, 'alpha_2': 0.2},\n",
       "  mean: 0.01228, std: 0.00146, params: {'alpha_1': 0.1, 'lambda_1': 0.01, 'lambda_2': 0.0001, 'alpha_2': 0.2},\n",
       "  mean: 0.01226, std: 0.00142, params: {'alpha_1': 0.1, 'lambda_1': 0.01, 'lambda_2': 0.01, 'alpha_2': 0.2},\n",
       "  mean: 0.01228, std: 0.00146, params: {'alpha_1': 0.1, 'lambda_1': 0.01, 'lambda_2': 0, 'alpha_2': 0.2},\n",
       "  mean: 0.01237, std: 0.00123, params: {'alpha_1': 0.1, 'lambda_1': 0.01, 'lambda_2': 0.1, 'alpha_2': 0.2},\n",
       "  mean: 0.01251, std: 0.00114, params: {'alpha_1': 0.1, 'lambda_1': 0.01, 'lambda_2': 0.2, 'alpha_2': 0.2},\n",
       "  mean: 0.01228, std: 0.00146, params: {'alpha_1': 0.1, 'lambda_1': 0, 'lambda_2': 0.0001, 'alpha_2': 0.2},\n",
       "  mean: 0.01226, std: 0.00142, params: {'alpha_1': 0.1, 'lambda_1': 0, 'lambda_2': 0.01, 'alpha_2': 0.2},\n",
       "  mean: 0.01228, std: 0.00146, params: {'alpha_1': 0.1, 'lambda_1': 0, 'lambda_2': 0, 'alpha_2': 0.2},\n",
       "  mean: 0.01237, std: 0.00123, params: {'alpha_1': 0.1, 'lambda_1': 0, 'lambda_2': 0.1, 'alpha_2': 0.2},\n",
       "  mean: 0.01251, std: 0.00114, params: {'alpha_1': 0.1, 'lambda_1': 0, 'lambda_2': 0.2, 'alpha_2': 0.2},\n",
       "  mean: 0.01228, std: 0.00146, params: {'alpha_1': 0.1, 'lambda_1': 0.1, 'lambda_2': 0.0001, 'alpha_2': 0.2},\n",
       "  mean: 0.01226, std: 0.00142, params: {'alpha_1': 0.1, 'lambda_1': 0.1, 'lambda_2': 0.01, 'alpha_2': 0.2},\n",
       "  mean: 0.01228, std: 0.00146, params: {'alpha_1': 0.1, 'lambda_1': 0.1, 'lambda_2': 0, 'alpha_2': 0.2},\n",
       "  mean: 0.01237, std: 0.00123, params: {'alpha_1': 0.1, 'lambda_1': 0.1, 'lambda_2': 0.1, 'alpha_2': 0.2},\n",
       "  mean: 0.01251, std: 0.00114, params: {'alpha_1': 0.1, 'lambda_1': 0.1, 'lambda_2': 0.2, 'alpha_2': 0.2},\n",
       "  mean: 0.01228, std: 0.00146, params: {'alpha_1': 0.1, 'lambda_1': 0.2, 'lambda_2': 0.0001, 'alpha_2': 0.2},\n",
       "  mean: 0.01226, std: 0.00142, params: {'alpha_1': 0.1, 'lambda_1': 0.2, 'lambda_2': 0.01, 'alpha_2': 0.2},\n",
       "  mean: 0.01228, std: 0.00146, params: {'alpha_1': 0.1, 'lambda_1': 0.2, 'lambda_2': 0, 'alpha_2': 0.2},\n",
       "  mean: 0.01237, std: 0.00123, params: {'alpha_1': 0.1, 'lambda_1': 0.2, 'lambda_2': 0.1, 'alpha_2': 0.2},\n",
       "  mean: 0.01251, std: 0.00114, params: {'alpha_1': 0.1, 'lambda_1': 0.2, 'lambda_2': 0.2, 'alpha_2': 0.2},\n",
       "  mean: 0.01227, std: 0.00145, params: {'alpha_1': 0.2, 'lambda_1': 0.0001, 'lambda_2': 0.0001, 'alpha_2': 0.0001},\n",
       "  mean: 0.01226, std: 0.00140, params: {'alpha_1': 0.2, 'lambda_1': 0.0001, 'lambda_2': 0.01, 'alpha_2': 0.0001},\n",
       "  mean: 0.01227, std: 0.00145, params: {'alpha_1': 0.2, 'lambda_1': 0.0001, 'lambda_2': 0, 'alpha_2': 0.0001},\n",
       "  mean: 0.01238, std: 0.00122, params: {'alpha_1': 0.2, 'lambda_1': 0.0001, 'lambda_2': 0.1, 'alpha_2': 0.0001},\n",
       "  mean: 0.01254, std: 0.00113, params: {'alpha_1': 0.2, 'lambda_1': 0.0001, 'lambda_2': 0.2, 'alpha_2': 0.0001},\n",
       "  mean: 0.01227, std: 0.00145, params: {'alpha_1': 0.2, 'lambda_1': 0.01, 'lambda_2': 0.0001, 'alpha_2': 0.0001},\n",
       "  mean: 0.01226, std: 0.00140, params: {'alpha_1': 0.2, 'lambda_1': 0.01, 'lambda_2': 0.01, 'alpha_2': 0.0001},\n",
       "  mean: 0.01227, std: 0.00145, params: {'alpha_1': 0.2, 'lambda_1': 0.01, 'lambda_2': 0, 'alpha_2': 0.0001},\n",
       "  mean: 0.01238, std: 0.00122, params: {'alpha_1': 0.2, 'lambda_1': 0.01, 'lambda_2': 0.1, 'alpha_2': 0.0001},\n",
       "  mean: 0.01254, std: 0.00113, params: {'alpha_1': 0.2, 'lambda_1': 0.01, 'lambda_2': 0.2, 'alpha_2': 0.0001},\n",
       "  mean: 0.01227, std: 0.00145, params: {'alpha_1': 0.2, 'lambda_1': 0, 'lambda_2': 0.0001, 'alpha_2': 0.0001},\n",
       "  mean: 0.01226, std: 0.00140, params: {'alpha_1': 0.2, 'lambda_1': 0, 'lambda_2': 0.01, 'alpha_2': 0.0001},\n",
       "  mean: 0.01227, std: 0.00145, params: {'alpha_1': 0.2, 'lambda_1': 0, 'lambda_2': 0, 'alpha_2': 0.0001},\n",
       "  mean: 0.01238, std: 0.00122, params: {'alpha_1': 0.2, 'lambda_1': 0, 'lambda_2': 0.1, 'alpha_2': 0.0001},\n",
       "  mean: 0.01254, std: 0.00113, params: {'alpha_1': 0.2, 'lambda_1': 0, 'lambda_2': 0.2, 'alpha_2': 0.0001},\n",
       "  mean: 0.01227, std: 0.00145, params: {'alpha_1': 0.2, 'lambda_1': 0.1, 'lambda_2': 0.0001, 'alpha_2': 0.0001},\n",
       "  mean: 0.01226, std: 0.00140, params: {'alpha_1': 0.2, 'lambda_1': 0.1, 'lambda_2': 0.01, 'alpha_2': 0.0001},\n",
       "  mean: 0.01227, std: 0.00145, params: {'alpha_1': 0.2, 'lambda_1': 0.1, 'lambda_2': 0, 'alpha_2': 0.0001},\n",
       "  mean: 0.01238, std: 0.00122, params: {'alpha_1': 0.2, 'lambda_1': 0.1, 'lambda_2': 0.1, 'alpha_2': 0.0001},\n",
       "  mean: 0.01254, std: 0.00113, params: {'alpha_1': 0.2, 'lambda_1': 0.1, 'lambda_2': 0.2, 'alpha_2': 0.0001},\n",
       "  mean: 0.01227, std: 0.00145, params: {'alpha_1': 0.2, 'lambda_1': 0.2, 'lambda_2': 0.0001, 'alpha_2': 0.0001},\n",
       "  mean: 0.01226, std: 0.00140, params: {'alpha_1': 0.2, 'lambda_1': 0.2, 'lambda_2': 0.01, 'alpha_2': 0.0001},\n",
       "  mean: 0.01227, std: 0.00145, params: {'alpha_1': 0.2, 'lambda_1': 0.2, 'lambda_2': 0, 'alpha_2': 0.0001},\n",
       "  mean: 0.01238, std: 0.00122, params: {'alpha_1': 0.2, 'lambda_1': 0.2, 'lambda_2': 0.1, 'alpha_2': 0.0001},\n",
       "  mean: 0.01253, std: 0.00113, params: {'alpha_1': 0.2, 'lambda_1': 0.2, 'lambda_2': 0.2, 'alpha_2': 0.0001},\n",
       "  mean: 0.01227, std: 0.00145, params: {'alpha_1': 0.2, 'lambda_1': 0.0001, 'lambda_2': 0.0001, 'alpha_2': 0.01},\n",
       "  mean: 0.01226, std: 0.00140, params: {'alpha_1': 0.2, 'lambda_1': 0.0001, 'lambda_2': 0.01, 'alpha_2': 0.01},\n",
       "  mean: 0.01227, std: 0.00145, params: {'alpha_1': 0.2, 'lambda_1': 0.0001, 'lambda_2': 0, 'alpha_2': 0.01},\n",
       "  mean: 0.01238, std: 0.00122, params: {'alpha_1': 0.2, 'lambda_1': 0.0001, 'lambda_2': 0.1, 'alpha_2': 0.01},\n",
       "  mean: 0.01253, std: 0.00113, params: {'alpha_1': 0.2, 'lambda_1': 0.0001, 'lambda_2': 0.2, 'alpha_2': 0.01},\n",
       "  mean: 0.01227, std: 0.00145, params: {'alpha_1': 0.2, 'lambda_1': 0.01, 'lambda_2': 0.0001, 'alpha_2': 0.01},\n",
       "  mean: 0.01226, std: 0.00140, params: {'alpha_1': 0.2, 'lambda_1': 0.01, 'lambda_2': 0.01, 'alpha_2': 0.01},\n",
       "  mean: 0.01227, std: 0.00145, params: {'alpha_1': 0.2, 'lambda_1': 0.01, 'lambda_2': 0, 'alpha_2': 0.01},\n",
       "  mean: 0.01238, std: 0.00122, params: {'alpha_1': 0.2, 'lambda_1': 0.01, 'lambda_2': 0.1, 'alpha_2': 0.01},\n",
       "  mean: 0.01253, std: 0.00113, params: {'alpha_1': 0.2, 'lambda_1': 0.01, 'lambda_2': 0.2, 'alpha_2': 0.01},\n",
       "  mean: 0.01227, std: 0.00145, params: {'alpha_1': 0.2, 'lambda_1': 0, 'lambda_2': 0.0001, 'alpha_2': 0.01},\n",
       "  mean: 0.01226, std: 0.00140, params: {'alpha_1': 0.2, 'lambda_1': 0, 'lambda_2': 0.01, 'alpha_2': 0.01},\n",
       "  mean: 0.01227, std: 0.00145, params: {'alpha_1': 0.2, 'lambda_1': 0, 'lambda_2': 0, 'alpha_2': 0.01},\n",
       "  mean: 0.01238, std: 0.00122, params: {'alpha_1': 0.2, 'lambda_1': 0, 'lambda_2': 0.1, 'alpha_2': 0.01},\n",
       "  mean: 0.01253, std: 0.00113, params: {'alpha_1': 0.2, 'lambda_1': 0, 'lambda_2': 0.2, 'alpha_2': 0.01},\n",
       "  mean: 0.01227, std: 0.00145, params: {'alpha_1': 0.2, 'lambda_1': 0.1, 'lambda_2': 0.0001, 'alpha_2': 0.01},\n",
       "  mean: 0.01226, std: 0.00140, params: {'alpha_1': 0.2, 'lambda_1': 0.1, 'lambda_2': 0.01, 'alpha_2': 0.01},\n",
       "  mean: 0.01227, std: 0.00145, params: {'alpha_1': 0.2, 'lambda_1': 0.1, 'lambda_2': 0, 'alpha_2': 0.01},\n",
       "  mean: 0.01238, std: 0.00122, params: {'alpha_1': 0.2, 'lambda_1': 0.1, 'lambda_2': 0.1, 'alpha_2': 0.01},\n",
       "  mean: 0.01253, std: 0.00113, params: {'alpha_1': 0.2, 'lambda_1': 0.1, 'lambda_2': 0.2, 'alpha_2': 0.01},\n",
       "  mean: 0.01227, std: 0.00145, params: {'alpha_1': 0.2, 'lambda_1': 0.2, 'lambda_2': 0.0001, 'alpha_2': 0.01},\n",
       "  mean: 0.01226, std: 0.00140, params: {'alpha_1': 0.2, 'lambda_1': 0.2, 'lambda_2': 0.01, 'alpha_2': 0.01},\n",
       "  mean: 0.01227, std: 0.00145, params: {'alpha_1': 0.2, 'lambda_1': 0.2, 'lambda_2': 0, 'alpha_2': 0.01},\n",
       "  mean: 0.01238, std: 0.00122, params: {'alpha_1': 0.2, 'lambda_1': 0.2, 'lambda_2': 0.1, 'alpha_2': 0.01},\n",
       "  mean: 0.01253, std: 0.00113, params: {'alpha_1': 0.2, 'lambda_1': 0.2, 'lambda_2': 0.2, 'alpha_2': 0.01},\n",
       "  mean: 0.01227, std: 0.00145, params: {'alpha_1': 0.2, 'lambda_1': 0.0001, 'lambda_2': 0.0001, 'alpha_2': 0},\n",
       "  mean: 0.01226, std: 0.00140, params: {'alpha_1': 0.2, 'lambda_1': 0.0001, 'lambda_2': 0.01, 'alpha_2': 0},\n",
       "  mean: 0.01227, std: 0.00145, params: {'alpha_1': 0.2, 'lambda_1': 0.0001, 'lambda_2': 0, 'alpha_2': 0},\n",
       "  mean: 0.01238, std: 0.00122, params: {'alpha_1': 0.2, 'lambda_1': 0.0001, 'lambda_2': 0.1, 'alpha_2': 0},\n",
       "  mean: 0.01254, std: 0.00113, params: {'alpha_1': 0.2, 'lambda_1': 0.0001, 'lambda_2': 0.2, 'alpha_2': 0},\n",
       "  mean: 0.01227, std: 0.00145, params: {'alpha_1': 0.2, 'lambda_1': 0.01, 'lambda_2': 0.0001, 'alpha_2': 0},\n",
       "  mean: 0.01226, std: 0.00140, params: {'alpha_1': 0.2, 'lambda_1': 0.01, 'lambda_2': 0.01, 'alpha_2': 0},\n",
       "  mean: 0.01227, std: 0.00145, params: {'alpha_1': 0.2, 'lambda_1': 0.01, 'lambda_2': 0, 'alpha_2': 0},\n",
       "  mean: 0.01238, std: 0.00122, params: {'alpha_1': 0.2, 'lambda_1': 0.01, 'lambda_2': 0.1, 'alpha_2': 0},\n",
       "  mean: 0.01254, std: 0.00113, params: {'alpha_1': 0.2, 'lambda_1': 0.01, 'lambda_2': 0.2, 'alpha_2': 0},\n",
       "  mean: 0.01227, std: 0.00145, params: {'alpha_1': 0.2, 'lambda_1': 0, 'lambda_2': 0.0001, 'alpha_2': 0},\n",
       "  mean: 0.01226, std: 0.00140, params: {'alpha_1': 0.2, 'lambda_1': 0, 'lambda_2': 0.01, 'alpha_2': 0},\n",
       "  mean: 0.01227, std: 0.00145, params: {'alpha_1': 0.2, 'lambda_1': 0, 'lambda_2': 0, 'alpha_2': 0},\n",
       "  mean: 0.01238, std: 0.00122, params: {'alpha_1': 0.2, 'lambda_1': 0, 'lambda_2': 0.1, 'alpha_2': 0},\n",
       "  mean: 0.01254, std: 0.00113, params: {'alpha_1': 0.2, 'lambda_1': 0, 'lambda_2': 0.2, 'alpha_2': 0},\n",
       "  mean: 0.01227, std: 0.00145, params: {'alpha_1': 0.2, 'lambda_1': 0.1, 'lambda_2': 0.0001, 'alpha_2': 0},\n",
       "  mean: 0.01226, std: 0.00140, params: {'alpha_1': 0.2, 'lambda_1': 0.1, 'lambda_2': 0.01, 'alpha_2': 0},\n",
       "  mean: 0.01227, std: 0.00145, params: {'alpha_1': 0.2, 'lambda_1': 0.1, 'lambda_2': 0, 'alpha_2': 0},\n",
       "  mean: 0.01238, std: 0.00122, params: {'alpha_1': 0.2, 'lambda_1': 0.1, 'lambda_2': 0.1, 'alpha_2': 0},\n",
       "  mean: 0.01254, std: 0.00113, params: {'alpha_1': 0.2, 'lambda_1': 0.1, 'lambda_2': 0.2, 'alpha_2': 0},\n",
       "  mean: 0.01227, std: 0.00145, params: {'alpha_1': 0.2, 'lambda_1': 0.2, 'lambda_2': 0.0001, 'alpha_2': 0},\n",
       "  mean: 0.01226, std: 0.00140, params: {'alpha_1': 0.2, 'lambda_1': 0.2, 'lambda_2': 0.01, 'alpha_2': 0},\n",
       "  mean: 0.01227, std: 0.00145, params: {'alpha_1': 0.2, 'lambda_1': 0.2, 'lambda_2': 0, 'alpha_2': 0},\n",
       "  mean: 0.01238, std: 0.00122, params: {'alpha_1': 0.2, 'lambda_1': 0.2, 'lambda_2': 0.1, 'alpha_2': 0},\n",
       "  mean: 0.01253, std: 0.00113, params: {'alpha_1': 0.2, 'lambda_1': 0.2, 'lambda_2': 0.2, 'alpha_2': 0},\n",
       "  mean: 0.01228, std: 0.00145, params: {'alpha_1': 0.2, 'lambda_1': 0.0001, 'lambda_2': 0.0001, 'alpha_2': 0.1},\n",
       "  mean: 0.01226, std: 0.00141, params: {'alpha_1': 0.2, 'lambda_1': 0.0001, 'lambda_2': 0.01, 'alpha_2': 0.1},\n",
       "  mean: 0.01228, std: 0.00145, params: {'alpha_1': 0.2, 'lambda_1': 0.0001, 'lambda_2': 0, 'alpha_2': 0.1},\n",
       "  mean: 0.01238, std: 0.00123, params: {'alpha_1': 0.2, 'lambda_1': 0.0001, 'lambda_2': 0.1, 'alpha_2': 0.1},\n",
       "  mean: 0.01253, std: 0.00113, params: {'alpha_1': 0.2, 'lambda_1': 0.0001, 'lambda_2': 0.2, 'alpha_2': 0.1},\n",
       "  mean: 0.01228, std: 0.00145, params: {'alpha_1': 0.2, 'lambda_1': 0.01, 'lambda_2': 0.0001, 'alpha_2': 0.1},\n",
       "  mean: 0.01226, std: 0.00141, params: {'alpha_1': 0.2, 'lambda_1': 0.01, 'lambda_2': 0.01, 'alpha_2': 0.1},\n",
       "  mean: 0.01228, std: 0.00145, params: {'alpha_1': 0.2, 'lambda_1': 0.01, 'lambda_2': 0, 'alpha_2': 0.1},\n",
       "  mean: 0.01238, std: 0.00123, params: {'alpha_1': 0.2, 'lambda_1': 0.01, 'lambda_2': 0.1, 'alpha_2': 0.1},\n",
       "  mean: 0.01253, std: 0.00113, params: {'alpha_1': 0.2, 'lambda_1': 0.01, 'lambda_2': 0.2, 'alpha_2': 0.1},\n",
       "  mean: 0.01228, std: 0.00145, params: {'alpha_1': 0.2, 'lambda_1': 0, 'lambda_2': 0.0001, 'alpha_2': 0.1},\n",
       "  mean: 0.01226, std: 0.00141, params: {'alpha_1': 0.2, 'lambda_1': 0, 'lambda_2': 0.01, 'alpha_2': 0.1},\n",
       "  mean: 0.01228, std: 0.00145, params: {'alpha_1': 0.2, 'lambda_1': 0, 'lambda_2': 0, 'alpha_2': 0.1},\n",
       "  mean: 0.01238, std: 0.00123, params: {'alpha_1': 0.2, 'lambda_1': 0, 'lambda_2': 0.1, 'alpha_2': 0.1},\n",
       "  mean: 0.01253, std: 0.00113, params: {'alpha_1': 0.2, 'lambda_1': 0, 'lambda_2': 0.2, 'alpha_2': 0.1},\n",
       "  mean: 0.01228, std: 0.00145, params: {'alpha_1': 0.2, 'lambda_1': 0.1, 'lambda_2': 0.0001, 'alpha_2': 0.1},\n",
       "  mean: 0.01226, std: 0.00141, params: {'alpha_1': 0.2, 'lambda_1': 0.1, 'lambda_2': 0.01, 'alpha_2': 0.1},\n",
       "  mean: 0.01228, std: 0.00145, params: {'alpha_1': 0.2, 'lambda_1': 0.1, 'lambda_2': 0, 'alpha_2': 0.1},\n",
       "  mean: 0.01238, std: 0.00123, params: {'alpha_1': 0.2, 'lambda_1': 0.1, 'lambda_2': 0.1, 'alpha_2': 0.1},\n",
       "  mean: 0.01252, std: 0.00113, params: {'alpha_1': 0.2, 'lambda_1': 0.1, 'lambda_2': 0.2, 'alpha_2': 0.1},\n",
       "  mean: 0.01228, std: 0.00145, params: {'alpha_1': 0.2, 'lambda_1': 0.2, 'lambda_2': 0.0001, 'alpha_2': 0.1},\n",
       "  mean: 0.01226, std: 0.00141, params: {'alpha_1': 0.2, 'lambda_1': 0.2, 'lambda_2': 0.01, 'alpha_2': 0.1},\n",
       "  mean: 0.01228, std: 0.00145, params: {'alpha_1': 0.2, 'lambda_1': 0.2, 'lambda_2': 0, 'alpha_2': 0.1},\n",
       "  mean: 0.01238, std: 0.00123, params: {'alpha_1': 0.2, 'lambda_1': 0.2, 'lambda_2': 0.1, 'alpha_2': 0.1},\n",
       "  mean: 0.01252, std: 0.00113, params: {'alpha_1': 0.2, 'lambda_1': 0.2, 'lambda_2': 0.2, 'alpha_2': 0.1},\n",
       "  mean: 0.01228, std: 0.00146, params: {'alpha_1': 0.2, 'lambda_1': 0.0001, 'lambda_2': 0.0001, 'alpha_2': 0.2},\n",
       "  mean: 0.01226, std: 0.00141, params: {'alpha_1': 0.2, 'lambda_1': 0.0001, 'lambda_2': 0.01, 'alpha_2': 0.2},\n",
       "  mean: 0.01228, std: 0.00146, params: {'alpha_1': 0.2, 'lambda_1': 0.0001, 'lambda_2': 0, 'alpha_2': 0.2},\n",
       "  mean: 0.01237, std: 0.00123, params: {'alpha_1': 0.2, 'lambda_1': 0.0001, 'lambda_2': 0.1, 'alpha_2': 0.2},\n",
       "  mean: 0.01251, std: 0.00114, params: {'alpha_1': 0.2, 'lambda_1': 0.0001, 'lambda_2': 0.2, 'alpha_2': 0.2},\n",
       "  mean: 0.01228, std: 0.00146, params: {'alpha_1': 0.2, 'lambda_1': 0.01, 'lambda_2': 0.0001, 'alpha_2': 0.2},\n",
       "  mean: 0.01226, std: 0.00142, params: {'alpha_1': 0.2, 'lambda_1': 0.01, 'lambda_2': 0.01, 'alpha_2': 0.2},\n",
       "  mean: 0.01228, std: 0.00146, params: {'alpha_1': 0.2, 'lambda_1': 0.01, 'lambda_2': 0, 'alpha_2': 0.2},\n",
       "  mean: 0.01237, std: 0.00123, params: {'alpha_1': 0.2, 'lambda_1': 0.01, 'lambda_2': 0.1, 'alpha_2': 0.2},\n",
       "  mean: 0.01251, std: 0.00114, params: {'alpha_1': 0.2, 'lambda_1': 0.01, 'lambda_2': 0.2, 'alpha_2': 0.2},\n",
       "  mean: 0.01228, std: 0.00146, params: {'alpha_1': 0.2, 'lambda_1': 0, 'lambda_2': 0.0001, 'alpha_2': 0.2},\n",
       "  mean: 0.01226, std: 0.00141, params: {'alpha_1': 0.2, 'lambda_1': 0, 'lambda_2': 0.01, 'alpha_2': 0.2},\n",
       "  mean: 0.01228, std: 0.00146, params: {'alpha_1': 0.2, 'lambda_1': 0, 'lambda_2': 0, 'alpha_2': 0.2},\n",
       "  mean: 0.01237, std: 0.00123, params: {'alpha_1': 0.2, 'lambda_1': 0, 'lambda_2': 0.1, 'alpha_2': 0.2},\n",
       "  mean: 0.01251, std: 0.00114, params: {'alpha_1': 0.2, 'lambda_1': 0, 'lambda_2': 0.2, 'alpha_2': 0.2},\n",
       "  mean: 0.01228, std: 0.00146, params: {'alpha_1': 0.2, 'lambda_1': 0.1, 'lambda_2': 0.0001, 'alpha_2': 0.2},\n",
       "  mean: 0.01226, std: 0.00142, params: {'alpha_1': 0.2, 'lambda_1': 0.1, 'lambda_2': 0.01, 'alpha_2': 0.2},\n",
       "  mean: 0.01228, std: 0.00146, params: {'alpha_1': 0.2, 'lambda_1': 0.1, 'lambda_2': 0, 'alpha_2': 0.2},\n",
       "  mean: 0.01237, std: 0.00123, params: {'alpha_1': 0.2, 'lambda_1': 0.1, 'lambda_2': 0.1, 'alpha_2': 0.2},\n",
       "  mean: 0.01251, std: 0.00114, params: {'alpha_1': 0.2, 'lambda_1': 0.1, 'lambda_2': 0.2, 'alpha_2': 0.2},\n",
       "  mean: 0.01228, std: 0.00146, params: {'alpha_1': 0.2, 'lambda_1': 0.2, 'lambda_2': 0.0001, 'alpha_2': 0.2},\n",
       "  mean: 0.01226, std: 0.00142, params: {'alpha_1': 0.2, 'lambda_1': 0.2, 'lambda_2': 0.01, 'alpha_2': 0.2},\n",
       "  mean: 0.01228, std: 0.00146, params: {'alpha_1': 0.2, 'lambda_1': 0.2, 'lambda_2': 0, 'alpha_2': 0.2},\n",
       "  mean: 0.01237, std: 0.00123, params: {'alpha_1': 0.2, 'lambda_1': 0.2, 'lambda_2': 0.1, 'alpha_2': 0.2},\n",
       "  mean: 0.01251, std: 0.00114, params: {'alpha_1': 0.2, 'lambda_1': 0.2, 'lambda_2': 0.2, 'alpha_2': 0.2}],\n",
       " {'alpha_1': 0.2, 'alpha_2': 0, 'lambda_1': 0, 'lambda_2': 0.2},\n",
       " 0.012536030702572988,\n",
       " BayesianRidge(alpha_1=0.2, alpha_2=0, compute_score=False, copy_X=True,\n",
       "        fit_intercept=True, lambda_1=0, lambda_2=0.2, n_iter=300,\n",
       "        normalize=False, tol=0.001, verbose=False))"
      ]
     },
     "execution_count": 10,
     "metadata": {},
     "output_type": "execute_result"
    }
   ],
   "source": [
    "hyperparaTuning(br, train_data, labels, param_grid_br)"
   ]
  },
  {
   "cell_type": "markdown",
   "metadata": {},
   "source": [
    "#### ElasticNet"
   ]
  },
  {
   "cell_type": "code",
   "execution_count": 34,
   "metadata": {
    "collapsed": true
   },
   "outputs": [],
   "source": [
    "en = ElasticNet()"
   ]
  },
  {
   "cell_type": "code",
   "execution_count": 92,
   "metadata": {
    "collapsed": true
   },
   "outputs": [],
   "source": [
    "param_grid_en = {'alpha': [0.1, 0.2, 0.3, 0.8], \n",
    "                 'l1_ratio': [1.5, 2, 3]\n",
    "    \n",
    "}"
   ]
  },
  {
   "cell_type": "code",
   "execution_count": 93,
   "metadata": {
    "collapsed": false
   },
   "outputs": [
    {
     "data": {
      "text/plain": [
       "([mean: 0.06366, std: 0.00585, params: {'l1_ratio': 1.5, 'alpha': 0.1},\n",
       "  mean: 0.08408, std: 0.00743, params: {'l1_ratio': 2, 'alpha': 0.1},\n",
       "  mean: 0.14313, std: 0.01307, params: {'l1_ratio': 3, 'alpha': 0.1},\n",
       "  mean: 0.14502, std: 0.01284, params: {'l1_ratio': 1.5, 'alpha': 0.2},\n",
       "  mean: 0.15995, std: 0.01061, params: {'l1_ratio': 2, 'alpha': 0.2},\n",
       "  mean: 0.15995, std: 0.01061, params: {'l1_ratio': 3, 'alpha': 0.2},\n",
       "  mean: 0.15995, std: 0.01061, params: {'l1_ratio': 1.5, 'alpha': 0.3},\n",
       "  mean: 0.15995, std: 0.01061, params: {'l1_ratio': 2, 'alpha': 0.3},\n",
       "  mean: 0.15995, std: 0.01061, params: {'l1_ratio': 3, 'alpha': 0.3},\n",
       "  mean: 0.15995, std: 0.01061, params: {'l1_ratio': 1.5, 'alpha': 0.8},\n",
       "  mean: 0.15995, std: 0.01061, params: {'l1_ratio': 2, 'alpha': 0.8},\n",
       "  mean: 0.15995, std: 0.01061, params: {'l1_ratio': 3, 'alpha': 0.8}],\n",
       " {'alpha': 0.2, 'l1_ratio': 2},\n",
       " 0.15995149307632398,\n",
       " ElasticNet(alpha=0.2, copy_X=True, fit_intercept=True, l1_ratio=2,\n",
       "       max_iter=1000, normalize=False, positive=False, precompute=False,\n",
       "       random_state=None, selection='cyclic', tol=0.0001, warm_start=False))"
      ]
     },
     "execution_count": 93,
     "metadata": {},
     "output_type": "execute_result"
    }
   ],
   "source": [
    "hyperparaTuning(en, train_data, labels, param_grid_en)"
   ]
  },
  {
   "cell_type": "markdown",
   "metadata": {},
   "source": [
    "#### HuberRegressor"
   ]
  },
  {
   "cell_type": "code",
   "execution_count": 43,
   "metadata": {
    "collapsed": true
   },
   "outputs": [],
   "source": [
    "hr = HuberRegressor()"
   ]
  },
  {
   "cell_type": "code",
   "execution_count": 45,
   "metadata": {
    "collapsed": true
   },
   "outputs": [],
   "source": [
    "param_grid_hr = {'alpha': [1000,100,10, 1],\n",
    "              'epsilon' : [1.2,1.25,1.50],\n",
    "              'tol' : [1e-10, 1e-9]}"
   ]
  },
  {
   "cell_type": "code",
   "execution_count": 44,
   "metadata": {
    "collapsed": false
   },
   "outputs": [
    {
     "data": {
      "text/plain": [
       "([mean: 0.01377, std: 0.00216, params: {'epsilon': 1.2, 'tol': 1e-10, 'alpha': 1000},\n",
       "  mean: 0.01377, std: 0.00216, params: {'epsilon': 1.2, 'tol': 1e-09, 'alpha': 1000},\n",
       "  mean: 0.01370, std: 0.00217, params: {'epsilon': 1.25, 'tol': 1e-10, 'alpha': 1000},\n",
       "  mean: 0.01370, std: 0.00217, params: {'epsilon': 1.25, 'tol': 1e-09, 'alpha': 1000},\n",
       "  mean: 0.01351, std: 0.00215, params: {'epsilon': 1.5, 'tol': 1e-10, 'alpha': 1000},\n",
       "  mean: 0.01351, std: 0.00215, params: {'epsilon': 1.5, 'tol': 1e-09, 'alpha': 1000},\n",
       "  mean: 0.01244, std: 0.00194, params: {'epsilon': 1.2, 'tol': 1e-10, 'alpha': 100},\n",
       "  mean: 0.01244, std: 0.00194, params: {'epsilon': 1.2, 'tol': 1e-09, 'alpha': 100},\n",
       "  mean: 0.01265, std: 0.00172, params: {'epsilon': 1.25, 'tol': 1e-10, 'alpha': 100},\n",
       "  mean: 0.01265, std: 0.00172, params: {'epsilon': 1.25, 'tol': 1e-09, 'alpha': 100},\n",
       "  mean: 0.01262, std: 0.00193, params: {'epsilon': 1.5, 'tol': 1e-10, 'alpha': 100},\n",
       "  mean: 0.01262, std: 0.00193, params: {'epsilon': 1.5, 'tol': 1e-09, 'alpha': 100},\n",
       "  mean: 0.01880, std: 0.00392, params: {'epsilon': 1.2, 'tol': 1e-10, 'alpha': 10},\n",
       "  mean: 0.01880, std: 0.00392, params: {'epsilon': 1.2, 'tol': 1e-09, 'alpha': 10},\n",
       "  mean: 0.01865, std: 0.00451, params: {'epsilon': 1.25, 'tol': 1e-10, 'alpha': 10},\n",
       "  mean: 0.01865, std: 0.00451, params: {'epsilon': 1.25, 'tol': 1e-09, 'alpha': 10},\n",
       "  mean: 0.01776, std: 0.00426, params: {'epsilon': 1.5, 'tol': 1e-10, 'alpha': 10},\n",
       "  mean: 0.01776, std: 0.00426, params: {'epsilon': 1.5, 'tol': 1e-09, 'alpha': 10},\n",
       "  mean: 0.01919, std: 0.00413, params: {'epsilon': 1.2, 'tol': 1e-10, 'alpha': 1},\n",
       "  mean: 0.01919, std: 0.00413, params: {'epsilon': 1.2, 'tol': 1e-09, 'alpha': 1},\n",
       "  mean: 0.01833, std: 0.00377, params: {'epsilon': 1.25, 'tol': 1e-10, 'alpha': 1},\n",
       "  mean: 0.01833, std: 0.00377, params: {'epsilon': 1.25, 'tol': 1e-09, 'alpha': 1},\n",
       "  mean: 0.01723, std: 0.00347, params: {'epsilon': 1.5, 'tol': 1e-10, 'alpha': 1},\n",
       "  mean: 0.01723, std: 0.00347, params: {'epsilon': 1.5, 'tol': 1e-09, 'alpha': 1}],\n",
       " {'alpha': 1, 'epsilon': 1.2, 'tol': 1e-10},\n",
       " 0.019190328099859582,\n",
       " HuberRegressor(alpha=1, epsilon=1.2, fit_intercept=True, max_iter=100,\n",
       "         tol=1e-10, warm_start=False))"
      ]
     },
     "execution_count": 44,
     "metadata": {},
     "output_type": "execute_result"
    }
   ],
   "source": [
    "hyperparaTuning(hr, train_data, labels, param_grid_hr)"
   ]
  },
  {
   "cell_type": "markdown",
   "metadata": {},
   "source": [
    "#### SVM RBF (SVR)"
   ]
  },
  {
   "cell_type": "code",
   "execution_count": 57,
   "metadata": {
    "collapsed": false
   },
   "outputs": [],
   "source": [
    "svm_rbf = svm.SVR()"
   ]
  },
  {
   "cell_type": "code",
   "execution_count": 65,
   "metadata": {
    "collapsed": true
   },
   "outputs": [],
   "source": [
    "param_grid_svr = {'tol': [0.0001, 0.001, 0.01, 0.1], \n",
    "                  'C': [1.0, 1.5, 2.0, 2.5], \n",
    "                  'epsilon': [1, 2, 3, 4]\n",
    "}"
   ]
  },
  {
   "cell_type": "code",
   "execution_count": 66,
   "metadata": {
    "collapsed": true
   },
   "outputs": [
    {
     "data": {
      "text/plain": [
       "([mean: 0.07818, std: 0.00867, params: {'C': 1.0, 'epsilon': 1, 'tol': 0.0001},\n",
       "  mean: 0.07819, std: 0.00867, params: {'C': 1.0, 'epsilon': 1, 'tol': 0.001},\n",
       "  mean: 0.07831, std: 0.00881, params: {'C': 1.0, 'epsilon': 1, 'tol': 0.01},\n",
       "  mean: 0.07734, std: 0.00962, params: {'C': 1.0, 'epsilon': 1, 'tol': 0.1},\n",
       "  mean: 0.16039, std: 0.01136, params: {'C': 1.0, 'epsilon': 2, 'tol': 0.0001},\n",
       "  mean: 0.16039, std: 0.01136, params: {'C': 1.0, 'epsilon': 2, 'tol': 0.001},\n",
       "  mean: 0.16039, std: 0.01136, params: {'C': 1.0, 'epsilon': 2, 'tol': 0.01},\n",
       "  mean: 0.16039, std: 0.01136, params: {'C': 1.0, 'epsilon': 2, 'tol': 0.1},\n",
       "  mean: 0.16039, std: 0.01136, params: {'C': 1.0, 'epsilon': 3, 'tol': 0.0001},\n",
       "  mean: 0.16039, std: 0.01136, params: {'C': 1.0, 'epsilon': 3, 'tol': 0.001},\n",
       "  mean: 0.16039, std: 0.01136, params: {'C': 1.0, 'epsilon': 3, 'tol': 0.01},\n",
       "  mean: 0.16039, std: 0.01136, params: {'C': 1.0, 'epsilon': 3, 'tol': 0.1},\n",
       "  mean: 0.16039, std: 0.01136, params: {'C': 1.0, 'epsilon': 4, 'tol': 0.0001},\n",
       "  mean: 0.16039, std: 0.01136, params: {'C': 1.0, 'epsilon': 4, 'tol': 0.001},\n",
       "  mean: 0.16039, std: 0.01136, params: {'C': 1.0, 'epsilon': 4, 'tol': 0.01},\n",
       "  mean: 0.16039, std: 0.01136, params: {'C': 1.0, 'epsilon': 4, 'tol': 0.1},\n",
       "  mean: 0.07818, std: 0.00867, params: {'C': 1.5, 'epsilon': 1, 'tol': 0.0001},\n",
       "  mean: 0.07819, std: 0.00867, params: {'C': 1.5, 'epsilon': 1, 'tol': 0.001},\n",
       "  mean: 0.07831, std: 0.00881, params: {'C': 1.5, 'epsilon': 1, 'tol': 0.01},\n",
       "  mean: 0.07734, std: 0.00962, params: {'C': 1.5, 'epsilon': 1, 'tol': 0.1},\n",
       "  mean: 0.16039, std: 0.01136, params: {'C': 1.5, 'epsilon': 2, 'tol': 0.0001},\n",
       "  mean: 0.16039, std: 0.01136, params: {'C': 1.5, 'epsilon': 2, 'tol': 0.001},\n",
       "  mean: 0.16039, std: 0.01136, params: {'C': 1.5, 'epsilon': 2, 'tol': 0.01},\n",
       "  mean: 0.16039, std: 0.01136, params: {'C': 1.5, 'epsilon': 2, 'tol': 0.1},\n",
       "  mean: 0.16039, std: 0.01136, params: {'C': 1.5, 'epsilon': 3, 'tol': 0.0001},\n",
       "  mean: 0.16039, std: 0.01136, params: {'C': 1.5, 'epsilon': 3, 'tol': 0.001},\n",
       "  mean: 0.16039, std: 0.01136, params: {'C': 1.5, 'epsilon': 3, 'tol': 0.01},\n",
       "  mean: 0.16039, std: 0.01136, params: {'C': 1.5, 'epsilon': 3, 'tol': 0.1},\n",
       "  mean: 0.16039, std: 0.01136, params: {'C': 1.5, 'epsilon': 4, 'tol': 0.0001},\n",
       "  mean: 0.16039, std: 0.01136, params: {'C': 1.5, 'epsilon': 4, 'tol': 0.001},\n",
       "  mean: 0.16039, std: 0.01136, params: {'C': 1.5, 'epsilon': 4, 'tol': 0.01},\n",
       "  mean: 0.16039, std: 0.01136, params: {'C': 1.5, 'epsilon': 4, 'tol': 0.1},\n",
       "  mean: 0.07818, std: 0.00867, params: {'C': 2.0, 'epsilon': 1, 'tol': 0.0001},\n",
       "  mean: 0.07819, std: 0.00867, params: {'C': 2.0, 'epsilon': 1, 'tol': 0.001},\n",
       "  mean: 0.07831, std: 0.00881, params: {'C': 2.0, 'epsilon': 1, 'tol': 0.01},\n",
       "  mean: 0.07734, std: 0.00962, params: {'C': 2.0, 'epsilon': 1, 'tol': 0.1},\n",
       "  mean: 0.16039, std: 0.01136, params: {'C': 2.0, 'epsilon': 2, 'tol': 0.0001},\n",
       "  mean: 0.16039, std: 0.01136, params: {'C': 2.0, 'epsilon': 2, 'tol': 0.001},\n",
       "  mean: 0.16039, std: 0.01136, params: {'C': 2.0, 'epsilon': 2, 'tol': 0.01},\n",
       "  mean: 0.16039, std: 0.01136, params: {'C': 2.0, 'epsilon': 2, 'tol': 0.1},\n",
       "  mean: 0.16039, std: 0.01136, params: {'C': 2.0, 'epsilon': 3, 'tol': 0.0001},\n",
       "  mean: 0.16039, std: 0.01136, params: {'C': 2.0, 'epsilon': 3, 'tol': 0.001},\n",
       "  mean: 0.16039, std: 0.01136, params: {'C': 2.0, 'epsilon': 3, 'tol': 0.01},\n",
       "  mean: 0.16039, std: 0.01136, params: {'C': 2.0, 'epsilon': 3, 'tol': 0.1},\n",
       "  mean: 0.16039, std: 0.01136, params: {'C': 2.0, 'epsilon': 4, 'tol': 0.0001},\n",
       "  mean: 0.16039, std: 0.01136, params: {'C': 2.0, 'epsilon': 4, 'tol': 0.001},\n",
       "  mean: 0.16039, std: 0.01136, params: {'C': 2.0, 'epsilon': 4, 'tol': 0.01},\n",
       "  mean: 0.16039, std: 0.01136, params: {'C': 2.0, 'epsilon': 4, 'tol': 0.1},\n",
       "  mean: 0.07818, std: 0.00867, params: {'C': 2.5, 'epsilon': 1, 'tol': 0.0001},\n",
       "  mean: 0.07819, std: 0.00867, params: {'C': 2.5, 'epsilon': 1, 'tol': 0.001},\n",
       "  mean: 0.07831, std: 0.00881, params: {'C': 2.5, 'epsilon': 1, 'tol': 0.01},\n",
       "  mean: 0.07734, std: 0.00962, params: {'C': 2.5, 'epsilon': 1, 'tol': 0.1},\n",
       "  mean: 0.16039, std: 0.01136, params: {'C': 2.5, 'epsilon': 2, 'tol': 0.0001},\n",
       "  mean: 0.16039, std: 0.01136, params: {'C': 2.5, 'epsilon': 2, 'tol': 0.001},\n",
       "  mean: 0.16039, std: 0.01136, params: {'C': 2.5, 'epsilon': 2, 'tol': 0.01},\n",
       "  mean: 0.16039, std: 0.01136, params: {'C': 2.5, 'epsilon': 2, 'tol': 0.1},\n",
       "  mean: 0.16039, std: 0.01136, params: {'C': 2.5, 'epsilon': 3, 'tol': 0.0001},\n",
       "  mean: 0.16039, std: 0.01136, params: {'C': 2.5, 'epsilon': 3, 'tol': 0.001},\n",
       "  mean: 0.16039, std: 0.01136, params: {'C': 2.5, 'epsilon': 3, 'tol': 0.01},\n",
       "  mean: 0.16039, std: 0.01136, params: {'C': 2.5, 'epsilon': 3, 'tol': 0.1},\n",
       "  mean: 0.16039, std: 0.01136, params: {'C': 2.5, 'epsilon': 4, 'tol': 0.0001},\n",
       "  mean: 0.16039, std: 0.01136, params: {'C': 2.5, 'epsilon': 4, 'tol': 0.001},\n",
       "  mean: 0.16039, std: 0.01136, params: {'C': 2.5, 'epsilon': 4, 'tol': 0.01},\n",
       "  mean: 0.16039, std: 0.01136, params: {'C': 2.5, 'epsilon': 4, 'tol': 0.1}],\n",
       " {'C': 1.0, 'epsilon': 2, 'tol': 0.0001},\n",
       " 0.16039197562813168,\n",
       " SVR(C=1.0, cache_size=200, coef0=0.0, degree=3, epsilon=2, gamma='auto',\n",
       "   kernel='rbf', max_iter=-1, shrinking=True, tol=0.0001, verbose=False))"
      ]
     },
     "execution_count": 66,
     "metadata": {},
     "output_type": "execute_result"
    }
   ],
   "source": [
    "hyperparaTuning(svm_rbf, train_data, labels, param_grid_svr)"
   ]
  },
  {
   "cell_type": "markdown",
   "metadata": {},
   "source": [
    "#### SVM Linear (SVR(kernel=\"linear\"))"
   ]
  },
  {
   "cell_type": "code",
   "execution_count": 68,
   "metadata": {
    "collapsed": true
   },
   "outputs": [],
   "source": [
    "svm_ln = svm.SVR(kernel=\"linear\")"
   ]
  },
  {
   "cell_type": "code",
   "execution_count": 69,
   "metadata": {
    "collapsed": true
   },
   "outputs": [],
   "source": [
    "param_grid_svm = {'tol': [0.0001, 0.001, 0.01, 0.1], \n",
    "                  'C': [1.0, 1.5, 2.0, 2.5], \n",
    "                  'epsilon': [1, 2, 3, 4]\n",
    "}"
   ]
  },
  {
   "cell_type": "code",
   "execution_count": 70,
   "metadata": {
    "collapsed": true
   },
   "outputs": [
    {
     "data": {
      "text/plain": [
       "([mean: 0.07539, std: 0.00931, params: {'C': 1.0, 'epsilon': 1, 'tol': 0.0001},\n",
       "  mean: 0.07536, std: 0.00931, params: {'C': 1.0, 'epsilon': 1, 'tol': 0.001},\n",
       "  mean: 0.07527, std: 0.00918, params: {'C': 1.0, 'epsilon': 1, 'tol': 0.01},\n",
       "  mean: 0.07580, std: 0.01050, params: {'C': 1.0, 'epsilon': 1, 'tol': 0.1},\n",
       "  mean: 0.16039, std: 0.01136, params: {'C': 1.0, 'epsilon': 2, 'tol': 0.0001},\n",
       "  mean: 0.16039, std: 0.01136, params: {'C': 1.0, 'epsilon': 2, 'tol': 0.001},\n",
       "  mean: 0.16039, std: 0.01136, params: {'C': 1.0, 'epsilon': 2, 'tol': 0.01},\n",
       "  mean: 0.16039, std: 0.01136, params: {'C': 1.0, 'epsilon': 2, 'tol': 0.1},\n",
       "  mean: 0.16039, std: 0.01136, params: {'C': 1.0, 'epsilon': 3, 'tol': 0.0001},\n",
       "  mean: 0.16039, std: 0.01136, params: {'C': 1.0, 'epsilon': 3, 'tol': 0.001},\n",
       "  mean: 0.16039, std: 0.01136, params: {'C': 1.0, 'epsilon': 3, 'tol': 0.01},\n",
       "  mean: 0.16039, std: 0.01136, params: {'C': 1.0, 'epsilon': 3, 'tol': 0.1},\n",
       "  mean: 0.16039, std: 0.01136, params: {'C': 1.0, 'epsilon': 4, 'tol': 0.0001},\n",
       "  mean: 0.16039, std: 0.01136, params: {'C': 1.0, 'epsilon': 4, 'tol': 0.001},\n",
       "  mean: 0.16039, std: 0.01136, params: {'C': 1.0, 'epsilon': 4, 'tol': 0.01},\n",
       "  mean: 0.16039, std: 0.01136, params: {'C': 1.0, 'epsilon': 4, 'tol': 0.1},\n",
       "  mean: 0.07539, std: 0.00931, params: {'C': 1.5, 'epsilon': 1, 'tol': 0.0001},\n",
       "  mean: 0.07536, std: 0.00931, params: {'C': 1.5, 'epsilon': 1, 'tol': 0.001},\n",
       "  mean: 0.07527, std: 0.00918, params: {'C': 1.5, 'epsilon': 1, 'tol': 0.01},\n",
       "  mean: 0.07580, std: 0.01050, params: {'C': 1.5, 'epsilon': 1, 'tol': 0.1},\n",
       "  mean: 0.16039, std: 0.01136, params: {'C': 1.5, 'epsilon': 2, 'tol': 0.0001},\n",
       "  mean: 0.16039, std: 0.01136, params: {'C': 1.5, 'epsilon': 2, 'tol': 0.001},\n",
       "  mean: 0.16039, std: 0.01136, params: {'C': 1.5, 'epsilon': 2, 'tol': 0.01},\n",
       "  mean: 0.16039, std: 0.01136, params: {'C': 1.5, 'epsilon': 2, 'tol': 0.1},\n",
       "  mean: 0.16039, std: 0.01136, params: {'C': 1.5, 'epsilon': 3, 'tol': 0.0001},\n",
       "  mean: 0.16039, std: 0.01136, params: {'C': 1.5, 'epsilon': 3, 'tol': 0.001},\n",
       "  mean: 0.16039, std: 0.01136, params: {'C': 1.5, 'epsilon': 3, 'tol': 0.01},\n",
       "  mean: 0.16039, std: 0.01136, params: {'C': 1.5, 'epsilon': 3, 'tol': 0.1},\n",
       "  mean: 0.16039, std: 0.01136, params: {'C': 1.5, 'epsilon': 4, 'tol': 0.0001},\n",
       "  mean: 0.16039, std: 0.01136, params: {'C': 1.5, 'epsilon': 4, 'tol': 0.001},\n",
       "  mean: 0.16039, std: 0.01136, params: {'C': 1.5, 'epsilon': 4, 'tol': 0.01},\n",
       "  mean: 0.16039, std: 0.01136, params: {'C': 1.5, 'epsilon': 4, 'tol': 0.1},\n",
       "  mean: 0.07539, std: 0.00931, params: {'C': 2.0, 'epsilon': 1, 'tol': 0.0001},\n",
       "  mean: 0.07536, std: 0.00931, params: {'C': 2.0, 'epsilon': 1, 'tol': 0.001},\n",
       "  mean: 0.07527, std: 0.00918, params: {'C': 2.0, 'epsilon': 1, 'tol': 0.01},\n",
       "  mean: 0.07580, std: 0.01050, params: {'C': 2.0, 'epsilon': 1, 'tol': 0.1},\n",
       "  mean: 0.16039, std: 0.01136, params: {'C': 2.0, 'epsilon': 2, 'tol': 0.0001},\n",
       "  mean: 0.16039, std: 0.01136, params: {'C': 2.0, 'epsilon': 2, 'tol': 0.001},\n",
       "  mean: 0.16039, std: 0.01136, params: {'C': 2.0, 'epsilon': 2, 'tol': 0.01},\n",
       "  mean: 0.16039, std: 0.01136, params: {'C': 2.0, 'epsilon': 2, 'tol': 0.1},\n",
       "  mean: 0.16039, std: 0.01136, params: {'C': 2.0, 'epsilon': 3, 'tol': 0.0001},\n",
       "  mean: 0.16039, std: 0.01136, params: {'C': 2.0, 'epsilon': 3, 'tol': 0.001},\n",
       "  mean: 0.16039, std: 0.01136, params: {'C': 2.0, 'epsilon': 3, 'tol': 0.01},\n",
       "  mean: 0.16039, std: 0.01136, params: {'C': 2.0, 'epsilon': 3, 'tol': 0.1},\n",
       "  mean: 0.16039, std: 0.01136, params: {'C': 2.0, 'epsilon': 4, 'tol': 0.0001},\n",
       "  mean: 0.16039, std: 0.01136, params: {'C': 2.0, 'epsilon': 4, 'tol': 0.001},\n",
       "  mean: 0.16039, std: 0.01136, params: {'C': 2.0, 'epsilon': 4, 'tol': 0.01},\n",
       "  mean: 0.16039, std: 0.01136, params: {'C': 2.0, 'epsilon': 4, 'tol': 0.1},\n",
       "  mean: 0.07539, std: 0.00931, params: {'C': 2.5, 'epsilon': 1, 'tol': 0.0001},\n",
       "  mean: 0.07536, std: 0.00931, params: {'C': 2.5, 'epsilon': 1, 'tol': 0.001},\n",
       "  mean: 0.07527, std: 0.00918, params: {'C': 2.5, 'epsilon': 1, 'tol': 0.01},\n",
       "  mean: 0.07580, std: 0.01050, params: {'C': 2.5, 'epsilon': 1, 'tol': 0.1},\n",
       "  mean: 0.16039, std: 0.01136, params: {'C': 2.5, 'epsilon': 2, 'tol': 0.0001},\n",
       "  mean: 0.16039, std: 0.01136, params: {'C': 2.5, 'epsilon': 2, 'tol': 0.001},\n",
       "  mean: 0.16039, std: 0.01136, params: {'C': 2.5, 'epsilon': 2, 'tol': 0.01},\n",
       "  mean: 0.16039, std: 0.01136, params: {'C': 2.5, 'epsilon': 2, 'tol': 0.1},\n",
       "  mean: 0.16039, std: 0.01136, params: {'C': 2.5, 'epsilon': 3, 'tol': 0.0001},\n",
       "  mean: 0.16039, std: 0.01136, params: {'C': 2.5, 'epsilon': 3, 'tol': 0.001},\n",
       "  mean: 0.16039, std: 0.01136, params: {'C': 2.5, 'epsilon': 3, 'tol': 0.01},\n",
       "  mean: 0.16039, std: 0.01136, params: {'C': 2.5, 'epsilon': 3, 'tol': 0.1},\n",
       "  mean: 0.16039, std: 0.01136, params: {'C': 2.5, 'epsilon': 4, 'tol': 0.0001},\n",
       "  mean: 0.16039, std: 0.01136, params: {'C': 2.5, 'epsilon': 4, 'tol': 0.001},\n",
       "  mean: 0.16039, std: 0.01136, params: {'C': 2.5, 'epsilon': 4, 'tol': 0.01},\n",
       "  mean: 0.16039, std: 0.01136, params: {'C': 2.5, 'epsilon': 4, 'tol': 0.1}],\n",
       " {'C': 1.0, 'epsilon': 2, 'tol': 0.0001},\n",
       " 0.16039197562813168,\n",
       " SVR(C=1.0, cache_size=200, coef0=0.0, degree=3, epsilon=2, gamma='auto',\n",
       "   kernel='linear', max_iter=-1, shrinking=True, tol=0.0001, verbose=False))"
      ]
     },
     "execution_count": 70,
     "metadata": {},
     "output_type": "execute_result"
    }
   ],
   "source": [
    "hyperparaTuning(svm_ln, train_data, labels, param_grid_svm)"
   ]
  },
  {
   "cell_type": "markdown",
   "metadata": {},
   "source": [
    "#### RandomForestRegressor"
   ]
  },
  {
   "cell_type": "code",
   "execution_count": 71,
   "metadata": {
    "collapsed": true
   },
   "outputs": [],
   "source": [
    "rf = RandomForestRegressor()"
   ]
  },
  {
   "cell_type": "code",
   "execution_count": 84,
   "metadata": {
    "collapsed": false
   },
   "outputs": [],
   "source": [
    "param_grid_rf = {'max_depth': [3, 5],\n",
    "                 'min_samples_split': [3, 5],\n",
    "                 'min_samples_leaf': [9, 11],\n",
    "                 'min_weight_fraction_leaf': [0.001, 0.1, 0]    \n",
    "}"
   ]
  },
  {
   "cell_type": "code",
   "execution_count": 85,
   "metadata": {
    "collapsed": true
   },
   "outputs": [
    {
     "data": {
      "text/plain": [
       "([mean: 0.04019, std: 0.00372, params: {'min_samples_leaf': 9, 'max_depth': 3, 'min_weight_fraction_leaf': 0.001, 'min_samples_split': 3},\n",
       "  mean: 0.04414, std: 0.00454, params: {'min_samples_leaf': 9, 'max_depth': 3, 'min_weight_fraction_leaf': 0.1, 'min_samples_split': 3},\n",
       "  mean: 0.03961, std: 0.00442, params: {'min_samples_leaf': 9, 'max_depth': 3, 'min_weight_fraction_leaf': 0, 'min_samples_split': 3},\n",
       "  mean: 0.04053, std: 0.00375, params: {'min_samples_leaf': 9, 'max_depth': 3, 'min_weight_fraction_leaf': 0.001, 'min_samples_split': 5},\n",
       "  mean: 0.04587, std: 0.00444, params: {'min_samples_leaf': 9, 'max_depth': 3, 'min_weight_fraction_leaf': 0.1, 'min_samples_split': 5},\n",
       "  mean: 0.03837, std: 0.00177, params: {'min_samples_leaf': 9, 'max_depth': 3, 'min_weight_fraction_leaf': 0, 'min_samples_split': 5},\n",
       "  mean: 0.04002, std: 0.00407, params: {'min_samples_leaf': 11, 'max_depth': 3, 'min_weight_fraction_leaf': 0.001, 'min_samples_split': 3},\n",
       "  mean: 0.04613, std: 0.00485, params: {'min_samples_leaf': 11, 'max_depth': 3, 'min_weight_fraction_leaf': 0.1, 'min_samples_split': 3},\n",
       "  mean: 0.04069, std: 0.00263, params: {'min_samples_leaf': 11, 'max_depth': 3, 'min_weight_fraction_leaf': 0, 'min_samples_split': 3},\n",
       "  mean: 0.04127, std: 0.00360, params: {'min_samples_leaf': 11, 'max_depth': 3, 'min_weight_fraction_leaf': 0.001, 'min_samples_split': 5},\n",
       "  mean: 0.04643, std: 0.00351, params: {'min_samples_leaf': 11, 'max_depth': 3, 'min_weight_fraction_leaf': 0.1, 'min_samples_split': 5},\n",
       "  mean: 0.03988, std: 0.00372, params: {'min_samples_leaf': 11, 'max_depth': 3, 'min_weight_fraction_leaf': 0, 'min_samples_split': 5},\n",
       "  mean: 0.02701, std: 0.00365, params: {'min_samples_leaf': 9, 'max_depth': 5, 'min_weight_fraction_leaf': 0.001, 'min_samples_split': 3},\n",
       "  mean: 0.04255, std: 0.00456, params: {'min_samples_leaf': 9, 'max_depth': 5, 'min_weight_fraction_leaf': 0.1, 'min_samples_split': 3},\n",
       "  mean: 0.02680, std: 0.00359, params: {'min_samples_leaf': 9, 'max_depth': 5, 'min_weight_fraction_leaf': 0, 'min_samples_split': 3},\n",
       "  mean: 0.02720, std: 0.00277, params: {'min_samples_leaf': 9, 'max_depth': 5, 'min_weight_fraction_leaf': 0.001, 'min_samples_split': 5},\n",
       "  mean: 0.04473, std: 0.00466, params: {'min_samples_leaf': 9, 'max_depth': 5, 'min_weight_fraction_leaf': 0.1, 'min_samples_split': 5},\n",
       "  mean: 0.02808, std: 0.00313, params: {'min_samples_leaf': 9, 'max_depth': 5, 'min_weight_fraction_leaf': 0, 'min_samples_split': 5},\n",
       "  mean: 0.02661, std: 0.00349, params: {'min_samples_leaf': 11, 'max_depth': 5, 'min_weight_fraction_leaf': 0.001, 'min_samples_split': 3},\n",
       "  mean: 0.04384, std: 0.00427, params: {'min_samples_leaf': 11, 'max_depth': 5, 'min_weight_fraction_leaf': 0.1, 'min_samples_split': 3},\n",
       "  mean: 0.02735, std: 0.00284, params: {'min_samples_leaf': 11, 'max_depth': 5, 'min_weight_fraction_leaf': 0, 'min_samples_split': 3},\n",
       "  mean: 0.02814, std: 0.00253, params: {'min_samples_leaf': 11, 'max_depth': 5, 'min_weight_fraction_leaf': 0.001, 'min_samples_split': 5},\n",
       "  mean: 0.04482, std: 0.00245, params: {'min_samples_leaf': 11, 'max_depth': 5, 'min_weight_fraction_leaf': 0.1, 'min_samples_split': 5},\n",
       "  mean: 0.02751, std: 0.00356, params: {'min_samples_leaf': 11, 'max_depth': 5, 'min_weight_fraction_leaf': 0, 'min_samples_split': 5}],\n",
       " {'max_depth': 3,\n",
       "  'min_samples_leaf': 11,\n",
       "  'min_samples_split': 5,\n",
       "  'min_weight_fraction_leaf': 0.1},\n",
       " 0.04643309528638849,\n",
       " RandomForestRegressor(bootstrap=True, criterion='mse', max_depth=3,\n",
       "            max_features='auto', max_leaf_nodes=None,\n",
       "            min_impurity_split=1e-07, min_samples_leaf=11,\n",
       "            min_samples_split=5, min_weight_fraction_leaf=0.1,\n",
       "            n_estimators=10, n_jobs=1, oob_score=False, random_state=None,\n",
       "            verbose=0, warm_start=False))"
      ]
     },
     "execution_count": 85,
     "metadata": {},
     "output_type": "execute_result"
    }
   ],
   "source": [
    "hyperparaTuning(rf, train_data, labels, param_grid_rf)"
   ]
  },
  {
   "cell_type": "markdown",
   "metadata": {},
   "source": [
    "#### AdaBoostRegressor"
   ]
  },
  {
   "cell_type": "code",
   "execution_count": 100,
   "metadata": {
    "collapsed": true
   },
   "outputs": [],
   "source": [
    "ab = AdaBoostRegressor()"
   ]
  },
  {
   "cell_type": "code",
   "execution_count": 101,
   "metadata": {
    "collapsed": true
   },
   "outputs": [],
   "source": [
    "param_grid_ab = {'learning_rate': [0.001, 0.01, 0.1]\n",
    "    \n",
    "}"
   ]
  },
  {
   "cell_type": "code",
   "execution_count": 102,
   "metadata": {
    "collapsed": true
   },
   "outputs": [
    {
     "data": {
      "text/plain": [
       "([mean: 0.04335, std: 0.00331, params: {'learning_rate': 0.001},\n",
       "  mean: 0.04311, std: 0.00311, params: {'learning_rate': 0.01},\n",
       "  mean: 0.03454, std: 0.00442, params: {'learning_rate': 0.1}],\n",
       " {'learning_rate': 0.001},\n",
       " 0.043353672553229423,\n",
       " AdaBoostRegressor(base_estimator=None, learning_rate=0.001, loss='linear',\n",
       "          n_estimators=50, random_state=None))"
      ]
     },
     "execution_count": 102,
     "metadata": {},
     "output_type": "execute_result"
    }
   ],
   "source": [
    "hyperparaTuning(ab, train_data, labels, param_grid_ab)"
   ]
  },
  {
   "cell_type": "markdown",
   "metadata": {},
   "source": [
    "#### BaggingRegressor"
   ]
  },
  {
   "cell_type": "code",
   "execution_count": 81,
   "metadata": {
    "collapsed": true
   },
   "outputs": [],
   "source": [
    "bg = BaggingRegressor()"
   ]
  },
  {
   "cell_type": "code",
   "execution_count": 96,
   "metadata": {
    "collapsed": true
   },
   "outputs": [],
   "source": [
    "param_grid_bg = {'n_estimators': [10, 30],\n",
    "                 'max_samples': [3, 5],\n",
    "                 'max_features': [3, 5]\n",
    "    \n",
    "}"
   ]
  },
  {
   "cell_type": "code",
   "execution_count": 97,
   "metadata": {
    "collapsed": true
   },
   "outputs": [
    {
     "data": {
      "text/plain": [
       "([mean: 0.15771, std: 0.01575, params: {'max_features': 3, 'max_samples': 3, 'n_estimators': 10},\n",
       "  mean: 0.14597, std: 0.01412, params: {'max_features': 3, 'max_samples': 3, 'n_estimators': 30},\n",
       "  mean: 0.14346, std: 0.01416, params: {'max_features': 3, 'max_samples': 5, 'n_estimators': 10},\n",
       "  mean: 0.13105, std: 0.01191, params: {'max_features': 3, 'max_samples': 5, 'n_estimators': 30},\n",
       "  mean: 0.14961, std: 0.02279, params: {'max_features': 5, 'max_samples': 3, 'n_estimators': 10},\n",
       "  mean: 0.13807, std: 0.01719, params: {'max_features': 5, 'max_samples': 3, 'n_estimators': 30},\n",
       "  mean: 0.12285, std: 0.02094, params: {'max_features': 5, 'max_samples': 5, 'n_estimators': 10},\n",
       "  mean: 0.12127, std: 0.01531, params: {'max_features': 5, 'max_samples': 5, 'n_estimators': 30}],\n",
       " {'max_features': 3, 'max_samples': 3, 'n_estimators': 10},\n",
       " 0.15770689001274149,\n",
       " BaggingRegressor(base_estimator=None, bootstrap=True,\n",
       "          bootstrap_features=False, max_features=3, max_samples=3,\n",
       "          n_estimators=10, n_jobs=1, oob_score=False, random_state=None,\n",
       "          verbose=0, warm_start=False))"
      ]
     },
     "execution_count": 97,
     "metadata": {},
     "output_type": "execute_result"
    }
   ],
   "source": [
    "hyperparaTuning(bg, train_data, labels, param_grid_bg)"
   ]
  },
  {
   "cell_type": "markdown",
   "metadata": {},
   "source": [
    "#### XGBRegressor"
   ]
  },
  {
   "cell_type": "code",
   "execution_count": 111,
   "metadata": {
    "collapsed": true
   },
   "outputs": [],
   "source": [
    "xgb = XGBRegressor(objective = 'reg:linear')"
   ]
  },
  {
   "cell_type": "code",
   "execution_count": 128,
   "metadata": {
    "collapsed": false
   },
   "outputs": [],
   "source": [
    "param_grid_xgb = {'max_depth': [3], \n",
    "                  'learning_rate': [0.01], \n",
    "                  'n_estimators': [100], \n",
    "                  'gamma': [0.01], \n",
    "                  'min_child_weight': [5], \n",
    "                  'subsample': [0.6], \n",
    "                  'colsample_bytree': [0.1], \n",
    "                  'reg_alpha': [0.01], \n",
    "                  'reg_lambda': [0.01]\n",
    "    \n",
    "}"
   ]
  },
  {
   "cell_type": "code",
   "execution_count": 129,
   "metadata": {
    "collapsed": false
   },
   "outputs": [
    {
     "data": {
      "text/plain": [
       "([mean: 17.86428, std: 0.12644, params: {'gamma': 0.01, 'reg_alpha': 0.01, 'colsample_bytree': 0.1, 'subsample': 0.6, 'min_child_weight': 5, 'max_depth': 3, 'reg_lambda': 0.01, 'n_estimators': 100, 'learning_rate': 0.01}],\n",
       " {'colsample_bytree': 0.1,\n",
       "  'gamma': 0.01,\n",
       "  'learning_rate': 0.01,\n",
       "  'max_depth': 3,\n",
       "  'min_child_weight': 5,\n",
       "  'n_estimators': 100,\n",
       "  'reg_alpha': 0.01,\n",
       "  'reg_lambda': 0.01,\n",
       "  'subsample': 0.6},\n",
       " 17.864279712249921,\n",
       " XGBRegressor(base_score=0.5, colsample_bylevel=1, colsample_bytree=0.1,\n",
       "        gamma=0.01, learning_rate=0.01, max_delta_step=0, max_depth=3,\n",
       "        min_child_weight=5, missing=None, n_estimators=100, nthread=-1,\n",
       "        objective='reg:linear', reg_alpha=0.01, reg_lambda=0.01,\n",
       "        scale_pos_weight=1, seed=0, silent=True, subsample=0.6))"
      ]
     },
     "execution_count": 129,
     "metadata": {},
     "output_type": "execute_result"
    }
   ],
   "source": [
    "hyperparaTuning(xgb, train_data, labels, param_grid_xgb)"
   ]
  },
  {
   "cell_type": "markdown",
   "metadata": {},
   "source": [
    "## Stacking first models"
   ]
  },
  {
   "cell_type": "code",
   "execution_count": 6,
   "metadata": {
    "collapsed": true
   },
   "outputs": [],
   "source": [
    "x_train = np.array(train_data)\n",
    "x_test = np.array(test_data)\n",
    "y_train = labels"
   ]
  },
  {
   "cell_type": "code",
   "execution_count": 7,
   "metadata": {
    "collapsed": true
   },
   "outputs": [],
   "source": [
    "y_train = y_train.reset_index()\n",
    "del y_train['index']\n",
    "y_train = y_train['SalePrice']"
   ]
  },
  {
   "cell_type": "code",
   "execution_count": 17,
   "metadata": {
    "collapsed": false
   },
   "outputs": [],
   "source": [
    "NFOLDS = 5\n",
    "SEED = 3"
   ]
  },
  {
   "cell_type": "code",
   "execution_count": 20,
   "metadata": {
    "collapsed": false
   },
   "outputs": [],
   "source": [
    "kf = KFold(n_splits=5, shuffle=True, random_state=45).split(train_data)"
   ]
  },
  {
   "cell_type": "code",
   "execution_count": 21,
   "metadata": {
    "collapsed": true
   },
   "outputs": [],
   "source": [
    "#out of folds\n",
    "def get_oof(clf):\n",
    "    oof_train = np.zeros((ntrain,))\n",
    "    oof_test = np.zeros((ntest,))\n",
    "    oof_test_skf = np.empty((NFOLDS, ntest))\n",
    "\n",
    "    for i, (train_index, test_index) in enumerate(kf):\n",
    "        x_tr = x_train[train_index]\n",
    "        y_tr = y_train[train_index]\n",
    "        x_te = x_train[test_index]\n",
    "\n",
    "        clf.fit(x_tr, y_tr)\n",
    "\n",
    "        oof_train[test_index] = clf.predict(x_te)\n",
    "        oof_test_skf[i, :] = clf.predict(x_test)\n",
    "\n",
    "    oof_test[:] = oof_test_skf.mean(axis=0)\n",
    "    return oof_train.reshape(-1, 1), oof_test.reshape(-1, 1)"
   ]
  },
  {
   "cell_type": "code",
   "execution_count": 22,
   "metadata": {
    "collapsed": false
   },
   "outputs": [],
   "source": [
    "br = BayesianRidge(alpha_1=0.2, alpha_2=0, compute_score=False, copy_X=True,\n",
    "                   fit_intercept=True, lambda_1=0, lambda_2=0.2, n_iter=300,\n",
    "                   normalize=False, tol=0.001, verbose=False)\n",
    "\n",
    "en = ElasticNet(alpha=0.2, copy_X=True, fit_intercept=True, l1_ratio=2,\n",
    "                max_iter=1000, normalize=False, positive=False, precompute=False,\n",
    "                random_state=None, selection='cyclic', tol=0.0001, warm_start=False)\n",
    "\n",
    "hr = HuberRegressor(alpha=1, epsilon=1.2, fit_intercept=True, max_iter=100,\n",
    "                    tol=1e-10, warm_start=False)\n",
    "\n",
    "svm_rbf = svm.SVR(C=1.0, cache_size=200, coef0=0.0, degree=3, epsilon=2, gamma='auto',\n",
    "          kernel='rbf', max_iter=-1, shrinking=True, tol=0.0001, verbose=False)\n",
    "\n",
    "svm_ln = svm.SVR(C=1.0, cache_size=200, coef0=0.0, degree=3, epsilon=2, gamma='auto',\n",
    "             kernel='linear', max_iter=-1, shrinking=True, tol=0.0001, verbose=False)\n",
    "\n",
    "rf = RandomForestRegressor(bootstrap=True, criterion='mse', max_depth=3,\n",
    "                           max_features='auto', max_leaf_nodes=None,\n",
    "                           min_impurity_split=1e-07, min_samples_leaf=11,\n",
    "                           min_samples_split=5, min_weight_fraction_leaf=0.1,\n",
    "                           n_estimators=10, n_jobs=1, oob_score=False, random_state=None,\n",
    "                           verbose=0, warm_start=False)\n",
    "\n",
    "ab = AdaBoostRegressor(base_estimator=None, learning_rate=0.001, loss='linear',\n",
    "                       n_estimators=50, random_state=None)\n",
    "\n",
    "xgb = XGBRegressor(base_score=0.5, colsample_bylevel=1, colsample_bytree=0.1,\n",
    "        gamma=0.01, learning_rate=0.01, max_delta_step=0, max_depth=3,\n",
    "        min_child_weight=5, missing=None, n_estimators=100, nthread=-1,\n",
    "        objective='reg:linear', reg_alpha=0.01, reg_lambda=0.01,\n",
    "        scale_pos_weight=1, seed=0, silent=True, subsample=0.6)"
   ]
  },
  {
   "cell_type": "code",
   "execution_count": 23,
   "metadata": {
    "collapsed": false
   },
   "outputs": [],
   "source": [
    "br_oof_train, br_oof_test = get_oof(br)\n",
    "en_oof_train, en_oof_test = get_oof(en)\n",
    "hr_oof_train, hr_oof_test = get_oof(hr)\n",
    "svr_oof_train, svr_oof_test = get_oof(svm_rbf)\n",
    "svm_oof_train, svm_oof_test = get_oof(svm_ln)\n",
    "rf_oof_train, rf_oof_test = get_oof(rf)\n",
    "ab_oof_train, ab_oof_test = get_oof(ab)\n",
    "xgb_oof_train, xgb_oof_test = get_oof(xgb)"
   ]
  },
  {
   "cell_type": "code",
   "execution_count": 24,
   "metadata": {
    "collapsed": false
   },
   "outputs": [
    {
     "name": "stdout",
     "output_type": "stream",
     "text": [
      "Br-CV: 0.11196441712692931\n",
      "EN-CV: 12.030652568617453\n",
      "HR-CV: 12.030652568617453\n",
      "SVR-CV: 12.030652568617453\n",
      "SVM-CV: 12.030652568617453\n",
      "RF-CV: 12.030652568617453\n",
      "AB-CV: 12.030652568617453\n",
      "XGB-CV: 12.030652568617453\n"
     ]
    }
   ],
   "source": [
    "print(\"Br-CV: {}\".format(sqrt(mean_squared_error(y_train, br_oof_train))))\n",
    "print(\"EN-CV: {}\".format(sqrt(mean_squared_error(y_train, en_oof_train))))\n",
    "print(\"HR-CV: {}\".format(sqrt(mean_squared_error(y_train, hr_oof_train))))\n",
    "print(\"SVR-CV: {}\".format(sqrt(mean_squared_error(y_train, svr_oof_train))))\n",
    "print(\"SVM-CV: {}\".format(sqrt(mean_squared_error(y_train, svm_oof_train))))\n",
    "print(\"RF-CV: {}\".format(sqrt(mean_squared_error(y_train, rf_oof_train))))\n",
    "print(\"AB-CV: {}\".format(sqrt(mean_squared_error(y_train, ab_oof_train))))\n",
    "print(\"XGB-CV: {}\".format(sqrt(mean_squared_error(y_train, xgb_oof_train))))"
   ]
  },
  {
   "cell_type": "markdown",
   "metadata": {},
   "source": [
    "## Second level model"
   ]
  },
  {
   "cell_type": "code",
   "execution_count": 15,
   "metadata": {
    "collapsed": false
   },
   "outputs": [
    {
     "ename": "SyntaxError",
     "evalue": "unexpected EOF while parsing (<ipython-input-15-17dba03eb73a>, line 2)",
     "output_type": "error",
     "traceback": [
      "\u001b[0;36m  File \u001b[0;32m\"<ipython-input-15-17dba03eb73a>\"\u001b[0;36m, line \u001b[0;32m2\u001b[0m\n\u001b[0;31m    x_test = np.concatenate(((xgb_oof_train, br_oof_train, en_oof_train, hr_oof_train, rf_oof_train))\u001b[0m\n\u001b[0m                                                                                                     ^\u001b[0m\n\u001b[0;31mSyntaxError\u001b[0m\u001b[0;31m:\u001b[0m unexpected EOF while parsing\n"
     ]
    }
   ],
   "source": [
    "x_train = np.concatenate((xgb_oof_train, br_oof_train, en_oof_train, hr_oof_train, rf_oof_train), axis=1)\n",
    "x_test = np.concatenate(((xgb_oof_train, br_oof_train, en_oof_train, hr_oof_train, rf_oof_train), axis=1)"
   ]
  },
  {
   "cell_type": "code",
   "execution_count": null,
   "metadata": {
    "collapsed": true
   },
   "outputs": [],
   "source": [
    "xgb_tuning = XGBRegressor(objective = 'reg:linear')"
   ]
  },
  {
   "cell_type": "code",
   "execution_count": null,
   "metadata": {
    "collapsed": true
   },
   "outputs": [],
   "source": [
    "param_grid = {'max_depth': [3], \n",
    "                  'learning_rate': [0.1], \n",
    "                  'n_estimators': [50, 100], \n",
    "                  'gamma': [0.01, 0.1, 1], \n",
    "                  'min_child_weight': [3, 5, 7], \n",
    "                  'subsample': [0.01, 0.1, 1], \n",
    "                  'colsample_bytree': [0.1, 0.5, 1], \n",
    "                  'reg_alpha': [0.01, 0.1, 1], \n",
    "                  'reg_lambda': [0.01, 0.1, 1]\n",
    "    \n",
    "}"
   ]
  },
  {
   "cell_type": "code",
   "execution_count": null,
   "metadata": {
    "collapsed": true
   },
   "outputs": [],
   "source": [
    "hyperparaTuning(xgb_tuning, x_train, labels, param_grid)"
   ]
  },
  {
   "cell_type": "code",
   "execution_count": null,
   "metadata": {
    "collapsed": true
   },
   "outputs": [],
   "source": [
    "xgb_final = .fit(x_train, labels)"
   ]
  },
  {
   "cell_type": "markdown",
   "metadata": {},
   "source": [
    "# Submit result"
   ]
  },
  {
   "cell_type": "code",
   "execution_count": 26,
   "metadata": {
    "collapsed": true,
    "deletable": true,
    "editable": true
   },
   "outputs": [],
   "source": [
    "def modelSubmit(model, dtest, name):\n",
    "    ln_pred = model.predict(dtest)\n",
    "    pred = np.expm1(ln_pred)\n",
    "    submission = pd.DataFrame({\"Id\": ids, \"SalePrice\": pred})\n",
    "    filename = os.path.join(name + \".csv\")\n",
    "    submission.to_csv('output/' + filename, index=False)"
   ]
  },
  {
   "cell_type": "code",
   "execution_count": 27,
   "metadata": {
    "collapsed": false,
    "deletable": true,
    "editable": true
   },
   "outputs": [],
   "source": [
    "modelSubmit(xgb_final, x_test, 'xgstacker_4')"
   ]
  }
 ],
 "metadata": {
  "kernelspec": {
   "display_name": "Python 3",
   "language": "python",
   "name": "python3"
  },
  "language_info": {
   "codemirror_mode": {
    "name": "ipython",
    "version": 3
   },
   "file_extension": ".py",
   "mimetype": "text/x-python",
   "name": "python",
   "nbconvert_exporter": "python",
   "pygments_lexer": "ipython3",
   "version": "3.5.2"
  },
  "toc": {
   "colors": {
    "hover_highlight": "#DAA520",
    "running_highlight": "#FF0000",
    "selected_highlight": "#FFD700"
   },
   "moveMenuLeft": true,
   "nav_menu": {
    "height": "48px",
    "width": "252px"
   },
   "navigate_menu": true,
   "number_sections": true,
   "sideBar": true,
   "threshold": 4,
   "toc_cell": false,
   "toc_section_display": "block",
   "toc_window_display": false
  }
 },
 "nbformat": 4,
 "nbformat_minor": 2
}
