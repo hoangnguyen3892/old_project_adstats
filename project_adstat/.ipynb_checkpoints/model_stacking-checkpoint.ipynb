{
 "cells": [
  {
   "cell_type": "markdown",
   "metadata": {
    "deletable": true,
    "editable": true
   },
   "source": [
    "This kernel adopts the idea of [Eliot Barril](https://www.kaggle.com/eliotbarr/house-prices-advanced-regression-techniques/stacking-starter/code). To understand this Ensemble Model, please review this [article](http://mlwave.com/kaggle-ensembling-guide/)."
   ]
  },
  {
   "cell_type": "code",
   "execution_count": 1,
   "metadata": {
    "collapsed": false,
    "deletable": true,
    "editable": true
   },
   "outputs": [
    {
     "name": "stderr",
     "output_type": "stream",
     "text": [
      "/Users/hoangnguyen/miniconda3/envs/pydata/lib/python3.5/site-packages/sklearn/cross_validation.py:44: DeprecationWarning: This module was deprecated in version 0.18 in favor of the model_selection module into which all the refactored classes and functions are moved. Also note that the interface of the new CV iterators are different from that of this module. This module will be removed in 0.20.\n",
      "  \"This module will be removed in 0.20.\", DeprecationWarning)\n"
     ]
    }
   ],
   "source": [
    "import pandas as pd\n",
    "import numpy as np\n",
    "\n",
    "from scipy.stats import skew\n",
    "import xgboost as xgb\n",
    "from sklearn.cross_validation import KFold\n",
    "from sklearn.ensemble import ExtraTreesRegressor\n",
    "from sklearn.ensemble import RandomForestRegressor\n",
    "from sklearn.metrics import mean_squared_error\n",
    "from sklearn.linear_model import Ridge, RidgeCV, ElasticNet, LassoCV, Lasso\n",
    "\n",
    "from math import sqrt\n",
    "\n",
    "%matplotlib inline\n",
    "import warnings\n",
    "warnings.filterwarnings('ignore')"
   ]
  },
  {
   "cell_type": "code",
   "execution_count": 2,
   "metadata": {
    "collapsed": true,
    "deletable": true,
    "editable": true
   },
   "outputs": [],
   "source": [
    "TARGET = 'SalePrice'\n",
    "NFOLDS = 4\n",
    "SEED = 0\n",
    "NROWS = None\n",
    "SUBMISSION_FILE = 'output/xgstacker_starter.csv'"
   ]
  },
  {
   "cell_type": "markdown",
   "metadata": {
    "deletable": true,
    "editable": true
   },
   "source": [
    "# Load data"
   ]
  },
  {
   "cell_type": "code",
   "execution_count": 3,
   "metadata": {
    "collapsed": false,
    "deletable": true,
    "editable": true
   },
   "outputs": [],
   "source": [
    "## Load the data ##\n",
    "train = pd.read_csv(\"input/train.csv\")\n",
    "test = pd.read_csv(\"input/test.csv\")\n",
    "\n",
    "ntrain = train.shape[0]\n",
    "ntest = test.shape[0]"
   ]
  },
  {
   "cell_type": "markdown",
   "metadata": {
    "deletable": true,
    "editable": true
   },
   "source": [
    "# Data preprocessing"
   ]
  },
  {
   "cell_type": "code",
   "execution_count": 4,
   "metadata": {
    "collapsed": true,
    "deletable": true,
    "editable": true
   },
   "outputs": [],
   "source": [
    "y_train = np.log(train[TARGET]+1)\n",
    "train.drop([TARGET], axis=1, inplace=True)\n",
    "all_data = pd.concat((train.loc[:,'MSSubClass':'SaleCondition'],\n",
    "                      test.loc[:,'MSSubClass':'SaleCondition']))"
   ]
  },
  {
   "cell_type": "code",
   "execution_count": 5,
   "metadata": {
    "collapsed": true,
    "deletable": true,
    "editable": true
   },
   "outputs": [],
   "source": [
    "#log transform skewed numeric features:\n",
    "numeric_feats = all_data.dtypes[all_data.dtypes != \"object\"].index\n",
    "\n",
    "skewed_feats = train[numeric_feats].apply(lambda x: skew(x.dropna())) #compute skewness\n",
    "skewed_feats = skewed_feats[skewed_feats > 0.75]\n",
    "skewed_feats = skewed_feats.index\n",
    "\n",
    "all_data[skewed_feats] = np.log1p(all_data[skewed_feats])\n",
    "\n",
    "all_data = pd.get_dummies(all_data)"
   ]
  },
  {
   "cell_type": "code",
   "execution_count": 6,
   "metadata": {
    "collapsed": false
   },
   "outputs": [
    {
     "data": {
      "text/plain": [
       "Index(['MSSubClass', 'LotFrontage', 'LotArea', 'MasVnrArea', 'BsmtFinSF1',\n",
       "       'BsmtFinSF2', 'BsmtUnfSF', 'TotalBsmtSF', '1stFlrSF', '2ndFlrSF',\n",
       "       'LowQualFinSF', 'GrLivArea', 'BsmtHalfBath', 'KitchenAbvGr',\n",
       "       'WoodDeckSF', 'OpenPorchSF', 'EnclosedPorch', '3SsnPorch',\n",
       "       'ScreenPorch', 'PoolArea', 'MiscVal'],\n",
       "      dtype='object')"
      ]
     },
     "execution_count": 6,
     "metadata": {},
     "output_type": "execute_result"
    }
   ],
   "source": [
    "skewed_feats"
   ]
  },
  {
   "cell_type": "code",
   "execution_count": 7,
   "metadata": {
    "collapsed": true,
    "deletable": true,
    "editable": true
   },
   "outputs": [],
   "source": [
    "#filling NA's with the mean of the column:\n",
    "all_data = all_data.fillna(all_data.mean())"
   ]
  },
  {
   "cell_type": "code",
   "execution_count": 8,
   "metadata": {
    "collapsed": true,
    "deletable": true,
    "editable": true
   },
   "outputs": [],
   "source": [
    "#creating matrices for sklearn:\n",
    "\n",
    "x_train = np.array(all_data[:train.shape[0]])\n",
    "x_test = np.array(all_data[train.shape[0]:])"
   ]
  },
  {
   "cell_type": "code",
   "execution_count": 9,
   "metadata": {
    "collapsed": true
   },
   "outputs": [],
   "source": [
    "kf = KFold(ntrain, n_folds=NFOLDS, shuffle=True, random_state=SEED)"
   ]
  },
  {
   "cell_type": "code",
   "execution_count": 10,
   "metadata": {
    "collapsed": true,
    "deletable": true,
    "editable": true
   },
   "outputs": [],
   "source": [
    "class SklearnWrapper(object):\n",
    "    def __init__(self, clf, seed=0, params=None):\n",
    "        params['random_state'] = seed\n",
    "        self.clf = clf(**params)\n",
    "\n",
    "    def train(self, x_train, y_train):\n",
    "        self.clf.fit(x_train, y_train)\n",
    "\n",
    "    def predict(self, x):\n",
    "        return self.clf.predict(x)"
   ]
  },
  {
   "cell_type": "code",
   "execution_count": 11,
   "metadata": {
    "collapsed": true,
    "deletable": true,
    "editable": true
   },
   "outputs": [],
   "source": [
    "class XgbWrapper(object):\n",
    "    def __init__(self, seed=0, params=None):\n",
    "        self.param = params\n",
    "        self.param['seed'] = seed\n",
    "        self.nrounds = params.pop('nrounds', 250)\n",
    "\n",
    "    def train(self, x_train, y_train):\n",
    "        dtrain = xgb.DMatrix(x_train, label=y_train)\n",
    "        self.gbdt = xgb.train(self.param, dtrain, self.nrounds)\n",
    "\n",
    "    def predict(self, x):\n",
    "        return self.gbdt.predict(xgb.DMatrix(x))"
   ]
  },
  {
   "cell_type": "code",
   "execution_count": 12,
   "metadata": {
    "collapsed": true
   },
   "outputs": [],
   "source": [
    "#out of folds\n",
    "def get_oof(clf):\n",
    "    oof_train = np.zeros((ntrain,))\n",
    "    oof_test = np.zeros((ntest,))\n",
    "    oof_test_skf = np.empty((NFOLDS, ntest))\n",
    "\n",
    "    for i, (train_index, test_index) in enumerate(kf):\n",
    "        x_tr = x_train[train_index]\n",
    "        y_tr = y_train[train_index]\n",
    "        x_te = x_train[test_index]\n",
    "\n",
    "        clf.train(x_tr, y_tr)\n",
    "\n",
    "        oof_train[test_index] = clf.predict(x_te)\n",
    "        oof_test_skf[i, :] = clf.predict(x_test)\n",
    "\n",
    "    oof_test[:] = oof_test_skf.mean(axis=0)\n",
    "    return oof_train.reshape(-1, 1), oof_test.reshape(-1, 1)"
   ]
  },
  {
   "cell_type": "code",
   "execution_count": 21,
   "metadata": {
    "collapsed": false
   },
   "outputs": [],
   "source": [
    "#for i, (train_index, test_index) in enumerate(kf):\n",
    "    #print(i)\n",
    "    #print(train_index, test_index)"
   ]
  },
  {
   "cell_type": "code",
   "execution_count": 13,
   "metadata": {
    "collapsed": true,
    "deletable": true,
    "editable": true
   },
   "outputs": [],
   "source": [
    "#Ridge\n",
    "rd_params={\n",
    "    'alpha': 10\n",
    "}\n",
    "\n",
    "#Lasso\n",
    "ls_params={\n",
    "    'alpha': 0.005\n",
    "}\n",
    "\n",
    "#ExtraTreesRegressor\n",
    "et_params = {\n",
    "    'n_jobs': 16,\n",
    "    'n_estimators': 100,\n",
    "    'max_features': 0.5,\n",
    "    'max_depth': 12,\n",
    "    'min_samples_leaf': 2,\n",
    "}\n",
    "\n",
    "#RandomForestRegressor\n",
    "rf_params = {\n",
    "    'n_jobs': 16,\n",
    "    'n_estimators': 100,\n",
    "    'max_features': 0.2,\n",
    "    'max_depth': 12,\n",
    "    'min_samples_leaf': 2,\n",
    "}\n",
    "\n",
    "#XGBRegressor\n",
    "xgb_params = {\n",
    "    'seed': 0,\n",
    "    'colsample_bytree': 0.7,\n",
    "    'silent': 1,\n",
    "    'subsample': 0.7,\n",
    "    'learning_rate': 0.075,\n",
    "    'objective': 'reg:linear',\n",
    "    'max_depth': 4,\n",
    "    'num_parallel_tree': 1,\n",
    "    'min_child_weight': 1,\n",
    "    'eval_metric': 'rmse',\n",
    "    'nrounds': 500\n",
    "}"
   ]
  },
  {
   "cell_type": "code",
   "execution_count": 14,
   "metadata": {
    "collapsed": true,
    "deletable": true,
    "editable": true
   },
   "outputs": [],
   "source": [
    "rd = SklearnWrapper(clf=Ridge, seed=SEED, params=rd_params)\n",
    "ls = SklearnWrapper(clf=Lasso, seed=SEED, params=ls_params)\n",
    "et = SklearnWrapper(clf=ExtraTreesRegressor, seed=SEED, params=et_params)\n",
    "rf = SklearnWrapper(clf=RandomForestRegressor, seed=SEED, params=rf_params)\n",
    "xg = XgbWrapper(seed=SEED, params=xgb_params)"
   ]
  },
  {
   "cell_type": "code",
   "execution_count": 15,
   "metadata": {
    "collapsed": false,
    "deletable": true,
    "editable": true
   },
   "outputs": [],
   "source": [
    "xg_oof_train, xg_oof_test = get_oof(xg)\n",
    "et_oof_train, et_oof_test = get_oof(et)\n",
    "rf_oof_train, rf_oof_test = get_oof(rf)\n",
    "rd_oof_train, rd_oof_test = get_oof(rd)\n",
    "ls_oof_train, ls_oof_test = get_oof(ls)"
   ]
  },
  {
   "cell_type": "code",
   "execution_count": 16,
   "metadata": {
    "collapsed": false,
    "deletable": true,
    "editable": true
   },
   "outputs": [
    {
     "name": "stdout",
     "output_type": "stream",
     "text": [
      "RD-CV: 0.12948165396809874\n",
      "LS-CV: 0.1434706431519249\n",
      "ET-CV: 0.1448541734413712\n",
      "RF-CV: 0.14109927488749133\n",
      "XG-CV: 0.12423630369301894\n"
     ]
    }
   ],
   "source": [
    "print(\"RD-CV: {}\".format(sqrt(mean_squared_error(y_train, rd_oof_train))))\n",
    "print(\"LS-CV: {}\".format(sqrt(mean_squared_error(y_train, ls_oof_train))))\n",
    "print(\"ET-CV: {}\".format(sqrt(mean_squared_error(y_train, et_oof_train))))\n",
    "print(\"RF-CV: {}\".format(sqrt(mean_squared_error(y_train, rf_oof_train))))\n",
    "print(\"XG-CV: {}\".format(sqrt(mean_squared_error(y_train, xg_oof_train))))"
   ]
  },
  {
   "cell_type": "code",
   "execution_count": 17,
   "metadata": {
    "collapsed": true,
    "deletable": true,
    "editable": true
   },
   "outputs": [],
   "source": [
    "x_train = np.concatenate((xg_oof_train, et_oof_train, rf_oof_train, rd_oof_train, ls_oof_train), axis=1)\n",
    "x_test = np.concatenate((xg_oof_test, et_oof_test, rf_oof_test, rd_oof_test, ls_oof_test), axis=1)"
   ]
  },
  {
   "cell_type": "code",
   "execution_count": 18,
   "metadata": {
    "collapsed": false,
    "deletable": true,
    "editable": true
   },
   "outputs": [
    {
     "name": "stdout",
     "output_type": "stream",
     "text": [
      "(1460, 5),(1459, 5)\n"
     ]
    }
   ],
   "source": [
    "print(\"{},{}\".format(x_train.shape, x_test.shape))"
   ]
  },
  {
   "cell_type": "code",
   "execution_count": 19,
   "metadata": {
    "collapsed": true,
    "deletable": true,
    "editable": true
   },
   "outputs": [],
   "source": [
    "dtrain = xgb.DMatrix(x_train, label=y_train)\n",
    "dtest = xgb.DMatrix(x_test)"
   ]
  },
  {
   "cell_type": "code",
   "execution_count": 22,
   "metadata": {
    "collapsed": true,
    "deletable": true,
    "editable": true
   },
   "outputs": [],
   "source": [
    "xgb_params = {\n",
    "    'seed': 0,\n",
    "    'colsample_bytree': 0.8,\n",
    "    'silent': 1,\n",
    "    'subsample': 0.6,\n",
    "    'learning_rate': 0.01,\n",
    "    'objective': 'reg:linear',\n",
    "    'max_depth': 1,\n",
    "    'num_parallel_tree': 1,\n",
    "    'min_child_weight': 1,\n",
    "    'eval_metric': 'rmse',\n",
    "}"
   ]
  },
  {
   "cell_type": "code",
   "execution_count": 23,
   "metadata": {
    "collapsed": false,
    "deletable": true,
    "editable": true
   },
   "outputs": [
    {
     "name": "stdout",
     "output_type": "stream",
     "text": [
      "[0]\ttrain-rmse:11.4159+0.00727902\ttest-rmse:11.4159+0.0221769\n",
      "[10]\ttrain-rmse:10.3275+0.00647517\ttest-rmse:10.3275+0.0230641\n",
      "[20]\ttrain-rmse:9.3429+0.00554988\ttest-rmse:9.34287+0.024078\n",
      "[30]\ttrain-rmse:8.45265+0.00513113\ttest-rmse:8.45262+0.0246051\n",
      "[40]\ttrain-rmse:7.64738+0.00467982\ttest-rmse:7.64739+0.0251128\n",
      "[50]\ttrain-rmse:6.91914+0.00420257\ttest-rmse:6.91935+0.0248506\n",
      "[60]\ttrain-rmse:6.26005+0.00376315\ttest-rmse:6.26036+0.0244044\n",
      "[70]\ttrain-rmse:5.66419+0.0032681\ttest-rmse:5.66445+0.023992\n",
      "[80]\ttrain-rmse:5.12536+0.00307779\ttest-rmse:5.12549+0.023425\n",
      "[90]\ttrain-rmse:4.63793+0.00261757\ttest-rmse:4.63797+0.0230213\n",
      "[100]\ttrain-rmse:4.19691+0.00230221\ttest-rmse:4.19705+0.022602\n",
      "[110]\ttrain-rmse:3.79807+0.00209661\ttest-rmse:3.79819+0.0221507\n",
      "[120]\ttrain-rmse:3.43723+0.00190219\ttest-rmse:3.43743+0.0218567\n",
      "[130]\ttrain-rmse:3.11101+0.00184395\ttest-rmse:3.11112+0.0213777\n",
      "[140]\ttrain-rmse:2.81563+0.00157335\ttest-rmse:2.81592+0.0211086\n",
      "[150]\ttrain-rmse:2.54879+0.00151812\ttest-rmse:2.54916+0.0208498\n",
      "[160]\ttrain-rmse:2.30727+0.00133166\ttest-rmse:2.30772+0.0204008\n",
      "[170]\ttrain-rmse:2.08896+0.00116999\ttest-rmse:2.08944+0.0201915\n",
      "[180]\ttrain-rmse:1.89158+0.00101484\ttest-rmse:1.89207+0.0199392\n",
      "[190]\ttrain-rmse:1.71307+0.000911055\ttest-rmse:1.71363+0.0196554\n",
      "[200]\ttrain-rmse:1.5516+0.000881248\ttest-rmse:1.55224+0.019211\n",
      "[210]\ttrain-rmse:1.40571+0.000818699\ttest-rmse:1.40631+0.0189281\n",
      "[220]\ttrain-rmse:1.2738+0.000824293\ttest-rmse:1.27452+0.0183875\n",
      "[230]\ttrain-rmse:1.15475+0.00075323\ttest-rmse:1.15553+0.0184188\n",
      "[240]\ttrain-rmse:1.04713+0.000838081\ttest-rmse:1.04794+0.0182726\n",
      "[250]\ttrain-rmse:0.949886+0.000852959\ttest-rmse:0.950778+0.0179801\n",
      "[260]\ttrain-rmse:0.86209+0.000912114\ttest-rmse:0.863062+0.0176673\n",
      "[270]\ttrain-rmse:0.782717+0.000931217\ttest-rmse:0.783858+0.0174085\n",
      "[280]\ttrain-rmse:0.71123+0.000946729\ttest-rmse:0.712377+0.0173304\n",
      "[290]\ttrain-rmse:0.646676+0.000929907\ttest-rmse:0.647979+0.0172895\n",
      "[300]\ttrain-rmse:0.588455+0.000975476\ttest-rmse:0.58983+0.0172878\n",
      "[310]\ttrain-rmse:0.536072+0.00111203\ttest-rmse:0.537568+0.017083\n",
      "[320]\ttrain-rmse:0.488886+0.00118269\ttest-rmse:0.4905+0.0170072\n",
      "[330]\ttrain-rmse:0.446374+0.00112462\ttest-rmse:0.448106+0.0169601\n",
      "[340]\ttrain-rmse:0.408253+0.00117787\ttest-rmse:0.410254+0.0169835\n",
      "[350]\ttrain-rmse:0.374034+0.0012125\ttest-rmse:0.376304+0.0169804\n",
      "[360]\ttrain-rmse:0.343424+0.00133318\ttest-rmse:0.345978+0.0169841\n",
      "[370]\ttrain-rmse:0.316034+0.00131017\ttest-rmse:0.318932+0.0170758\n",
      "[380]\ttrain-rmse:0.291551+0.0014094\ttest-rmse:0.294727+0.0169652\n",
      "[390]\ttrain-rmse:0.269744+0.0014958\ttest-rmse:0.273244+0.0169745\n",
      "[400]\ttrain-rmse:0.250359+0.00167932\ttest-rmse:0.254174+0.0169466\n",
      "[410]\ttrain-rmse:0.233051+0.00170493\ttest-rmse:0.23722+0.0169664\n",
      "[420]\ttrain-rmse:0.21781+0.00173769\ttest-rmse:0.222373+0.0170287\n",
      "[430]\ttrain-rmse:0.204351+0.00187169\ttest-rmse:0.209322+0.0168542\n",
      "[440]\ttrain-rmse:0.192573+0.00190345\ttest-rmse:0.197816+0.0168108\n",
      "[450]\ttrain-rmse:0.182117+0.00196941\ttest-rmse:0.187667+0.0168311\n",
      "[460]\ttrain-rmse:0.173019+0.00199613\ttest-rmse:0.178922+0.0168009\n",
      "[470]\ttrain-rmse:0.165107+0.00213092\ttest-rmse:0.171379+0.0166241\n",
      "[480]\ttrain-rmse:0.15822+0.00226348\ttest-rmse:0.16483+0.016427\n",
      "[490]\ttrain-rmse:0.152182+0.00233247\ttest-rmse:0.159167+0.016209\n",
      "[500]\ttrain-rmse:0.146941+0.00242545\ttest-rmse:0.154325+0.0159771\n",
      "[510]\ttrain-rmse:0.142372+0.00251371\ttest-rmse:0.150051+0.0157302\n",
      "[520]\ttrain-rmse:0.138348+0.00262641\ttest-rmse:0.146453+0.0155292\n",
      "[530]\ttrain-rmse:0.134901+0.0026589\ttest-rmse:0.143355+0.0153059\n",
      "[540]\ttrain-rmse:0.131927+0.00267165\ttest-rmse:0.140654+0.0150809\n",
      "[550]\ttrain-rmse:0.129369+0.00271829\ttest-rmse:0.138376+0.0148609\n",
      "[560]\ttrain-rmse:0.127108+0.00275782\ttest-rmse:0.136354+0.0146519\n",
      "[570]\ttrain-rmse:0.125126+0.00279416\ttest-rmse:0.134511+0.0144216\n",
      "[580]\ttrain-rmse:0.123409+0.00284612\ttest-rmse:0.133045+0.0141333\n",
      "[590]\ttrain-rmse:0.121857+0.00286505\ttest-rmse:0.131765+0.0139458\n",
      "[600]\ttrain-rmse:0.120542+0.00289244\ttest-rmse:0.130618+0.013695\n",
      "[610]\ttrain-rmse:0.119344+0.00290674\ttest-rmse:0.129619+0.013466\n",
      "[620]\ttrain-rmse:0.118318+0.00287584\ttest-rmse:0.128763+0.0133017\n",
      "[630]\ttrain-rmse:0.117401+0.00286758\ttest-rmse:0.128062+0.0131308\n",
      "[640]\ttrain-rmse:0.116545+0.00286799\ttest-rmse:0.127427+0.0130199\n",
      "[650]\ttrain-rmse:0.115806+0.00288025\ttest-rmse:0.126891+0.0128867\n",
      "[660]\ttrain-rmse:0.115104+0.00288794\ttest-rmse:0.126327+0.0127481\n",
      "[670]\ttrain-rmse:0.114501+0.00290341\ttest-rmse:0.125982+0.0125654\n",
      "[680]\ttrain-rmse:0.113904+0.00291162\ttest-rmse:0.125557+0.0123632\n",
      "[690]\ttrain-rmse:0.113414+0.00294785\ttest-rmse:0.125186+0.0121802\n",
      "[700]\ttrain-rmse:0.112946+0.00294014\ttest-rmse:0.124901+0.0121479\n",
      "[710]\ttrain-rmse:0.11251+0.00296725\ttest-rmse:0.124666+0.0119718\n",
      "[720]\ttrain-rmse:0.112097+0.00295352\ttest-rmse:0.124374+0.0118672\n",
      "[730]\ttrain-rmse:0.11171+0.0029361\ttest-rmse:0.124163+0.0117706\n",
      "[740]\ttrain-rmse:0.111332+0.00294514\ttest-rmse:0.123952+0.0116632\n",
      "[750]\ttrain-rmse:0.110982+0.00293078\ttest-rmse:0.123707+0.0115792\n",
      "[760]\ttrain-rmse:0.110671+0.00291834\ttest-rmse:0.123468+0.0114786\n",
      "[770]\ttrain-rmse:0.11035+0.00290179\ttest-rmse:0.12335+0.0114535\n",
      "[780]\ttrain-rmse:0.110067+0.00293973\ttest-rmse:0.123203+0.0113731\n",
      "[790]\ttrain-rmse:0.109814+0.00292831\ttest-rmse:0.123114+0.0113687\n",
      "[800]\ttrain-rmse:0.109538+0.00292703\ttest-rmse:0.122984+0.0113166\n",
      "[810]\ttrain-rmse:0.10929+0.00290866\ttest-rmse:0.122876+0.0112575\n",
      "[820]\ttrain-rmse:0.109053+0.00292481\ttest-rmse:0.122804+0.0111644\n",
      "[830]\ttrain-rmse:0.108861+0.00293854\ttest-rmse:0.122747+0.0110721\n",
      "[840]\ttrain-rmse:0.108641+0.00293234\ttest-rmse:0.122674+0.0110524\n",
      "[850]\ttrain-rmse:0.108432+0.00292441\ttest-rmse:0.122553+0.01096\n",
      "[860]\ttrain-rmse:0.108222+0.00291597\ttest-rmse:0.122479+0.0109224\n",
      "[870]\ttrain-rmse:0.108021+0.00289786\ttest-rmse:0.122363+0.0108801\n",
      "[880]\ttrain-rmse:0.107813+0.00287888\ttest-rmse:0.122261+0.0108342\n",
      "[890]\ttrain-rmse:0.107624+0.00287083\ttest-rmse:0.122186+0.0108102\n",
      "[900]\ttrain-rmse:0.107462+0.00287089\ttest-rmse:0.122143+0.0108153\n",
      "[910]\ttrain-rmse:0.107277+0.00286585\ttest-rmse:0.121991+0.0107949\n",
      "[920]\ttrain-rmse:0.107109+0.00286299\ttest-rmse:0.121906+0.0107224\n",
      "[930]\ttrain-rmse:0.10695+0.00285252\ttest-rmse:0.121843+0.0107682\n",
      "[940]\ttrain-rmse:0.106793+0.00283347\ttest-rmse:0.121813+0.0107504\n",
      "[950]\ttrain-rmse:0.106648+0.00283877\ttest-rmse:0.121771+0.0107492\n",
      "[960]\ttrain-rmse:0.106499+0.0028331\ttest-rmse:0.121682+0.010717\n",
      "[970]\ttrain-rmse:0.106368+0.00283143\ttest-rmse:0.121655+0.010676\n",
      "[980]\ttrain-rmse:0.106231+0.00282846\ttest-rmse:0.121567+0.0106702\n",
      "[990]\ttrain-rmse:0.106103+0.00283008\ttest-rmse:0.121513+0.0106283\n"
     ]
    }
   ],
   "source": [
    "res = xgb.cv(xgb_params, dtrain, num_boost_round=1000, nfold=4, seed=SEED, stratified=False,\n",
    "             early_stopping_rounds=25, verbose_eval=10, show_stdv=True)"
   ]
  },
  {
   "cell_type": "code",
   "execution_count": 24,
   "metadata": {
    "collapsed": true,
    "deletable": true,
    "editable": true
   },
   "outputs": [],
   "source": [
    "best_nrounds = res.shape[0] - 1\n",
    "cv_mean = res.iloc[-1, 0]\n",
    "cv_std = res.iloc[-1, 1]"
   ]
  },
  {
   "cell_type": "code",
   "execution_count": 28,
   "metadata": {
    "collapsed": false,
    "deletable": true,
    "editable": true
   },
   "outputs": [
    {
     "name": "stdout",
     "output_type": "stream",
     "text": [
      "Ensemble-CV: 0.12152400000000001 (+/- 0.010640178593425961)\n"
     ]
    }
   ],
   "source": [
    "print('Ensemble-CV: {0} (+/- {1})'.format(cv_mean, cv_std))"
   ]
  },
  {
   "cell_type": "code",
   "execution_count": 29,
   "metadata": {
    "collapsed": true,
    "deletable": true,
    "editable": true
   },
   "outputs": [],
   "source": [
    "gbdt = xgb.train(xgb_params, dtrain, best_nrounds)"
   ]
  },
  {
   "cell_type": "code",
   "execution_count": 30,
   "metadata": {
    "collapsed": false,
    "deletable": true,
    "editable": true
   },
   "outputs": [],
   "source": [
    "submission = pd.read_csv(SUBMISSION_FILE)\n",
    "submission.iloc[:, 1] = gbdt.predict(dtest)\n",
    "saleprice = np.exp(submission['SalePrice'])-1\n",
    "submission['SalePrice'] = saleprice\n",
    "submission.to_csv('output/xgstacker_starter.csv', index=None)"
   ]
  },
  {
   "cell_type": "code",
   "execution_count": null,
   "metadata": {
    "collapsed": true,
    "deletable": true,
    "editable": true
   },
   "outputs": [],
   "source": []
  }
 ],
 "metadata": {
  "kernelspec": {
   "display_name": "Python 3",
   "language": "python",
   "name": "python3"
  },
  "language_info": {
   "codemirror_mode": {
    "name": "ipython",
    "version": 3
   },
   "file_extension": ".py",
   "mimetype": "text/x-python",
   "name": "python",
   "nbconvert_exporter": "python",
   "pygments_lexer": "ipython3",
   "version": "3.5.2"
  },
  "toc": {
   "colors": {
    "hover_highlight": "#DAA520",
    "running_highlight": "#FF0000",
    "selected_highlight": "#FFD700"
   },
   "moveMenuLeft": true,
   "nav_menu": {
    "height": "48px",
    "width": "252px"
   },
   "navigate_menu": true,
   "number_sections": true,
   "sideBar": true,
   "threshold": 4,
   "toc_cell": false,
   "toc_section_display": "block",
   "toc_window_display": false
  }
 },
 "nbformat": 4,
 "nbformat_minor": 2
}
