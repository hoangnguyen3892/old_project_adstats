{
 "cells": [
  {
   "cell_type": "markdown",
   "metadata": {
    "deletable": true,
    "editable": true
   },
   "source": [
    "This kernel adopts the idea of [Eliot Barril](https://www.kaggle.com/eliotbarr/house-prices-advanced-regression-techniques/stacking-starter/code). To understand this Ensemble Model, please review this [article](http://mlwave.com/kaggle-ensembling-guide/)."
   ]
  },
  {
   "cell_type": "code",
   "execution_count": 1,
   "metadata": {
    "collapsed": false,
    "deletable": true,
    "editable": true
   },
   "outputs": [
    {
     "name": "stderr",
     "output_type": "stream",
     "text": [
      "/Users/hoangnguyen/miniconda3/envs/pydata/lib/python3.5/site-packages/sklearn/cross_validation.py:44: DeprecationWarning: This module was deprecated in version 0.18 in favor of the model_selection module into which all the refactored classes and functions are moved. Also note that the interface of the new CV iterators are different from that of this module. This module will be removed in 0.20.\n",
      "  \"This module will be removed in 0.20.\", DeprecationWarning)\n"
     ]
    }
   ],
   "source": [
    "import pandas as pd\n",
    "import numpy as np\n",
    "\n",
    "from scipy.stats import skew\n",
    "import xgboost as xgb\n",
    "import pickle\n",
    "from sklearn.cross_validation import KFold\n",
    "from sklearn.ensemble import ExtraTreesRegressor\n",
    "from sklearn.ensemble import RandomForestRegressor\n",
    "from sklearn.metrics import mean_squared_error\n",
    "from sklearn.linear_model import Ridge, RidgeCV, ElasticNet, LassoCV, Lasso\n",
    "\n",
    "from math import sqrt\n",
    "\n",
    "%matplotlib inline\n",
    "import warnings\n",
    "warnings.filterwarnings('ignore')"
   ]
  },
  {
   "cell_type": "code",
   "execution_count": 2,
   "metadata": {
    "collapsed": true,
    "deletable": true,
    "editable": true
   },
   "outputs": [],
   "source": [
    "TARGET = 'SalePrice'\n",
    "NFOLDS = 4\n",
    "SEED = 0\n",
    "NROWS = None\n",
    "SUBMISSION_FILE = 'output'"
   ]
  },
  {
   "cell_type": "markdown",
   "metadata": {
    "deletable": true,
    "editable": true
   },
   "source": [
    "# Load data"
   ]
  },
  {
   "cell_type": "code",
   "execution_count": 3,
   "metadata": {
    "collapsed": false,
    "deletable": true,
    "editable": true
   },
   "outputs": [],
   "source": [
    "with open(\"input/preprocessed_data.pkl\", \"rb\") as f:\n",
    "    train_data = pickle.load(f)\n",
    "    test_data = pickle.load(f)\n",
    "    ids = pickle.load(f)\n",
    "    labels = pickle.load(f)"
   ]
  },
  {
   "cell_type": "code",
   "execution_count": 4,
   "metadata": {
    "collapsed": true,
    "deletable": true,
    "editable": true
   },
   "outputs": [],
   "source": [
    "x_train = np.array(train_data)\n",
    "x_test = np.array(test_data)\n",
    "y_train = labels"
   ]
  },
  {
   "cell_type": "code",
   "execution_count": 5,
   "metadata": {
    "collapsed": false
   },
   "outputs": [],
   "source": [
    "y_train = y_train.reset_index()\n",
    "del y_train['index']"
   ]
  },
  {
   "cell_type": "code",
   "execution_count": 23,
   "metadata": {
    "collapsed": false
   },
   "outputs": [],
   "source": [
    "y_train = y_train['SalePrice']"
   ]
  },
  {
   "cell_type": "code",
   "execution_count": 24,
   "metadata": {
    "collapsed": false
   },
   "outputs": [
    {
     "data": {
      "text/plain": [
       "0       12.247699\n",
       "1       12.109016\n",
       "2       12.317171\n",
       "3       11.849405\n",
       "4       12.429220\n",
       "5       11.870607\n",
       "6       12.634606\n",
       "7       12.206078\n",
       "8       11.774528\n",
       "9       11.678448\n",
       "10      11.771444\n",
       "11      12.751303\n",
       "12      11.877576\n",
       "13      12.540761\n",
       "14      11.964007\n",
       "15      11.790565\n",
       "16      11.911708\n",
       "17      11.407576\n",
       "18      11.976666\n",
       "19      11.842236\n",
       "20      12.692506\n",
       "21      11.845110\n",
       "22      12.345839\n",
       "23      11.774528\n",
       "24      11.944714\n",
       "25      12.454108\n",
       "26      11.811555\n",
       "27      12.631344\n",
       "28      12.242891\n",
       "29      11.134604\n",
       "          ...    \n",
       "1428    12.165985\n",
       "1429    11.875838\n",
       "1430    11.074436\n",
       "1431    12.136192\n",
       "1432    11.982935\n",
       "1433    12.066816\n",
       "1434    11.699413\n",
       "1435    12.885673\n",
       "1436    11.916395\n",
       "1437    12.190964\n",
       "1438    12.160034\n",
       "1439    11.913720\n",
       "1440    12.644331\n",
       "1441    11.703554\n",
       "1442    12.098493\n",
       "1443    11.767575\n",
       "1444    11.969724\n",
       "1445    12.388398\n",
       "1446    11.626263\n",
       "1447    11.429555\n",
       "1448    11.820418\n",
       "1449    12.567555\n",
       "1450    11.884496\n",
       "1451    11.344519\n",
       "1452    12.128117\n",
       "1453    12.072547\n",
       "1454    12.254868\n",
       "1455    12.493133\n",
       "1456    11.864469\n",
       "1457    11.901590\n",
       "Name: SalePrice, dtype: float64"
      ]
     },
     "execution_count": 24,
     "metadata": {},
     "output_type": "execute_result"
    }
   ],
   "source": [
    "y_train"
   ]
  },
  {
   "cell_type": "code",
   "execution_count": 25,
   "metadata": {
    "collapsed": false
   },
   "outputs": [],
   "source": [
    "#y_train.shape"
   ]
  },
  {
   "cell_type": "markdown",
   "metadata": {
    "deletable": true,
    "editable": true
   },
   "source": [
    "# Data preprocessing"
   ]
  },
  {
   "cell_type": "code",
   "execution_count": 26,
   "metadata": {
    "collapsed": true,
    "deletable": true,
    "editable": true
   },
   "outputs": [],
   "source": [
    "ntrain = train_data.shape[0]\n",
    "ntest = test_data.shape[0]"
   ]
  },
  {
   "cell_type": "code",
   "execution_count": 27,
   "metadata": {
    "collapsed": false,
    "deletable": true,
    "editable": true
   },
   "outputs": [],
   "source": [
    "kf = KFold(ntrain, n_folds=NFOLDS, shuffle=True, random_state=SEED)"
   ]
  },
  {
   "cell_type": "code",
   "execution_count": 28,
   "metadata": {
    "collapsed": true,
    "deletable": true,
    "editable": true
   },
   "outputs": [],
   "source": [
    "class SklearnWrapper(object):\n",
    "    def __init__(self, clf, seed=0, params=None):\n",
    "        params['random_state'] = seed\n",
    "        self.clf = clf(**params)\n",
    "\n",
    "    def train(self, x_train, y_train):\n",
    "        self.clf.fit(x_train, y_train)\n",
    "\n",
    "    def predict(self, x):\n",
    "        return self.clf.predict(x)"
   ]
  },
  {
   "cell_type": "code",
   "execution_count": 29,
   "metadata": {
    "collapsed": true,
    "deletable": true,
    "editable": true
   },
   "outputs": [],
   "source": [
    "class XgbWrapper(object):\n",
    "    def __init__(self, seed=0, params=None):\n",
    "        self.param = params\n",
    "        self.param['seed'] = seed\n",
    "        self.nrounds = params.pop('nrounds', 250)\n",
    "\n",
    "    def train(self, x_train, y_train):\n",
    "        dtrain = xgb.DMatrix(x_train, label=y_train)\n",
    "        self.gbdt = xgb.train(self.param, dtrain, self.nrounds)\n",
    "\n",
    "    def predict(self, x):\n",
    "        return self.gbdt.predict(xgb.DMatrix(x))"
   ]
  },
  {
   "cell_type": "code",
   "execution_count": 30,
   "metadata": {
    "collapsed": true,
    "deletable": true,
    "editable": true
   },
   "outputs": [],
   "source": [
    "#out of folds\n",
    "def get_oof(clf):\n",
    "    oof_train = np.zeros((ntrain,))\n",
    "    oof_test = np.zeros((ntest,))\n",
    "    oof_test_skf = np.empty((NFOLDS, ntest))\n",
    "\n",
    "    for i, (train_index, test_index) in enumerate(kf):\n",
    "        x_tr = x_train[train_index]\n",
    "        y_tr = y_train[train_index]\n",
    "        x_te = x_train[test_index]\n",
    "\n",
    "        clf.train(x_tr, y_tr)\n",
    "\n",
    "        oof_train[test_index] = clf.predict(x_te)\n",
    "        oof_test_skf[i, :] = clf.predict(x_test)\n",
    "\n",
    "    oof_test[:] = oof_test_skf.mean(axis=0)\n",
    "    return oof_train.reshape(-1, 1), oof_test.reshape(-1, 1)"
   ]
  },
  {
   "cell_type": "code",
   "execution_count": 31,
   "metadata": {
    "collapsed": false,
    "deletable": true,
    "editable": true
   },
   "outputs": [],
   "source": [
    "#for i, (train_index, test_index) in enumerate(kf):\n",
    "    #print(i)\n",
    "    #print(train_index, test_index)"
   ]
  },
  {
   "cell_type": "code",
   "execution_count": 32,
   "metadata": {
    "collapsed": true,
    "deletable": true,
    "editable": true
   },
   "outputs": [],
   "source": [
    "#Ridge\n",
    "rd_params={\n",
    "    'alpha': 10\n",
    "}\n",
    "\n",
    "#Lasso\n",
    "ls_params={\n",
    "    'alpha': 0.005\n",
    "}\n",
    "\n",
    "#ExtraTreesRegressor\n",
    "et_params = {\n",
    "    'n_jobs': 16,\n",
    "    'n_estimators': 100,\n",
    "    'max_features': 0.5,\n",
    "    'max_depth': 12,\n",
    "    'min_samples_leaf': 2,\n",
    "}\n",
    "\n",
    "#RandomForestRegressor\n",
    "rf_params = {\n",
    "    'n_jobs': 16,\n",
    "    'n_estimators': 100,\n",
    "    'max_features': 0.2,\n",
    "    'max_depth': 12,\n",
    "    'min_samples_leaf': 2,\n",
    "}\n",
    "\n",
    "#XGBRegressor\n",
    "xgb_params = {\n",
    "    'seed': 0,\n",
    "    'colsample_bytree': 0.7,\n",
    "    'silent': 1,\n",
    "    'subsample': 0.7,\n",
    "    'learning_rate': 0.075,\n",
    "    'objective': 'reg:linear',\n",
    "    'max_depth': 4,\n",
    "    'num_parallel_tree': 1,\n",
    "    'min_child_weight': 1,\n",
    "    'eval_metric': 'rmse',\n",
    "    'nrounds': 500\n",
    "}"
   ]
  },
  {
   "cell_type": "code",
   "execution_count": 33,
   "metadata": {
    "collapsed": true,
    "deletable": true,
    "editable": true
   },
   "outputs": [],
   "source": [
    "rd = SklearnWrapper(clf=Ridge, seed=SEED, params=rd_params)\n",
    "ls = SklearnWrapper(clf=Lasso, seed=SEED, params=ls_params)\n",
    "et = SklearnWrapper(clf=ExtraTreesRegressor, seed=SEED, params=et_params)\n",
    "rf = SklearnWrapper(clf=RandomForestRegressor, seed=SEED, params=rf_params)\n",
    "xg = XgbWrapper(seed=SEED, params=xgb_params)"
   ]
  },
  {
   "cell_type": "code",
   "execution_count": 34,
   "metadata": {
    "collapsed": false,
    "deletable": true,
    "editable": true
   },
   "outputs": [],
   "source": [
    "xg_oof_train, xg_oof_test = get_oof(xg)\n",
    "et_oof_train, et_oof_test = get_oof(et)\n",
    "rf_oof_train, rf_oof_test = get_oof(rf)\n",
    "rd_oof_train, rd_oof_test = get_oof(rd)\n",
    "ls_oof_train, ls_oof_test = get_oof(ls)"
   ]
  },
  {
   "cell_type": "code",
   "execution_count": 35,
   "metadata": {
    "collapsed": false,
    "deletable": true,
    "editable": true
   },
   "outputs": [
    {
     "name": "stdout",
     "output_type": "stream",
     "text": [
      "RD-CV: 0.11375430249684435\n",
      "LS-CV: 0.14006360540917803\n",
      "ET-CV: 0.142537948821056\n",
      "RF-CV: 0.13774711107505816\n",
      "XG-CV: 0.11841654652236004\n"
     ]
    }
   ],
   "source": [
    "print(\"RD-CV: {}\".format(sqrt(mean_squared_error(y_train, rd_oof_train))))\n",
    "print(\"LS-CV: {}\".format(sqrt(mean_squared_error(y_train, ls_oof_train))))\n",
    "print(\"ET-CV: {}\".format(sqrt(mean_squared_error(y_train, et_oof_train))))\n",
    "print(\"RF-CV: {}\".format(sqrt(mean_squared_error(y_train, rf_oof_train))))\n",
    "print(\"XG-CV: {}\".format(sqrt(mean_squared_error(y_train, xg_oof_train))))"
   ]
  },
  {
   "cell_type": "code",
   "execution_count": 36,
   "metadata": {
    "collapsed": true,
    "deletable": true,
    "editable": true
   },
   "outputs": [],
   "source": [
    "x_train = np.concatenate((xg_oof_train, et_oof_train, rf_oof_train, rd_oof_train, ls_oof_train), axis=1)\n",
    "x_test = np.concatenate((xg_oof_test, et_oof_test, rf_oof_test, rd_oof_test, ls_oof_test), axis=1)"
   ]
  },
  {
   "cell_type": "code",
   "execution_count": 37,
   "metadata": {
    "collapsed": false,
    "deletable": true,
    "editable": true
   },
   "outputs": [
    {
     "name": "stdout",
     "output_type": "stream",
     "text": [
      "(1458, 5),(1459, 5)\n"
     ]
    }
   ],
   "source": [
    "print(\"{},{}\".format(x_train.shape, x_test.shape))"
   ]
  },
  {
   "cell_type": "code",
   "execution_count": 38,
   "metadata": {
    "collapsed": true,
    "deletable": true,
    "editable": true
   },
   "outputs": [],
   "source": [
    "dtrain = xgb.DMatrix(x_train, label=y_train)\n",
    "dtest = xgb.DMatrix(x_test)"
   ]
  },
  {
   "cell_type": "code",
   "execution_count": 39,
   "metadata": {
    "collapsed": true,
    "deletable": true,
    "editable": true
   },
   "outputs": [],
   "source": [
    "xgb_params = {\n",
    "    'seed': 0,\n",
    "    'colsample_bytree': 0.8,\n",
    "    'silent': 1,\n",
    "    'subsample': 0.6,\n",
    "    'learning_rate': 0.01,\n",
    "    'objective': 'reg:linear',\n",
    "    'max_depth': 1,\n",
    "    'num_parallel_tree': 1,\n",
    "    'min_child_weight': 1,\n",
    "    'eval_metric': 'rmse',\n",
    "}"
   ]
  },
  {
   "cell_type": "code",
   "execution_count": null,
   "metadata": {
    "collapsed": false,
    "deletable": true,
    "editable": true
   },
   "outputs": [
    {
     "name": "stdout",
     "output_type": "stream",
     "text": [
      "[0]\ttrain-rmse:11.4159+0.00662062\ttest-rmse:11.4159+0.0200578\n",
      "[10]\ttrain-rmse:10.3273+0.00572085\ttest-rmse:10.3273+0.0210188\n",
      "[20]\ttrain-rmse:9.34276+0.00517384\ttest-rmse:9.34274+0.0216428\n",
      "[30]\ttrain-rmse:8.45237+0.00479396\ttest-rmse:8.45235+0.0220878\n",
      "[40]\ttrain-rmse:7.64725+0.004685\ttest-rmse:7.6473+0.0220515\n",
      "[50]\ttrain-rmse:6.91917+0.00419865\ttest-rmse:6.91933+0.0202726\n",
      "[60]\ttrain-rmse:6.26046+0.00370524\ttest-rmse:6.26058+0.0187389\n",
      "[70]\ttrain-rmse:5.66454+0.00325087\ttest-rmse:5.6646+0.0173257\n",
      "[80]\ttrain-rmse:5.12565+0.00291116\ttest-rmse:5.12557+0.0162067\n",
      "[90]\ttrain-rmse:4.63814+0.00271316\ttest-rmse:4.63796+0.0153115\n",
      "[100]\ttrain-rmse:4.19711+0.00255786\ttest-rmse:4.19689+0.0145295\n",
      "[110]\ttrain-rmse:3.79832+0.00231825\ttest-rmse:3.79812+0.0140298\n",
      "[120]\ttrain-rmse:3.43747+0.00205918\ttest-rmse:3.43702+0.013716\n",
      "[130]\ttrain-rmse:3.11121+0.00188217\ttest-rmse:3.11085+0.0132946\n",
      "[140]\ttrain-rmse:2.81582+0.00172974\ttest-rmse:2.81543+0.0129332\n",
      "[150]\ttrain-rmse:2.54883+0.00158316\ttest-rmse:2.54843+0.0127417\n",
      "[160]\ttrain-rmse:2.3074+0.00154588\ttest-rmse:2.30689+0.0126327\n",
      "[170]\ttrain-rmse:2.08904+0.00138874\ttest-rmse:2.08878+0.0124329\n",
      "[180]\ttrain-rmse:1.89167+0.00137405\ttest-rmse:1.89159+0.0121297\n",
      "[190]\ttrain-rmse:1.71314+0.00135307\ttest-rmse:1.71322+0.0117921\n",
      "[200]\ttrain-rmse:1.55178+0.00133646\ttest-rmse:1.55185+0.0115945\n",
      "[210]\ttrain-rmse:1.40577+0.00116949\ttest-rmse:1.40596+0.0115187\n",
      "[220]\ttrain-rmse:1.27394+0.00117812\ttest-rmse:1.2741+0.0113002\n",
      "[230]\ttrain-rmse:1.15471+0.00111602\ttest-rmse:1.15492+0.0112155\n",
      "[240]\ttrain-rmse:1.04706+0.00102672\ttest-rmse:1.04727+0.0111787\n",
      "[250]\ttrain-rmse:0.94975+0.00105499\ttest-rmse:0.950063+0.0110421\n",
      "[260]\ttrain-rmse:0.861792+0.000886135\ttest-rmse:0.862146+0.0109222\n",
      "[270]\ttrain-rmse:0.782583+0.000743583\ttest-rmse:0.78295+0.0108623\n",
      "[280]\ttrain-rmse:0.71099+0.000820755\ttest-rmse:0.711458+0.0106396\n",
      "[290]\ttrain-rmse:0.646445+0.000703322\ttest-rmse:0.647135+0.0106538\n",
      "[300]\ttrain-rmse:0.588226+0.000747651\ttest-rmse:0.589084+0.0105296\n",
      "[310]\ttrain-rmse:0.5357+0.000798262\ttest-rmse:0.536747+0.0103863\n",
      "[320]\ttrain-rmse:0.488595+0.000841382\ttest-rmse:0.489806+0.0103291\n",
      "[330]\ttrain-rmse:0.446068+0.000944896\ttest-rmse:0.447518+0.0103053\n",
      "[340]\ttrain-rmse:0.407933+0.00098457\ttest-rmse:0.40971+0.0100932\n",
      "[350]\ttrain-rmse:0.373663+0.000981335\ttest-rmse:0.375731+0.00990505\n",
      "[360]\ttrain-rmse:0.34297+0.00102025\ttest-rmse:0.345363+0.00980384\n",
      "[370]\ttrain-rmse:0.315422+0.00111046\ttest-rmse:0.318039+0.00963812\n",
      "[380]\ttrain-rmse:0.290849+0.00121652\ttest-rmse:0.293806+0.00954073\n",
      "[390]\ttrain-rmse:0.269024+0.00138367\ttest-rmse:0.272375+0.00954283\n",
      "[400]\ttrain-rmse:0.249568+0.00146694\ttest-rmse:0.253277+0.00937963\n",
      "[410]\ttrain-rmse:0.232199+0.00155998\ttest-rmse:0.23631+0.00925092\n",
      "[420]\ttrain-rmse:0.216856+0.00166108\ttest-rmse:0.221322+0.0092269\n",
      "[430]\ttrain-rmse:0.203339+0.00174526\ttest-rmse:0.208087+0.00919732\n",
      "[440]\ttrain-rmse:0.191318+0.00182917\ttest-rmse:0.196318+0.00920192\n",
      "[450]\ttrain-rmse:0.18071+0.00193346\ttest-rmse:0.186063+0.00922926\n",
      "[460]\ttrain-rmse:0.171462+0.00204086\ttest-rmse:0.177208+0.00932638\n",
      "[470]\ttrain-rmse:0.16341+0.00216247\ttest-rmse:0.16954+0.00944059\n",
      "[480]\ttrain-rmse:0.156387+0.00224522\ttest-rmse:0.162901+0.00960975\n",
      "[490]\ttrain-rmse:0.15026+0.00234042\ttest-rmse:0.156999+0.00976268\n",
      "[500]\ttrain-rmse:0.144886+0.00252655\ttest-rmse:0.152009+0.00983802\n",
      "[510]\ttrain-rmse:0.140236+0.00264869\ttest-rmse:0.147694+0.00999604\n",
      "[520]\ttrain-rmse:0.136117+0.00275821\ttest-rmse:0.143797+0.0101247\n",
      "[530]\ttrain-rmse:0.132572+0.00285504\ttest-rmse:0.140495+0.0102511\n",
      "[540]\ttrain-rmse:0.129465+0.0029424\ttest-rmse:0.137523+0.0104414\n",
      "[550]\ttrain-rmse:0.126744+0.00302384\ttest-rmse:0.13503+0.0105883\n",
      "[560]\ttrain-rmse:0.12436+0.00307275\ttest-rmse:0.132869+0.0107164\n",
      "[570]\ttrain-rmse:0.122334+0.00314923\ttest-rmse:0.131136+0.0108509\n",
      "[580]\ttrain-rmse:0.120522+0.00322365\ttest-rmse:0.129558+0.0109023\n",
      "[590]\ttrain-rmse:0.118914+0.00329485\ttest-rmse:0.128061+0.0109596\n",
      "[600]\ttrain-rmse:0.117504+0.00332595\ttest-rmse:0.126812+0.0110379\n",
      "[610]\ttrain-rmse:0.116243+0.0033857\ttest-rmse:0.125725+0.0111978\n",
      "[620]\ttrain-rmse:0.115142+0.00345281\ttest-rmse:0.124753+0.011308\n",
      "[630]\ttrain-rmse:0.114129+0.00349659\ttest-rmse:0.123889+0.011481\n",
      "[640]\ttrain-rmse:0.11323+0.0035291\ttest-rmse:0.123057+0.0115837\n",
      "[650]\ttrain-rmse:0.112384+0.00355838\ttest-rmse:0.122336+0.0117479\n",
      "[660]\ttrain-rmse:0.111648+0.00357199\ttest-rmse:0.121727+0.0117918\n",
      "[670]\ttrain-rmse:0.11095+0.00360605\ttest-rmse:0.121139+0.0118927\n",
      "[680]\ttrain-rmse:0.110336+0.00362648\ttest-rmse:0.120622+0.0120004\n",
      "[690]\ttrain-rmse:0.109768+0.003645\ttest-rmse:0.12009+0.0121246\n",
      "[700]\ttrain-rmse:0.10924+0.00367135\ttest-rmse:0.1197+0.0122105\n",
      "[710]\ttrain-rmse:0.108756+0.00369592\ttest-rmse:0.119282+0.0122581\n",
      "[720]\ttrain-rmse:0.108299+0.00373604\ttest-rmse:0.118957+0.0122802\n",
      "[730]\ttrain-rmse:0.10788+0.0037593\ttest-rmse:0.118633+0.0123646\n",
      "[740]\ttrain-rmse:0.107493+0.00378505\ttest-rmse:0.118309+0.01244\n",
      "[750]\ttrain-rmse:0.107129+0.00380411\ttest-rmse:0.117989+0.012525\n",
      "[760]\ttrain-rmse:0.106788+0.00381396\ttest-rmse:0.117738+0.0125546\n",
      "[770]\ttrain-rmse:0.106466+0.00382313\ttest-rmse:0.117524+0.0126153\n"
     ]
    }
   ],
   "source": [
    "res = xgb.cv(xgb_params, dtrain, num_boost_round=1000, nfold=4, seed=SEED, stratified=False,\n",
    "             early_stopping_rounds=25, verbose_eval=10, show_stdv=True)"
   ]
  },
  {
   "cell_type": "code",
   "execution_count": null,
   "metadata": {
    "collapsed": true,
    "deletable": true,
    "editable": true
   },
   "outputs": [],
   "source": [
    "best_nrounds = res.shape[0] - 1\n",
    "cv_mean = res.iloc[-1, 0]\n",
    "cv_std = res.iloc[-1, 1]"
   ]
  },
  {
   "cell_type": "code",
   "execution_count": null,
   "metadata": {
    "collapsed": false,
    "deletable": true,
    "editable": true
   },
   "outputs": [],
   "source": [
    "print('Ensemble-CV: {0} (+/- {1})'.format(cv_mean, cv_std))"
   ]
  },
  {
   "cell_type": "code",
   "execution_count": null,
   "metadata": {
    "collapsed": true,
    "deletable": true,
    "editable": true
   },
   "outputs": [],
   "source": [
    "gbdt = xgb.train(xgb_params, dtrain, best_nrounds)"
   ]
  },
  {
   "cell_type": "code",
   "execution_count": null,
   "metadata": {
    "collapsed": false,
    "deletable": true,
    "editable": true
   },
   "outputs": [],
   "source": [
    "submission = pd.read_csv(SUBMISSION_FILE)\n",
    "submission.iloc[:, 1] = gbdt.predict(dtest)\n",
    "saleprice = np.exp(submission['SalePrice'])-1\n",
    "submission['SalePrice'] = saleprice\n",
    "submission.to_csv('output/xgstacker_starter.csv', index=None)"
   ]
  },
  {
   "cell_type": "code",
   "execution_count": null,
   "metadata": {
    "collapsed": true,
    "deletable": true,
    "editable": true
   },
   "outputs": [],
   "source": []
  }
 ],
 "metadata": {
  "kernelspec": {
   "display_name": "Python 3",
   "language": "python",
   "name": "python3"
  },
  "language_info": {
   "codemirror_mode": {
    "name": "ipython",
    "version": 3
   },
   "file_extension": ".py",
   "mimetype": "text/x-python",
   "name": "python",
   "nbconvert_exporter": "python",
   "pygments_lexer": "ipython3",
   "version": "3.5.2"
  },
  "toc": {
   "colors": {
    "hover_highlight": "#DAA520",
    "running_highlight": "#FF0000",
    "selected_highlight": "#FFD700"
   },
   "moveMenuLeft": true,
   "nav_menu": {
    "height": "48px",
    "width": "252px"
   },
   "navigate_menu": true,
   "number_sections": true,
   "sideBar": true,
   "threshold": 4,
   "toc_cell": false,
   "toc_section_display": "block",
   "toc_window_display": false
  }
 },
 "nbformat": 4,
 "nbformat_minor": 2
}
