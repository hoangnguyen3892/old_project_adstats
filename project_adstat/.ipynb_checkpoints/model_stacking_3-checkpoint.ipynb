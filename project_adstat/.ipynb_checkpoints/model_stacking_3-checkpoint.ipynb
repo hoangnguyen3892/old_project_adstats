{
 "cells": [
  {
   "cell_type": "markdown",
   "metadata": {
    "deletable": true,
    "editable": true
   },
   "source": [
    "This kernel adopts the idea of [Eliot Barril](https://www.kaggle.com/eliotbarr/house-prices-advanced-regression-techniques/stacking-starter/code). To understand this Ensemble Model, please review this [article](http://mlwave.com/kaggle-ensembling-guide/)."
   ]
  },
  {
   "cell_type": "code",
   "execution_count": 1,
   "metadata": {
    "collapsed": false,
    "deletable": true,
    "editable": true
   },
   "outputs": [
    {
     "name": "stderr",
     "output_type": "stream",
     "text": [
      "/Users/hoangnguyen/miniconda3/envs/pydata/lib/python3.5/site-packages/sklearn/cross_validation.py:44: DeprecationWarning: This module was deprecated in version 0.18 in favor of the model_selection module into which all the refactored classes and functions are moved. Also note that the interface of the new CV iterators are different from that of this module. This module will be removed in 0.20.\n",
      "  \"This module will be removed in 0.20.\", DeprecationWarning)\n"
     ]
    }
   ],
   "source": [
    "import pandas as pd\n",
    "import numpy as np\n",
    "import pickle\n",
    "import os\n",
    "\n",
    "from scipy.stats import skew\n",
    "import xgboost as xgb\n",
    "from sklearn.cross_validation import KFold\n",
    "\n",
    "from sklearn.linear_model import BayesianRidge, ElasticNet, HuberRegressor\n",
    "from sklearn import svm\n",
    "from sklearn.ensemble import RandomForestRegressor, AdaBoostRegressor, BaggingRegressor\n",
    "from sklearn.ensemble import ExtraTreesRegressor, DecisionTreeRegressor\n",
    "from sklearn import svm\n",
    "from xgboost import XGBRegressor\n",
    "\n",
    "from sklearn.metrics import mean_squared_error\n",
    "\n",
    "\n",
    "from math import sqrt\n",
    "\n",
    "%matplotlib inline\n",
    "import warnings\n",
    "warnings.filterwarnings('ignore')"
   ]
  },
  {
   "cell_type": "markdown",
   "metadata": {
    "deletable": true,
    "editable": true
   },
   "source": [
    "# Load data"
   ]
  },
  {
   "cell_type": "code",
   "execution_count": 2,
   "metadata": {
    "collapsed": false,
    "deletable": true,
    "editable": true
   },
   "outputs": [],
   "source": [
    "with open(\"input/preprocessed_data_3.pkl\", \"rb\") as f:\n",
    "    train_data = pickle.load(f)\n",
    "    test_data = pickle.load(f)\n",
    "    ids = pickle.load(f)\n",
    "    labels = pickle.load(f)"
   ]
  },
  {
   "cell_type": "code",
   "execution_count": 3,
   "metadata": {
    "collapsed": false,
    "deletable": true,
    "editable": true
   },
   "outputs": [
    {
     "data": {
      "text/plain": [
       "pandas.core.frame.DataFrame"
      ]
     },
     "execution_count": 3,
     "metadata": {},
     "output_type": "execute_result"
    }
   ],
   "source": [
    "type(train_data)"
   ]
  },
  {
   "cell_type": "code",
   "execution_count": 4,
   "metadata": {
    "collapsed": false,
    "deletable": true,
    "editable": true
   },
   "outputs": [
    {
     "data": {
      "text/plain": [
       "1458"
      ]
     },
     "execution_count": 4,
     "metadata": {},
     "output_type": "execute_result"
    }
   ],
   "source": [
    "len(labels)"
   ]
  },
  {
   "cell_type": "markdown",
   "metadata": {
    "deletable": true,
    "editable": true
   },
   "source": [
    "# Build model"
   ]
  },
  {
   "cell_type": "code",
   "execution_count": 5,
   "metadata": {
    "collapsed": false,
    "deletable": true,
    "editable": true
   },
   "outputs": [],
   "source": [
    "TARGET = 'SalePrice'\n",
    "NFOLDS = 5\n",
    "SEED = 3\n",
    "NROWS = None\n",
    "SUBMISSION_FILE = 'output/xgstacker_try.csv'\n",
    "\n",
    "ntrain = train_data.shape[0]\n",
    "ntest = test_data.shape[0]"
   ]
  },
  {
   "cell_type": "code",
   "execution_count": 6,
   "metadata": {
    "collapsed": true,
    "deletable": true,
    "editable": true
   },
   "outputs": [],
   "source": [
    "x_train = np.array(train_data)\n",
    "x_test = np.array(test_data)\n",
    "y_train = labels"
   ]
  },
  {
   "cell_type": "code",
   "execution_count": 7,
   "metadata": {
    "collapsed": false,
    "deletable": true,
    "editable": true
   },
   "outputs": [],
   "source": [
    "y_train = y_train.reset_index()\n",
    "del y_train['index']\n",
    "y_train = y_train['SalePrice']"
   ]
  },
  {
   "cell_type": "code",
   "execution_count": 8,
   "metadata": {
    "collapsed": false,
    "deletable": true,
    "editable": true
   },
   "outputs": [],
   "source": [
    "kf = KFold(ntrain, n_folds=NFOLDS, shuffle=True, random_state=SEED)"
   ]
  },
  {
   "cell_type": "code",
   "execution_count": 9,
   "metadata": {
    "collapsed": true,
    "deletable": true,
    "editable": true
   },
   "outputs": [],
   "source": [
    "class SklearnWrapper(object):\n",
    "    def __init__(self, clf, params=None):\n",
    "        #params['random_state'] = seed\n",
    "        self.clf = clf(**params)\n",
    "\n",
    "    def train(self, x_train, y_train):\n",
    "        self.clf.fit(x_train, y_train)\n",
    "\n",
    "    def predict(self, x):\n",
    "        return self.clf.predict(x)"
   ]
  },
  {
   "cell_type": "code",
   "execution_count": 10,
   "metadata": {
    "collapsed": true,
    "deletable": true,
    "editable": true
   },
   "outputs": [],
   "source": [
    "class XgbWrapper(object):\n",
    "    def __init__(self, seed=0, params=None):\n",
    "        self.param = params\n",
    "        self.param['seed'] = seed\n",
    "        self.nrounds = params.pop('nrounds', 250)\n",
    "\n",
    "    def train(self, x_train, y_train):\n",
    "        dtrain = xgb.DMatrix(x_train, label=y_train)\n",
    "        self.gbdt = xgb.train(self.param, dtrain, self.nrounds)\n",
    "\n",
    "    def predict(self, x):\n",
    "        return self.gbdt.predict(xgb.DMatrix(x))"
   ]
  },
  {
   "cell_type": "code",
   "execution_count": 11,
   "metadata": {
    "collapsed": true,
    "deletable": true,
    "editable": true
   },
   "outputs": [],
   "source": [
    "#out of folds\n",
    "def get_oof(clf):\n",
    "    oof_train = np.zeros((ntrain,))\n",
    "    oof_test = np.zeros((ntest,))\n",
    "    oof_test_skf = np.empty((NFOLDS, ntest))\n",
    "\n",
    "    for i, (train_index, test_index) in enumerate(kf):\n",
    "        x_tr = x_train[train_index]\n",
    "        y_tr = y_train[train_index]\n",
    "        x_te = x_train[test_index]\n",
    "\n",
    "        clf.train(x_tr, y_tr)\n",
    "\n",
    "        oof_train[test_index] = clf.predict(x_te)\n",
    "        oof_test_skf[i, :] = clf.predict(x_test)\n",
    "\n",
    "    oof_test[:] = oof_test_skf.mean(axis=0)\n",
    "    return oof_train.reshape(-1, 1), oof_test.reshape(-1, 1)"
   ]
  },
  {
   "cell_type": "code",
   "execution_count": 12,
   "metadata": {
    "collapsed": false,
    "deletable": true,
    "editable": true
   },
   "outputs": [],
   "source": [
    "#for i, (train_index, test_index) in enumerate(kf):\n",
    "    #print(i)\n",
    "    #print(train_index, test_index)"
   ]
  },
  {
   "cell_type": "code",
   "execution_count": 13,
   "metadata": {
    "collapsed": true,
    "deletable": true,
    "editable": true
   },
   "outputs": [],
   "source": [
    "#Bayesian Ridge\n",
    "br_params = {\n",
    "    'alpha_1': 0.2, \n",
    "    'alpha_2': 0, \n",
    "    'lambda_1': 0, \n",
    "    'lambda_2': 0.2\n",
    "}\n",
    "\n",
    "#Lasso\n",
    "ls_params = {\n",
    "    'alpha': 0.005\n",
    "}\n",
    "\n",
    "\"\"\"\n",
    "#Ridge\n",
    "rd_params = {\n",
    "    'alpha': 10\n",
    "}\n",
    "\n",
    "#Linear\n",
    "ln_params = {\n",
    "   'normalize': False \n",
    "}\n",
    "\n",
    "\"\"\"\n",
    "#HuberRegressor\n",
    "hr_params = {'alpha': 1, \n",
    "             'epsilon': 1.2\n",
    "    \n",
    "}\n",
    "#RandomForestRegressor\n",
    "rf_params = {\n",
    "    'n_jobs': 16,\n",
    "    'n_estimators': 100,\n",
    "    'max_features': 0.2,\n",
    "    'max_depth': 12,\n",
    "    'min_samples_leaf': 2,\n",
    "}\n",
    "\n",
    "\n",
    "#XGBRegressor\n",
    "xgb_params = {\n",
    "    'seed': 0,\n",
    "    'colsample_bytree': 0.7,\n",
    "    'silent': 1,\n",
    "    'subsample': 0.7,\n",
    "    'learning_rate': 0.075,\n",
    "    'objective': 'reg:linear',\n",
    "    'max_depth': 4,\n",
    "    'num_parallel_tree': 1,\n",
    "    'min_child_weight': 1,\n",
    "    'eval_metric': 'rmse',\n",
    "    'nrounds': 500\n",
    "}"
   ]
  },
  {
   "cell_type": "code",
   "execution_count": 16,
   "metadata": {
    "collapsed": false,
    "deletable": true,
    "editable": true
   },
   "outputs": [],
   "source": [
    "br = SklearnWrapper(clf=BayesianRidge, params=br_params)\n",
    "#ls = SklearnWrapper(clf=Lasso, params=ls_params)\n",
    "hr = SklearnWrapper(clf=HuberRegressor, params=hr_params)\n",
    "#rd = SklearnWrapper(clf=Ridge, params=rd_params)\n",
    "#ln = SklearnWrapper(clf=LinearRegression, params=ln_params)\n",
    "xg = XgbWrapper(seed=SEED, params=xgb_params)\n",
    "\n",
    "#et = SklearnWrapper(clf=ExtraTreesRegressor, seed=SEED, params=et_params)\n",
    "rf = SklearnWrapper(clf=RandomForestRegressor, params=rf_params)"
   ]
  },
  {
   "cell_type": "code",
   "execution_count": 18,
   "metadata": {
    "collapsed": false,
    "deletable": true,
    "editable": true
   },
   "outputs": [],
   "source": [
    "xg_oof_train, xg_oof_test = get_oof(xg)\n",
    "br_oof_train, br_oof_test = get_oof(br)\n",
    "#ls_oof_train, ls_oof_test = get_oof(ls)\n",
    "#rd_oof_train, rd_oof_test = get_oof(rd)\n",
    "#ln_oof_train, ln_oof_test = get_oof(ln)\n",
    "hr_oof_train, hr_oof_test = get_oof(hr)\n",
    "rf_oof_train, rf_oof_test = get_oof(rf)"
   ]
  },
  {
   "cell_type": "code",
   "execution_count": 19,
   "metadata": {
    "collapsed": false,
    "deletable": true,
    "editable": true
   },
   "outputs": [
    {
     "name": "stdout",
     "output_type": "stream",
     "text": [
      "BR-CV: 0.11151797744455848\n",
      "HR-CV: 0.13877350005252712\n",
      "RF-CV: 0.13651304398787778\n",
      "XG-CV: 0.11783158089683668\n"
     ]
    }
   ],
   "source": [
    "print(\"BR-CV: {}\".format(sqrt(mean_squared_error(y_train, br_oof_train))))\n",
    "print(\"HR-CV: {}\".format(sqrt(mean_squared_error(y_train, hr_oof_train))))\n",
    "print(\"RF-CV: {}\".format(sqrt(mean_squared_error(y_train, rf_oof_train))))\n",
    "#print(\"LN-CV: {}\".format(sqrt(mean_squared_error(y_train, ln_oof_train))))\n",
    "print(\"XG-CV: {}\".format(sqrt(mean_squared_error(y_train, xg_oof_train))))"
   ]
  },
  {
   "cell_type": "code",
   "execution_count": 31,
   "metadata": {
    "collapsed": false,
    "deletable": true,
    "editable": true
   },
   "outputs": [],
   "source": [
    "x_train = np.concatenate((xg_oof_train, br_oof_train, rf_oof_train, hr_oof_train), axis=1)\n",
    "x_test = np.concatenate((xg_oof_test, br_oof_test, rf_oof_test, hr_oof_test), axis=1)"
   ]
  },
  {
   "cell_type": "code",
   "execution_count": 32,
   "metadata": {
    "collapsed": false,
    "deletable": true,
    "editable": true
   },
   "outputs": [
    {
     "name": "stdout",
     "output_type": "stream",
     "text": [
      "(1458, 4),(1459, 4)\n"
     ]
    }
   ],
   "source": [
    "print(\"{},{}\".format(x_train.shape, x_test.shape))"
   ]
  },
  {
   "cell_type": "code",
   "execution_count": 33,
   "metadata": {
    "collapsed": true,
    "deletable": true,
    "editable": true
   },
   "outputs": [],
   "source": [
    "dtrain = xgb.DMatrix(x_train, label=y_train)\n",
    "dtest = xgb.DMatrix(x_test)"
   ]
  },
  {
   "cell_type": "code",
   "execution_count": 34,
   "metadata": {
    "collapsed": true,
    "deletable": true,
    "editable": true
   },
   "outputs": [],
   "source": [
    "xgb_params = {\n",
    "    'seed': 0,\n",
    "    'colsample_bytree': 0.8,\n",
    "    'silent': 1,\n",
    "    'subsample': 0.6,\n",
    "    'learning_rate': 0.01,\n",
    "    'objective': 'reg:linear',\n",
    "    'max_depth': 3,\n",
    "    'num_parallel_tree': 1,\n",
    "    'min_child_weight': 3,\n",
    "    'eval_metric': 'rmse',\n",
    "}"
   ]
  },
  {
   "cell_type": "code",
   "execution_count": 35,
   "metadata": {
    "collapsed": false,
    "deletable": true,
    "editable": true
   },
   "outputs": [
    {
     "name": "stdout",
     "output_type": "stream",
     "text": [
      "[0]\ttrain-rmse:11.4162+0.00276865\ttest-rmse:11.4162+0.0084551\n",
      "[10]\ttrain-rmse:10.3274+0.0025157\ttest-rmse:10.3274+0.00875384\n",
      "[20]\ttrain-rmse:9.34301+0.00235586\ttest-rmse:9.343+0.00896601\n",
      "[30]\ttrain-rmse:8.45257+0.00211585\ttest-rmse:8.45257+0.00927625\n",
      "[40]\ttrain-rmse:7.64765+0.00191987\ttest-rmse:7.64772+0.00939764\n",
      "[50]\ttrain-rmse:6.91934+0.00187279\ttest-rmse:6.91934+0.00961631\n",
      "[60]\ttrain-rmse:6.26056+0.00157224\ttest-rmse:6.26064+0.00995796\n",
      "[70]\ttrain-rmse:5.66477+0.0014308\ttest-rmse:5.66482+0.0101077\n",
      "[80]\ttrain-rmse:5.1258+0.00150939\ttest-rmse:5.12608+0.010334\n",
      "[90]\ttrain-rmse:4.63813+0.0014469\ttest-rmse:4.6385+0.0108166\n",
      "[100]\ttrain-rmse:4.19708+0.00130662\ttest-rmse:4.19756+0.0112922\n",
      "[110]\ttrain-rmse:3.79814+0.00105746\ttest-rmse:3.79833+0.011722\n",
      "[120]\ttrain-rmse:3.43733+0.00118608\ttest-rmse:3.4374+0.0117235\n",
      "[130]\ttrain-rmse:3.11107+0.000935686\ttest-rmse:3.11117+0.0118739\n",
      "[140]\ttrain-rmse:2.81574+0.000734767\ttest-rmse:2.8159+0.0118844\n",
      "[150]\ttrain-rmse:2.54854+0.00075476\ttest-rmse:2.54881+0.0118775\n",
      "[160]\ttrain-rmse:2.30695+0.000758\ttest-rmse:2.30742+0.0118789\n",
      "[170]\ttrain-rmse:2.08834+0.000592984\ttest-rmse:2.08891+0.0119687\n",
      "[180]\ttrain-rmse:1.89051+0.000638933\ttest-rmse:1.89118+0.0117484\n",
      "[190]\ttrain-rmse:1.71153+0.000561254\ttest-rmse:1.71224+0.0115231\n",
      "[200]\ttrain-rmse:1.54956+0.000455756\ttest-rmse:1.55037+0.0115132\n",
      "[210]\ttrain-rmse:1.40326+0.000489975\ttest-rmse:1.40421+0.0113675\n",
      "[220]\ttrain-rmse:1.27095+0.000400881\ttest-rmse:1.27208+0.0112683\n",
      "[230]\ttrain-rmse:1.15119+0.000406751\ttest-rmse:1.15249+0.0110137\n",
      "[240]\ttrain-rmse:1.04294+0.000438757\ttest-rmse:1.04439+0.0109133\n",
      "[250]\ttrain-rmse:0.945143+0.000360788\ttest-rmse:0.946735+0.010874\n",
      "[260]\ttrain-rmse:0.856638+0.000350651\ttest-rmse:0.85834+0.0108492\n",
      "[270]\ttrain-rmse:0.776742+0.000346517\ttest-rmse:0.778529+0.0107516\n",
      "[280]\ttrain-rmse:0.704454+0.000362536\ttest-rmse:0.706392+0.0106879\n",
      "[290]\ttrain-rmse:0.639166+0.00027872\ttest-rmse:0.641392+0.0107193\n",
      "[300]\ttrain-rmse:0.580329+0.000281882\ttest-rmse:0.5828+0.0107497\n",
      "[310]\ttrain-rmse:0.527117+0.000320794\ttest-rmse:0.529835+0.0107386\n",
      "[320]\ttrain-rmse:0.479148+0.000258753\ttest-rmse:0.482126+0.0108387\n",
      "[330]\ttrain-rmse:0.435988+0.000322142\ttest-rmse:0.439269+0.0107247\n",
      "[340]\ttrain-rmse:0.396957+0.000322754\ttest-rmse:0.400625+0.0107214\n",
      "[350]\ttrain-rmse:0.361974+0.000312497\ttest-rmse:0.366046+0.0106786\n",
      "[360]\ttrain-rmse:0.330442+0.000326069\ttest-rmse:0.334921+0.0107008\n",
      "[370]\ttrain-rmse:0.302178+0.000332651\ttest-rmse:0.307107+0.0106533\n",
      "[380]\ttrain-rmse:0.276817+0.000380453\ttest-rmse:0.282222+0.0105518\n",
      "[390]\ttrain-rmse:0.254203+0.00041485\ttest-rmse:0.260157+0.0103926\n",
      "[400]\ttrain-rmse:0.234017+0.000392872\ttest-rmse:0.24049+0.0103091\n",
      "[410]\ttrain-rmse:0.216023+0.000444065\ttest-rmse:0.223077+0.0101286\n",
      "[420]\ttrain-rmse:0.200011+0.000545987\ttest-rmse:0.207675+0.00991826\n",
      "[430]\ttrain-rmse:0.185861+0.000574025\ttest-rmse:0.194157+0.00975034\n",
      "[440]\ttrain-rmse:0.173395+0.000581282\ttest-rmse:0.182376+0.00953635\n",
      "[450]\ttrain-rmse:0.162416+0.000605431\ttest-rmse:0.172077+0.00932303\n",
      "[460]\ttrain-rmse:0.152828+0.000636136\ttest-rmse:0.163153+0.00901923\n",
      "[470]\ttrain-rmse:0.144446+0.000687551\ttest-rmse:0.155465+0.00872369\n",
      "[480]\ttrain-rmse:0.137207+0.000765451\ttest-rmse:0.148833+0.00837242\n",
      "[490]\ttrain-rmse:0.130944+0.000830617\ttest-rmse:0.143201+0.00805323\n",
      "[500]\ttrain-rmse:0.125542+0.000900418\ttest-rmse:0.138462+0.00775603\n",
      "[510]\ttrain-rmse:0.120943+0.000930283\ttest-rmse:0.134444+0.00742608\n",
      "[520]\ttrain-rmse:0.116954+0.00093178\ttest-rmse:0.131033+0.00712161\n",
      "[530]\ttrain-rmse:0.113569+0.00094199\ttest-rmse:0.128159+0.0068497\n",
      "[540]\ttrain-rmse:0.110677+0.000956492\ttest-rmse:0.125729+0.00660252\n",
      "[550]\ttrain-rmse:0.108251+0.000969057\ttest-rmse:0.12376+0.00626756\n",
      "[560]\ttrain-rmse:0.10615+0.00101473\ttest-rmse:0.122021+0.00598965\n",
      "[570]\ttrain-rmse:0.104364+0.00101421\ttest-rmse:0.12065+0.00573483\n",
      "[580]\ttrain-rmse:0.102842+0.00104245\ttest-rmse:0.119439+0.00548139\n",
      "[590]\ttrain-rmse:0.101584+0.00102006\ttest-rmse:0.118534+0.00525981\n",
      "[600]\ttrain-rmse:0.100509+0.00103161\ttest-rmse:0.117761+0.00509218\n",
      "[610]\ttrain-rmse:0.099575+0.00103412\ttest-rmse:0.1171+0.00483588\n",
      "[620]\ttrain-rmse:0.0987805+0.00104819\ttest-rmse:0.116593+0.00466496\n",
      "[630]\ttrain-rmse:0.0981002+0.00107701\ttest-rmse:0.116167+0.00448402\n",
      "[640]\ttrain-rmse:0.0974772+0.00107296\ttest-rmse:0.115835+0.00430916\n",
      "[650]\ttrain-rmse:0.0969648+0.00107928\ttest-rmse:0.115554+0.0041643\n",
      "[660]\ttrain-rmse:0.096524+0.00108902\ttest-rmse:0.115332+0.00405732\n",
      "[670]\ttrain-rmse:0.0961295+0.00107909\ttest-rmse:0.115124+0.00395435\n",
      "[680]\ttrain-rmse:0.0957657+0.00109151\ttest-rmse:0.114965+0.00384039\n",
      "[690]\ttrain-rmse:0.0954573+0.00108046\ttest-rmse:0.114839+0.00372301\n",
      "[700]\ttrain-rmse:0.09517+0.00107822\ttest-rmse:0.114765+0.0036038\n",
      "[710]\ttrain-rmse:0.0949085+0.00109742\ttest-rmse:0.114674+0.00350083\n",
      "[720]\ttrain-rmse:0.0946883+0.00110334\ttest-rmse:0.114585+0.00347687\n",
      "[730]\ttrain-rmse:0.0944637+0.00113003\ttest-rmse:0.114545+0.00342481\n",
      "[740]\ttrain-rmse:0.0942552+0.00114162\ttest-rmse:0.114538+0.00335154\n",
      "[750]\ttrain-rmse:0.0940717+0.00115176\ttest-rmse:0.114547+0.00326616\n",
      "[760]\ttrain-rmse:0.0938902+0.00114751\ttest-rmse:0.114528+0.00321423\n"
     ]
    }
   ],
   "source": [
    "res = xgb.cv(xgb_params, dtrain, num_boost_round=1000, nfold=4, seed=SEED, stratified=False,\n",
    "             early_stopping_rounds=25, verbose_eval=10, show_stdv=True)"
   ]
  },
  {
   "cell_type": "code",
   "execution_count": 36,
   "metadata": {
    "collapsed": true,
    "deletable": true,
    "editable": true
   },
   "outputs": [],
   "source": [
    "best_nrounds = res.shape[0] - 1\n",
    "cv_mean = res.iloc[-1, 0]\n",
    "cv_std = res.iloc[-1, 1]"
   ]
  },
  {
   "cell_type": "code",
   "execution_count": 37,
   "metadata": {
    "collapsed": false,
    "deletable": true,
    "editable": true
   },
   "outputs": [
    {
     "name": "stdout",
     "output_type": "stream",
     "text": [
      "Ensemble-CV: 0.114524 (+/- 0.003402894797080859)\n"
     ]
    }
   ],
   "source": [
    "print('Ensemble-CV: {0} (+/- {1})'.format(cv_mean, cv_std))"
   ]
  },
  {
   "cell_type": "code",
   "execution_count": 38,
   "metadata": {
    "collapsed": true,
    "deletable": true,
    "editable": true
   },
   "outputs": [],
   "source": [
    "gbdt = xgb.train(xgb_params, dtrain, best_nrounds)"
   ]
  },
  {
   "cell_type": "code",
   "execution_count": 39,
   "metadata": {
    "collapsed": false,
    "deletable": true,
    "editable": true
   },
   "outputs": [
    {
     "data": {
      "text/plain": [
       "\"\\nsubmission = pd.read_csv(SUBMISSION_FILE)\\nsubmission.iloc[:, 1] = gbdt.predict(dtest)\\nsaleprice = np.exp(submission['SalePrice'])-1\\nsubmission['SalePrice'] = saleprice\\nsubmission.to_csv('output/xgstacker_try.csv', index=None)\\n\""
      ]
     },
     "execution_count": 39,
     "metadata": {},
     "output_type": "execute_result"
    }
   ],
   "source": [
    "\"\"\"\n",
    "submission = pd.read_csv(SUBMISSION_FILE)\n",
    "submission.iloc[:, 1] = gbdt.predict(dtest)\n",
    "saleprice = np.exp(submission['SalePrice'])-1\n",
    "submission['SalePrice'] = saleprice\n",
    "submission.to_csv('output/xgstacker_try.csv', index=None)\n",
    "\"\"\""
   ]
  },
  {
   "cell_type": "code",
   "execution_count": 40,
   "metadata": {
    "collapsed": true,
    "deletable": true,
    "editable": true
   },
   "outputs": [],
   "source": [
    "def modelSubmit(model, dtest, name):\n",
    "    ln_pred = model.predict(dtest)\n",
    "    pred = np.expm1(ln_pred)\n",
    "    submission = pd.DataFrame({\"Id\": ids, \"SalePrice\": pred})\n",
    "    filename = os.path.join(name + \".csv\")\n",
    "    submission.to_csv('output/' + filename, index=False)"
   ]
  },
  {
   "cell_type": "code",
   "execution_count": 41,
   "metadata": {
    "collapsed": false,
    "deletable": true,
    "editable": true
   },
   "outputs": [],
   "source": [
    "modelSubmit(gbdt, dtest, 'xgstacker_3_3')"
   ]
  },
  {
   "cell_type": "code",
   "execution_count": null,
   "metadata": {
    "collapsed": true,
    "deletable": true,
    "editable": true
   },
   "outputs": [],
   "source": []
  }
 ],
 "metadata": {
  "kernelspec": {
   "display_name": "Python 3",
   "language": "python",
   "name": "python3"
  },
  "language_info": {
   "codemirror_mode": {
    "name": "ipython",
    "version": 3
   },
   "file_extension": ".py",
   "mimetype": "text/x-python",
   "name": "python",
   "nbconvert_exporter": "python",
   "pygments_lexer": "ipython3",
   "version": "3.5.2"
  },
  "toc": {
   "colors": {
    "hover_highlight": "#DAA520",
    "running_highlight": "#FF0000",
    "selected_highlight": "#FFD700"
   },
   "moveMenuLeft": true,
   "nav_menu": {
    "height": "48px",
    "width": "252px"
   },
   "navigate_menu": true,
   "number_sections": true,
   "sideBar": true,
   "threshold": 4,
   "toc_cell": false,
   "toc_section_display": "block",
   "toc_window_display": false
  }
 },
 "nbformat": 4,
 "nbformat_minor": 2
}
