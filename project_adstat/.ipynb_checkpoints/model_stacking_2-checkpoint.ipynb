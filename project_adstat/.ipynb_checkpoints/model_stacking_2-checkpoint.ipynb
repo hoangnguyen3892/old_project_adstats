{
 "cells": [
  {
   "cell_type": "markdown",
   "metadata": {
    "deletable": true,
    "editable": true
   },
   "source": [
    "This kernel adopts the idea of [Eliot Barril](https://www.kaggle.com/eliotbarr/house-prices-advanced-regression-techniques/stacking-starter/code). To understand this Ensemble Model, please review this [article](http://mlwave.com/kaggle-ensembling-guide/)."
   ]
  },
  {
   "cell_type": "code",
   "execution_count": 1,
   "metadata": {
    "collapsed": false,
    "deletable": true,
    "editable": true
   },
   "outputs": [
    {
     "name": "stderr",
     "output_type": "stream",
     "text": [
      "/Users/hoangnguyen/miniconda3/envs/pydata/lib/python3.5/site-packages/sklearn/cross_validation.py:44: DeprecationWarning: This module was deprecated in version 0.18 in favor of the model_selection module into which all the refactored classes and functions are moved. Also note that the interface of the new CV iterators are different from that of this module. This module will be removed in 0.20.\n",
      "  \"This module will be removed in 0.20.\", DeprecationWarning)\n"
     ]
    }
   ],
   "source": [
    "import pandas as pd\n",
    "import numpy as np\n",
    "import pickle\n",
    "import os\n",
    "\n",
    "from scipy.stats import skew\n",
    "import xgboost as xgb\n",
    "from sklearn.cross_validation import KFold\n",
    "from sklearn.ensemble import ExtraTreesRegressor\n",
    "from sklearn.ensemble import RandomForestRegressor\n",
    "from sklearn.ensemble import BaggingRegressor\n",
    "from sklearn.ensemble import RandomForestRegressor\n",
    "from sklearn import svm\n",
    "from sklearn.ensemble import AdaBoostRegressor\n",
    "from sklearn.tree import DecisionTreeRegressor\n",
    "from xgboost import XGBRegressor\n",
    "\n",
    "from sklearn.metrics import mean_squared_error\n",
    "from sklearn.linear_model import BayesianRidge, Ridge, RidgeCV, LinearRegression, ElasticNet, LassoCV, Lasso\n",
    "\n",
    "from math import sqrt\n",
    "\n",
    "%matplotlib inline\n",
    "import warnings\n",
    "warnings.filterwarnings('ignore')"
   ]
  },
  {
   "cell_type": "markdown",
   "metadata": {
    "deletable": true,
    "editable": true
   },
   "source": [
    "# Load data"
   ]
  },
  {
   "cell_type": "code",
   "execution_count": 2,
   "metadata": {
    "collapsed": false,
    "deletable": true,
    "editable": true
   },
   "outputs": [],
   "source": [
    "with open(\"input/preprocessed_data_2.pkl\", \"rb\") as f:\n",
    "    train_data = pickle.load(f)\n",
    "    test_data = pickle.load(f)\n",
    "    ids = pickle.load(f)\n",
    "    labels = pickle.load(f)"
   ]
  },
  {
   "cell_type": "code",
   "execution_count": 3,
   "metadata": {
    "collapsed": false,
    "deletable": true,
    "editable": true
   },
   "outputs": [
    {
     "data": {
      "text/plain": [
       "pandas.core.frame.DataFrame"
      ]
     },
     "execution_count": 3,
     "metadata": {},
     "output_type": "execute_result"
    }
   ],
   "source": [
    "type(train_data)"
   ]
  },
  {
   "cell_type": "code",
   "execution_count": 4,
   "metadata": {
    "collapsed": false,
    "deletable": true,
    "editable": true
   },
   "outputs": [
    {
     "data": {
      "text/plain": [
       "1458"
      ]
     },
     "execution_count": 4,
     "metadata": {},
     "output_type": "execute_result"
    }
   ],
   "source": [
    "len(labels)"
   ]
  },
  {
   "cell_type": "markdown",
   "metadata": {
    "deletable": true,
    "editable": true
   },
   "source": [
    "# Build model"
   ]
  },
  {
   "cell_type": "code",
   "execution_count": 5,
   "metadata": {
    "collapsed": false,
    "deletable": true,
    "editable": true
   },
   "outputs": [],
   "source": [
    "TARGET = 'SalePrice'\n",
    "NFOLDS = 5\n",
    "SEED = 3\n",
    "NROWS = None\n",
    "SUBMISSION_FILE = 'output/xgstacker_try.csv'\n",
    "\n",
    "ntrain = train_data.shape[0]\n",
    "ntest = test_data.shape[0]"
   ]
  },
  {
   "cell_type": "code",
   "execution_count": 6,
   "metadata": {
    "collapsed": true,
    "deletable": true,
    "editable": true
   },
   "outputs": [],
   "source": [
    "x_train = np.array(train_data)\n",
    "x_test = np.array(test_data)\n",
    "y_train = labels"
   ]
  },
  {
   "cell_type": "code",
   "execution_count": 7,
   "metadata": {
    "collapsed": false,
    "deletable": true,
    "editable": true
   },
   "outputs": [],
   "source": [
    "y_train = y_train.reset_index()\n",
    "del y_train['index']\n",
    "y_train = y_train['SalePrice']"
   ]
  },
  {
   "cell_type": "code",
   "execution_count": 8,
   "metadata": {
    "collapsed": false,
    "deletable": true,
    "editable": true
   },
   "outputs": [],
   "source": [
    "kf = KFold(ntrain, n_folds=NFOLDS, shuffle=True, random_state=SEED)"
   ]
  },
  {
   "cell_type": "code",
   "execution_count": 9,
   "metadata": {
    "collapsed": true,
    "deletable": true,
    "editable": true
   },
   "outputs": [],
   "source": [
    "class SklearnWrapper(object):\n",
    "    def __init__(self, clf, params=None):\n",
    "        #params['random_state'] = seed\n",
    "        self.clf = clf(**params)\n",
    "\n",
    "    def train(self, x_train, y_train):\n",
    "        self.clf.fit(x_train, y_train)\n",
    "\n",
    "    def predict(self, x):\n",
    "        return self.clf.predict(x)"
   ]
  },
  {
   "cell_type": "code",
   "execution_count": 10,
   "metadata": {
    "collapsed": true,
    "deletable": true,
    "editable": true
   },
   "outputs": [],
   "source": [
    "class XgbWrapper(object):\n",
    "    def __init__(self, seed=0, params=None):\n",
    "        self.param = params\n",
    "        self.param['seed'] = seed\n",
    "        self.nrounds = params.pop('nrounds', 250)\n",
    "\n",
    "    def train(self, x_train, y_train):\n",
    "        dtrain = xgb.DMatrix(x_train, label=y_train)\n",
    "        self.gbdt = xgb.train(self.param, dtrain, self.nrounds)\n",
    "\n",
    "    def predict(self, x):\n",
    "        return self.gbdt.predict(xgb.DMatrix(x))"
   ]
  },
  {
   "cell_type": "code",
   "execution_count": 11,
   "metadata": {
    "collapsed": true,
    "deletable": true,
    "editable": true
   },
   "outputs": [],
   "source": [
    "#out of folds\n",
    "def get_oof(clf):\n",
    "    oof_train = np.zeros((ntrain,))\n",
    "    oof_test = np.zeros((ntest,))\n",
    "    oof_test_skf = np.empty((NFOLDS, ntest))\n",
    "\n",
    "    for i, (train_index, test_index) in enumerate(kf):\n",
    "        x_tr = x_train[train_index]\n",
    "        y_tr = y_train[train_index]\n",
    "        x_te = x_train[test_index]\n",
    "\n",
    "        clf.train(x_tr, y_tr)\n",
    "\n",
    "        oof_train[test_index] = clf.predict(x_te)\n",
    "        oof_test_skf[i, :] = clf.predict(x_test)\n",
    "\n",
    "    oof_test[:] = oof_test_skf.mean(axis=0)\n",
    "    return oof_train.reshape(-1, 1), oof_test.reshape(-1, 1)"
   ]
  },
  {
   "cell_type": "code",
   "execution_count": 12,
   "metadata": {
    "collapsed": false,
    "deletable": true,
    "editable": true
   },
   "outputs": [],
   "source": [
    "#for i, (train_index, test_index) in enumerate(kf):\n",
    "    #print(i)\n",
    "    #print(train_index, test_index)"
   ]
  },
  {
   "cell_type": "code",
   "execution_count": 13,
   "metadata": {
    "collapsed": true,
    "deletable": true,
    "editable": true
   },
   "outputs": [],
   "source": [
    "#Bayesian Ridge\n",
    "br_params = {\n",
    "    'alpha_1' : 0.05, \n",
    "    'alpha_2' : 0.05\n",
    "}\n",
    "\n",
    "#Lasso\n",
    "ls_params = {\n",
    "    'alpha': 0.005\n",
    "}\n",
    "\n",
    "\n",
    "#Ridge\n",
    "rd_params = {\n",
    "    'alpha': 10\n",
    "}\n",
    "\n",
    "#Linear\n",
    "ln_params = {\n",
    "   'normalize': False \n",
    "}\n",
    "\n",
    "\"\"\"\n",
    "#RandomForestRegressor\n",
    "rf_params = {\n",
    "    'n_jobs': 16,\n",
    "    'n_estimators': 100,\n",
    "    'max_features': 0.2,\n",
    "    'max_depth': 12,\n",
    "    'min_samples_leaf': 2,\n",
    "}\n",
    "\"\"\"\n",
    "\n",
    "#XGBRegressor\n",
    "xgb_params = {\n",
    "    'seed': 0,\n",
    "    'colsample_bytree': 0.7,\n",
    "    'silent': 1,\n",
    "    'subsample': 0.7,\n",
    "    'learning_rate': 0.075,\n",
    "    'objective': 'reg:linear',\n",
    "    'max_depth': 4,\n",
    "    'num_parallel_tree': 1,\n",
    "    'min_child_weight': 1,\n",
    "    'eval_metric': 'rmse',\n",
    "    'nrounds': 500\n",
    "}"
   ]
  },
  {
   "cell_type": "code",
   "execution_count": 14,
   "metadata": {
    "collapsed": false,
    "deletable": true,
    "editable": true
   },
   "outputs": [
    {
     "data": {
      "text/plain": [
       "'\\net = SklearnWrapper(clf=ExtraTreesRegressor, seed=SEED, params=et_params)\\nrf = SklearnWrapper(clf=RandomForestRegressor, seed=SEED, params=rf_params)\\n'"
      ]
     },
     "execution_count": 14,
     "metadata": {},
     "output_type": "execute_result"
    }
   ],
   "source": [
    "br = SklearnWrapper(clf=BayesianRidge, params=br_params)\n",
    "ls = SklearnWrapper(clf=Lasso, params=ls_params)\n",
    "rd = SklearnWrapper(clf=Ridge, params=rd_params)\n",
    "ln = SklearnWrapper(clf=LinearRegression, params=ln_params)\n",
    "xg = XgbWrapper(seed=SEED, params=xgb_params)\n",
    "\n",
    "\"\"\"\n",
    "et = SklearnWrapper(clf=ExtraTreesRegressor, seed=SEED, params=et_params)\n",
    "rf = SklearnWrapper(clf=RandomForestRegressor, seed=SEED, params=rf_params)\n",
    "\"\"\""
   ]
  },
  {
   "cell_type": "code",
   "execution_count": 15,
   "metadata": {
    "collapsed": false,
    "deletable": true,
    "editable": true
   },
   "outputs": [],
   "source": [
    "xg_oof_train, xg_oof_test = get_oof(xg)\n",
    "br_oof_train, br_oof_test = get_oof(br)\n",
    "ls_oof_train, ls_oof_test = get_oof(ls)\n",
    "rd_oof_train, rd_oof_test = get_oof(rd)\n",
    "ln_oof_train, ln_oof_test = get_oof(ln)"
   ]
  },
  {
   "cell_type": "code",
   "execution_count": 16,
   "metadata": {
    "collapsed": false,
    "deletable": true,
    "editable": true
   },
   "outputs": [
    {
     "name": "stdout",
     "output_type": "stream",
     "text": [
      "BR-CV: 0.1106361242763708\n",
      "LS-CV: 0.12607783885714882\n",
      "RD-CV: 0.11064132573776658\n",
      "LN-CV: 0.11858291727477233\n",
      "XG-CV: 0.11695101975189966\n"
     ]
    }
   ],
   "source": [
    "print(\"BR-CV: {}\".format(sqrt(mean_squared_error(y_train, br_oof_train))))\n",
    "print(\"LS-CV: {}\".format(sqrt(mean_squared_error(y_train, ls_oof_train))))\n",
    "print(\"RD-CV: {}\".format(sqrt(mean_squared_error(y_train, rd_oof_train))))\n",
    "print(\"LN-CV: {}\".format(sqrt(mean_squared_error(y_train, ln_oof_train))))\n",
    "print(\"XG-CV: {}\".format(sqrt(mean_squared_error(y_train, xg_oof_train))))"
   ]
  },
  {
   "cell_type": "code",
   "execution_count": 17,
   "metadata": {
    "collapsed": false,
    "deletable": true,
    "editable": true
   },
   "outputs": [],
   "source": [
    "x_train = np.concatenate((xg_oof_train, br_oof_train, ls_oof_train, rd_oof_train, ln_oof_train), axis=1)\n",
    "x_test = np.concatenate((xg_oof_test, br_oof_test, ls_oof_test, rd_oof_test, ln_oof_test), axis=1)"
   ]
  },
  {
   "cell_type": "code",
   "execution_count": 18,
   "metadata": {
    "collapsed": false,
    "deletable": true,
    "editable": true
   },
   "outputs": [
    {
     "name": "stdout",
     "output_type": "stream",
     "text": [
      "(1458, 5),(1459, 5)\n"
     ]
    }
   ],
   "source": [
    "print(\"{},{}\".format(x_train.shape, x_test.shape))"
   ]
  },
  {
   "cell_type": "code",
   "execution_count": 19,
   "metadata": {
    "collapsed": true,
    "deletable": true,
    "editable": true
   },
   "outputs": [],
   "source": [
    "dtrain = xgb.DMatrix(x_train, label=y_train)\n",
    "dtest = xgb.DMatrix(x_test)"
   ]
  },
  {
   "cell_type": "code",
   "execution_count": 20,
   "metadata": {
    "collapsed": true,
    "deletable": true,
    "editable": true
   },
   "outputs": [],
   "source": [
    "xgb_params = {\n",
    "    'seed': 0,\n",
    "    'colsample_bytree': 0.8,\n",
    "    'silent': 1,\n",
    "    'subsample': 0.6,\n",
    "    'learning_rate': 0.01,\n",
    "    'objective': 'reg:linear',\n",
    "    'max_depth': 1,\n",
    "    'num_parallel_tree': 1,\n",
    "    'min_child_weight': 1,\n",
    "    'eval_metric': 'rmse',\n",
    "}"
   ]
  },
  {
   "cell_type": "code",
   "execution_count": 21,
   "metadata": {
    "collapsed": false,
    "deletable": true,
    "editable": true
   },
   "outputs": [
    {
     "name": "stdout",
     "output_type": "stream",
     "text": [
      "[0]\ttrain-rmse:11.4162+0.00276865\ttest-rmse:11.4162+0.0084551\n",
      "[10]\ttrain-rmse:10.3275+0.00274975\ttest-rmse:10.3275+0.00854742\n",
      "[20]\ttrain-rmse:9.34329+0.00240024\ttest-rmse:9.34329+0.00896903\n",
      "[30]\ttrain-rmse:8.45315+0.00239675\ttest-rmse:8.45315+0.00900525\n",
      "[40]\ttrain-rmse:7.64802+0.00247651\ttest-rmse:7.64813+0.00894958\n",
      "[50]\ttrain-rmse:6.91951+0.00222154\ttest-rmse:6.91956+0.00913904\n",
      "[60]\ttrain-rmse:6.26075+0.00192904\ttest-rmse:6.26067+0.0093442\n",
      "[70]\ttrain-rmse:5.66496+0.00175648\ttest-rmse:5.66469+0.00964097\n",
      "[80]\ttrain-rmse:5.12599+0.00172636\ttest-rmse:5.12577+0.00982131\n",
      "[90]\ttrain-rmse:4.6384+0.0016244\ttest-rmse:4.63831+0.0102032\n",
      "[100]\ttrain-rmse:4.19742+0.00151585\ttest-rmse:4.19735+0.0106315\n",
      "[110]\ttrain-rmse:3.79843+0.00145737\ttest-rmse:3.79825+0.0108589\n",
      "[120]\ttrain-rmse:3.43766+0.00150784\ttest-rmse:3.43749+0.011204\n",
      "[130]\ttrain-rmse:3.11131+0.00141747\ttest-rmse:3.11119+0.0114555\n",
      "[140]\ttrain-rmse:2.81611+0.00117272\ttest-rmse:2.81598+0.0116987\n",
      "[150]\ttrain-rmse:2.54928+0.00100227\ttest-rmse:2.54916+0.0118651\n",
      "[160]\ttrain-rmse:2.30779+0.000947566\ttest-rmse:2.30756+0.0120384\n",
      "[170]\ttrain-rmse:2.08936+0.000849666\ttest-rmse:2.08928+0.0120508\n",
      "[180]\ttrain-rmse:1.89179+0.000807407\ttest-rmse:1.89183+0.012111\n",
      "[190]\ttrain-rmse:1.7132+0.000818281\ttest-rmse:1.71337+0.0120138\n",
      "[200]\ttrain-rmse:1.55183+0.000764395\ttest-rmse:1.55207+0.0120333\n",
      "[210]\ttrain-rmse:1.40581+0.000638051\ttest-rmse:1.40611+0.0119405\n",
      "[220]\ttrain-rmse:1.27385+0.00060722\ttest-rmse:1.27432+0.0118374\n",
      "[230]\ttrain-rmse:1.15441+0.000647892\ttest-rmse:1.15498+0.0117371\n",
      "[240]\ttrain-rmse:1.0467+0.000694103\ttest-rmse:1.04736+0.0116925\n",
      "[250]\ttrain-rmse:0.949416+0.000618594\ttest-rmse:0.950177+0.0116602\n",
      "[260]\ttrain-rmse:0.861464+0.000565928\ttest-rmse:0.862195+0.0116158\n",
      "[270]\ttrain-rmse:0.78208+0.000572189\ttest-rmse:0.782835+0.0116402\n",
      "[280]\ttrain-rmse:0.710449+0.000554679\ttest-rmse:0.711361+0.0115518\n",
      "[290]\ttrain-rmse:0.645893+0.000544793\ttest-rmse:0.646859+0.0114624\n",
      "[300]\ttrain-rmse:0.58764+0.000563818\ttest-rmse:0.588767+0.0114741\n",
      "[310]\ttrain-rmse:0.535162+0.000602632\ttest-rmse:0.536504+0.0114565\n",
      "[320]\ttrain-rmse:0.487974+0.000630224\ttest-rmse:0.489499+0.0114862\n",
      "[330]\ttrain-rmse:0.445485+0.000640738\ttest-rmse:0.447244+0.0115318\n",
      "[340]\ttrain-rmse:0.407243+0.000664646\ttest-rmse:0.409286+0.0115154\n",
      "[350]\ttrain-rmse:0.372918+0.0007035\ttest-rmse:0.375212+0.0114241\n",
      "[360]\ttrain-rmse:0.342038+0.000679469\ttest-rmse:0.344641+0.0114987\n",
      "[370]\ttrain-rmse:0.314435+0.00074475\ttest-rmse:0.317318+0.0114986\n",
      "[380]\ttrain-rmse:0.289785+0.000702669\ttest-rmse:0.29297+0.0116126\n",
      "[390]\ttrain-rmse:0.267812+0.000740465\ttest-rmse:0.271386+0.0116036\n",
      "[400]\ttrain-rmse:0.248133+0.000760866\ttest-rmse:0.252185+0.011642\n",
      "[410]\ttrain-rmse:0.230728+0.000776906\ttest-rmse:0.235172+0.0115879\n",
      "[420]\ttrain-rmse:0.215352+0.000825807\ttest-rmse:0.220111+0.0115951\n",
      "[430]\ttrain-rmse:0.201684+0.000849933\ttest-rmse:0.206888+0.0115017\n",
      "[440]\ttrain-rmse:0.189641+0.000839862\ttest-rmse:0.195269+0.0113841\n",
      "[450]\ttrain-rmse:0.179011+0.000909634\ttest-rmse:0.184964+0.0111811\n",
      "[460]\ttrain-rmse:0.16967+0.000963598\ttest-rmse:0.176032+0.0110013\n",
      "[470]\ttrain-rmse:0.161449+0.00103706\ttest-rmse:0.168239+0.0107379\n",
      "[480]\ttrain-rmse:0.154276+0.0011002\ttest-rmse:0.161504+0.0104626\n",
      "[490]\ttrain-rmse:0.148023+0.00119556\ttest-rmse:0.155626+0.0102088\n",
      "[500]\ttrain-rmse:0.142523+0.0012332\ttest-rmse:0.150513+0.010011\n",
      "[510]\ttrain-rmse:0.137749+0.0012988\ttest-rmse:0.146196+0.00976258\n",
      "[520]\ttrain-rmse:0.133601+0.00135635\ttest-rmse:0.142458+0.00947765\n",
      "[530]\ttrain-rmse:0.129951+0.00141954\ttest-rmse:0.139134+0.00910935\n",
      "[540]\ttrain-rmse:0.126788+0.00142809\ttest-rmse:0.136283+0.00893991\n",
      "[550]\ttrain-rmse:0.124012+0.00146592\ttest-rmse:0.133899+0.00869375\n",
      "[560]\ttrain-rmse:0.121606+0.00147036\ttest-rmse:0.131775+0.00848118\n",
      "[570]\ttrain-rmse:0.119467+0.00149204\ttest-rmse:0.12992+0.00823453\n",
      "[580]\ttrain-rmse:0.117568+0.00152436\ttest-rmse:0.128241+0.00796243\n",
      "[590]\ttrain-rmse:0.115898+0.00156385\ttest-rmse:0.126797+0.00775668\n",
      "[600]\ttrain-rmse:0.114445+0.00159473\ttest-rmse:0.125583+0.00754582\n",
      "[610]\ttrain-rmse:0.113118+0.00163159\ttest-rmse:0.124457+0.00732837\n",
      "[620]\ttrain-rmse:0.111969+0.00164483\ttest-rmse:0.123451+0.00716769\n",
      "[630]\ttrain-rmse:0.110957+0.00167421\ttest-rmse:0.122636+0.0070404\n",
      "[640]\ttrain-rmse:0.110012+0.00168268\ttest-rmse:0.121866+0.00685873\n",
      "[650]\ttrain-rmse:0.109158+0.00169903\ttest-rmse:0.121256+0.00671436\n",
      "[660]\ttrain-rmse:0.108378+0.00170109\ttest-rmse:0.120678+0.00658233\n",
      "[670]\ttrain-rmse:0.107659+0.00171628\ttest-rmse:0.120061+0.00645503\n",
      "[680]\ttrain-rmse:0.107002+0.00171329\ttest-rmse:0.119497+0.00632043\n",
      "[690]\ttrain-rmse:0.10642+0.0017289\ttest-rmse:0.119032+0.00623291\n",
      "[700]\ttrain-rmse:0.105862+0.00175047\ttest-rmse:0.118576+0.00614208\n",
      "[710]\ttrain-rmse:0.105353+0.00177341\ttest-rmse:0.118235+0.00602481\n",
      "[720]\ttrain-rmse:0.104887+0.00178707\ttest-rmse:0.11791+0.0059039\n",
      "[730]\ttrain-rmse:0.104443+0.00179063\ttest-rmse:0.117563+0.00585458\n",
      "[740]\ttrain-rmse:0.104038+0.00179218\ttest-rmse:0.11724+0.00573592\n",
      "[750]\ttrain-rmse:0.103654+0.00179416\ttest-rmse:0.116965+0.00567049\n",
      "[760]\ttrain-rmse:0.103312+0.00178342\ttest-rmse:0.116705+0.00562933\n",
      "[770]\ttrain-rmse:0.102995+0.0017928\ttest-rmse:0.116496+0.00553695\n",
      "[780]\ttrain-rmse:0.102685+0.00179553\ttest-rmse:0.116291+0.00548289\n",
      "[790]\ttrain-rmse:0.102402+0.00180497\ttest-rmse:0.116092+0.00537108\n",
      "[800]\ttrain-rmse:0.10213+0.00182067\ttest-rmse:0.1159+0.0053208\n",
      "[810]\ttrain-rmse:0.101888+0.00182272\ttest-rmse:0.115758+0.00525233\n",
      "[820]\ttrain-rmse:0.101646+0.00182641\ttest-rmse:0.11565+0.00520959\n",
      "[830]\ttrain-rmse:0.101408+0.0018306\ttest-rmse:0.115498+0.00518348\n",
      "[840]\ttrain-rmse:0.101193+0.00182567\ttest-rmse:0.115343+0.00518776\n",
      "[850]\ttrain-rmse:0.100986+0.00183269\ttest-rmse:0.115228+0.00511808\n",
      "[860]\ttrain-rmse:0.100804+0.00184188\ttest-rmse:0.115081+0.00511363\n",
      "[870]\ttrain-rmse:0.100628+0.00184063\ttest-rmse:0.11498+0.00508826\n",
      "[880]\ttrain-rmse:0.100469+0.00184121\ttest-rmse:0.114895+0.00502573\n",
      "[890]\ttrain-rmse:0.100316+0.00184522\ttest-rmse:0.114798+0.00500089\n",
      "[900]\ttrain-rmse:0.100175+0.00183399\ttest-rmse:0.114677+0.00500854\n",
      "[910]\ttrain-rmse:0.100047+0.00182981\ttest-rmse:0.114582+0.00498919\n",
      "[920]\ttrain-rmse:0.0999162+0.0018304\ttest-rmse:0.114528+0.00494609\n",
      "[930]\ttrain-rmse:0.0997985+0.00182959\ttest-rmse:0.114462+0.00492046\n",
      "[940]\ttrain-rmse:0.0996883+0.00183591\ttest-rmse:0.11442+0.00489803\n",
      "[950]\ttrain-rmse:0.099575+0.00183951\ttest-rmse:0.114378+0.00484178\n",
      "[960]\ttrain-rmse:0.0994748+0.00184568\ttest-rmse:0.114305+0.00481702\n",
      "[970]\ttrain-rmse:0.0993785+0.00184447\ttest-rmse:0.114235+0.00481622\n",
      "[980]\ttrain-rmse:0.0992785+0.00184091\ttest-rmse:0.114199+0.0047808\n",
      "[990]\ttrain-rmse:0.0992012+0.00185282\ttest-rmse:0.114167+0.00475269\n"
     ]
    }
   ],
   "source": [
    "res = xgb.cv(xgb_params, dtrain, num_boost_round=1000, nfold=4, seed=SEED, stratified=False,\n",
    "             early_stopping_rounds=25, verbose_eval=10, show_stdv=True)"
   ]
  },
  {
   "cell_type": "code",
   "execution_count": 22,
   "metadata": {
    "collapsed": true,
    "deletable": true,
    "editable": true
   },
   "outputs": [],
   "source": [
    "best_nrounds = res.shape[0] - 1\n",
    "cv_mean = res.iloc[-1, 0]\n",
    "cv_std = res.iloc[-1, 1]"
   ]
  },
  {
   "cell_type": "code",
   "execution_count": 23,
   "metadata": {
    "collapsed": false,
    "deletable": true,
    "editable": true
   },
   "outputs": [
    {
     "name": "stdout",
     "output_type": "stream",
     "text": [
      "Ensemble-CV: 0.1141095 (+/- 0.0047181826215185844)\n"
     ]
    }
   ],
   "source": [
    "print('Ensemble-CV: {0} (+/- {1})'.format(cv_mean, cv_std))"
   ]
  },
  {
   "cell_type": "code",
   "execution_count": 24,
   "metadata": {
    "collapsed": true,
    "deletable": true,
    "editable": true
   },
   "outputs": [],
   "source": [
    "gbdt = xgb.train(xgb_params, dtrain, best_nrounds)"
   ]
  },
  {
   "cell_type": "code",
   "execution_count": 25,
   "metadata": {
    "collapsed": false,
    "deletable": true,
    "editable": true
   },
   "outputs": [
    {
     "data": {
      "text/plain": [
       "\"\\nsubmission = pd.read_csv(SUBMISSION_FILE)\\nsubmission.iloc[:, 1] = gbdt.predict(dtest)\\nsaleprice = np.exp(submission['SalePrice'])-1\\nsubmission['SalePrice'] = saleprice\\nsubmission.to_csv('output/xgstacker_try.csv', index=None)\\n\""
      ]
     },
     "execution_count": 25,
     "metadata": {},
     "output_type": "execute_result"
    }
   ],
   "source": [
    "\"\"\"\n",
    "submission = pd.read_csv(SUBMISSION_FILE)\n",
    "submission.iloc[:, 1] = gbdt.predict(dtest)\n",
    "saleprice = np.exp(submission['SalePrice'])-1\n",
    "submission['SalePrice'] = saleprice\n",
    "submission.to_csv('output/xgstacker_try.csv', index=None)\n",
    "\"\"\""
   ]
  },
  {
   "cell_type": "code",
   "execution_count": 26,
   "metadata": {
    "collapsed": true,
    "deletable": true,
    "editable": true
   },
   "outputs": [],
   "source": [
    "def modelSubmit(model, dtest, name):\n",
    "    ln_pred = model.predict(dtest)\n",
    "    pred = np.expm1(ln_pred)\n",
    "    submission = pd.DataFrame({\"Id\": ids, \"SalePrice\": pred})\n",
    "    filename = os.path.join(name + \".csv\")\n",
    "    submission.to_csv('output/' + filename, index=False)"
   ]
  },
  {
   "cell_type": "code",
   "execution_count": 27,
   "metadata": {
    "collapsed": false,
    "deletable": true,
    "editable": true
   },
   "outputs": [],
   "source": [
    "modelSubmit(gbdt, dtest, 'xgstacker_3')"
   ]
  },
  {
   "cell_type": "code",
   "execution_count": null,
   "metadata": {
    "collapsed": true,
    "deletable": true,
    "editable": true
   },
   "outputs": [],
   "source": []
  }
 ],
 "metadata": {
  "kernelspec": {
   "display_name": "Python 3",
   "language": "python",
   "name": "python3"
  },
  "language_info": {
   "codemirror_mode": {
    "name": "ipython",
    "version": 3
   },
   "file_extension": ".py",
   "mimetype": "text/x-python",
   "name": "python",
   "nbconvert_exporter": "python",
   "pygments_lexer": "ipython3",
   "version": "3.5.2"
  },
  "toc": {
   "colors": {
    "hover_highlight": "#DAA520",
    "running_highlight": "#FF0000",
    "selected_highlight": "#FFD700"
   },
   "moveMenuLeft": true,
   "nav_menu": {
    "height": "48px",
    "width": "252px"
   },
   "navigate_menu": true,
   "number_sections": true,
   "sideBar": true,
   "threshold": 4,
   "toc_cell": false,
   "toc_section_display": "block",
   "toc_window_display": false
  }
 },
 "nbformat": 4,
 "nbformat_minor": 2
}
