{
 "cells": [
  {
   "cell_type": "markdown",
   "metadata": {
    "deletable": true,
    "editable": true
   },
   "source": [
    "This kernel adopts the idea of [Eliot Barril](https://www.kaggle.com/eliotbarr/house-prices-advanced-regression-techniques/stacking-starter/code). To understand this Ensemble Model, please review this [article](http://mlwave.com/kaggle-ensembling-guide/)."
   ]
  },
  {
   "cell_type": "code",
   "execution_count": 1,
   "metadata": {
    "collapsed": false,
    "deletable": true,
    "editable": true
   },
   "outputs": [
    {
     "name": "stderr",
     "output_type": "stream",
     "text": [
      "/Users/hoangnguyen/miniconda3/envs/pydata/lib/python3.5/site-packages/sklearn/cross_validation.py:44: DeprecationWarning: This module was deprecated in version 0.18 in favor of the model_selection module into which all the refactored classes and functions are moved. Also note that the interface of the new CV iterators are different from that of this module. This module will be removed in 0.20.\n",
      "  \"This module will be removed in 0.20.\", DeprecationWarning)\n"
     ]
    }
   ],
   "source": [
    "import pandas as pd\n",
    "import numpy as np\n",
    "import pickle\n",
    "import os\n",
    "\n",
    "from scipy.stats import skew\n",
    "import xgboost as xgb\n",
    "from sklearn.cross_validation import KFold\n",
    "from sklearn.ensemble import ExtraTreesRegressor\n",
    "from sklearn.ensemble import RandomForestRegressor\n",
    "from sklearn.ensemble import BaggingRegressor\n",
    "from sklearn.ensemble import RandomForestRegressor\n",
    "from sklearn import svm\n",
    "from sklearn.ensemble import AdaBoostRegressor\n",
    "from sklearn.tree import DecisionTreeRegressor\n",
    "from xgboost import XGBRegressor\n",
    "\n",
    "from sklearn.metrics import mean_squared_error\n",
    "from sklearn.linear_model import BayesianRidge, Ridge, RidgeCV, LinearRegression, ElasticNet, LassoCV, Lasso\n",
    "\n",
    "from math import sqrt\n",
    "\n",
    "%matplotlib inline\n",
    "import warnings\n",
    "warnings.filterwarnings('ignore')"
   ]
  },
  {
   "cell_type": "markdown",
   "metadata": {
    "deletable": true,
    "editable": true
   },
   "source": [
    "# Load data"
   ]
  },
  {
   "cell_type": "code",
   "execution_count": 2,
   "metadata": {
    "collapsed": false,
    "deletable": true,
    "editable": true
   },
   "outputs": [],
   "source": [
    "with open(\"input/preprocessed_data.pkl\", \"rb\") as f:\n",
    "    train_data = pickle.load(f)\n",
    "    test_data = pickle.load(f)\n",
    "    ids = pickle.load(f)\n",
    "    labels = pickle.load(f)"
   ]
  },
  {
   "cell_type": "code",
   "execution_count": 3,
   "metadata": {
    "collapsed": false,
    "deletable": true,
    "editable": true
   },
   "outputs": [
    {
     "data": {
      "text/plain": [
       "pandas.core.frame.DataFrame"
      ]
     },
     "execution_count": 3,
     "metadata": {},
     "output_type": "execute_result"
    }
   ],
   "source": [
    "type(train_data)"
   ]
  },
  {
   "cell_type": "code",
   "execution_count": 4,
   "metadata": {
    "collapsed": false,
    "deletable": true,
    "editable": true
   },
   "outputs": [
    {
     "data": {
      "text/plain": [
       "1458"
      ]
     },
     "execution_count": 4,
     "metadata": {},
     "output_type": "execute_result"
    }
   ],
   "source": [
    "len(labels)"
   ]
  },
  {
   "cell_type": "markdown",
   "metadata": {
    "deletable": true,
    "editable": true
   },
   "source": [
    "# Build model"
   ]
  },
  {
   "cell_type": "code",
   "execution_count": 5,
   "metadata": {
    "collapsed": false,
    "deletable": true,
    "editable": true
   },
   "outputs": [],
   "source": [
    "TARGET = 'SalePrice'\n",
    "NFOLDS = 5\n",
    "SEED = 3\n",
    "NROWS = None\n",
    "SUBMISSION_FILE = 'output/xgstacker_try.csv'\n",
    "\n",
    "ntrain = train_data.shape[0]\n",
    "ntest = test_data.shape[0]"
   ]
  },
  {
   "cell_type": "code",
   "execution_count": 6,
   "metadata": {
    "collapsed": true,
    "deletable": true,
    "editable": true
   },
   "outputs": [],
   "source": [
    "x_train = np.array(train_data)\n",
    "x_test = np.array(test_data)\n",
    "y_train = labels"
   ]
  },
  {
   "cell_type": "code",
   "execution_count": 7,
   "metadata": {
    "collapsed": false,
    "deletable": true,
    "editable": true
   },
   "outputs": [],
   "source": [
    "y_train = y_train.reset_index()\n",
    "del y_train['index']\n",
    "y_train = y_train['SalePrice']"
   ]
  },
  {
   "cell_type": "code",
   "execution_count": 8,
   "metadata": {
    "collapsed": false,
    "deletable": true,
    "editable": true
   },
   "outputs": [],
   "source": [
    "kf = KFold(ntrain, n_folds=NFOLDS, shuffle=True, random_state=SEED)"
   ]
  },
  {
   "cell_type": "code",
   "execution_count": 9,
   "metadata": {
    "collapsed": true,
    "deletable": true,
    "editable": true
   },
   "outputs": [],
   "source": [
    "class SklearnWrapper(object):\n",
    "    def __init__(self, clf, params=None):\n",
    "        #params['random_state'] = seed\n",
    "        self.clf = clf(**params)\n",
    "\n",
    "    def train(self, x_train, y_train):\n",
    "        self.clf.fit(x_train, y_train)\n",
    "\n",
    "    def predict(self, x):\n",
    "        return self.clf.predict(x)"
   ]
  },
  {
   "cell_type": "code",
   "execution_count": 10,
   "metadata": {
    "collapsed": true,
    "deletable": true,
    "editable": true
   },
   "outputs": [],
   "source": [
    "class XgbWrapper(object):\n",
    "    def __init__(self, seed=0, params=None):\n",
    "        self.param = params\n",
    "        self.param['seed'] = seed\n",
    "        self.nrounds = params.pop('nrounds', 250)\n",
    "\n",
    "    def train(self, x_train, y_train):\n",
    "        dtrain = xgb.DMatrix(x_train, label=y_train)\n",
    "        self.gbdt = xgb.train(self.param, dtrain, self.nrounds)\n",
    "\n",
    "    def predict(self, x):\n",
    "        return self.gbdt.predict(xgb.DMatrix(x))"
   ]
  },
  {
   "cell_type": "code",
   "execution_count": 11,
   "metadata": {
    "collapsed": true,
    "deletable": true,
    "editable": true
   },
   "outputs": [],
   "source": [
    "#out of folds\n",
    "def get_oof(clf):\n",
    "    oof_train = np.zeros((ntrain,))\n",
    "    oof_test = np.zeros((ntest,))\n",
    "    oof_test_skf = np.empty((NFOLDS, ntest))\n",
    "\n",
    "    for i, (train_index, test_index) in enumerate(kf):\n",
    "        x_tr = x_train[train_index]\n",
    "        y_tr = y_train[train_index]\n",
    "        x_te = x_train[test_index]\n",
    "\n",
    "        clf.train(x_tr, y_tr)\n",
    "\n",
    "        oof_train[test_index] = clf.predict(x_te)\n",
    "        oof_test_skf[i, :] = clf.predict(x_test)\n",
    "\n",
    "    oof_test[:] = oof_test_skf.mean(axis=0)\n",
    "    return oof_train.reshape(-1, 1), oof_test.reshape(-1, 1)"
   ]
  },
  {
   "cell_type": "code",
   "execution_count": 12,
   "metadata": {
    "collapsed": false,
    "deletable": true,
    "editable": true
   },
   "outputs": [],
   "source": [
    "#for i, (train_index, test_index) in enumerate(kf):\n",
    "    #print(i)\n",
    "    #print(train_index, test_index)"
   ]
  },
  {
   "cell_type": "code",
   "execution_count": 13,
   "metadata": {
    "collapsed": true,
    "deletable": true,
    "editable": true
   },
   "outputs": [],
   "source": [
    "#Bayesian Ridge\n",
    "br_params = {\n",
    "    'alpha_1' : 0.05, \n",
    "    'alpha_2' : 0.05\n",
    "}\n",
    "\n",
    "#Lasso\n",
    "ls_params = {\n",
    "    'alpha': 0.005\n",
    "}\n",
    "\n",
    "\n",
    "#Ridge\n",
    "rd_params = {\n",
    "    'alpha': 10\n",
    "}\n",
    "\n",
    "#Linear\n",
    "ln_params = {\n",
    "   'normalize': False \n",
    "}\n",
    "\n",
    "\"\"\"\n",
    "#RandomForestRegressor\n",
    "rf_params = {\n",
    "    'n_jobs': 16,\n",
    "    'n_estimators': 100,\n",
    "    'max_features': 0.2,\n",
    "    'max_depth': 12,\n",
    "    'min_samples_leaf': 2,\n",
    "}\n",
    "\"\"\"\n",
    "\n",
    "#XGBRegressor\n",
    "xgb_params = {\n",
    "    'seed': 0,\n",
    "    'colsample_bytree': 0.7,\n",
    "    'silent': 1,\n",
    "    'subsample': 0.7,\n",
    "    'learning_rate': 0.075,\n",
    "    'objective': 'reg:linear',\n",
    "    'max_depth': 4,\n",
    "    'num_parallel_tree': 1,\n",
    "    'min_child_weight': 1,\n",
    "    'eval_metric': 'rmse',\n",
    "    'nrounds': 500\n",
    "}"
   ]
  },
  {
   "cell_type": "code",
   "execution_count": 14,
   "metadata": {
    "collapsed": false,
    "deletable": true,
    "editable": true
   },
   "outputs": [
    {
     "data": {
      "text/plain": [
       "'\\net = SklearnWrapper(clf=ExtraTreesRegressor, seed=SEED, params=et_params)\\nrf = SklearnWrapper(clf=RandomForestRegressor, seed=SEED, params=rf_params)\\n'"
      ]
     },
     "execution_count": 14,
     "metadata": {},
     "output_type": "execute_result"
    }
   ],
   "source": [
    "br = SklearnWrapper(clf=BayesianRidge, params=br_params)\n",
    "ls = SklearnWrapper(clf=Lasso, params=ls_params)\n",
    "rd = SklearnWrapper(clf=Ridge, params=rd_params)\n",
    "ln = SklearnWrapper(clf=LinearRegression, params=ln_params)\n",
    "xg = XgbWrapper(seed=SEED, params=xgb_params)\n",
    "\n",
    "\"\"\"\n",
    "et = SklearnWrapper(clf=ExtraTreesRegressor, seed=SEED, params=et_params)\n",
    "rf = SklearnWrapper(clf=RandomForestRegressor, seed=SEED, params=rf_params)\n",
    "\"\"\""
   ]
  },
  {
   "cell_type": "code",
   "execution_count": 15,
   "metadata": {
    "collapsed": false,
    "deletable": true,
    "editable": true
   },
   "outputs": [],
   "source": [
    "xg_oof_train, xg_oof_test = get_oof(xg)\n",
    "br_oof_train, br_oof_test = get_oof(br)\n",
    "ls_oof_train, ls_oof_test = get_oof(ls)\n",
    "rd_oof_train, rd_oof_test = get_oof(rd)\n",
    "ln_oof_train, ln_oof_test = get_oof(ln)"
   ]
  },
  {
   "cell_type": "code",
   "execution_count": 16,
   "metadata": {
    "collapsed": false,
    "deletable": true,
    "editable": true
   },
   "outputs": [
    {
     "name": "stdout",
     "output_type": "stream",
     "text": [
      "BR-CV: 0.11162001892927416\n",
      "LS-CV: 0.13944088274869992\n",
      "RD-CV: 0.11240630837951864\n",
      "LN-CV: 0.11858291727477227\n",
      "XG-CV: 0.11737708644406145\n"
     ]
    }
   ],
   "source": [
    "print(\"BR-CV: {}\".format(sqrt(mean_squared_error(y_train, br_oof_train))))\n",
    "print(\"LS-CV: {}\".format(sqrt(mean_squared_error(y_train, ls_oof_train))))\n",
    "print(\"RD-CV: {}\".format(sqrt(mean_squared_error(y_train, rd_oof_train))))\n",
    "print(\"LN-CV: {}\".format(sqrt(mean_squared_error(y_train, ln_oof_train))))\n",
    "print(\"XG-CV: {}\".format(sqrt(mean_squared_error(y_train, xg_oof_train))))"
   ]
  },
  {
   "cell_type": "code",
   "execution_count": 17,
   "metadata": {
    "collapsed": false,
    "deletable": true,
    "editable": true
   },
   "outputs": [],
   "source": [
    "x_train = np.concatenate((xg_oof_train, br_oof_train, ls_oof_train, rd_oof_train, ln_oof_train), axis=1)\n",
    "x_test = np.concatenate((xg_oof_test, br_oof_test, ls_oof_test, rd_oof_test, ln_oof_test), axis=1)"
   ]
  },
  {
   "cell_type": "code",
   "execution_count": 18,
   "metadata": {
    "collapsed": false,
    "deletable": true,
    "editable": true
   },
   "outputs": [
    {
     "name": "stdout",
     "output_type": "stream",
     "text": [
      "(1458, 5),(1459, 5)\n"
     ]
    }
   ],
   "source": [
    "print(\"{},{}\".format(x_train.shape, x_test.shape))"
   ]
  },
  {
   "cell_type": "code",
   "execution_count": 19,
   "metadata": {
    "collapsed": true,
    "deletable": true,
    "editable": true
   },
   "outputs": [],
   "source": [
    "dtrain = xgb.DMatrix(x_train, label=y_train)\n",
    "dtest = xgb.DMatrix(x_test)"
   ]
  },
  {
   "cell_type": "code",
   "execution_count": 20,
   "metadata": {
    "collapsed": true,
    "deletable": true,
    "editable": true
   },
   "outputs": [],
   "source": [
    "xgb_params = {\n",
    "    'seed': 0,\n",
    "    'colsample_bytree': 0.8,\n",
    "    'silent': 1,\n",
    "    'subsample': 0.6,\n",
    "    'learning_rate': 0.01,\n",
    "    'objective': 'reg:linear',\n",
    "    'max_depth': 1,\n",
    "    'num_parallel_tree': 1,\n",
    "    'min_child_weight': 1,\n",
    "    'eval_metric': 'rmse',\n",
    "}"
   ]
  },
  {
   "cell_type": "code",
   "execution_count": 21,
   "metadata": {
    "collapsed": false,
    "deletable": true,
    "editable": true
   },
   "outputs": [
    {
     "name": "stdout",
     "output_type": "stream",
     "text": [
      "[0]\ttrain-rmse:11.4162+0.00276865\ttest-rmse:11.4162+0.0084551\n",
      "[10]\ttrain-rmse:10.3275+0.00274975\ttest-rmse:10.3275+0.00854742\n",
      "[20]\ttrain-rmse:9.34329+0.00240024\ttest-rmse:9.34329+0.00896903\n",
      "[30]\ttrain-rmse:8.45315+0.00239675\ttest-rmse:8.45315+0.00900525\n",
      "[40]\ttrain-rmse:7.64802+0.00247849\ttest-rmse:7.64808+0.00899818\n",
      "[50]\ttrain-rmse:6.91954+0.00229351\ttest-rmse:6.91949+0.00917619\n",
      "[60]\ttrain-rmse:6.26078+0.00203816\ttest-rmse:6.26068+0.00926752\n",
      "[70]\ttrain-rmse:5.66502+0.00191406\ttest-rmse:5.6649+0.00940321\n",
      "[80]\ttrain-rmse:5.126+0.00188599\ttest-rmse:5.12588+0.00956164\n",
      "[90]\ttrain-rmse:4.63842+0.00173421\ttest-rmse:4.63832+0.01005\n",
      "[100]\ttrain-rmse:4.19741+0.00162809\ttest-rmse:4.19733+0.0104302\n",
      "[110]\ttrain-rmse:3.79844+0.00157956\ttest-rmse:3.79827+0.0105869\n",
      "[120]\ttrain-rmse:3.4377+0.00163661\ttest-rmse:3.43765+0.0108223\n",
      "[130]\ttrain-rmse:3.11139+0.00153491\ttest-rmse:3.11141+0.0110158\n",
      "[140]\ttrain-rmse:2.81617+0.00127133\ttest-rmse:2.81613+0.011326\n",
      "[150]\ttrain-rmse:2.54935+0.00105794\ttest-rmse:2.54933+0.0114409\n",
      "[160]\ttrain-rmse:2.30784+0.00105431\ttest-rmse:2.30779+0.0115636\n",
      "[170]\ttrain-rmse:2.08942+0.000937229\ttest-rmse:2.08949+0.0115722\n",
      "[180]\ttrain-rmse:1.89187+0.000868801\ttest-rmse:1.89204+0.0117016\n",
      "[190]\ttrain-rmse:1.71326+0.000819558\ttest-rmse:1.71354+0.0116353\n",
      "[200]\ttrain-rmse:1.5519+0.000778394\ttest-rmse:1.55219+0.0116213\n",
      "[210]\ttrain-rmse:1.40587+0.000691134\ttest-rmse:1.40627+0.0116408\n",
      "[220]\ttrain-rmse:1.27393+0.000661933\ttest-rmse:1.27445+0.0115355\n",
      "[230]\ttrain-rmse:1.1545+0.000714274\ttest-rmse:1.15512+0.0113363\n",
      "[240]\ttrain-rmse:1.04677+0.000729888\ttest-rmse:1.04746+0.0113291\n",
      "[250]\ttrain-rmse:0.949508+0.000662171\ttest-rmse:0.950304+0.0112338\n",
      "[260]\ttrain-rmse:0.861573+0.000585208\ttest-rmse:0.862375+0.0111524\n",
      "[270]\ttrain-rmse:0.78218+0.000570249\ttest-rmse:0.783109+0.0112262\n",
      "[280]\ttrain-rmse:0.710562+0.0005624\ttest-rmse:0.711577+0.0110748\n",
      "[290]\ttrain-rmse:0.645996+0.00058233\ttest-rmse:0.647026+0.010959\n",
      "[300]\ttrain-rmse:0.58775+0.000603733\ttest-rmse:0.588869+0.010947\n",
      "[310]\ttrain-rmse:0.535303+0.000661984\ttest-rmse:0.536637+0.0109283\n",
      "[320]\ttrain-rmse:0.488137+0.000673097\ttest-rmse:0.489697+0.0109591\n",
      "[330]\ttrain-rmse:0.44565+0.000691818\ttest-rmse:0.447408+0.010922\n",
      "[340]\ttrain-rmse:0.407435+0.000707837\ttest-rmse:0.409461+0.0108689\n",
      "[350]\ttrain-rmse:0.373119+0.000738748\ttest-rmse:0.375327+0.0108181\n",
      "[360]\ttrain-rmse:0.342266+0.000730206\ttest-rmse:0.344764+0.0109294\n",
      "[370]\ttrain-rmse:0.314692+0.000804689\ttest-rmse:0.317474+0.0108891\n",
      "[380]\ttrain-rmse:0.290069+0.000808969\ttest-rmse:0.293139+0.0109595\n",
      "[390]\ttrain-rmse:0.268122+0.000847383\ttest-rmse:0.271556+0.0109518\n",
      "[400]\ttrain-rmse:0.24848+0.000858495\ttest-rmse:0.252294+0.0109381\n",
      "[410]\ttrain-rmse:0.231085+0.000866785\ttest-rmse:0.235296+0.0109285\n",
      "[420]\ttrain-rmse:0.21571+0.00091992\ttest-rmse:0.220267+0.0109125\n",
      "[430]\ttrain-rmse:0.202055+0.000949319\ttest-rmse:0.207008+0.0107798\n",
      "[440]\ttrain-rmse:0.190059+0.000983985\ttest-rmse:0.195486+0.0107253\n",
      "[450]\ttrain-rmse:0.179473+0.00104911\ttest-rmse:0.185211+0.0105962\n",
      "[460]\ttrain-rmse:0.170166+0.00110833\ttest-rmse:0.176259+0.0104402\n",
      "[470]\ttrain-rmse:0.161971+0.00117199\ttest-rmse:0.168528+0.0102039\n",
      "[480]\ttrain-rmse:0.154834+0.00123048\ttest-rmse:0.161763+0.00996402\n",
      "[490]\ttrain-rmse:0.148603+0.00132339\ttest-rmse:0.155938+0.00978822\n",
      "[500]\ttrain-rmse:0.143147+0.00135078\ttest-rmse:0.150862+0.00960925\n",
      "[510]\ttrain-rmse:0.138396+0.00140372\ttest-rmse:0.146484+0.00941595\n",
      "[520]\ttrain-rmse:0.13424+0.00147998\ttest-rmse:0.142712+0.00911344\n",
      "[530]\ttrain-rmse:0.13061+0.00152629\ttest-rmse:0.1394+0.00875581\n",
      "[540]\ttrain-rmse:0.127463+0.00152974\ttest-rmse:0.136582+0.00852386\n",
      "[550]\ttrain-rmse:0.124705+0.00156656\ttest-rmse:0.134192+0.00830046\n",
      "[560]\ttrain-rmse:0.122301+0.00158831\ttest-rmse:0.132032+0.00808783\n",
      "[570]\ttrain-rmse:0.12015+0.00162534\ttest-rmse:0.130149+0.00789731\n",
      "[580]\ttrain-rmse:0.118273+0.00165323\ttest-rmse:0.128507+0.00764764\n",
      "[590]\ttrain-rmse:0.116623+0.00166828\ttest-rmse:0.127111+0.00745019\n",
      "[600]\ttrain-rmse:0.115183+0.00170801\ttest-rmse:0.125921+0.00724744\n",
      "[610]\ttrain-rmse:0.113857+0.00174306\ttest-rmse:0.124799+0.00706008\n",
      "[620]\ttrain-rmse:0.112715+0.00174505\ttest-rmse:0.123821+0.00691896\n",
      "[630]\ttrain-rmse:0.111691+0.00177301\ttest-rmse:0.122981+0.00680612\n",
      "[640]\ttrain-rmse:0.110748+0.001787\ttest-rmse:0.122216+0.0066842\n",
      "[650]\ttrain-rmse:0.109894+0.0018074\ttest-rmse:0.121549+0.00656636\n",
      "[660]\ttrain-rmse:0.109112+0.00181015\ttest-rmse:0.120973+0.00645676\n",
      "[670]\ttrain-rmse:0.108385+0.00182372\ttest-rmse:0.120325+0.00636486\n",
      "[680]\ttrain-rmse:0.107725+0.00180977\ttest-rmse:0.119759+0.00628701\n",
      "[690]\ttrain-rmse:0.107136+0.00182232\ttest-rmse:0.11927+0.00620951\n",
      "[700]\ttrain-rmse:0.106583+0.00183749\ttest-rmse:0.118861+0.00610678\n",
      "[710]\ttrain-rmse:0.106081+0.00185991\ttest-rmse:0.118516+0.00601294\n",
      "[720]\ttrain-rmse:0.105615+0.00186848\ttest-rmse:0.118199+0.00593695\n",
      "[730]\ttrain-rmse:0.105175+0.00186629\ttest-rmse:0.11789+0.00587959\n",
      "[740]\ttrain-rmse:0.104758+0.00187261\ttest-rmse:0.117568+0.00577091\n",
      "[750]\ttrain-rmse:0.104372+0.00188086\ttest-rmse:0.117302+0.0057231\n",
      "[760]\ttrain-rmse:0.104027+0.00186874\ttest-rmse:0.117012+0.00572716\n",
      "[770]\ttrain-rmse:0.103709+0.00186807\ttest-rmse:0.116789+0.0056259\n",
      "[780]\ttrain-rmse:0.103406+0.00187267\ttest-rmse:0.116596+0.00556374\n",
      "[790]\ttrain-rmse:0.103125+0.00187534\ttest-rmse:0.116436+0.00545385\n",
      "[800]\ttrain-rmse:0.102856+0.00188398\ttest-rmse:0.116246+0.0054112\n",
      "[810]\ttrain-rmse:0.102611+0.00188975\ttest-rmse:0.116103+0.00536607\n",
      "[820]\ttrain-rmse:0.102379+0.00189211\ttest-rmse:0.115985+0.00530207\n",
      "[830]\ttrain-rmse:0.102146+0.00189119\ttest-rmse:0.115854+0.00525276\n",
      "[840]\ttrain-rmse:0.101939+0.00187864\ttest-rmse:0.115711+0.00524521\n",
      "[850]\ttrain-rmse:0.101738+0.00187696\ttest-rmse:0.1156+0.00518631\n",
      "[860]\ttrain-rmse:0.10156+0.00187724\ttest-rmse:0.115485+0.0051721\n",
      "[870]\ttrain-rmse:0.101393+0.00187373\ttest-rmse:0.115389+0.00516995\n",
      "[880]\ttrain-rmse:0.101238+0.00187063\ttest-rmse:0.115304+0.00513981\n",
      "[890]\ttrain-rmse:0.101087+0.00187319\ttest-rmse:0.115209+0.00512426\n",
      "[900]\ttrain-rmse:0.100948+0.00185951\ttest-rmse:0.11511+0.00515077\n",
      "[910]\ttrain-rmse:0.100822+0.00185545\ttest-rmse:0.115041+0.00512214\n",
      "[920]\ttrain-rmse:0.100694+0.00185356\ttest-rmse:0.114989+0.00506465\n",
      "[930]\ttrain-rmse:0.100574+0.00184073\ttest-rmse:0.11497+0.00503992\n",
      "[940]\ttrain-rmse:0.100464+0.00184436\ttest-rmse:0.11494+0.00500544\n",
      "[950]\ttrain-rmse:0.100354+0.00184773\ttest-rmse:0.114918+0.00493824\n",
      "[960]\ttrain-rmse:0.100253+0.00184813\ttest-rmse:0.11484+0.00493447\n",
      "[970]\ttrain-rmse:0.100156+0.00185192\ttest-rmse:0.114786+0.00492355\n",
      "[980]\ttrain-rmse:0.100061+0.00184671\ttest-rmse:0.11475+0.00487906\n",
      "[990]\ttrain-rmse:0.0999865+0.0018584\ttest-rmse:0.11472+0.00488359\n"
     ]
    }
   ],
   "source": [
    "res = xgb.cv(xgb_params, dtrain, num_boost_round=1000, nfold=4, seed=SEED, stratified=False,\n",
    "             early_stopping_rounds=25, verbose_eval=10, show_stdv=True)"
   ]
  },
  {
   "cell_type": "code",
   "execution_count": 22,
   "metadata": {
    "collapsed": true,
    "deletable": true,
    "editable": true
   },
   "outputs": [],
   "source": [
    "best_nrounds = res.shape[0] - 1\n",
    "cv_mean = res.iloc[-1, 0]\n",
    "cv_std = res.iloc[-1, 1]"
   ]
  },
  {
   "cell_type": "code",
   "execution_count": 23,
   "metadata": {
    "collapsed": false,
    "deletable": true,
    "editable": true
   },
   "outputs": [
    {
     "name": "stdout",
     "output_type": "stream",
     "text": [
      "Ensemble-CV: 0.1146865 (+/- 0.004856988444499328)\n"
     ]
    }
   ],
   "source": [
    "print('Ensemble-CV: {0} (+/- {1})'.format(cv_mean, cv_std))"
   ]
  },
  {
   "cell_type": "code",
   "execution_count": 24,
   "metadata": {
    "collapsed": true,
    "deletable": true,
    "editable": true
   },
   "outputs": [],
   "source": [
    "gbdt = xgb.train(xgb_params, dtrain, best_nrounds)"
   ]
  },
  {
   "cell_type": "code",
   "execution_count": 25,
   "metadata": {
    "collapsed": false,
    "deletable": true,
    "editable": true
   },
   "outputs": [
    {
     "data": {
      "text/plain": [
       "\"\\nsubmission = pd.read_csv(SUBMISSION_FILE)\\nsubmission.iloc[:, 1] = gbdt.predict(dtest)\\nsaleprice = np.exp(submission['SalePrice'])-1\\nsubmission['SalePrice'] = saleprice\\nsubmission.to_csv('output/xgstacker_try.csv', index=None)\\n\""
      ]
     },
     "execution_count": 25,
     "metadata": {},
     "output_type": "execute_result"
    }
   ],
   "source": [
    "\"\"\"\n",
    "submission = pd.read_csv(SUBMISSION_FILE)\n",
    "submission.iloc[:, 1] = gbdt.predict(dtest)\n",
    "saleprice = np.exp(submission['SalePrice'])-1\n",
    "submission['SalePrice'] = saleprice\n",
    "submission.to_csv('output/xgstacker_try.csv', index=None)\n",
    "\"\"\""
   ]
  },
  {
   "cell_type": "code",
   "execution_count": 29,
   "metadata": {
    "collapsed": true
   },
   "outputs": [],
   "source": [
    "def modelSubmit(model, dtest, name):\n",
    "    ln_pred = model.predict(dtest)\n",
    "    pred = np.expm1(ln_pred)\n",
    "    submission = pd.DataFrame({\"Id\": ids, \"SalePrice\": pred})\n",
    "    filename = os.path.join(name + \".csv\")\n",
    "    submission.to_csv('output/' + filename, index=False)"
   ]
  },
  {
   "cell_type": "code",
   "execution_count": 38,
   "metadata": {
    "collapsed": false
   },
   "outputs": [
    {
     "name": "stdout",
     "output_type": "stream",
     "text": [
      "xgstacker_try.csv\n"
     ]
    }
   ],
   "source": [
    "modelSubmit(gbdt, dtest, 'xgstacker_try')"
   ]
  },
  {
   "cell_type": "code",
   "execution_count": null,
   "metadata": {
    "collapsed": true
   },
   "outputs": [],
   "source": []
  }
 ],
 "metadata": {
  "kernelspec": {
   "display_name": "Python 3",
   "language": "python",
   "name": "python3"
  },
  "language_info": {
   "codemirror_mode": {
    "name": "ipython",
    "version": 3
   },
   "file_extension": ".py",
   "mimetype": "text/x-python",
   "name": "python",
   "nbconvert_exporter": "python",
   "pygments_lexer": "ipython3",
   "version": "3.5.2"
  },
  "toc": {
   "colors": {
    "hover_highlight": "#DAA520",
    "running_highlight": "#FF0000",
    "selected_highlight": "#FFD700"
   },
   "moveMenuLeft": true,
   "nav_menu": {
    "height": "48px",
    "width": "252px"
   },
   "navigate_menu": true,
   "number_sections": true,
   "sideBar": true,
   "threshold": 4,
   "toc_cell": false,
   "toc_section_display": "block",
   "toc_window_display": false
  }
 },
 "nbformat": 4,
 "nbformat_minor": 2
}
