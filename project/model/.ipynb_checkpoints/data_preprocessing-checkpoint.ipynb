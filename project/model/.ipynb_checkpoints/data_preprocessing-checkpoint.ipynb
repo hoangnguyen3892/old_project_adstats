{
 "cells": [
  {
   "cell_type": "markdown",
   "metadata": {
    "deletable": true,
    "editable": true
   },
   "source": [
    "**DATA PROCESSING** In this kernel, I will do these steps:\n",
    "1. Delete outlier in training set\n",
    "2. Delete and impute missing values for whole dataset\n",
    "3. Log transform for labels\n",
    "4. Create polynomial features\n",
    "5. Scale numerical features and one hot categorical features"
   ]
  },
  {
   "cell_type": "code",
   "execution_count": 1,
   "metadata": {
    "collapsed": false,
    "deletable": true,
    "editable": true
   },
   "outputs": [
    {
     "name": "stderr",
     "output_type": "stream",
     "text": [
      "/home/hoang/miniconda2/envs/pydata/lib/python3.5/site-packages/matplotlib/font_manager.py:280: UserWarning: Matplotlib is building the font cache using fc-list. This may take a moment.\n",
      "  'Matplotlib is building the font cache using fc-list. '\n"
     ]
    }
   ],
   "source": [
    "import pandas as pd\n",
    "import numpy as np\n",
    "import seaborn as sns\n",
    "import matplotlib.pyplot as plt\n",
    "import os\n",
    "import pickle\n",
    "\n",
    "%matplotlib inline\n",
    "import warnings\n",
    "warnings.filterwarnings('ignore')"
   ]
  },
  {
   "cell_type": "code",
   "execution_count": 2,
   "metadata": {
    "collapsed": false,
    "deletable": true,
    "editable": true
   },
   "outputs": [
    {
     "name": "stderr",
     "output_type": "stream",
     "text": [
      "/home/hoang/miniconda2/envs/pydata/lib/python3.5/site-packages/sklearn/cross_validation.py:44: DeprecationWarning: This module was deprecated in version 0.18 in favor of the model_selection module into which all the refactored classes and functions are moved. Also note that the interface of the new CV iterators are different from that of this module. This module will be removed in 0.20.\n",
      "  \"This module will be removed in 0.20.\", DeprecationWarning)\n"
     ]
    }
   ],
   "source": [
    "from sklearn import linear_model\n",
    "from sklearn.ensemble import BaggingRegressor\n",
    "from sklearn.ensemble import RandomForestRegressor\n",
    "from sklearn import svm\n",
    "from sklearn.ensemble import AdaBoostRegressor\n",
    "from sklearn.tree import DecisionTreeRegressor\n",
    "from xgboost import XGBRegressor\n",
    "from sklearn.linear_model import LinearRegression"
   ]
  },
  {
   "cell_type": "code",
   "execution_count": 3,
   "metadata": {
    "collapsed": false,
    "deletable": true,
    "editable": true
   },
   "outputs": [],
   "source": [
    "from scipy.stats import skew\n",
    "from sklearn.decomposition import PCA\n",
    "#import utils\n",
    "from sklearn.model_selection import cross_val_score\n",
    "from sklearn.metrics import make_scorer\n",
    "from sklearn.metrics import r2_score, mean_squared_error\n",
    "from sklearn.model_selection import KFold, GridSearchCV"
   ]
  },
  {
   "cell_type": "markdown",
   "metadata": {
    "deletable": true,
    "editable": true,
    "heading_collapsed": true
   },
   "source": [
    "# Load data"
   ]
  },
  {
   "cell_type": "code",
   "execution_count": 4,
   "metadata": {
    "collapsed": true,
    "deletable": true,
    "editable": true,
    "hidden": true
   },
   "outputs": [],
   "source": [
    "train = pd.read_csv('../input/train.csv')\n",
    "test = pd.read_csv('../input/test.csv')\n",
    "\n",
    "ids = test['Id']"
   ]
  },
  {
   "cell_type": "code",
   "execution_count": 5,
   "metadata": {
    "collapsed": false,
    "deletable": true,
    "editable": true,
    "hidden": true
   },
   "outputs": [
    {
     "name": "stdout",
     "output_type": "stream",
     "text": [
      "There are 1314 instances in training data\n",
      "There are 146 instances in testing data\n",
      "There are 79 original features\n"
     ]
    }
   ],
   "source": [
    "print('There are {0} instances in training data'.format(train.shape[0]))\n",
    "print('There are {0} instances in testing data'.format(test.shape[0]))\n",
    "print('There are {0} original features'.format(test.shape[1]-2))"
   ]
  },
  {
   "cell_type": "code",
   "execution_count": 6,
   "metadata": {
    "collapsed": true,
    "deletable": true,
    "editable": true,
    "hidden": true
   },
   "outputs": [],
   "source": [
    "categorical = ['MSSubClass', 'MSZoning', 'Street', 'Alley', 'LotShape', 'LandContour', 'Utilities','LotConfig', 'LandSlope', \n",
    "                       'Neighborhood', 'Condition1', 'Condition2', 'BldgType', 'HouseStyle', 'RoofStyle', 'RoofMatl', 'Exterior1st',\n",
    "                       'Exterior2nd', 'MasVnrType', 'Foundation', 'BsmtQual', 'BsmtCond', 'BsmtExposure', 'BsmtFinType1', 'BsmtFinType2', \n",
    "                       'Heating', 'CentralAir', 'Electrical', 'Functional', 'FireplaceQu', 'GarageType', 'GarageFinish', 'GarageQual', \n",
    "                       'GarageCond', 'PavedDrive', 'PoolQC', 'Fence', 'MiscFeature', 'SaleType', 'SaleCondition', 'ExterQual', 'ExterCond', \n",
    "                       'HeatingQC', 'KitchenQual']"
   ]
  },
  {
   "cell_type": "code",
   "execution_count": 7,
   "metadata": {
    "collapsed": true,
    "deletable": true,
    "editable": true,
    "hidden": true
   },
   "outputs": [],
   "source": [
    "non_categorical = ['LotFrontage', 'LotArea', 'OverallQual', 'OverallCond', 'YearBuilt', 'YearRemodAdd', 'MasVnrArea', 'BsmtFinSF1', 'BsmtFinSF2', \n",
    "                    'BsmtUnfSF', 'TotalBsmtSF', '1stFlrSF', '2ndFlrSF','LowQualFinSF', 'GrLivArea', 'BsmtFullBath', 'BsmtHalfBath', \n",
    "                    'FullBath', 'HalfBath', 'BedroomAbvGr', 'KitchenAbvGr', 'TotRmsAbvGrd', 'Fireplaces', 'GarageYrBlt', 'GarageCars', 'GarageArea', \n",
    "                    'WoodDeckSF', 'OpenPorchSF', 'EnclosedPorch', '3SsnPorch', 'ScreenPorch', 'PoolArea', 'MiscVal', 'MoSold', 'YrSold']"
   ]
  },
  {
   "cell_type": "markdown",
   "metadata": {
    "collapsed": true,
    "deletable": true,
    "editable": true
   },
   "source": [
    "# Preprocess data"
   ]
  },
  {
   "cell_type": "markdown",
   "metadata": {
    "deletable": true,
    "editable": true,
    "heading_collapsed": true
   },
   "source": [
    "## Delete outliers"
   ]
  },
  {
   "cell_type": "code",
   "execution_count": 8,
   "metadata": {
    "collapsed": false,
    "deletable": true,
    "editable": true,
    "hidden": true
   },
   "outputs": [
    {
     "name": "stdout",
     "output_type": "stream",
     "text": [
      "/home/hoang/Documents/github/project_adstat/utils\n"
     ]
    }
   ],
   "source": [
    "%cd ../utils\n",
    "from outlier_cleaner import outlierCleaner"
   ]
  },
  {
   "cell_type": "code",
   "execution_count": 9,
   "metadata": {
    "collapsed": false,
    "deletable": true,
    "editable": true,
    "hidden": true,
    "scrolled": true
   },
   "outputs": [
    {
     "data": {
      "text/plain": [
       "(1314, 81)"
      ]
     },
     "execution_count": 9,
     "metadata": {},
     "output_type": "execute_result"
    }
   ],
   "source": [
    "train.shape"
   ]
  },
  {
   "cell_type": "code",
   "execution_count": 10,
   "metadata": {
    "collapsed": true,
    "deletable": true,
    "editable": true,
    "hidden": true
   },
   "outputs": [],
   "source": [
    "def Cleaner(x, y):\n",
    "    reg = LinearRegression()\n",
    "    reg.fit(x, y)\n",
    "    predictions = reg.predict(x)\n",
    "    cleaned_list = outlierCleaner(predictions, x, y)[1]\n",
    "    cleaned_list =  np.reshape(np.array(cleaned_list), (len(cleaned_list), 1))\n",
    "    return cleaned_list"
   ]
  },
  {
   "cell_type": "markdown",
   "metadata": {
    "deletable": true,
    "editable": true,
    "hidden": true
   },
   "source": [
    "### GrLivArea"
   ]
  },
  {
   "cell_type": "code",
   "execution_count": 11,
   "metadata": {
    "collapsed": false,
    "deletable": true,
    "editable": true,
    "hidden": true
   },
   "outputs": [
    {
     "data": {
      "image/png": "[encoded data removed]",
      "text/plain": [
       "<matplotlib.figure.Figure at 0x7f5d7a2568d0>"
      ]
     },
     "metadata": {},
     "output_type": "display_data"
    }
   ],
   "source": [
    "var = 'GrLivArea'\n",
    "df = pd.concat([train['SalePrice'], train[var]], axis=1)\n",
    "df.plot.scatter(x=var, y='SalePrice', ylim=(0,800000));"
   ]
  },
  {
   "cell_type": "code",
   "execution_count": 12,
   "metadata": {
    "collapsed": true,
    "deletable": true,
    "editable": true,
    "hidden": true
   },
   "outputs": [],
   "source": [
    "GrLivArea = np.reshape( np.array(train.GrLivArea), (len(train.GrLivArea), 1))\n",
    "SalePrice = np.reshape( np.array(train.SalePrice), (len(train.SalePrice), 1))"
   ]
  },
  {
   "cell_type": "code",
   "execution_count": 13,
   "metadata": {
    "collapsed": false,
    "deletable": true,
    "editable": true,
    "hidden": true
   },
   "outputs": [],
   "source": [
    "cleaned_list = Cleaner(GrLivArea, SalePrice)\n",
    "for i in cleaned_list:\n",
    "    train = train[train.GrLivArea != i[0]]"
   ]
  },
  {
   "cell_type": "code",
   "execution_count": 14,
   "metadata": {
    "collapsed": false,
    "deletable": true,
    "editable": true,
    "hidden": true
   },
   "outputs": [
    {
     "data": {
      "text/plain": [
       "(1309, 81)"
      ]
     },
     "execution_count": 14,
     "metadata": {},
     "output_type": "execute_result"
    }
   ],
   "source": [
    "train.shape"
   ]
  },
  {
   "cell_type": "markdown",
   "metadata": {
    "deletable": true,
    "editable": true,
    "hidden": true
   },
   "source": [
    "### GarageArea"
   ]
  },
  {
   "cell_type": "code",
   "execution_count": 15,
   "metadata": {
    "collapsed": false,
    "deletable": true,
    "editable": true,
    "hidden": true
   },
   "outputs": [
    {
     "data": {
      "image/png": "[encoded data removed]",
      "text/plain": [
       "<matplotlib.figure.Figure at 0x7f5d77b279b0>"
      ]
     },
     "metadata": {},
     "output_type": "display_data"
    }
   ],
   "source": [
    "var = 'GarageArea'\n",
    "df = pd.concat([train['SalePrice'], train[var]], axis=1)\n",
    "df.plot.scatter(x=var, y='SalePrice', ylim=(0,800000));"
   ]
  },
  {
   "cell_type": "code",
   "execution_count": 16,
   "metadata": {
    "collapsed": true,
    "deletable": true,
    "editable": true,
    "hidden": true
   },
   "outputs": [],
   "source": [
    "GarageArea = np.reshape( np.array(train.GarageArea), (len(train.GarageArea), 1))\n",
    "SalePrice = np.reshape( np.array(train.SalePrice), (len(train.SalePrice), 1))\n",
    "cleaned_list = Cleaner(GarageArea, SalePrice)\n",
    "for i in cleaned_list:\n",
    "    train = train[train.GarageArea != i[0]]"
   ]
  },
  {
   "cell_type": "code",
   "execution_count": 17,
   "metadata": {
    "collapsed": false,
    "deletable": true,
    "editable": true,
    "hidden": true
   },
   "outputs": [
    {
     "data": {
      "text/plain": [
       "(1304, 81)"
      ]
     },
     "execution_count": 17,
     "metadata": {},
     "output_type": "execute_result"
    }
   ],
   "source": [
    "train.shape"
   ]
  },
  {
   "cell_type": "markdown",
   "metadata": {
    "deletable": true,
    "editable": true,
    "hidden": true
   },
   "source": [
    "### TotalBsmtSF"
   ]
  },
  {
   "cell_type": "code",
   "execution_count": 18,
   "metadata": {
    "collapsed": false,
    "deletable": true,
    "editable": true,
    "hidden": true
   },
   "outputs": [],
   "source": [
    "#var = 'TotalBsmtSF'\n",
    "#data = pd.concat([train['SalePrice'], train[var]], axis=1)\n",
    "#data.plot.scatter(x=var, y='SalePrice', ylim=(0,800000));"
   ]
  },
  {
   "cell_type": "code",
   "execution_count": 19,
   "metadata": {
    "collapsed": true,
    "deletable": true,
    "editable": true,
    "hidden": true
   },
   "outputs": [],
   "source": [
    "#TotalBsmtSF = np.reshape( np.array(train.TotalBsmtSF), (len(train.TotalBsmtSF), 1))\n",
    "#SalePrice = np.reshape( np.array(train.SalePrice), (len(train.SalePrice), 1))\n",
    "#cleaned_list = Cleaner(TotalBsmtSF, SalePrice)\n",
    "#for i in cleaned_list:\n",
    "#    train = train[train.TotalBsmtSF != i[0]]"
   ]
  },
  {
   "cell_type": "code",
   "execution_count": 20,
   "metadata": {
    "collapsed": false,
    "deletable": true,
    "editable": true,
    "hidden": true
   },
   "outputs": [],
   "source": [
    "#train.shape"
   ]
  },
  {
   "cell_type": "markdown",
   "metadata": {
    "deletable": true,
    "editable": true,
    "hidden": true
   },
   "source": [
    "### 1stFlrSF"
   ]
  },
  {
   "cell_type": "code",
   "execution_count": 21,
   "metadata": {
    "collapsed": false,
    "deletable": true,
    "editable": true,
    "hidden": true
   },
   "outputs": [],
   "source": [
    "#var = '1stFlrSF'\n",
    "#df = pd.concat([train['SalePrice'], train[var]], axis=1)\n",
    "#df.plot.scatter(x=var, y='SalePrice', ylim=(0,800000));"
   ]
  },
  {
   "cell_type": "markdown",
   "metadata": {
    "deletable": true,
    "editable": true,
    "hidden": true
   },
   "source": [
    "### MasVnrArea"
   ]
  },
  {
   "cell_type": "markdown",
   "metadata": {
    "deletable": true,
    "editable": true,
    "heading_collapsed": true
   },
   "source": [
    "## Handle missing data"
   ]
  },
  {
   "cell_type": "code",
   "execution_count": 22,
   "metadata": {
    "collapsed": true,
    "deletable": true,
    "editable": true,
    "hidden": true
   },
   "outputs": [],
   "source": [
    "train_labels = train['SalePrice']\n",
    "test_labels = test['SalePrice']"
   ]
  },
  {
   "cell_type": "code",
   "execution_count": 23,
   "metadata": {
    "collapsed": false,
    "deletable": true,
    "editable": true,
    "hidden": true
   },
   "outputs": [
    {
     "data": {
      "text/plain": [
       "count      1304.000000\n",
       "mean     177218.388804\n",
       "std       71091.022349\n",
       "min       34900.000000\n",
       "25%      129500.000000\n",
       "50%      161625.000000\n",
       "75%      212000.000000\n",
       "max      501837.000000\n",
       "Name: SalePrice, dtype: float64"
      ]
     },
     "execution_count": 23,
     "metadata": {},
     "output_type": "execute_result"
    }
   ],
   "source": [
    "train_labels.describe()"
   ]
  },
  {
   "cell_type": "code",
   "execution_count": 24,
   "metadata": {
    "collapsed": false,
    "deletable": true,
    "editable": true,
    "hidden": true
   },
   "outputs": [
    {
     "data": {
      "text/plain": [
       "count       146.000000\n",
       "mean     189987.986301\n",
       "std       82697.536008\n",
       "min       60000.000000\n",
       "25%      132250.000000\n",
       "50%      168450.000000\n",
       "75%      226150.000000\n",
       "max      485000.000000\n",
       "Name: SalePrice, dtype: float64"
      ]
     },
     "execution_count": 24,
     "metadata": {},
     "output_type": "execute_result"
    }
   ],
   "source": [
    "test_labels.describe()"
   ]
  },
  {
   "cell_type": "code",
   "execution_count": 25,
   "metadata": {
    "collapsed": true,
    "deletable": true,
    "editable": true,
    "hidden": true
   },
   "outputs": [],
   "source": [
    "data = pd.concat([train, test], ignore_index=True)\n",
    "data = data.drop(['SalePrice', 'Id'], 1)"
   ]
  },
  {
   "cell_type": "code",
   "execution_count": 26,
   "metadata": {
    "collapsed": false,
    "deletable": true,
    "editable": true,
    "hidden": true
   },
   "outputs": [
    {
     "name": "stdout",
     "output_type": "stream",
     "text": [
      "Shape of train data: (1304, 81)\n",
      "Shape of test data: (146, 81)\n",
      "Shape of concat data: (1450, 79)\n",
      "Number of featues: 79\n"
     ]
    }
   ],
   "source": [
    "print('Shape of train data: {0}'.format(train.shape))\n",
    "print('Shape of test data: {0}'.format(test.shape))\n",
    "print('Shape of concat data: {0}'.format(data.shape))\n",
    "print('Number of featues: {0}'.format(data.shape[1]))"
   ]
  },
  {
   "cell_type": "code",
   "execution_count": 27,
   "metadata": {
    "collapsed": false,
    "deletable": true,
    "editable": true,
    "hidden": true
   },
   "outputs": [
    {
     "data": {
      "text/plain": [
       "LotFrontage      259\n",
       "Alley           1359\n",
       "MasVnrType         8\n",
       "MasVnrArea         8\n",
       "BsmtQual          37\n",
       "BsmtCond          37\n",
       "BsmtExposure      38\n",
       "BsmtFinType1      37\n",
       "BsmtFinType2      38\n",
       "Electrical         1\n",
       "FireplaceQu      690\n",
       "GarageType        81\n",
       "GarageYrBlt       81\n",
       "GarageFinish      81\n",
       "GarageQual        81\n",
       "GarageCond        81\n",
       "PoolQC          1445\n",
       "Fence           1170\n",
       "MiscFeature     1396\n",
       "dtype: int64"
      ]
     },
     "execution_count": 27,
     "metadata": {},
     "output_type": "execute_result"
    }
   ],
   "source": [
    "nans = pd.isnull(data).sum()\n",
    "nans[nans>0]"
   ]
  },
  {
   "cell_type": "code",
   "execution_count": 28,
   "metadata": {
    "collapsed": true,
    "deletable": true,
    "editable": true,
    "hidden": true
   },
   "outputs": [],
   "source": [
    "delete_variables = ['PoolQC', 'MiscFeature', 'Alley', 'Fence', 'FireplaceQu', 'LotFrontage']"
   ]
  },
  {
   "cell_type": "code",
   "execution_count": 29,
   "metadata": {
    "collapsed": true,
    "deletable": true,
    "editable": true,
    "hidden": true
   },
   "outputs": [],
   "source": [
    "data_deleted = data.drop(delete_variables, 1)"
   ]
  },
  {
   "cell_type": "code",
   "execution_count": 30,
   "metadata": {
    "collapsed": false,
    "deletable": true,
    "editable": true,
    "hidden": true
   },
   "outputs": [
    {
     "data": {
      "text/plain": [
       "MasVnrType       8\n",
       "MasVnrArea       8\n",
       "BsmtQual        37\n",
       "BsmtCond        37\n",
       "BsmtExposure    38\n",
       "BsmtFinType1    37\n",
       "BsmtFinType2    38\n",
       "Electrical       1\n",
       "GarageType      81\n",
       "GarageYrBlt     81\n",
       "GarageFinish    81\n",
       "GarageQual      81\n",
       "GarageCond      81\n",
       "dtype: int64"
      ]
     },
     "execution_count": 30,
     "metadata": {},
     "output_type": "execute_result"
    }
   ],
   "source": [
    "nans = pd.isnull(data_deleted).sum()\n",
    "nans[nans>0]"
   ]
  },
  {
   "cell_type": "code",
   "execution_count": 31,
   "metadata": {
    "collapsed": false,
    "deletable": true,
    "editable": true,
    "hidden": true
   },
   "outputs": [
    {
     "data": {
      "text/plain": [
       "73"
      ]
     },
     "execution_count": 31,
     "metadata": {},
     "output_type": "execute_result"
    }
   ],
   "source": [
    "len(list(data_deleted))"
   ]
  },
  {
   "cell_type": "markdown",
   "metadata": {
    "deletable": true,
    "editable": true,
    "heading_collapsed": true
   },
   "source": [
    "## Impute missing value"
   ]
  },
  {
   "cell_type": "code",
   "execution_count": 32,
   "metadata": {
    "collapsed": false,
    "deletable": true,
    "editable": true,
    "hidden": true
   },
   "outputs": [
    {
     "name": "stdout",
     "output_type": "stream",
     "text": [
      "Alley\n",
      "FireplaceQu\n",
      "PoolQC\n",
      "Fence\n",
      "MiscFeature\n"
     ]
    }
   ],
   "source": [
    "for i in categorical:\n",
    "    if i in delete_variables:\n",
    "        print(i)"
   ]
  },
  {
   "cell_type": "code",
   "execution_count": 33,
   "metadata": {
    "collapsed": false,
    "deletable": true,
    "editable": true,
    "hidden": true
   },
   "outputs": [
    {
     "name": "stdout",
     "output_type": "stream",
     "text": [
      "LotFrontage\n"
     ]
    }
   ],
   "source": [
    "for i in non_categorical:\n",
    "    if i in delete_variables:\n",
    "        print(i)"
   ]
  },
  {
   "cell_type": "code",
   "execution_count": 34,
   "metadata": {
    "collapsed": false,
    "deletable": true,
    "editable": true,
    "hidden": true
   },
   "outputs": [],
   "source": [
    "categorical.remove('Alley')\n",
    "categorical.remove('FireplaceQu')\n",
    "categorical.remove('PoolQC')\n",
    "categorical.remove('Fence')\n",
    "categorical.remove('MiscFeature')"
   ]
  },
  {
   "cell_type": "code",
   "execution_count": 35,
   "metadata": {
    "collapsed": true,
    "deletable": true,
    "editable": true,
    "hidden": true
   },
   "outputs": [],
   "source": [
    "non_categorical.remove('LotFrontage')"
   ]
  },
  {
   "cell_type": "markdown",
   "metadata": {
    "deletable": true,
    "editable": true,
    "hidden": true
   },
   "source": [
    "### Impute categorical features"
   ]
  },
  {
   "cell_type": "code",
   "execution_count": 36,
   "metadata": {
    "collapsed": false,
    "deletable": true,
    "editable": true,
    "hidden": true,
    "scrolled": true
   },
   "outputs": [
    {
     "data": {
      "text/plain": [
       "MasVnrType       8\n",
       "BsmtQual        37\n",
       "BsmtCond        37\n",
       "BsmtExposure    38\n",
       "BsmtFinType1    37\n",
       "BsmtFinType2    38\n",
       "Electrical       1\n",
       "GarageType      81\n",
       "GarageFinish    81\n",
       "GarageQual      81\n",
       "GarageCond      81\n",
       "dtype: int64"
      ]
     },
     "execution_count": 36,
     "metadata": {},
     "output_type": "execute_result"
    }
   ],
   "source": [
    "nans = pd.isnull(data_deleted[categorical]).sum()\n",
    "nans[nans>0]"
   ]
  },
  {
   "cell_type": "code",
   "execution_count": 37,
   "metadata": {
    "collapsed": true,
    "deletable": true,
    "editable": true,
    "hidden": true
   },
   "outputs": [],
   "source": [
    "# Bsmt variables : data description says NA for basement features is \"no basement\"\n",
    "data_deleted.loc[:, \"BsmtCond\"] = data_deleted.loc[:, \"BsmtCond\"].fillna(\"No\")\n",
    "data_deleted.loc[:, \"BsmtExposure\"] = data_deleted.loc[:, \"BsmtExposure\"].fillna(\"No\")\n",
    "data_deleted.loc[:, \"BsmtFinType1\"] = data_deleted.loc[:, \"BsmtFinType1\"].fillna(\"No\")\n",
    "data_deleted.loc[:, \"BsmtFinType2\"] = data_deleted.loc[:, \"BsmtFinType2\"].fillna(\"No\")\n",
    "data_deleted.loc[:, \"BsmtQual\"] = data_deleted.loc[:, \"BsmtQual\"].fillna(\"No\")"
   ]
  },
  {
   "cell_type": "code",
   "execution_count": 38,
   "metadata": {
    "collapsed": true,
    "deletable": true,
    "editable": true,
    "hidden": true
   },
   "outputs": [],
   "source": [
    "# GarageType etc : data description says NA for garage features is \"no garage\"\n",
    "data_deleted.loc[:, \"GarageCond\"] = data_deleted.loc[:, \"GarageCond\"].fillna(\"No\")\n",
    "data_deleted.loc[:, \"GarageFinish\"] = data_deleted.loc[:, \"GarageFinish\"].fillna(\"No\")\n",
    "data_deleted.loc[:, \"GarageQual\"] = data_deleted.loc[:, \"GarageQual\"].fillna(\"No\")\n",
    "data_deleted.loc[:, \"GarageType\"] = data_deleted.loc[:, \"GarageType\"].fillna(\"No\")"
   ]
  },
  {
   "cell_type": "code",
   "execution_count": 39,
   "metadata": {
    "collapsed": true,
    "deletable": true,
    "editable": true,
    "hidden": true
   },
   "outputs": [],
   "source": [
    "# MasVnrType : NA most likely means no veneer\n",
    "data_deleted.loc[:, \"MasVnrType\"] = data_deleted.loc[:, \"MasVnrType\"].fillna(\"None\")"
   ]
  },
  {
   "cell_type": "code",
   "execution_count": 40,
   "metadata": {
    "collapsed": false,
    "deletable": true,
    "editable": true,
    "hidden": true
   },
   "outputs": [
    {
     "data": {
      "text/plain": [
       "SBrkr    1324\n",
       "FuseA      94\n",
       "FuseF      27\n",
       "FuseP       3\n",
       "Mix         1\n",
       "Name: Electrical, dtype: int64"
      ]
     },
     "execution_count": 40,
     "metadata": {},
     "output_type": "execute_result"
    }
   ],
   "source": [
    "data_deleted['Electrical'].value_counts()"
   ]
  },
  {
   "cell_type": "code",
   "execution_count": 41,
   "metadata": {
    "collapsed": true,
    "deletable": true,
    "editable": true,
    "hidden": true
   },
   "outputs": [],
   "source": [
    "data_deleted.loc[:, \"Electrical\"] = data_deleted.loc[:, \"Electrical\"].fillna(\"SBrkr\")"
   ]
  },
  {
   "cell_type": "markdown",
   "metadata": {
    "deletable": true,
    "editable": true,
    "hidden": true
   },
   "source": [
    "### Impute numerical features"
   ]
  },
  {
   "cell_type": "code",
   "execution_count": 42,
   "metadata": {
    "collapsed": false,
    "deletable": true,
    "editable": true,
    "hidden": true
   },
   "outputs": [
    {
     "data": {
      "text/plain": [
       "MasVnrArea      8\n",
       "GarageYrBlt    81\n",
       "dtype: int64"
      ]
     },
     "execution_count": 42,
     "metadata": {},
     "output_type": "execute_result"
    }
   ],
   "source": [
    "nans = pd.isnull(data_deleted[non_categorical]).sum()\n",
    "nans[nans>0]"
   ]
  },
  {
   "cell_type": "code",
   "execution_count": 43,
   "metadata": {
    "collapsed": true,
    "deletable": true,
    "editable": true,
    "hidden": true
   },
   "outputs": [],
   "source": [
    "# MasVnrArea : NA most likely means no veneer\n",
    "data_deleted.loc[:, \"MasVnrArea\"] = data_deleted.loc[:, \"MasVnrArea\"].fillna(0)"
   ]
  },
  {
   "cell_type": "code",
   "execution_count": 44,
   "metadata": {
    "collapsed": true,
    "deletable": true,
    "editable": true,
    "hidden": true
   },
   "outputs": [],
   "source": [
    "# GarageYrBlt : NA most likely means no veneer\n",
    "data_deleted.loc[:, \"GarageYrBlt\"] = data_deleted.loc[:, \"GarageYrBlt\"].fillna(0)"
   ]
  },
  {
   "cell_type": "markdown",
   "metadata": {
    "deletable": true,
    "editable": true,
    "hidden": true
   },
   "source": [
    "### Re-check"
   ]
  },
  {
   "cell_type": "code",
   "execution_count": 45,
   "metadata": {
    "collapsed": false,
    "deletable": true,
    "editable": true,
    "hidden": true
   },
   "outputs": [
    {
     "data": {
      "text/plain": [
       "Series([], dtype: int64)"
      ]
     },
     "execution_count": 45,
     "metadata": {},
     "output_type": "execute_result"
    }
   ],
   "source": [
    "nans = pd.isnull(data_deleted).sum()\n",
    "nans[nans>0]"
   ]
  },
  {
   "cell_type": "markdown",
   "metadata": {
    "deletable": true,
    "editable": true
   },
   "source": [
    "## Create polynomial"
   ]
  },
  {
   "cell_type": "code",
   "execution_count": 46,
   "metadata": {
    "collapsed": true,
    "deletable": true,
    "editable": true
   },
   "outputs": [],
   "source": [
    "# 3* Polynomials on the top 2 existing features\n",
    "data_deleted[\"OverallQual-s2\"] = data_deleted[\"OverallQual\"] ** 2\n",
    "data_deleted[\"OverallQual-s3\"] = data_deleted[\"OverallQual\"] ** 3\n",
    "data_deleted[\"OverallQual-Sq\"] = np.sqrt(data_deleted[\"OverallQual\"])\n",
    "\n",
    "data_deleted[\"GrLivArea-2\"] = data_deleted[\"GrLivArea\"] ** 2\n",
    "data_deleted[\"GrLivArea-3\"] = data_deleted[\"GrLivArea\"] ** 3\n",
    "data_deleted[\"GrLivArea-Sq\"] = np.sqrt(data_deleted[\"GrLivArea\"])"
   ]
  },
  {
   "cell_type": "code",
   "execution_count": 47,
   "metadata": {
    "collapsed": true,
    "deletable": true,
    "editable": true
   },
   "outputs": [],
   "source": [
    "non_categorical += ['GrLivArea-2', 'GrLivArea-3', 'GrLivArea-Sq']\n",
    "categorical += [\"OverallQual-s2\", \"OverallQual-s3\", \"OverallQual-Sq\"]"
   ]
  },
  {
   "cell_type": "markdown",
   "metadata": {
    "deletable": true,
    "editable": true
   },
   "source": [
    "##  Log transform and sknewness"
   ]
  },
  {
   "cell_type": "code",
   "execution_count": 48,
   "metadata": {
    "collapsed": false,
    "deletable": true,
    "editable": true
   },
   "outputs": [],
   "source": [
    "data_num = data_deleted[non_categorical]\n",
    "data_cat = data_deleted[categorical]"
   ]
  },
  {
   "cell_type": "markdown",
   "metadata": {
    "deletable": true,
    "editable": true
   },
   "source": [
    "### Log transform labels"
   ]
  },
  {
   "cell_type": "code",
   "execution_count": 49,
   "metadata": {
    "collapsed": false,
    "deletable": true,
    "editable": true
   },
   "outputs": [],
   "source": [
    "#log transform the target:\n",
    "log_train_lables = np.log1p(train_labels)"
   ]
  },
  {
   "cell_type": "markdown",
   "metadata": {
    "deletable": true,
    "editable": true
   },
   "source": [
    "### Skew numerical variables"
   ]
  },
  {
   "cell_type": "code",
   "execution_count": 50,
   "metadata": {
    "collapsed": false,
    "deletable": true,
    "editable": true
   },
   "outputs": [
    {
     "name": "stdout",
     "output_type": "stream",
     "text": [
      "27 skewed numerical features to log transform\n"
     ]
    }
   ],
   "source": [
    "skewness = data_num.apply(lambda x: skew(x))\n",
    "skewness = skewness[abs(skewness) > 0.5]\n",
    "print(str(skewness.shape[0]) + \" skewed numerical features to log transform\")\n",
    "skewed_features = skewness.index\n",
    "data_num[skewed_features] = np.log1p(data_num[skewed_features])"
   ]
  },
  {
   "cell_type": "markdown",
   "metadata": {
    "deletable": true,
    "editable": true
   },
   "source": [
    "### Normalize numerical variables"
   ]
  },
  {
   "cell_type": "code",
   "execution_count": 51,
   "metadata": {
    "collapsed": true,
    "deletable": true,
    "editable": true
   },
   "outputs": [],
   "source": [
    "from sklearn.preprocessing import StandardScaler"
   ]
  },
  {
   "cell_type": "code",
   "execution_count": 52,
   "metadata": {
    "collapsed": true,
    "deletable": true,
    "editable": true
   },
   "outputs": [],
   "source": [
    "scaler = StandardScaler()\n",
    "scaled_features = scaler.fit_transform(data_num)\n",
    "data_num = pd.DataFrame(scaled_features, index=data_num.index, columns=data_num.columns)"
   ]
  },
  {
   "cell_type": "markdown",
   "metadata": {
    "deletable": true,
    "editable": true
   },
   "source": [
    "### One hot encode categorical variables"
   ]
  },
  {
   "cell_type": "code",
   "execution_count": 53,
   "metadata": {
    "collapsed": false,
    "deletable": true,
    "editable": true
   },
   "outputs": [
    {
     "name": "stdout",
     "output_type": "stream",
     "text": [
      "NAs for categorical features in train : 0\n",
      "Remaining NAs for categorical features in train : 0\n"
     ]
    }
   ],
   "source": [
    "# Create dummy features for categorical values via one-hot encoding\n",
    "print(\"NAs for categorical features in train : \" + str(data_cat.isnull().values.sum()))\n",
    "data_cat = pd.get_dummies(data_cat)\n",
    "print(\"Remaining NAs for categorical features in train : \" + str(data_cat.isnull().values.sum()))"
   ]
  },
  {
   "cell_type": "markdown",
   "metadata": {
    "deletable": true,
    "editable": true
   },
   "source": [
    "### Concat and split"
   ]
  },
  {
   "cell_type": "code",
   "execution_count": 54,
   "metadata": {
    "collapsed": false,
    "deletable": true,
    "editable": true
   },
   "outputs": [
    {
     "name": "stdout",
     "output_type": "stream",
     "text": [
      "New number of features : 282\n"
     ]
    }
   ],
   "source": [
    "# Join categorical and numerical features\n",
    "data = pd.concat([data_num, data_cat], axis = 1)\n",
    "print(\"New number of features : \" + str(data.shape[1]))"
   ]
  },
  {
   "cell_type": "code",
   "execution_count": 55,
   "metadata": {
    "collapsed": true,
    "deletable": true,
    "editable": true
   },
   "outputs": [],
   "source": [
    "# Split traing and test\n",
    "train_data = data[:train.shape[0]]\n",
    "test_data = data[train.shape[0]:]"
   ]
  },
  {
   "cell_type": "code",
   "execution_count": 56,
   "metadata": {
    "collapsed": false,
    "deletable": true,
    "editable": true,
    "scrolled": true
   },
   "outputs": [
    {
     "data": {
      "text/html": [
       "<div>\n",
       "<table border=\"1\" class=\"dataframe\">\n",
       "  <thead>\n",
       "    <tr style=\"text-align: right;\">\n",
       "      <th></th>\n",
       "      <th>LotArea</th>\n",
       "      <th>OverallQual</th>\n",
       "      <th>OverallCond</th>\n",
       "      <th>YearBuilt</th>\n",
       "      <th>YearRemodAdd</th>\n",
       "      <th>MasVnrArea</th>\n",
       "      <th>BsmtFinSF1</th>\n",
       "      <th>BsmtFinSF2</th>\n",
       "      <th>BsmtUnfSF</th>\n",
       "      <th>TotalBsmtSF</th>\n",
       "      <th>...</th>\n",
       "      <th>ExterCond_TA</th>\n",
       "      <th>HeatingQC_Ex</th>\n",
       "      <th>HeatingQC_Fa</th>\n",
       "      <th>HeatingQC_Gd</th>\n",
       "      <th>HeatingQC_Po</th>\n",
       "      <th>HeatingQC_TA</th>\n",
       "      <th>KitchenQual_Ex</th>\n",
       "      <th>KitchenQual_Fa</th>\n",
       "      <th>KitchenQual_Gd</th>\n",
       "      <th>KitchenQual_TA</th>\n",
       "    </tr>\n",
       "  </thead>\n",
       "  <tbody>\n",
       "    <tr>\n",
       "      <th>0</th>\n",
       "      <td>-1.061190</td>\n",
       "      <td>-0.792890</td>\n",
       "      <td>-0.461699</td>\n",
       "      <td>-1.528950</td>\n",
       "      <td>0.933264</td>\n",
       "      <td>-0.801479</td>\n",
       "      <td>-1.409866</td>\n",
       "      <td>-0.355499</td>\n",
       "      <td>0.473873</td>\n",
       "      <td>-0.902365</td>\n",
       "      <td>...</td>\n",
       "      <td>1</td>\n",
       "      <td>0</td>\n",
       "      <td>0</td>\n",
       "      <td>1</td>\n",
       "      <td>0</td>\n",
       "      <td>0</td>\n",
       "      <td>0</td>\n",
       "      <td>0</td>\n",
       "      <td>0</td>\n",
       "      <td>1</td>\n",
       "    </tr>\n",
       "    <tr>\n",
       "      <th>1</th>\n",
       "      <td>0.359186</td>\n",
       "      <td>1.418054</td>\n",
       "      <td>-0.461699</td>\n",
       "      <td>1.182699</td>\n",
       "      <td>1.127033</td>\n",
       "      <td>0.963834</td>\n",
       "      <td>0.822864</td>\n",
       "      <td>-0.355499</td>\n",
       "      <td>-0.074271</td>\n",
       "      <td>-0.030126</td>\n",
       "      <td>...</td>\n",
       "      <td>1</td>\n",
       "      <td>1</td>\n",
       "      <td>0</td>\n",
       "      <td>0</td>\n",
       "      <td>0</td>\n",
       "      <td>0</td>\n",
       "      <td>1</td>\n",
       "      <td>0</td>\n",
       "      <td>0</td>\n",
       "      <td>0</td>\n",
       "    </tr>\n",
       "    <tr>\n",
       "      <th>2</th>\n",
       "      <td>0.671392</td>\n",
       "      <td>1.418054</td>\n",
       "      <td>-0.461699</td>\n",
       "      <td>1.117888</td>\n",
       "      <td>1.030149</td>\n",
       "      <td>1.304346</td>\n",
       "      <td>-1.409866</td>\n",
       "      <td>-0.355499</td>\n",
       "      <td>0.729552</td>\n",
       "      <td>0.117711</td>\n",
       "      <td>...</td>\n",
       "      <td>1</td>\n",
       "      <td>1</td>\n",
       "      <td>0</td>\n",
       "      <td>0</td>\n",
       "      <td>0</td>\n",
       "      <td>0</td>\n",
       "      <td>0</td>\n",
       "      <td>0</td>\n",
       "      <td>1</td>\n",
       "      <td>0</td>\n",
       "    </tr>\n",
       "    <tr>\n",
       "      <th>3</th>\n",
       "      <td>-0.753966</td>\n",
       "      <td>-0.792890</td>\n",
       "      <td>1.242587</td>\n",
       "      <td>-1.528950</td>\n",
       "      <td>-1.682615</td>\n",
       "      <td>-0.801479</td>\n",
       "      <td>0.663031</td>\n",
       "      <td>-0.355499</td>\n",
       "      <td>-0.004580</td>\n",
       "      <td>-0.685537</td>\n",
       "      <td>...</td>\n",
       "      <td>1</td>\n",
       "      <td>0</td>\n",
       "      <td>0</td>\n",
       "      <td>0</td>\n",
       "      <td>0</td>\n",
       "      <td>1</td>\n",
       "      <td>0</td>\n",
       "      <td>0</td>\n",
       "      <td>0</td>\n",
       "      <td>1</td>\n",
       "    </tr>\n",
       "    <tr>\n",
       "      <th>4</th>\n",
       "      <td>0.798704</td>\n",
       "      <td>-0.055909</td>\n",
       "      <td>0.451520</td>\n",
       "      <td>-1.731874</td>\n",
       "      <td>-1.682615</td>\n",
       "      <td>-0.801479</td>\n",
       "      <td>-1.409866</td>\n",
       "      <td>-0.355499</td>\n",
       "      <td>0.536488</td>\n",
       "      <td>-0.695393</td>\n",
       "      <td>...</td>\n",
       "      <td>1</td>\n",
       "      <td>1</td>\n",
       "      <td>0</td>\n",
       "      <td>0</td>\n",
       "      <td>0</td>\n",
       "      <td>0</td>\n",
       "      <td>0</td>\n",
       "      <td>0</td>\n",
       "      <td>0</td>\n",
       "      <td>1</td>\n",
       "    </tr>\n",
       "  </tbody>\n",
       "</table>\n",
       "<p>5 rows × 282 columns</p>\n",
       "</div>"
      ],
      "text/plain": [
       "    LotArea  OverallQual  OverallCond  YearBuilt  YearRemodAdd  MasVnrArea  \\\n",
       "0 -1.061190    -0.792890    -0.461699  -1.528950      0.933264   -0.801479   \n",
       "1  0.359186     1.418054    -0.461699   1.182699      1.127033    0.963834   \n",
       "2  0.671392     1.418054    -0.461699   1.117888      1.030149    1.304346   \n",
       "3 -0.753966    -0.792890     1.242587  -1.528950     -1.682615   -0.801479   \n",
       "4  0.798704    -0.055909     0.451520  -1.731874     -1.682615   -0.801479   \n",
       "\n",
       "   BsmtFinSF1  BsmtFinSF2  BsmtUnfSF  TotalBsmtSF       ...        \\\n",
       "0   -1.409866   -0.355499   0.473873    -0.902365       ...         \n",
       "1    0.822864   -0.355499  -0.074271    -0.030126       ...         \n",
       "2   -1.409866   -0.355499   0.729552     0.117711       ...         \n",
       "3    0.663031   -0.355499  -0.004580    -0.685537       ...         \n",
       "4   -1.409866   -0.355499   0.536488    -0.695393       ...         \n",
       "\n",
       "   ExterCond_TA  HeatingQC_Ex  HeatingQC_Fa  HeatingQC_Gd  HeatingQC_Po  \\\n",
       "0             1             0             0             1             0   \n",
       "1             1             1             0             0             0   \n",
       "2             1             1             0             0             0   \n",
       "3             1             0             0             0             0   \n",
       "4             1             1             0             0             0   \n",
       "\n",
       "   HeatingQC_TA  KitchenQual_Ex  KitchenQual_Fa  KitchenQual_Gd  \\\n",
       "0             0               0               0               0   \n",
       "1             0               1               0               0   \n",
       "2             0               0               0               1   \n",
       "3             1               0               0               0   \n",
       "4             0               0               0               0   \n",
       "\n",
       "   KitchenQual_TA  \n",
       "0               1  \n",
       "1               0  \n",
       "2               0  \n",
       "3               1  \n",
       "4               1  \n",
       "\n",
       "[5 rows x 282 columns]"
      ]
     },
     "execution_count": 56,
     "metadata": {},
     "output_type": "execute_result"
    }
   ],
   "source": [
    "train_data.head()"
   ]
  },
  {
   "cell_type": "markdown",
   "metadata": {
    "deletable": true,
    "editable": true
   },
   "source": [
    "# Select model"
   ]
  },
  {
   "cell_type": "code",
   "execution_count": 57,
   "metadata": {
    "collapsed": true,
    "deletable": true,
    "editable": true
   },
   "outputs": [],
   "source": [
    "def modelTest(clf, train, labels):\n",
    "    cv = KFold(n_splits=5,shuffle=True,random_state=45).split(train)\n",
    "    score = make_scorer(mean_squared_error)\n",
    "    r2_val_score = cross_val_score(clf, train, labels, cv=cv, scoring=score)\n",
    "    scores=[r2_val_score.mean()]\n",
    "    return scores"
   ]
  },
  {
   "cell_type": "code",
   "execution_count": 58,
   "metadata": {
    "collapsed": true,
    "deletable": true,
    "editable": true
   },
   "outputs": [],
   "source": [
    "def modelPlot(result_dict):\n",
    "    result = pd.DataFrame.from_dict(result_dict, orient='index')\n",
    "    result.columns = [\"Mean Squared Error\"] \n",
    "    result = result.sort(columns=[\"Mean Squared Error\"],ascending=False)\n",
    "    #print(result)\n",
    "    result.plot(kind=\"bar\",title=\"Model Scores\")\n",
    "    axes = plt.gca()\n",
    "    axes.set_ylim([0, 0.05])\n",
    "    return result"
   ]
  },
  {
   "cell_type": "code",
   "execution_count": 59,
   "metadata": {
    "collapsed": true,
    "deletable": true,
    "editable": true
   },
   "outputs": [],
   "source": [
    "def modelFit(train, labels):\n",
    "    result_dict = {}\n",
    "    \n",
    "    clf = linear_model.LinearRegression()\n",
    "    result_dict[\"Linear\"] = modelTest(clf, train, labels)\n",
    "    \n",
    "    clf = linear_model.Lasso(alpha=1e-4)\n",
    "    result_dict[\"Lasso\"] = modelTest(clf, train, labels)\n",
    "    \n",
    "    clf = linear_model.Ridge()\n",
    "    result_dict[\"Ridge\"] = modelTest(clf, train, labels)\n",
    "    \n",
    "    clf = linear_model.BayesianRidge()\n",
    "    result_dict[\"Bayesian Ridge\"] = modelTest(clf, train, labels)\n",
    "    \n",
    "    clf = linear_model.HuberRegressor()\n",
    "    result_dict[\"Huber\"] = modelTest(clf, train, labels)\n",
    "    \n",
    "    clf = svm.SVR()\n",
    "    result_dict[\"SVM RBF\"] = modelTest(clf, train, labels)\n",
    "    \n",
    "    clf = svm.SVR(kernel=\"linear\")\n",
    "    result_dict[\"SVM Linear\"] = modelTest(clf, train, labels)\n",
    "    \n",
    "    clf = BaggingRegressor()\n",
    "    result_dict[\"Bagging\"] = modelTest(clf, train, labels)\n",
    "    \n",
    "    clf = RandomForestRegressor()\n",
    "    result_dict[\"RandomForest\"] = modelTest(clf, train, labels)\n",
    "    \n",
    "    clf = AdaBoostRegressor()\n",
    "    result_dict[\"AdaBoost\"] = modelTest(clf, train, labels)\n",
    "    \n",
    "    clf = XGBRegressor()\n",
    "    result_dict[\"XGBoost\"] = modelTest(clf, train, labels)\n",
    "    \n",
    "    model_summary = modelPlot(result_dict)\n",
    "    return model_summary"
   ]
  },
  {
   "cell_type": "code",
   "execution_count": 60,
   "metadata": {
    "collapsed": false,
    "deletable": true,
    "editable": true
   },
   "outputs": [
    {
     "data": {
      "text/html": [
       "<div>\n",
       "<table border=\"1\" class=\"dataframe\">\n",
       "  <thead>\n",
       "    <tr style=\"text-align: right;\">\n",
       "      <th></th>\n",
       "      <th>Mean Squared Error</th>\n",
       "    </tr>\n",
       "  </thead>\n",
       "  <tbody>\n",
       "    <tr>\n",
       "      <th>Huber</th>\n",
       "      <td>0.095280</td>\n",
       "    </tr>\n",
       "    <tr>\n",
       "      <th>AdaBoost</th>\n",
       "      <td>0.028653</td>\n",
       "    </tr>\n",
       "    <tr>\n",
       "      <th>SVM RBF</th>\n",
       "      <td>0.025527</td>\n",
       "    </tr>\n",
       "    <tr>\n",
       "      <th>Bagging</th>\n",
       "      <td>0.023933</td>\n",
       "    </tr>\n",
       "    <tr>\n",
       "      <th>RandomForest</th>\n",
       "      <td>0.021911</td>\n",
       "    </tr>\n",
       "    <tr>\n",
       "      <th>Linear</th>\n",
       "      <td>0.015962</td>\n",
       "    </tr>\n",
       "    <tr>\n",
       "      <th>SVM Linear</th>\n",
       "      <td>0.015742</td>\n",
       "    </tr>\n",
       "    <tr>\n",
       "      <th>XGBoost</th>\n",
       "      <td>0.015713</td>\n",
       "    </tr>\n",
       "    <tr>\n",
       "      <th>Ridge</th>\n",
       "      <td>0.013607</td>\n",
       "    </tr>\n",
       "    <tr>\n",
       "      <th>Lasso</th>\n",
       "      <td>0.013370</td>\n",
       "    </tr>\n",
       "    <tr>\n",
       "      <th>Bayesian Ridge</th>\n",
       "      <td>0.012989</td>\n",
       "    </tr>\n",
       "  </tbody>\n",
       "</table>\n",
       "</div>"
      ],
      "text/plain": [
       "                Mean Squared Error\n",
       "Huber                     0.095280\n",
       "AdaBoost                  0.028653\n",
       "SVM RBF                   0.025527\n",
       "Bagging                   0.023933\n",
       "RandomForest              0.021911\n",
       "Linear                    0.015962\n",
       "SVM Linear                0.015742\n",
       "XGBoost                   0.015713\n",
       "Ridge                     0.013607\n",
       "Lasso                     0.013370\n",
       "Bayesian Ridge            0.012989"
      ]
     },
     "execution_count": 60,
     "metadata": {},
     "output_type": "execute_result"
    },
    {
     "data": {
      "image/png": "[encoded data removed]",
      "text/plain": [
       "<matplotlib.figure.Figure at 0x7f5d77026128>"
      ]
     },
     "metadata": {},
     "output_type": "display_data"
    }
   ],
   "source": [
    "modelFit(train_data, log_train_lables)"
   ]
  },
  {
   "cell_type": "markdown",
   "metadata": {
    "deletable": true,
    "editable": true
   },
   "source": [
    "# Save file"
   ]
  },
  {
   "cell_type": "code",
   "execution_count": 61,
   "metadata": {
    "collapsed": true,
    "deletable": true,
    "editable": true
   },
   "outputs": [],
   "source": [
    "with open(\"../input/preprocessed_data.pkl\", \"wb\") as f:\n",
    "    pickle.dump(train_data, f, protocol=-1)\n",
    "    pickle.dump(test_data, f, protocol=-1)\n",
    "    pickle.dump(ids, f, protocol=-1) \n",
    "    pickle.dump(log_train_lables, f, protocol=-1)\n",
    "    pickle.dump(test_labels, f, protocol=-1)"
   ]
  }
 ],
 "metadata": {
  "kernelspec": {
   "display_name": "Python 3",
   "language": "python",
   "name": "python3"
  },
  "language_info": {
   "codemirror_mode": {
    "name": "ipython",
    "version": 3
   },
   "file_extension": ".py",
   "mimetype": "text/x-python",
   "name": "python",
   "nbconvert_exporter": "python",
   "pygments_lexer": "ipython3",
   "version": "3.5.3"
  },
  "toc": {
   "colors": {
    "hover_highlight": "#DAA520",
    "running_highlight": "#FF0000",
    "selected_highlight": "#FFD700"
   },
   "moveMenuLeft": true,
   "nav_menu": {
    "height": "30px",
    "width": "252px"
   },
   "navigate_menu": true,
   "number_sections": true,
   "sideBar": true,
   "threshold": 4,
   "toc_cell": false,
   "toc_section_display": "block",
   "toc_window_display": false
  }
 },
 "nbformat": 4,
 "nbformat_minor": 2
}
